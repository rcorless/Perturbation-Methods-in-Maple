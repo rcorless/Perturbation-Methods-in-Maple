{
 "cells": [
  {
   "cell_type": "markdown",
   "id": "3b52297e",
   "metadata": {},
   "source": [
    "# An Energy Portfolio Model #\n",
    "\n",
    "Support material for Perturbation Methods using backward error, by Corless & Fillion, to be published by SIAM.\n",
    "\n",
    "This example is explained in the Regular ODE chapter.\n",
    "\n",
    "See also [Junhe Chen, Application of Stochastic Control to Portfolio Optimization and Energy Finance](https://ir.lib.uwo.ca/etd/8067/)."
   ]
  },
  {
   "cell_type": "markdown",
   "id": "1b4bc9ee",
   "metadata": {},
   "source": [
    "Copyright (c) 2024 Robert M. Corless\n",
    "\n",
    "Permission is hereby granted, free of charge, to any person obtaining a copy of this software and associated documentation files (the “Software”), to deal in the Software without restriction, including without limitation the rights to use, copy, modify, merge, publish, distribute, sublicense, and/or sell copies of the Software, and to permit persons to whom the Software is furnished to do so, subject to the following conditions:\n",
    "\n",
    "The above copyright notice and this permission notice shall be included in all copies or substantial portions of the Software.\n",
    "\n",
    "THE SOFTWARE IS PROVIDED “AS IS”, WITHOUT WARRANTY OF ANY KIND, EXPRESS OR IMPLIED, INCLUDING BUT NOT LIMITED TO THE WARRANTIES OF MERCHANTABILITY, FITNESS FOR A PARTICULAR PURPOSE AND NONINFRINGEMENT. IN NO EVENT SHALL THE AUTHORS OR COPYRIGHT HOLDERS BE LIABLE FOR ANY CLAIM, DAMAGES OR OTHER LIABILITY, WHETHER IN AN ACTION OF CONTRACT, TORT OR OTHERWISE, ARISING FROM, OUT OF OR IN CONNECTION WITH THE SOFTWARE OR THE USE OR OTHER DEALINGS IN THE SOFTWARE."
   ]
  },
  {
   "cell_type": "code",
   "execution_count": 1,
   "id": "48a3c87d",
   "metadata": {
    "scrolled": true
   },
   "outputs": [
    {
     "data": {
      "text/plain": [
       "kilobytes used=1619, alloc=5424, time=0.31"
      ]
     },
     "metadata": {},
     "output_type": "display_data"
    },
    {
     "data": {
      "text/markdown": [
       "$$\\frac{\\xi^{2} \\sigma^{2} \\left(\\frac{d^{2}}{d \\xi^{2}}H \\left(\\xi \\right)\\right)}{2}-\\left(\\sigma^{2}+\\mu \\right) \\xi  \\left(\\frac{d}{d \\xi}H \\left(\\xi \\right)\\right)+\\frac{n^{2} \\left(a_{n}-\\frac{d}{d \\xi}H \\left(\\xi \\right)\\right)^{2}}{\\left(n +1\\right)^{2}}-\\left(-\\sigma^{2}-2 \\mu +r \\right) H \\left(\\xi \\right)$$"
      ]
     },
     "execution_count": 1,
     "metadata": {},
     "output_type": "execute_result"
    }
   ],
   "source": [
    "DGMODE := 1/2*xi^2*sigma^2*diff(diff(H(xi),xi),xi)-(sigma^2+mu)*xi*diff(H(xi),xi)+n^2/(n+\n",
    "1)^2*(a[n]-diff(H(xi),xi))^2-(-sigma^2-2*mu+r)*H(xi);"
   ]
  },
  {
   "cell_type": "code",
   "execution_count": 2,
   "id": "7e8b0bfc",
   "metadata": {},
   "outputs": [
    {
     "data": {
      "text/markdown": [
       "$$\\frac{\\xi^{2} \\sigma^{2} \\left(\\frac{\\alpha  \\,\\xi^{\\beta} \\beta^{2}}{\\xi^{2}}-\\frac{\\alpha  \\,\\xi^{\\beta} \\beta}{\\xi^{2}}\\right)}{2}-\\left(\\sigma^{2}+\\mu \\right) \\xi  \\left(a_{n}+\\frac{\\alpha  \\,\\xi^{\\beta} \\beta}{\\xi}\\right)+\\frac{n^{2} \\alpha^{2} \\left(\\xi^{\\beta}\\right)^{2} \\beta^{2}}{\\left(n +1\\right)^{2} \\xi^{2}}-\\left(-\\sigma^{2}-2 \\mu +r \\right) \\left(a_{n} \\xi +\\alpha  \\,\\xi^{\\beta}\\right)$$"
      ]
     },
     "execution_count": 2,
     "metadata": {},
     "output_type": "execute_result"
    }
   ],
   "source": [
    "residual := eval( DGMODE, H(xi) = a[n]*xi + alpha*xi^beta );"
   ]
  },
  {
   "cell_type": "code",
   "execution_count": 3,
   "id": "1bd50993",
   "metadata": {},
   "outputs": [
    {
     "data": {
      "text/markdown": [
       "$$a_{n} \\left(\\mu -r \\right) \\xi +\\frac{\\xi^{\\beta} \\alpha  \\left(\\beta^{2} \\sigma^{2}-3 \\beta  \\,\\sigma^{2}-2 \\beta  \\mu +2 \\sigma^{2}+4 \\mu -2 r \\right)}{2}+\\frac{n^{2} \\alpha^{2} \\left(\\xi^{\\beta}\\right)^{2} \\beta^{2}}{\\left(n +1\\right)^{2} \\xi^{2}}$$"
      ]
     },
     "execution_count": 3,
     "metadata": {},
     "output_type": "execute_result"
    }
   ],
   "source": [
    "collect( residual, xi, factor );"
   ]
  },
  {
   "cell_type": "code",
   "execution_count": 4,
   "id": "090efa2e",
   "metadata": {},
   "outputs": [
    {
     "data": {
      "text/plain": [
       "kilobytes used=5094, alloc=9825, time=0.66"
      ]
     },
     "metadata": {},
     "output_type": "display_data"
    },
    {
     "data": {
      "text/markdown": [
       "$$\\left(-\\left(\\sigma^{2}+\\mu \\right) a_{n}+\\frac{9 n^{2} \\alpha^{2}}{4 \\left(n +1\\right)^{2}}-\\left(-\\sigma^{2}-2 \\mu +r \\right) a_{n}\\right) \\xi +\\left(\\frac{3 \\sigma^{2} \\alpha}{8}-\\frac{3 \\left(\\sigma^{2}+\\mu \\right) \\alpha}{2}-\\left(-\\sigma^{2}-2 \\mu +r \\right) \\alpha \\right) \\xi^{\\frac{3}{2}}$$"
      ]
     },
     "execution_count": 4,
     "metadata": {},
     "output_type": "execute_result"
    }
   ],
   "source": [
    "ordered := series( (eval(residual, beta=3/2)), xi );"
   ]
  },
  {
   "cell_type": "code",
   "execution_count": 5,
   "id": "21740f0e",
   "metadata": {},
   "outputs": [
    {
     "data": {
      "text/markdown": [
       "$$\\frac{9 n^{2} \\alpha^{2}}{4 \\left(n +1\\right)^{2}}+a_{n} \\left(\\mu -r \\right)$$"
      ]
     },
     "execution_count": 5,
     "metadata": {},
     "output_type": "execute_result"
    }
   ],
   "source": [
    "firsttermres := collect( coeff(op(1,ordered),xi), [alpha,a[n]] );"
   ]
  },
  {
   "cell_type": "code",
   "execution_count": 6,
   "id": "f17369f3",
   "metadata": {},
   "outputs": [
    {
     "data": {
      "text/plain": [
       "kilobytes used=5975, alloc=9825, time=0.86"
      ]
     },
     "metadata": {},
     "output_type": "display_data"
    },
    {
     "data": {
      "text/markdown": [
       "$$\\frac{2 \\sqrt{-\\mu  a_{n}+r a_{n}} \\left(n +1\\right)}{3 n}$$,$$-\\frac{2 \\sqrt{-\\mu  a_{n}+r a_{n}} \\left(n +1\\right)}{3 n}$$"
      ]
     },
     "execution_count": 6,
     "metadata": {},
     "output_type": "execute_result"
    }
   ],
   "source": [
    "solve( firsttermres, alpha );"
   ]
  },
  {
   "cell_type": "code",
   "execution_count": 7,
   "id": "bc98097a",
   "metadata": {},
   "outputs": [
    {
     "data": {
      "text/plain": [
       "                                               n"
      ]
     },
     "metadata": {},
     "output_type": "display_data"
    },
    {
     "data": {
      "text/markdown": [
       "$$-\\frac{2 \\sqrt{-\\mu  a_{n}+r a_{n}} \\left(n +1\\right)}{3 n}$$"
      ]
     },
     "execution_count": 7,
     "metadata": {},
     "output_type": "execute_result"
    }
   ],
   "source": [
    "sensible := -2/3*(-mu*a[n]+r*a[n])^(1/2)*(n+1)/n; # negative one is right"
   ]
  },
  {
   "cell_type": "code",
   "execution_count": 8,
   "id": "b6e4ad56",
   "metadata": {},
   "outputs": [
    {
     "data": {
      "text/markdown": [
       "$$a_{n} \\xi -\\frac{2 \\sqrt{-\\mu  a_{n}+r a_{n}} \\left(n +1\\right) \\xi^{\\frac{3}{2}}}{3 n}$$"
      ]
     },
     "execution_count": 8,
     "metadata": {},
     "output_type": "execute_result"
    }
   ],
   "source": [
    "HPuiseux := a[n]*xi + sensible*xi^(3/2);"
   ]
  },
  {
   "cell_type": "code",
   "execution_count": 9,
   "id": "781b1dea",
   "metadata": {},
   "outputs": [
    {
     "data": {
      "text/markdown": [
       "$$\\frac{\\xi^{2} \\sigma^{2} \\left(2 C -\\frac{\\sqrt{-\\mu  a_{n}+r a_{n}} \\left(n +1\\right)}{2 n \\sqrt{\\xi}}\\right)}{2}-\\left(\\sigma^{2}+\\mu \\right) \\xi  \\left(2 C \\xi +a_{n}-\\frac{\\sqrt{-\\mu  a_{n}+r a_{n}} \\left(n +1\\right) \\sqrt{\\xi}}{n}\\right)+\\frac{n^{2} \\left(-2 C \\xi +\\frac{\\sqrt{-\\mu  a_{n}+r a_{n}} \\left(n +1\\right) \\sqrt{\\xi}}{n}\\right)^{2}}{\\left(n +1\\right)^{2}}-\\left(-\\sigma^{2}-2 \\mu +r \\right) \\left(C \\,\\xi^{2}+a_{n} \\xi -\\frac{2 \\sqrt{-\\mu  a_{n}+r a_{n}} \\left(n +1\\right) \\xi^{\\frac{3}{2}}}{3 n}\\right)$$"
      ]
     },
     "execution_count": 9,
     "metadata": {},
     "output_type": "execute_result"
    }
   ],
   "source": [
    "residual := eval(DGMODE, H(xi)=HPuiseux + C*xi^2);"
   ]
  },
  {
   "cell_type": "code",
   "execution_count": 10,
   "id": "440f6a78",
   "metadata": {},
   "outputs": [
    {
     "data": {
      "text/markdown": [
       "$$-\\frac{4 \\xi^{\\frac{3}{2}} \\sqrt{a_{n} \\left(-\\mu +r \\right)} \\left(\\frac{\\left(n +1\\right)^{2} \\mu}{12}+\\left(-\\frac{\\sigma^{2}}{48}+C -\\frac{r}{6}\\right) n^{2}+\\left(-\\frac{\\sigma^{2}}{24}-\\frac{r}{3}\\right) n -\\frac{\\sigma^{2}}{48}-\\frac{r}{6}\\right)}{n \\left(n +1\\right)}+\\frac{C \\left(4 n^{2} C -n^{2} r -2 n r -r \\right) \\xi^{2}}{\\left(n +1\\right)^{2}}$$"
      ]
     },
     "execution_count": 10,
     "metadata": {},
     "output_type": "execute_result"
    }
   ],
   "source": [
    "leadres := map(simplify, series( residual, xi ) );"
   ]
  },
  {
   "cell_type": "code",
   "execution_count": 11,
   "id": "71e61c56",
   "metadata": {},
   "outputs": [
    {
     "data": {
      "text/markdown": [
       "$$-\\frac{\\left(n +1\\right)^{2} \\left(-\\sigma^{2}+4 \\mu -8 r \\right)}{48 n^{2}}$$"
      ]
     },
     "execution_count": 11,
     "metadata": {},
     "output_type": "execute_result"
    }
   ],
   "source": [
    "C2 := factor( solve( coeff(leadres, xi^(3/2)), C ) );"
   ]
  },
  {
   "cell_type": "code",
   "execution_count": 12,
   "id": "b32b2da8",
   "metadata": {},
   "outputs": [
    {
     "data": {
      "text/markdown": [
       "$$\\frac{\\xi^{2} \\sigma^{2} \\left(-\\frac{\\sqrt{-\\mu  a_{n}+r a_{n}} \\left(n +1\\right)}{2 n \\sqrt{\\xi}}-\\frac{\\left(n +1\\right)^{2} \\left(-\\sigma^{2}+4 \\mu -8 r \\right)}{24 n^{2}}+\\frac{15 C \\sqrt{\\xi}}{4}\\right)}{2}-\\left(\\sigma^{2}+\\mu \\right) \\xi  \\left(a_{n}-\\frac{\\sqrt{-\\mu  a_{n}+r a_{n}} \\left(n +1\\right) \\sqrt{\\xi}}{n}-\\frac{\\left(n +1\\right)^{2} \\left(-\\sigma^{2}+4 \\mu -8 r \\right) \\xi}{24 n^{2}}+\\frac{5 C \\,\\xi^{\\frac{3}{2}}}{2}\\right)+\\frac{n^{2} \\left(\\frac{\\sqrt{-\\mu  a_{n}+r a_{n}} \\left(n +1\\right) \\sqrt{\\xi}}{n}+\\frac{\\left(n +1\\right)^{2} \\left(-\\sigma^{2}+4 \\mu -8 r \\right) \\xi}{24 n^{2}}-\\frac{5 C \\,\\xi^{\\frac{3}{2}}}{2}\\right)^{2}}{\\left(n +1\\right)^{2}}-\\left(-\\sigma^{2}-2 \\mu +r \\right) \\left(a_{n} \\xi -\\frac{2 \\sqrt{-\\mu  a_{n}+r a_{n}} \\left(n +1\\right) \\xi^{\\frac{3}{2}}}{3 n}-\\frac{\\left(n +1\\right)^{2} \\left(-\\sigma^{2}+4 \\mu -8 r \\right) \\xi^{2}}{48 n^{2}}+C \\,\\xi^{\\frac{5}{2}}\\right)$$"
      ]
     },
     "execution_count": 12,
     "metadata": {},
     "output_type": "execute_result"
    }
   ],
   "source": [
    "residual := eval(DGMODE, H(xi)=HPuiseux + C2*xi^2 + C*xi^(5/2));"
   ]
  },
  {
   "cell_type": "code",
   "execution_count": 13,
   "id": "603a3267",
   "metadata": {},
   "outputs": [
    {
     "data": {
      "text/markdown": [
       "$$-\\frac{5 \\left(\\sqrt{a_{n} \\left(-\\mu +r \\right)} C \\,n^{3}+\\frac{\\left(-\\frac{\\sigma^{2}}{4}+r +\\mu \\right) \\left(n +1\\right)^{3} \\left(\\frac{\\sigma^{2}}{8}+r -\\frac{\\mu}{2}\\right)}{90}\\right) \\xi^{2}}{n^{2} \\left(n +1\\right)}-\\frac{C \\left(-7 \\sigma^{2}+16 \\mu -8 r \\right) \\xi^{\\frac{5}{2}}}{12}+\\frac{25 n^{2} C^{2} \\xi^{3}}{4 \\left(n +1\\right)^{2}}$$"
      ]
     },
     "execution_count": 13,
     "metadata": {},
     "output_type": "execute_result"
    }
   ],
   "source": [
    "leadres := map(simplify,series(residual,xi));"
   ]
  },
  {
   "cell_type": "code",
   "execution_count": 14,
   "id": "a5eb15b9",
   "metadata": {},
   "outputs": [
    {
     "data": {
      "text/markdown": [
       "$$-\\frac{\\xi^{2} \\left(16 \\mu  r +32 r^{2}-16 \\mu^{2}-\\sigma^{4}-n^{3} \\sigma^{4}-3 n^{2} \\sigma^{4}-16 \\mu^{2} n^{3}+32 n^{3} r^{2}-3 n \\,\\sigma^{4}-48 \\mu^{2} n^{2}+96 n^{2} r^{2}-48 \\mu^{2} n +8 \\mu  \\,\\sigma^{2}+96 n \\,r^{2}-4 r \\,\\sigma^{2}+2880 \\sqrt{-a_{n} \\left(\\mu -r \\right)} C \\,n^{3}+8 \\mu  \\,n^{3} \\sigma^{2}-4 n^{3} r \\,\\sigma^{2}+16 \\mu  \\,n^{3} r +24 \\mu  \\,n^{2} \\sigma^{2}-12 n^{2} r \\,\\sigma^{2}+48 \\mu  \\,n^{2} r +24 \\mu  n \\,\\sigma^{2}-12 n r \\,\\sigma^{2}+48 \\mu  n r \\right)}{576 n^{2} \\left(n +1\\right)}$$"
      ]
     },
     "execution_count": 14,
     "metadata": {},
     "output_type": "execute_result"
    }
   ],
   "source": [
    "tongs := convert( series('leadterm'(leadres),xi), polynom);"
   ]
  },
  {
   "cell_type": "code",
   "execution_count": 15,
   "id": "40e1411b",
   "metadata": {},
   "outputs": [
    {
     "data": {
      "text/markdown": [
       "$$\\frac{\\left(n +1\\right)^{3} \\left(-\\sigma^{2}+4 \\mu +4 r \\right) \\left(-\\sigma^{2}+4 \\mu -8 r \\right)}{2880 \\sqrt{-a_{n} \\left(\\mu -r \\right)} n^{3}}$$"
      ]
     },
     "execution_count": 15,
     "metadata": {},
     "output_type": "execute_result"
    }
   ],
   "source": [
    "C3 := factor( solve( coeff(tongs,xi,2), C) );"
   ]
  },
  {
   "cell_type": "code",
   "execution_count": 16,
   "id": "52109c2d",
   "metadata": {},
   "outputs": [
    {
     "data": {
      "text/plain": [
       "a_{n} \\xi -\\frac{2 \\sqrt{-\\mu  a_{n}+r a_{n}} \\left(n +1\\right) \\xi^{\\frac{3}{2}}}{3 n}-\\frac{\\left(n +1\\right)^{2} \\left(-\\sigma^{2}+4 \\mu -8 r \\right) \\xi^{2}}{48 n^{2}}+\\frac{\\left(n +1\\right)^{3} \\left(-\\sigma^{2}+4 \\mu +4 r \\right) \\left(-\\sigma^{2}+4 \\mu -8 r \\right) \\xi^{\\frac{5}{2}}}{2880 \\sqrt{-a_{n} \\left(\\mu -r \\right)} n^{3}}"
      ]
     },
     "metadata": {},
     "output_type": "display_data"
    }
   ],
   "source": [
    "latex( HPuiseux + C2*xi^2 + C3*xi^(5/2));"
   ]
  },
  {
   "cell_type": "code",
   "execution_count": 17,
   "id": "36edecee",
   "metadata": {
    "scrolled": true
   },
   "outputs": [
    {
     "data": {
      "text/markdown": [
       "$$a_{n} \\xi -\\frac{2 \\sqrt{-\\mu  a_{n}+r a_{n}} \\left(n +1\\right) \\xi^{\\frac{3}{2}}}{3 n}-\\frac{\\left(n +1\\right)^{2} \\left(-\\sigma^{2}+4 \\mu -8 r \\right) \\xi^{2}}{48 n^{2}}+\\frac{\\left(n +1\\right)^{3} \\left(-\\sigma^{2}+4 \\mu +4 r \\right) \\left(-\\sigma^{2}+4 \\mu -8 r \\right) \\xi^{\\frac{5}{2}}}{2880 \\sqrt{-a_{n} \\left(\\mu -r \\right)} n^{3}}$$"
      ]
     },
     "execution_count": 17,
     "metadata": {},
     "output_type": "execute_result"
    }
   ],
   "source": [
    "startsol := HPuiseux + C2*xi^2 + C3*xi^(5/2);"
   ]
  },
  {
   "cell_type": "code",
   "execution_count": 18,
   "id": "47505696",
   "metadata": {},
   "outputs": [
    {
     "data": {
      "text/markdown": [
       "| | | | | |\n",
       "|:-:|:-:|:-:|:-:|:-:|\n",
       "|r = .5e-1|mu = .1e-1|sigma = .7e-1|n = 1|a[n] = 1.0|\n"
      ]
     },
     "execution_count": 18,
     "metadata": {},
     "output_type": "execute_result"
    }
   ],
   "source": [
    "parms := [r=0.05,mu=0.01,sigma=0.07, n=1, a[n]=1.0];"
   ]
  },
  {
   "cell_type": "code",
   "execution_count": 19,
   "id": "9519d927",
   "metadata": {},
   "outputs": [
    {
     "data": {
      "text/markdown": [
       "$$ 1.0 \\xi - 0.2666666667 \\xi^{\\frac{3}{2}}+ 0.03040833333 \\xi^{2}- 0.001191499861 \\xi^{\\frac{5}{2}}$$"
      ]
     },
     "execution_count": 19,
     "metadata": {},
     "output_type": "execute_result"
    }
   ],
   "source": [
    "specific := eval( startsol, parms);"
   ]
  },
  {
   "cell_type": "code",
   "execution_count": 20,
   "id": "62824c34",
   "metadata": {},
   "outputs": [
    {
     "data": {
      "text/markdown": [
       "$$ 0.002450000000 \\xi^{2} \\left(\\frac{d^{2}}{d \\xi^{2}}H \\left(\\xi \\right)\\right)- 0.0149 \\left(\\frac{d}{d \\xi}H \\left(\\xi \\right)\\right) \\xi +\\frac{\\left( 1.0-\\frac{d}{d \\xi}H \\left(\\xi \\right)\\right)^{2}}{4}- 0.0251 H \\left(\\xi \\right)$$"
      ]
     },
     "execution_count": 20,
     "metadata": {},
     "output_type": "execute_result"
    }
   ],
   "source": [
    "specificDE := eval(DGMODE, parms);"
   ]
  },
  {
   "cell_type": "code",
   "execution_count": 21,
   "id": "9b669665",
   "metadata": {},
   "outputs": [
    {
     "data": {
      "text/markdown": [
       "$$ 0.002450000000 \\xi^{2} \\left(-\\frac{ 0.2000000000}{\\sqrt{\\xi}}+ 0.06081666666- 0.004468124478 \\sqrt{\\xi}\\right)- 0.0149 \\left( 1.0- 0.4000000000 \\sqrt{\\xi}+ 0.06081666666 \\xi - 0.002978749652 \\xi^{\\frac{3}{2}}\\right) \\xi +\\frac{\\left( 0.4000000000 \\sqrt{\\xi}- 0.06081666666 \\xi + 0.002978749652 \\xi^{\\frac{3}{2}}\\right)^{2}}{4}- 0.02510 \\xi + 0.006693333334 \\xi^{\\frac{3}{2}}- 0.0007632491666 \\xi^{2}+ 0.00002990664651 \\xi^{\\frac{5}{2}}$$"
      ]
     },
     "execution_count": 21,
     "metadata": {},
     "output_type": "execute_result"
    }
   ],
   "source": [
    "specificresidual := eval( specificDE, H(xi)=specific );"
   ]
  },
  {
   "cell_type": "code",
   "execution_count": 22,
   "id": "d535ad89",
   "metadata": {},
   "outputs": [
    {
     "data": {
      "image/png": "[encoded data removed]"
     },
     "execution_count": 22,
     "metadata": {},
     "output_type": "execute_result"
    }
   ],
   "source": [
    "plot( specificresidual, xi=0..0.025 );"
   ]
  },
  {
   "cell_type": "code",
   "execution_count": null,
   "id": "99bc77b6",
   "metadata": {},
   "outputs": [],
   "source": []
  }
 ],
 "metadata": {
  "kernelspec": {
   "display_name": "Maple 2024",
   "language": "maple",
   "name": "maple"
  },
  "language_info": {
   "file_extension": ".mpl",
   "mimetype": "application/vnd.maple.mpl",
   "name": "maple",
   "version": "2024"
  }
 },
 "nbformat": 4,
 "nbformat_minor": 5
}
