{
 "cells": [
  {
   "cell_type": "markdown",
   "id": "8e89a095",
   "metadata": {},
   "source": [
    "# A stronger Watson's lemma #\n",
    "\n",
    "$\\newcommand{\\e}{\\varepsilon}$\n",
    "\n",
    "### The ordinary Watson's lemma ###\n",
    "Watson's Lemma as stated and proved in \\cite{Bender(1978)} and \\cite{copson} runs as follows:\n",
    "\n",
    "Assume\n",
    "  $\\alpha > -1$, $\\beta >0$ and $b>0$.\n",
    "  If $f(t)$ is a continuous function on $[0,b]$ such that it has asymptotic series expansion\n",
    "  \\begin{equation}\n",
    "  f(t) \\sim t^{\\alpha} \\sum_{n=0}^\\infty a_nt^{\\beta n}, \\,\\,\\, t \\rightarrow 0^+ \\>,\n",
    "\\end{equation}\n",
    "(and if $b=+\\infty$ then $f(t) <k\\cdot e^{ct}\\, (t\\rightarrow +\\infty)$ for some positive constants $c$ and $k$), then\n",
    "\\begin{equation}\n",
    " \\int_0^b f(t)e^{-xt}dt \\sim \\sum_{n=0}^\\infty \\dfrac{a_n \\Gamma (\\alpha + \\beta n +1)}{x^{\\alpha\t+\\beta n+1}}, \\,\\,\\, x \\rightarrow +\\infty\n",
    "\\end{equation}\n",
    "\n",
    "\n",
    "The proof on page 264 of Bender & Orszag is straightforward.  We will use essentially that same proof to give a stronger result."
   ]
  },
  {
   "cell_type": "markdown",
   "id": "bac00a14",
   "metadata": {},
   "source": [
    "### Statement of the stronger version ###\n",
    "\n",
    "\n",
    "Suppose \n",
    "\\begin{equation}\n",
    "I(x) = \\int_{t=0}^b f(t) e^{-x t}dt\n",
    "\\end{equation}\n",
    "exists and is finite for $x > 0$.   We will take $x>0$ and $b >0 $, and allow the case $b = \\infty$ which will occasionally require explicit mention.\n",
    "\n",
    "Suppose now that $\\phi_k(t)$ is an asymptotic sequence for $k \\ge 0$ as $t \\to 0^+$, which is to say that $\\phi_{k+1}(t) = o(\\phi_k(t))$ as $t \\to 0^+$, and suppose moreover that each $\\phi_k(t) \\ge 0$ for all $t \\ge 0$.  Suppose that\n",
    "\\begin{equation}\n",
    "  f(t) \\sim \\sum_{n=0}^\\infty a_n\\phi_n(t), \\,\\,\\, t \\rightarrow 0^+ \\>.\n",
    "\\end{equation}\n",
    "Suppose also that $\\psi_k(x) := \\int_{t=0}^c \\phi_k(t)\\exp(-xt)dt$ (here $c$ might be $b$, or $\\infty$, or any convenient nonzero upper limit) is an asymptotic sequence for $k\\ge 0$ as $x \\to \\infty$.  Finally, suppose that the $\\psi_k(x)$ decay to zero more slowly than $\\exp( -\\alpha x )$ for any $\\alpha > 0$.  That is, \n",
    "\\begin{equation}\n",
    "e^{\\alpha x} \\psi_k(x) \\to \\infty\n",
    "\\end{equation}\n",
    "as $x \\to \\infty$, for any integer $k\\ge 0$ and for any real $\\alpha > 0$.\n",
    "\n",
    "Then\n",
    "\\begin{equation}\n",
    " \\int_0^b f(t)e^{-xt}dt \\sim \\sum_{n=0}^\\infty a_n \\psi_n(x), \\,\\,\\, x \\rightarrow +\\infty\\>.\n",
    "\\end{equation}"
   ]
  },
  {
   "cell_type": "markdown",
   "id": "8b617272",
   "metadata": {},
   "source": [
    "### Proof ###\n",
    "\n",
    "Let all quantities be as denoted above. Then suppose $\\e >0$ and consider $I(x,\\e) := \\int_{t=0}^\\e f(t) \\exp(-xt)dt$.  We have $I(x)-I(x,\\e) = \\int_{t=\\e}^b f(t)\\exp(-xt)dt = \\exp(-x\\e)\\int_{\\tau=0}^{b-\\e} f(\\tau+\\e)\\exp(-x\\tau)d\\tau$ which is exponentially smaller than $I(x)$ as $x \\to \\infty$, for any $\\e > 0$.  By hypothesis, this error is also exponentially smaller than any $\\psi_k(x)$.\n",
    "\n",
    "Now choose $\\e >0$ (also smaller than $c$) such that the error $R(t,N)$ of the first $N+1$ terms of the asymptotic series \n",
    "\\begin{equation}\n",
    "R(t,N) := f(t) - \\sum_{k=0}^N  a_k \\phi_k(t)\n",
    "\\end{equation}\n",
    "satisfies $|R(t)| \\le K \\phi_{N+1}(t)$ for some positive $K$. Then\n",
    "\\begin{equation}\n",
    "\\left| I(x,\\e) - \\sum_{k=0}^N a_k \\int_{t=0}^\\e \\phi_k(t) e^{-xt}dt \\right|   \\le K \\int_{t=0}^\\e \\phi_{N+1}(t) e^{-xt} dt\n",
    "\\end{equation}\n",
    "where we have already used the nonnegativity of $\\phi_k(t)$.  We may use it further to observe that the integral on the right-hand side is less than $\\int_{t=0}^c \\phi_{N+1}(t)\\exp(-xt)dt = \\psi_{N+1}(x)$, and so\n",
    "\\begin{equation}\n",
    "\\left| I(x,\\e) - \\sum_{k=0}^N a_k \\int_{t=0}^\\e \\phi_k(t) e^{-xt}dt \\right|   \\le K\\psi_{N+1}(x)\\>.\n",
    "\\end{equation}\n",
    "Now we only make an exponentially small change in the left-hand side when we replace the integrals to $t=\\e$ with integrals to $t=c$ or to $t=b$. We thus have at last that\n",
    "\\begin{equation}\n",
    " I(x) - \\sum_{k=0}^N a_k \\psi_k(x) \\ll \\psi_{N+1}(x)\\>.\n",
    "\\end{equation}\n",
    "Since $N$ was arbitrary, we have proved the strong Watson lemma.\n",
    "<div style=\"text-align: right\"> $\\natural$ </div>"
   ]
  },
  {
   "cell_type": "markdown",
   "id": "e9f4eaae",
   "metadata": {},
   "source": [
    "The following code is simple but perhaps not optimal.  The routine \"int\" will refuse to compute a long answer, however, in the belief that \"nobody wants to see that.\"  It also does a lot of work in classifying the integrand which is potentially unneccesary here.  It was, however, very simple to write, and it works for small examples.  More, it pointed the way to the stronger Watson lemma above."
   ]
  },
  {
   "cell_type": "markdown",
   "id": "784120bb",
   "metadata": {},
   "source": [
    "Copyright (c) 2024 Robert M. Corless\n",
    "\n",
    "Permission is hereby granted, free of charge, to any person obtaining a copy of this software and associated documentation files (the “Software”), to deal in the Software without restriction, including without limitation the rights to use, copy, modify, merge, publish, distribute, sublicense, and/or sell copies of the Software, and to permit persons to whom the Software is furnished to do so, subject to the following conditions:\n",
    "\n",
    "The above copyright notice and this permission notice shall be included in all copies or substantial portions of the Software.\n",
    "\n",
    "THE SOFTWARE IS PROVIDED “AS IS”, WITHOUT WARRANTY OF ANY KIND, EXPRESS OR IMPLIED, INCLUDING BUT NOT LIMITED TO THE WARRANTIES OF MERCHANTABILITY, FITNESS FOR A PARTICULAR PURPOSE AND NONINFRINGEMENT. IN NO EVENT SHALL THE AUTHORS OR COPYRIGHT HOLDERS BE LIABLE FOR ANY CLAIM, DAMAGES OR OTHER LIABILITY, WHETHER IN AN ACTION OF CONTRACT, TORT OR OTHERWISE, ARISING FROM, OUT OF OR IN CONNECTION WITH THE SOFTWARE OR THE USE OR OTHER DEALINGS IN THE SOFTWARE."
   ]
  },
  {
   "cell_type": "code",
   "execution_count": 1,
   "id": "785bb248",
   "metadata": {},
   "outputs": [
    {
     "data": {
      "text/plain": [
       "kilobytes used=1800, alloc=5424, time=0.27"
      ]
     },
     "metadata": {},
     "output_type": "display_data"
    }
   ],
   "source": [
    "Watson := proc(f::{operator, procedure}, x::name, {N::posint := Order-1}, $) \n",
    "  local t, w; \n",
    "  w := asympt(f(1/t), t, N+1); \n",
    "  w := eval( convert(w, polynom), t=1/t );  \n",
    "  w := (int(w*exp(-x*t), t = 0 .. infinity) assuming (0 < x)); \n",
    "  w := asympt(expand(w), x, N+1) ; \n",
    "end proc:"
   ]
  },
  {
   "cell_type": "code",
   "execution_count": 7,
   "id": "361f1165",
   "metadata": {},
   "outputs": [
    {
     "data": {
      "text/plain": [
       "kilobytes used=15884, alloc=14384, time=2.44"
      ]
     },
     "metadata": {},
     "output_type": "display_data"
    },
    {
     "data": {
      "text/markdown": [
       "$$\\frac{\\omega}{x^{2}}-\\frac{\\omega^{3}}{x^{4}}+\\frac{\\omega^{5}}{x^{6}}$$"
      ]
     },
     "execution_count": 7,
     "metadata": {},
     "output_type": "execute_result"
    }
   ],
   "source": [
    "Watson( t->sin(t), x, N=6 );"
   ]
  },
  {
   "cell_type": "code",
   "execution_count": 4,
   "id": "fba21dc8",
   "metadata": {
    "scrolled": true
   },
   "outputs": [
    {
     "data": {
      "text/latex": [
       "$$\\frac{\\sqrt{\\pi} \\left(\\frac{1}{x}\\right)^{\\frac{3}{2}}}{2}-\\frac{\\sqrt{\\pi} \\left(\\frac{1}{x}\\right)^{\\frac{5}{2}}}{8}+\\frac{\\sqrt{\\pi} \\left(\\frac{1}{x}\\right)^{\\frac{7}{2}}}{64}+O\\left(\\left(\\frac{1}{x}\\right)^{\\frac{9}{2}}\\right)$$"
      ]
     },
     "execution_count": 4,
     "metadata": {},
     "output_type": "execute_result"
    }
   ],
   "source": [
    "Watson( t->sin(sqrt(t)), x, N=3 );"
   ]
  },
  {
   "cell_type": "code",
   "execution_count": 5,
   "id": "64e3928e",
   "metadata": {},
   "outputs": [
    {
     "data": {
      "text/plain": [
       "kilobytes used=8843, alloc=18480, time=1.06"
      ]
     },
     "metadata": {},
     "output_type": "display_data"
    },
    {
     "data": {
      "text/latex": [
       "$$\\frac{1}{x}+\\frac{1-\\gamma -\\ln \\left(x \\right)}{x^{2}}+O\\left(\\frac{1}{x^{3}}\\right)$$"
      ]
     },
     "execution_count": 5,
     "metadata": {},
     "output_type": "execute_result"
    }
   ],
   "source": [
    "Watson( t->t^sin(t), x, N=2 );"
   ]
  },
  {
   "cell_type": "markdown",
   "id": "bcd23bf5",
   "metadata": {},
   "source": [
    "For Stirling's original formula:"
   ]
  },
  {
   "cell_type": "code",
   "execution_count": 6,
   "id": "95d5a591",
   "metadata": {},
   "outputs": [
    {
     "data": {
      "text/plain": [
       "t -> (1/t-1/2/sinh(1/2*t))/t"
      ]
     },
     "execution_count": 6,
     "metadata": {},
     "output_type": "execute_result"
    }
   ],
   "source": [
    "f := t -> (1/t - 1/(2*sinh(t/2)))/t; "
   ]
  },
  {
   "cell_type": "code",
   "execution_count": 7,
   "id": "6db3f388",
   "metadata": {},
   "outputs": [
    {
     "data": {
      "text/latex": [
       "$$\\frac{1}{24 z +12}-\\frac{7}{2880 \\left(z +\\frac{1}{2}\\right)^{3}}$$"
      ]
     },
     "execution_count": 7,
     "metadata": {},
     "output_type": "execute_result"
    }
   ],
   "source": [
    "SOF := eval( Watson( f, Z ), Z= z+1/2 );"
   ]
  },
  {
   "cell_type": "code",
   "execution_count": 8,
   "id": "bf0f38f3",
   "metadata": {},
   "outputs": [
    {
     "data": {
      "text/plain": [
       "                                 Z := z + 1/2"
      ]
     },
     "metadata": {},
     "output_type": "display_data"
    },
    {
     "data": {
      "text/latex": [
       "$$\\ln \\left(\\sqrt{2} \\sqrt{\\pi}\\right)+\\left(z +\\frac{1}{2}\\right) \\ln \\left(z +\\frac{1}{2}\\right)-z -\\frac{1}{2}-\\frac{1}{24 \\left(z +\\frac{1}{2}\\right)}+\\frac{7}{2880 \\left(z +\\frac{1}{2}\\right)^{3}}$$"
      ]
     },
     "execution_count": 8,
     "metadata": {},
     "output_type": "execute_result"
    }
   ],
   "source": [
    "Z := z + 1/2;\n",
    "lnzf := ln(sqrt(2*Pi)) + Z*ln(Z) - Z - SOF ;"
   ]
  },
  {
   "cell_type": "code",
   "execution_count": 9,
   "id": "d482ead9",
   "metadata": {},
   "outputs": [
    {
     "data": {
      "text/plain": [
       "                                 Digits := 30"
      ]
     },
     "metadata": {},
     "output_type": "display_data"
    },
    {
     "data": {
      "text/latex": [
       "$$ 1.00000000039608911450083802664$$"
      ]
     },
     "execution_count": 9,
     "metadata": {},
     "output_type": "execute_result"
    }
   ],
   "source": [
    "Digits := 30;\n",
    "evalf( eval( lnzf, z=10 )/ln( 10! ) );"
   ]
  },
  {
   "cell_type": "code",
   "execution_count": 9,
   "id": "06c7e1a1",
   "metadata": {
    "scrolled": true
   },
   "outputs": [
    {
     "data": {
      "text/plain": [
       "                                 0"
      ]
     },
     "metadata": {},
     "output_type": "display_data"
    },
    {
     "data": {
      "text/markdown": [
       "$$\\int_{0}^{1}\\frac{\\sqrt{t} {\\mathrm e}^{-x t}}{t^{2}+1}d t$$"
      ]
     },
     "execution_count": 9,
     "metadata": {},
     "output_type": "execute_result"
    }
   ],
   "source": [
    "F := int( sqrt(t)*exp(-x*t)/(1+t^2), t=0..1 );\n",
    "# asympt( F, x );"
   ]
  },
  {
   "cell_type": "markdown",
   "id": "28315be2",
   "metadata": {},
   "source": [
    "Yields \"Runtime error: Error, (in asympt) unable to compute series\" if uncommented."
   ]
  },
  {
   "cell_type": "code",
   "execution_count": 10,
   "id": "1a05a10b",
   "metadata": {},
   "outputs": [
    {
     "data": {
      "text/plain": [
       "kilobytes used=21526, alloc=18567, time=3.38"
      ]
     },
     "metadata": {},
     "output_type": "display_data"
    },
    {
     "data": {
      "text/markdown": [
       "$$\\frac{\\sqrt{\\pi} \\left(\\frac{1}{x}\\right)^{\\frac{3}{2}}}{2}-\\frac{15 \\sqrt{\\pi} \\left(\\frac{1}{x}\\right)^{\\frac{7}{2}}}{8}+\\frac{945 \\sqrt{\\pi} \\left(\\frac{1}{x}\\right)^{\\frac{11}{2}}}{32}$$"
      ]
     },
     "execution_count": 10,
     "metadata": {},
     "output_type": "execute_result"
    }
   ],
   "source": [
    "F4 := convert( Watson( t->sqrt(t)/(1+t^2), x, N=6 ), polynom );"
   ]
  },
  {
   "cell_type": "code",
   "execution_count": 14,
   "id": "1ee928e7",
   "metadata": {
    "scrolled": true
   },
   "outputs": [
    {
     "data": {
      "text/plain": [
       "memory used=7.69MiB, alloc change=0 bytes, cpu time=78.00ms, real time=93.00ms, gc time=0ns"
      ]
     },
     "metadata": {},
     "output_type": "display_data"
    },
    {
     "data": {
      "text/markdown": [
       "$$ 0.01852058122$$"
      ]
     },
     "execution_count": 14,
     "metadata": {},
     "output_type": "execute_result"
    }
   ],
   "source": [
    "CodeTools:-Usage( evalf( eval(F, x=13) ) );"
   ]
  },
  {
   "cell_type": "code",
   "execution_count": 15,
   "id": "29215f39",
   "metadata": {},
   "outputs": [
    {
     "data": {
      "text/plain": [
       "memory used=5.09KiB, alloc change=0 bytes, cpu time=0ns, real time=0ns, gc time=0ns"
      ]
     },
     "metadata": {},
     "output_type": "display_data"
    },
    {
     "data": {
      "text/markdown": [
       "$$ 0.01852687546$$"
      ]
     },
     "execution_count": 15,
     "metadata": {},
     "output_type": "execute_result"
    }
   ],
   "source": [
    "CodeTools:-Usage( evalf( eval(F4, x=13)));"
   ]
  },
  {
   "cell_type": "code",
   "execution_count": 13,
   "id": "775f654b",
   "metadata": {},
   "outputs": [
    {
     "data": {
      "text/latex": [
       "$$ 0.999998698574399804147587489108$$"
      ]
     },
     "execution_count": 13,
     "metadata": {},
     "output_type": "execute_result"
    }
   ],
   "source": [
    "evalf( eval(F, x=34) )/evalf( eval(F4, x=34));"
   ]
  },
  {
   "cell_type": "code",
   "execution_count": 14,
   "id": "09a5c43e",
   "metadata": {},
   "outputs": [
    {
     "data": {
      "text/latex": [
       "$${ 2.20092586788669563202491518512\\times 10^{-8}}$$"
      ]
     },
     "execution_count": 14,
     "metadata": {},
     "output_type": "execute_result"
    }
   ],
   "source": [
    "evalf(34^(-10/2));"
   ]
  },
  {
   "cell_type": "code",
   "execution_count": 15,
   "id": "8b1209e9",
   "metadata": {},
   "outputs": [
    {
     "data": {
      "text/plain": [
       "kilobytes used=41623, alloc=24691, time=3.73"
      ]
     },
     "metadata": {},
     "output_type": "display_data"
    },
    {
     "data": {
      "text/latex": [
       "$$$$"
      ]
     },
     "execution_count": 15,
     "metadata": {},
     "output_type": "execute_result"
    }
   ],
   "source": [
    "dat := [seq( [log10(combinat:-fibonacci(k)), log10(abs(evalf( eval(F, x=combinat:-fibonacci(k)) )/evalf( eval(F4, x=combinat:-fibonacci(k)))-1))],k=4..12)]:\n",
    "plot( dat, style=point)"
   ]
  },
  {
   "cell_type": "code",
   "execution_count": 16,
   "id": "5e7ee2ee",
   "metadata": {},
   "outputs": [
    {
     "data": {
      "text/latex": [
       "$$- 5.99038983289025964950295814624$$"
      ]
     },
     "execution_count": 16,
     "metadata": {},
     "output_type": "execute_result"
    }
   ],
   "source": [
    "ah := dat[-1] - dat[-2]:\n",
    "evalf(ah[2]/ah[1]);"
   ]
  },
  {
   "cell_type": "code",
   "execution_count": 17,
   "id": "15116d36",
   "metadata": {},
   "outputs": [
    {
     "data": {
      "text/latex": [
       "$$\\int_{0}^{\\frac{\\pi}{2}}{\\mathrm e}^{-x \\sin \\left(t \\right)^{2}}d t$$"
      ]
     },
     "execution_count": 17,
     "metadata": {},
     "output_type": "execute_result"
    }
   ],
   "source": [
    "Aye := Int( exp(-x*sin(t)^2), t=0..Pi/2);"
   ]
  },
  {
   "cell_type": "code",
   "execution_count": 18,
   "id": "11e476be",
   "metadata": {},
   "outputs": [
    {
     "data": {
      "text/plain": [
       "                     1/2 Pi exp(- 1/2 x) BesselI(0, 1/2 x)"
      ]
     },
     "metadata": {},
     "output_type": "display_data"
    },
    {
     "data": {
      "text/latex": [
       "$$\\frac{\\pi  \\,{\\mathrm e}^{-\\frac{x}{2}} I_{0}\\left(\\frac{x}{2}\\right)}{2}$$"
      ]
     },
     "execution_count": 18,
     "metadata": {},
     "output_type": "execute_result"
    }
   ],
   "source": [
    "value(Aye); # Can Maple evaluate this?"
   ]
  },
  {
   "cell_type": "markdown",
   "id": "6bb9217c",
   "metadata": {},
   "source": [
    "Whoa.  Apparently so."
   ]
  },
  {
   "cell_type": "code",
   "execution_count": 19,
   "id": "33fed9d7",
   "metadata": {},
   "outputs": [
    {
     "data": {
      "text/latex": [
       "$$\\frac{\\sqrt{\\pi} \\sqrt{\\frac{1}{x}}}{2}+\\frac{\\sqrt{\\pi} \\left(\\frac{1}{x}\\right)^{\\frac{3}{2}}}{8}+\\frac{9 \\sqrt{\\pi} \\left(\\frac{1}{x}\\right)^{\\frac{5}{2}}}{64}+\\frac{75 \\sqrt{\\pi} \\left(\\frac{1}{x}\\right)^{\\frac{7}{2}}}{256}+\\frac{3675 \\sqrt{\\pi} \\left(\\frac{1}{x}\\right)^{\\frac{9}{2}}}{4096}+\\frac{59535 \\sqrt{\\pi} \\left(\\frac{1}{x}\\right)^{\\frac{11}{2}}}{16384}+O\\left(\\left(\\frac{1}{x}\\right)^{\\frac{13}{2}}\\right)$$"
      ]
     },
     "execution_count": 19,
     "metadata": {},
     "output_type": "execute_result"
    }
   ],
   "source": [
    "asympt( value(Aye), x );"
   ]
  },
  {
   "cell_type": "code",
   "execution_count": 20,
   "id": "27a1df66",
   "metadata": {
    "scrolled": true
   },
   "outputs": [],
   "source": [
    "# IntegrationTools:-Change( Aye, u=sin(t)^2 ) assuming x>0, u>0, u<1;"
   ]
  },
  {
   "cell_type": "markdown",
   "id": "12c75395",
   "metadata": {},
   "source": [
    "Yields \"Runtime error: Error, (in assuming) when calling 'IntegrationTools:-Change'. Received: 'unable to change variables'\" if uncommented"
   ]
  },
  {
   "cell_type": "code",
   "execution_count": 21,
   "id": "f1c968e0",
   "metadata": {},
   "outputs": [
    {
     "data": {
      "text/latex": [
       "$$\\int_{0}^{1}\\frac{{\\mathrm e}^{-x u}}{2 \\sqrt{u} \\sqrt{1-u}}d u$$"
      ]
     },
     "execution_count": 21,
     "metadata": {},
     "output_type": "execute_result"
    }
   ],
   "source": [
    "student[changevar]( u=sin(t)^2, Aye, u );"
   ]
  },
  {
   "cell_type": "markdown",
   "id": "5e957b55",
   "metadata": {},
   "source": [
    "If we call the following with the change of variables u = sin(t)^2 then Maple gets confused, and doesn't know to use the positive square root.  So we have to phrase it correctly."
   ]
  },
  {
   "cell_type": "code",
   "execution_count": 22,
   "id": "51949096",
   "metadata": {},
   "outputs": [
    {
     "data": {
      "text/latex": [
       "$$\\int_{0}^{1}\\frac{{\\mathrm e}^{-x u}}{2 \\sqrt{u} \\sqrt{1-u}}d u$$"
      ]
     },
     "execution_count": 22,
     "metadata": {},
     "output_type": "execute_result"
    }
   ],
   "source": [
    "Student[MultivariateCalculus][ChangeOfVariables]( Aye, [t=arcsin(sqrt(u))] );"
   ]
  },
  {
   "cell_type": "code",
   "execution_count": 23,
   "id": "4d62a8d8",
   "metadata": {},
   "outputs": [
    {
     "data": {
      "text/latex": [
       "$$\\frac{\\sqrt{\\pi} \\sqrt{\\frac{1}{x}}}{2}+\\frac{\\sqrt{\\pi} \\left(\\frac{1}{x}\\right)^{\\frac{3}{2}}}{8}+\\frac{9 \\sqrt{\\pi} \\left(\\frac{1}{x}\\right)^{\\frac{5}{2}}}{64}+\\frac{75 \\sqrt{\\pi} \\left(\\frac{1}{x}\\right)^{\\frac{7}{2}}}{256}+\\frac{3675 \\sqrt{\\pi} \\left(\\frac{1}{x}\\right)^{\\frac{9}{2}}}{4096}+\\frac{59535 \\sqrt{\\pi} \\left(\\frac{1}{x}\\right)^{\\frac{11}{2}}}{16384}+\\frac{2401245 \\sqrt{\\pi} \\left(\\frac{1}{x}\\right)^{\\frac{13}{2}}}{131072}$$"
      ]
     },
     "execution_count": 23,
     "metadata": {},
     "output_type": "execute_result"
    }
   ],
   "source": [
    "Watson( u->1/(2*sqrt(u)*sqrt(1-u)), x, N=6 )"
   ]
  },
  {
   "cell_type": "markdown",
   "id": "6200909f",
   "metadata": {},
   "source": [
    "A nice example, from p. 55 of Problems in Perturbation by Nayfeh.  Here the integral is not a known special function in Maple and Maple can only evaluate it numerically.  Numerical evaluation seems to be expensive and takes more than a second to evaluate when $\\omega = 100$.  In contrast, the asymptotic formula is accurate and cheap."
   ]
  },
  {
   "cell_type": "code",
   "execution_count": 16,
   "id": "3d62fb77",
   "metadata": {},
   "outputs": [
    {
     "data": {
      "text/markdown": [
       "$$\\int_{1}^{\\infty}{\\mathrm e}^{-\\omega  \\,x^{2}} x^{\\frac{5}{2}} \\ln \\left(1+x \\right)d x$$"
      ]
     },
     "execution_count": 16,
     "metadata": {},
     "output_type": "execute_result"
    }
   ],
   "source": [
    "Aye := Int( exp(-omega*x^2)*x^(5/2)*ln(1+x), x=1..infinity );"
   ]
  },
  {
   "cell_type": "code",
   "execution_count": 18,
   "id": "180bf27c",
   "metadata": {},
   "outputs": [
    {
     "data": {
      "text/plain": [
       "memory used=17.16MiB, alloc change=0 bytes, cpu time=406.00ms, real time=280.00ms, gc time=187.50ms"
      ]
     },
     "metadata": {},
     "output_type": "display_data"
    },
    {
     "data": {
      "text/markdown": [
       "$${ 9.359793197\\times 10^{-60}}$$"
      ]
     },
     "execution_count": 18,
     "metadata": {},
     "output_type": "execute_result"
    }
   ],
   "source": [
    "CodeTools:-Usage( evalf(eval(Aye, omega=130)) );"
   ]
  },
  {
   "cell_type": "code",
   "execution_count": 25,
   "id": "d8199c47",
   "metadata": {},
   "outputs": [
    {
     "data": {
      "text/latex": [
       "$$\\int_{1}^{\\infty}{\\mathrm e}^{-\\omega  \\,x^{2}} x^{\\frac{5}{2}} \\ln \\left(1+x \\right)d x$$"
      ]
     },
     "execution_count": 25,
     "metadata": {},
     "output_type": "execute_result"
    }
   ],
   "source": [
    "value(Aye);"
   ]
  },
  {
   "cell_type": "markdown",
   "id": "b55f4350",
   "metadata": {},
   "source": [
    "Nayfeh's artful computation uses Watson's lemma quite elegantly, and gets the first term with extremely little effort.  Here, we must be artful to get Maple to change variables: we use $x = (v+1)^{1/2}$ and not $v = x^2-1$ because Maple loses track of the constraint $1 \\le x$ from the integral."
   ]
  },
  {
   "cell_type": "code",
   "execution_count": 26,
   "id": "24da138e",
   "metadata": {},
   "outputs": [
    {
     "data": {
      "text/latex": [
       "$$\\int_{0}^{\\infty}\\frac{{\\mathrm e}^{-\\omega  \\left(v +1\\right)} \\left(v +1\\right)^{\\frac{3}{4}} \\ln \\left(1+\\sqrt{v +1}\\right)}{2}d v$$"
      ]
     },
     "execution_count": 26,
     "metadata": {},
     "output_type": "execute_result"
    }
   ],
   "source": [
    "Eye := Student[MultivariateCalculus][ChangeOfVariables]( Aye, [x=(v+1)^(1/2)] );"
   ]
  },
  {
   "cell_type": "markdown",
   "id": "03c6cd04",
   "metadata": {},
   "source": [
    "Once we do that, though, we can get an arbitrary number of terms in the series, essentially effortlessly."
   ]
  },
  {
   "cell_type": "code",
   "execution_count": 27,
   "id": "add67dae",
   "metadata": {},
   "outputs": [
    {
     "data": {
      "text/latex": [
       "$$\\frac{\\ln \\left(2\\right)}{2 \\omega}+\\frac{\\frac{1}{8}+\\frac{3 \\ln \\left(2\\right)}{8}}{\\omega^{2}}+\\frac{\\frac{3}{32}-\\frac{3 \\ln \\left(2\\right)}{32}}{\\omega^{3}}+\\frac{\\frac{15 \\ln \\left(2\\right)}{128}-\\frac{1}{8}}{\\omega^{4}}+\\frac{-\\frac{135 \\ln \\left(2\\right)}{512}+\\frac{9}{32}}{\\omega^{5}}+O\\left(\\frac{1}{\\omega^{6}}\\right)$$"
      ]
     },
     "execution_count": 27,
     "metadata": {},
     "output_type": "execute_result"
    }
   ],
   "source": [
    "ah := Watson( v->(v+1)^(3/4)*ln(1+(v+1)^(1/2))/2, omega );"
   ]
  },
  {
   "cell_type": "code",
   "execution_count": 28,
   "id": "d39965e6",
   "metadata": {},
   "outputs": [
    {
     "data": {
      "text/plain": [
       "{\\mathrm e}^{-\\omega} \\left(\\frac{\\ln \\left(2\\right)}{2 \\omega}+\\frac{\\frac{1}{8}+\\frac{3 \\ln \\left(2\\right)}{8}}{\\omega^{2}}+\\frac{\\frac{3}{32}-\\frac{3 \\ln \\left(2\\right)}{32}}{\\omega^{3}}+\\frac{\\frac{15 \\ln \\left(2\\right)}{128}-\\frac{1}{8}}{\\omega^{4}}+\\frac{-\\frac{135 \\ln \\left(2\\right)}{512}+\\frac{9}{32}}{\\omega^{5}}+O\\left(\\frac{1}{\\omega^{6}}\\right)\\right)"
      ]
     },
     "metadata": {},
     "output_type": "display_data"
    }
   ],
   "source": [
    "latex( exp(-omega)*ah );"
   ]
  },
  {
   "cell_type": "markdown",
   "id": "0fa0e192",
   "metadata": {},
   "source": [
    "\\begin{equation}\n",
    "{\\mathrm e}^{-\\omega} \\left(\\frac{\\ln \\left(2\\right)}{2 \\omega}+\\frac{\\frac{1}{8}+\\frac{3 \\ln \\left(2\\right)}{8}}{\\omega^{2}}+\\frac{\\frac{3}{32}-\\frac{3 \\ln \\left(2\\right)}{32}}{\\omega^{3}}+\\frac{\\frac{15 \\ln \\left(2\\right)}{128}-\\frac{1}{8}}{\\omega^{4}}+\\frac{-\\frac{135 \\ln \\left(2\\right)}{512}+\\frac{9}{32}}{\\omega^{5}}\\right)\n",
    "\\end{equation}"
   ]
  },
  {
   "cell_type": "code",
   "execution_count": 29,
   "id": "ff7d181d",
   "metadata": {},
   "outputs": [],
   "source": [
    "# plot( Aye/(exp(-omega)*ah), omega=10..100 );"
   ]
  },
  {
   "cell_type": "code",
   "execution_count": 30,
   "id": "5e8d9a3c",
   "metadata": {},
   "outputs": [
    {
     "data": {
      "text/plain": [
       "memory used=76.25MiB, alloc change=0 bytes, cpu time=672.00ms, real time=535.00ms, gc time=187.50ms"
      ]
     },
     "metadata": {},
     "output_type": "display_data"
    },
    {
     "data": {
      "text/latex": [
       "$${ 1.30361032517643551467710504771\\times 10^{-46}}$$"
      ]
     },
     "execution_count": 30,
     "metadata": {},
     "output_type": "execute_result"
    }
   ],
   "source": [
    "CodeTools:-Usage( evalf( eval( Aye, omega = 100) ) );"
   ]
  },
  {
   "cell_type": "code",
   "execution_count": 31,
   "id": "f2e1e8f0",
   "metadata": {},
   "outputs": [
    {
     "data": {
      "text/latex": [
       "$$ 1.30361032528720999949102280041\\times 10^{-46}+ 3.72007597602083596295969580386\\times 10^{-44} O\\left( 1.0\\times 10^{-12}\\right)$$"
      ]
     },
     "execution_count": 31,
     "metadata": {},
     "output_type": "execute_result"
    }
   ],
   "source": [
    "evalf( eval( exp(-omega)*ah, omega=100.0 ) );"
   ]
  },
  {
   "cell_type": "code",
   "execution_count": 32,
   "id": "bafe1377",
   "metadata": {},
   "outputs": [
    {
     "data": {
      "text/latex": [
       "$$\\frac{2 K_{1}\\left(2 \\sqrt{x}\\right)}{\\sqrt{x}}$$"
      ]
     },
     "execution_count": 32,
     "metadata": {},
     "output_type": "execute_result"
    }
   ],
   "source": [
    "F := int( exp(-x*t)*exp(-1/t), t=0..infinity ) assuming x>0;"
   ]
  },
  {
   "cell_type": "code",
   "execution_count": 33,
   "id": "f349c2b3",
   "metadata": {},
   "outputs": [
    {
     "data": {
      "text/latex": [
       "$$$$"
      ]
     },
     "execution_count": 33,
     "metadata": {},
     "output_type": "execute_result"
    }
   ],
   "source": [
    "plot( F, x=0..5 );"
   ]
  },
  {
   "cell_type": "code",
   "execution_count": 34,
   "id": "0893b660",
   "metadata": {},
   "outputs": [
    {
     "data": {
      "text/plain": [
       "\\frac{\\sqrt{\\pi} {\\mathrm e}^{-2 \\sqrt{x}}}{x^{\\frac{3}{4}}}+\\frac{3 \\sqrt{\\pi} {\\mathrm e}^{-2 \\sqrt{x}}}{16 x^{\\frac{5}{4}}}-\\frac{15 \\sqrt{\\pi} {\\mathrm e}^{-2 \\sqrt{x}}}{512 x^{\\frac{7}{4}}}+\\frac{105 \\sqrt{\\pi} {\\mathrm e}^{-2 \\sqrt{x}}}{8192 x^{\\frac{9}{4}}}-\\frac{4725 \\sqrt{\\pi} {\\mathrm e}^{-2 \\sqrt{x}}}{524288 x^{\\frac{11}{4}}}+O\\left(\\frac{1}{x^{\\frac{13}{4}}}\\right)"
      ]
     },
     "metadata": {},
     "output_type": "display_data"
    }
   ],
   "source": [
    "latex( map( simplify, asympt( F, x, 3 )) assuming x>0 );"
   ]
  },
  {
   "cell_type": "markdown",
   "id": "a909d651",
   "metadata": {},
   "source": [
    "\\begin{equation}\n",
    "\\frac{\\sqrt{\\pi} {\\mathrm e}^{-2 \\sqrt{x}}}{x^{\\frac{3}{4}}}+\\frac{3 \\sqrt{\\pi} {\\mathrm e}^{-2 \\sqrt{x}}}{16 x^{\\frac{5}{4}}}-\\frac{15 \\sqrt{\\pi} {\\mathrm e}^{-2 \\sqrt{x}}}{512 x^{\\frac{7}{4}}}+\\frac{105 \\sqrt{\\pi} {\\mathrm e}^{-2 \\sqrt{x}}}{8192 x^{\\frac{9}{4}}}-\\frac{4725 \\sqrt{\\pi} {\\mathrm e}^{-2 \\sqrt{x}}}{524288 x^{\\frac{11}{4}}}+O\\left(\\frac{1}{x^{\\frac{13}{4}}}\\right)\n",
    "\\end{equation}"
   ]
  },
  {
   "cell_type": "code",
   "execution_count": 35,
   "id": "93eb26d5",
   "metadata": {},
   "outputs": [],
   "source": [
    "#series( exp(-a*ln(t)^2)/t, t) assuming a>0;\n",
    "# Yields Runtime error: Error, (in assuming) when calling 'series/exp'. Received: 'unable to compute series'"
   ]
  },
  {
   "cell_type": "code",
   "execution_count": 36,
   "id": "991b316d",
   "metadata": {},
   "outputs": [
    {
     "data": {
      "text/latex": [
       "$$\\frac{1}{t \\,{\\mathrm e}^{\\ln \\left(\\frac{1}{t}\\right)^{2} a}}$$"
      ]
     },
     "execution_count": 36,
     "metadata": {},
     "output_type": "execute_result"
    }
   ],
   "source": [
    "MultiSeries:-series( exp(-a*ln(t)^2)/t, t) assuming a>0;"
   ]
  },
  {
   "cell_type": "markdown",
   "id": "c14f3fe0",
   "metadata": {},
   "source": [
    "The problem below has the wrong lower limit&mdash;it works if $1 \\le t < \\infty$."
   ]
  },
  {
   "cell_type": "code",
   "execution_count": 37,
   "id": "6753d717",
   "metadata": {
    "scrolled": true
   },
   "outputs": [
    {
     "data": {
      "text/latex": [
       "$$\\int_{0}^{\\infty}\\frac{{\\mathrm e}^{-x t} {\\mathrm e}^{-a \\ln \\left(t \\right)^{2}}}{t}d t$$"
      ]
     },
     "execution_count": 37,
     "metadata": {},
     "output_type": "execute_result"
    }
   ],
   "source": [
    "int(exp(-x*t)*exp(-a*ln(t)^2)/t, t=0..infinity ) assuming a>0, x>0;"
   ]
  },
  {
   "cell_type": "code",
   "execution_count": 38,
   "id": "528cb257",
   "metadata": {},
   "outputs": [
    {
     "data": {
      "text/latex": [
       "$$-\\frac{x \\,{\\mathrm e}^{-x t} {\\mathrm e}^{-a \\ln \\left(t \\right)^{2}}}{t}-\\frac{2 \\,{\\mathrm e}^{-x t} a \\ln \\left(t \\right) {\\mathrm e}^{-a \\ln \\left(t \\right)^{2}}}{t^{2}}-\\frac{{\\mathrm e}^{-x t} {\\mathrm e}^{-a \\ln \\left(t \\right)^{2}}}{t^{2}}$$"
      ]
     },
     "execution_count": 38,
     "metadata": {},
     "output_type": "execute_result"
    }
   ],
   "source": [
    "eq := diff(exp(-x*t)*exp(-a*ln(t)^2)/t, t);"
   ]
  },
  {
   "cell_type": "code",
   "execution_count": 39,
   "id": "61ecfff0",
   "metadata": {},
   "outputs": [
    {
     "data": {
      "text/latex": [
       "$${\\mathrm e}^{-\\frac{2 W\\left(\\frac{x \\,{\\mathrm e}^{-\\frac{1}{2 a}}}{2 a}\\right) a +1}{2 a}}$$"
      ]
     },
     "execution_count": 39,
     "metadata": {},
     "output_type": "execute_result"
    }
   ],
   "source": [
    "simplify( solve(eq,t) );"
   ]
  },
  {
   "cell_type": "code",
   "execution_count": 40,
   "id": "d1934a9d",
   "metadata": {
    "scrolled": true
   },
   "outputs": [
    {
     "data": {
      "text/latex": [
       "$$\\int_{0}^{{\\mathrm e}^{-1}}\\frac{{\\mathrm e}^{-x t}}{\\ln \\left(t \\right)}d t$$"
      ]
     },
     "execution_count": 40,
     "metadata": {},
     "output_type": "execute_result"
    }
   ],
   "source": [
    "int( exp(-x*t)/ln(t), t=0..exp(-1) ) assuming x>0;"
   ]
  },
  {
   "cell_type": "code",
   "execution_count": 41,
   "id": "bd79a61f",
   "metadata": {},
   "outputs": [
    {
     "data": {
      "text/latex": [
       "$$\\int \\frac{{\\mathrm e}^{-x t}}{\\ln \\left(t \\right)}d t$$"
      ]
     },
     "execution_count": 41,
     "metadata": {},
     "output_type": "execute_result"
    }
   ],
   "source": [
    "int( exp(-x*t)/ln(t), t );"
   ]
  },
  {
   "cell_type": "code",
   "execution_count": 42,
   "id": "1d5c9e73",
   "metadata": {},
   "outputs": [
    {
     "data": {
      "text/latex": [
       "$$-\\frac{1}{x W\\left(-\\frac{1}{x}\\right)}$$"
      ]
     },
     "execution_count": 42,
     "metadata": {},
     "output_type": "execute_result"
    }
   ],
   "source": [
    "hey := solve( diff(exp(-x*t)/ln(t), t ), t );"
   ]
  },
  {
   "cell_type": "code",
   "execution_count": 43,
   "id": "c364b5e0",
   "metadata": {},
   "outputs": [
    {
     "data": {
      "text/latex": [
       "$$$$"
      ]
     },
     "execution_count": 43,
     "metadata": {},
     "output_type": "execute_result"
    }
   ],
   "source": [
    "plot( hey, x=0..4 );"
   ]
  },
  {
   "cell_type": "code",
   "execution_count": 44,
   "id": "1c3df20e",
   "metadata": {},
   "outputs": [
    {
     "data": {
      "text/latex": [
       "$$\\frac{6 \\gamma^{2}+12 \\gamma  \\ln \\left(x \\right)+6 \\ln \\left(x \\right)^{2}+\\pi^{2}}{6 x}$$"
      ]
     },
     "execution_count": 44,
     "metadata": {},
     "output_type": "execute_result"
    }
   ],
   "source": [
    "int( exp(-x*t)*ln(t)^2, t=0..infinity ) assuming x>0;"
   ]
  },
  {
   "cell_type": "code",
   "execution_count": 45,
   "id": "bcb1f366",
   "metadata": {
    "scrolled": true
   },
   "outputs": [
    {
     "data": {
      "text/latex": [
       "$$\\int_{{\\mathrm e}}^{\\infty}\\frac{{\\mathrm e}^{-x t} \\ln \\left(\\ln \\left(t \\right)\\right)}{\\ln \\left(t \\right)}d t$$"
      ]
     },
     "execution_count": 45,
     "metadata": {},
     "output_type": "execute_result"
    }
   ],
   "source": [
    "int( exp(-x*t)*ln(ln(t))/ln(t), t=exp(1)..infinity ) assuming x>0;"
   ]
  },
  {
   "cell_type": "code",
   "execution_count": 46,
   "id": "b864054e",
   "metadata": {},
   "outputs": [
    {
     "data": {
      "text/latex": [
       "$$\\frac{{\\mathrm e}^{-1}}{x^{2}}-\\frac{4 \\,{\\mathrm e}^{-2}}{x^{3}}+\\frac{22 \\,{\\mathrm e}^{-3}}{x^{4}}+O\\left(\\frac{1}{x^{5}}\\right)$$"
      ]
     },
     "execution_count": 46,
     "metadata": {},
     "output_type": "execute_result"
    }
   ],
   "source": [
    "Watson( t->ln(ln(t+exp(1)))/ln(t+exp(1)), x, N=4 );"
   ]
  },
  {
   "cell_type": "code",
   "execution_count": 47,
   "id": "b936415c",
   "metadata": {},
   "outputs": [
    {
     "data": {
      "text/latex": [
       "$$\\int_{0}^{\\infty}\\frac{{\\mathrm e}^{-a \\ln \\left({\\mathrm e}^{\\sqrt{v}}\\right)^{2}}}{2 \\sqrt{v}}d v$$"
      ]
     },
     "execution_count": 47,
     "metadata": {},
     "output_type": "execute_result"
    }
   ],
   "source": [
    "Student[MultivariateCalculus][ChangeOfVariables]( Int( exp(-a*ln(t)^2)/t, t=1..infinity), [t=exp(v^(1/2))]);"
   ]
  },
  {
   "cell_type": "code",
   "execution_count": 48,
   "id": "cd70a140",
   "metadata": {},
   "outputs": [
    {
     "data": {
      "text/latex": [
       "$$\\frac{{\\mathrm e}^{-a v}}{2 \\sqrt{v}}$$"
      ]
     },
     "execution_count": 48,
     "metadata": {},
     "output_type": "execute_result"
    }
   ],
   "source": [
    "F := simplify( 1/2*exp(-a*ln(exp(v^(1/2)))^2)/v^(1/2)) assuming v>0;"
   ]
  },
  {
   "cell_type": "code",
   "execution_count": 49,
   "id": "35bf9d8e",
   "metadata": {},
   "outputs": [
    {
     "data": {
      "text/plain": [
       "                              1/2 Pi    (1/x)"
      ]
     },
     "metadata": {},
     "output_type": "display_data"
    },
    {
     "data": {
      "text/latex": [
       "$$\\frac{\\sqrt{\\pi} \\sqrt{\\frac{1}{x}}}{2}$$"
      ]
     },
     "execution_count": 49,
     "metadata": {},
     "output_type": "execute_result"
    }
   ],
   "source": [
    "Watson( v->1/2/sqrt(v), x, N=5); # Obviously works: it's in original Watson form"
   ]
  },
  {
   "cell_type": "code",
   "execution_count": 50,
   "id": "8fd9515f",
   "metadata": {},
   "outputs": [
    {
     "data": {
      "text/latex": [
       "$$\\frac{\\sqrt{\\frac{\\pi}{a}}}{2}$$"
      ]
     },
     "execution_count": 50,
     "metadata": {},
     "output_type": "execute_result"
    }
   ],
   "source": [
    "int(F,v=0..infinity) assuming a>0;"
   ]
  },
  {
   "cell_type": "code",
   "execution_count": null,
   "id": "eed307ef",
   "metadata": {},
   "outputs": [],
   "source": []
  }
 ],
 "metadata": {
  "kernelspec": {
   "display_name": "Maple 2024",
   "language": "maple",
   "name": "maple"
  },
  "language_info": {
   "file_extension": ".mpl",
   "mimetype": "application/vnd.maple.mpl",
   "name": "maple",
   "version": "2024"
  }
 },
 "nbformat": 4,
 "nbformat_minor": 5
}
