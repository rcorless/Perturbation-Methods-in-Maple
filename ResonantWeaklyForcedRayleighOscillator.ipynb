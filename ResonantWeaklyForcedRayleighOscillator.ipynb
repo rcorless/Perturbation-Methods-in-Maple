{
 "cells": [
  {
   "cell_type": "markdown",
   "id": "26cb0a3b",
   "metadata": {},
   "source": [
    "# Resonant Weakly Forced Rayleigh Oscillator #\n",
    "\n",
    "Support material for the book __Perturbation Methods using Backward Error__ by Robert M. Corless and Nicolas Fillion, in preparation.\n",
    "\n",
    "Copyright (c) 2024 Robert M. Corless\n",
    "\n",
    "Permission is hereby granted, free of charge, to any person obtaining a copy of this software and associated documentation files (the “Software”), to deal in the Software without restriction, including without limitation the rights to use, copy, modify, merge, publish, distribute, sublicense, and/or sell copies of the Software, and to permit persons to whom the Software is furnished to do so, subject to the following conditions:\n",
    "\n",
    "The above copyright notice and this permission notice shall be included in all copies or substantial portions of the Software.\n",
    "\n",
    "THE SOFTWARE IS PROVIDED “AS IS”, WITHOUT WARRANTY OF ANY KIND, EXPRESS OR IMPLIED, INCLUDING BUT NOT LIMITED TO THE WARRANTIES OF MERCHANTABILITY, FITNESS FOR A PARTICULAR PURPOSE AND NONINFRINGEMENT. IN NO EVENT SHALL THE AUTHORS OR COPYRIGHT HOLDERS BE LIABLE FOR ANY CLAIM, DAMAGES OR OTHER LIABILITY, WHETHER IN AN ACTION OF CONTRACT, TORT OR OTHERWISE, ARISING FROM, OUT OF OR IN CONNECTION WITH THE SOFTWARE OR THE USE OR OTHER DEALINGS IN THE SOFTWARE.\n",
    "\n",
    "$\\newcommand{\\e}{\\varepsilon}$"
   ]
  },
  {
   "cell_type": "markdown",
   "id": "a7fb1aad",
   "metadata": {},
   "source": [
    "This notebook explores the __weakly__ forced Rayleigh oscillator\n",
    "\\begin{equation}\n",
    "\\ddot{y} - \\e \\dot{y}\\left( 1 - \\frac{4}{3}\\dot{y}^2 \\right) + y = 2\\e F\\cos(\\Omega t + \\Phi)\n",
    "\\end{equation}\n",
    "for $\\Omega \\approx 1$ by perturbation expansion up to and including the $O(\\e^N)$ terms, so it has a residual $O(\\e^{N+1})$.  An $O(1)$ forcing would get an $O(\\e^{-1/3})$ response near resonance, and the weakly-forced case is more usually studied.\n",
    "\n",
    "We take $N=1$ initially, but define it in the next cell."
   ]
  },
  {
   "cell_type": "code",
   "execution_count": 1,
   "id": "0f016f31",
   "metadata": {},
   "outputs": [
    {
     "data": {
      "text/markdown": [
       "$$1$$"
      ]
     },
     "execution_count": 1,
     "metadata": {},
     "output_type": "execute_result"
    }
   ],
   "source": [
    "N := 1;"
   ]
  },
  {
   "cell_type": "markdown",
   "id": "ede730bb",
   "metadata": {},
   "source": [
    "## Weakly forced resonant case ##"
   ]
  },
  {
   "cell_type": "code",
   "execution_count": 2,
   "id": "19ff9fad",
   "metadata": {
    "scrolled": false
   },
   "outputs": [
    {
     "data": {
      "text/markdown": [
       "$$\\left(\\frac{d^{2}}{d \\tau^{2}}y \\left(\\tau \\right)\\right) \\left(1+\\frac{\\sigma  \\varepsilon}{2}\\right)^{2}-\\varepsilon  \\left(\\frac{d}{d \\tau}y \\left(\\tau \\right)\\right) \\left(1+\\frac{\\sigma  \\varepsilon}{2}\\right) \\left(1-\\frac{4 \\left(\\frac{d}{d \\tau}y \\left(\\tau \\right)\\right)^{2} \\left(1+\\frac{\\sigma  \\varepsilon}{2}\\right)^{2}}{3}\\right)+y \\left(\\tau \\right)-\\varepsilon  F \\,{\\mathrm e}^{\\mathrm{I} \\left(\\tau +\\Phi \\right)}-\\varepsilon  F \\,{\\mathrm e}^{\\mathrm{-I} \\left(\\tau +\\Phi \\right)}$$"
      ]
     },
     "execution_count": 2,
     "metadata": {},
     "output_type": "execute_result"
    }
   ],
   "source": [
    "macro( e=varepsilon ):\n",
    "Omega := 1 + sigma*e/2: # conventional\n",
    "WeaklyNonlineart := diff(y(t), t, t) \n",
    "  - e*diff(y(t), t)*(1 - 4/3*diff(y(t), t)^2) + y(t) \n",
    "  - e*F*exp(I*(tau+Phi)) - e*F*exp(-I*(tau+Phi)) :\n",
    "tmp := PDETools:-dchange( t=tau/Omega, WeaklyNonlineart, [tau]):\n",
    "WeaklyNonlinear := eval(tmp, y(tau,sigma,e)=y(tau));"
   ]
  },
  {
   "cell_type": "code",
   "execution_count": 3,
   "id": "518eb4f1",
   "metadata": {},
   "outputs": [
    {
     "data": {
      "text/plain": [
       "kilobytes used=4984, alloc=13929, time=0.55"
      ]
     },
     "metadata": {},
     "output_type": "display_data"
    },
    {
     "data": {
      "text/markdown": [
       "$$y \\left(\\tau \\right) = c_{1} \\sin \\left(\\tau \\right)+c_{2} \\cos \\left(\\tau \\right)$$"
      ]
     },
     "execution_count": 3,
     "metadata": {},
     "output_type": "execute_result"
    }
   ],
   "source": [
    "sol := dsolve( eval( WeaklyNonlinear, e=0), y(tau) );"
   ]
  },
  {
   "cell_type": "markdown",
   "id": "e1dae2e0",
   "metadata": {},
   "source": [
    "That solution has sines and cosines.  We will work over the complex exponentials first.  Use the variable zs to keep the solution in."
   ]
  },
  {
   "cell_type": "code",
   "execution_count": 4,
   "id": "c8f36c6e",
   "metadata": {},
   "outputs": [
    {
     "data": {
      "text/plain": [
       "         ys[0] := A exp(phi I) exp(tau I) + A exp(-I phi) exp(-I tau)"
      ]
     },
     "metadata": {},
     "output_type": "display_data"
    },
    {
     "data": {
      "text/markdown": [
       "$$A \\,{\\mathrm e}^{\\phi  \\mathrm{I}} {\\mathrm e}^{\\tau  \\mathrm{I}}+A \\,{\\mathrm e}^{\\mathrm{-I} \\phi} {\\mathrm e}^{\\mathrm{-I} \\tau}$$"
      ]
     },
     "execution_count": 4,
     "metadata": {},
     "output_type": "execute_result"
    }
   ],
   "source": [
    "ys := Array(0 .. N): # Placeholder for secular solution terms\n",
    "rs := Array(0 .. N): # Placeholder for residuals\n",
    "ys[0] :=  A*exp(I*phi)*exp(I*tau) + A*exp(-I*phi)*exp(-I*tau) ;\n",
    "zs := ys[0];"
   ]
  },
  {
   "cell_type": "markdown",
   "id": "0b6aa766",
   "metadata": {},
   "source": [
    "We will continue to work with sines and cosines, but to get the secular equation we will convert to exponentials."
   ]
  },
  {
   "cell_type": "code",
   "execution_count": 5,
   "id": "10e63711",
   "metadata": {},
   "outputs": [],
   "source": [
    "# SHOlveTerm --- solve a simple harmonic oscillator, harmonically forced\n",
    "#\n",
    "# Copyright 2024 Robert M. Corless \n",
    "#\n",
    "# dsolve can be inefficient at solving y'' + omega^2*y = sum of simple terms\n",
    "# (probably getting bogged down in type checking or simplification\n",
    "#  or its own heuristics, or perhaps it's just its generality).\n",
    "# This routine attempts to do this simpler task more efficiently,\n",
    "# by giving up on generality.\n",
    "#\n",
    "# Input: expr  : right-hand side: polynomial in sine/cos/exp only\n",
    "#                with coefficients polynomials in var\n",
    "#        var   : variable (usually t)\n",
    "#        omega : natural frequency\n",
    "#\n",
    "# Processing: map over a sum of terms\n",
    "#             match the terms to poly(var)*exp( I*(freq*var + phase) )\n",
    "#                            or  poly(var)*sin( freq*var + phase )\n",
    "#                            or  poly(var)*cos( freq*var + phase )\n",
    "#\n",
    "#          solve the problem y'' + omega^2*y = sum poly(var)* fn( freq*var+phase )\n",
    "#\n",
    "# Output: a particular solution to y'' + omega^2 = ...\n",
    "#         where the rhs is a sum of polynomials in var times sin/cos/exp.\n",
    "#\n",
    "# Comments: dsolve would solve this, but for large expressions might take\n",
    "# a seemingly unreasonable length of time to do so, and may return \n",
    "# unevaluated integrals (because it thinks the answers are too complicated).\n",
    "# However, this simple routine will not succeed for unexpected inputs.\n",
    "# Take your pick.\n",
    "\n",
    "SHOlveTerm := proc( expr, var, omega )\n",
    "\tlocal A, c, fn, freq, la, m, phase, sol, term, zerp;\n",
    "\tdescription \"Solve y''+ omega^2*y=expr\";\n",
    "    if has( expr, sin ) or has( expr, cos ) then\n",
    "      # convert,exp will make cos(A) --> (exp(I*A)+exp(-I*A))/2, etc\n",
    "      # expand will expand (A*exp(B) + C*exp(D))*(E*exp(F)+G*exp(H))\n",
    "      # to A*E*exp(B)*exp(F) + A*G*exp(B)*exp(H) + ... \n",
    "      # combine,exp will make exp(B)*exp(F)-->exp(B+F)\n",
    "      term := combine( expand( convert(expr,exp ) ), exp );\n",
    "    else\n",
    "      term := expr;\n",
    "    end if; \n",
    "\tif type( term, `+` ) then\n",
    "      # Apply this procedure to each term in a sum  \n",
    "\t  return map( procname, term, var, omega );\n",
    "\telse \n",
    "      # Look for A*exp(I*(freq*var+phase))\n",
    "      term := combine( term, exp );\n",
    "      A := eval(term, exp=1);\n",
    "      fn := normal( term/A );\n",
    "      # Each term *should* be A*exp(B).  Should be.\n",
    "      if normal( expr-A*fn ) <> 0 then\n",
    "        error \"Unexpected term type\", term;\n",
    "      end if;\n",
    "      # Identify frequency and phase\n",
    "      if match( fn=exp(I*(freq*var+phase)), var, 'la' ) then\n",
    "        if eval(freq,la)^2 = omega^2 then\n",
    "          # resonant case\n",
    "          m := degree(A, var) + 1; # A must be polynomial\n",
    "        else\n",
    "          m := degree(A, var);\n",
    "        end if;\n",
    "        P := add( c[k]*var^k, k=0..m );\n",
    "        # y = P(var)*exp(I*(freq*var+phase))\n",
    "        # for P(var) a polynomial to be found.\n",
    "        zerp := eval( omega^2*P + diff(P,var,var) + 2*I*freq*diff(P,var) - freq^2*P - A, la);\n",
    "        sol := solve( {seq( coeff(zerp,var,k), k=0..m)}, {seq(c[k],k=0..m)} );\n",
    "        # triangular system, guaranteed to have a solution\n",
    "        # Throw away the redundant terms c[0]*exp(I*(freq*var+phase))\n",
    "        return eval( eval( eval(P,sol), c[0]=0)*exp(I*(freq*var+phase)), la );\n",
    "      else\n",
    "        error \"Unexpected term type, after match\", term, A, fn;\n",
    "      end if;\n",
    "    end if;\n",
    "end proc:"
   ]
  },
  {
   "cell_type": "code",
   "execution_count": 6,
   "id": "b3e85d2f",
   "metadata": {},
   "outputs": [],
   "source": [
    "loop_start := time():\n",
    "times := Array(1 .. N):\n",
    "for k to N do\n",
    "    residuals[k - 1] := combine(expand(\n",
    "                          coeff(eval(WeaklyNonlinear, y(tau) = zs), e, k)),\n",
    "                          exp);\n",
    "    newans := SHOlveTerm( residuals[k-1], tau, 1 );\n",
    "    ys[k] := -newans;\n",
    "    zs := zs + ys[k]*e^k;\n",
    "    times[k] := time();\n",
    "end do:"
   ]
  },
  {
   "cell_type": "code",
   "execution_count": 7,
   "id": "b66af270",
   "metadata": {},
   "outputs": [
    {
     "data": {
      "text/plain": [
       "                                                       exp(tau I) exp(Phi I)"
      ]
     },
     "metadata": {},
     "output_type": "display_data"
    }
   ],
   "source": [
    "resonant := 0; # Collect all terms of the form P(t)*exp(I*t).\n",
    "ze := expand( combine( expand(zs), exp ) ):\n",
    "trms := [op(ze)];\n",
    "for k to numelems( trms ) do\n",
    "  trm := combine( trms[k], exp );\n",
    "  conpart := eval(trm,exp=1); # trm = A*exp(B) we hope\n",
    "  expart := normal( trm/conpart );\n",
    "  if match( combine(expart,exp)=exp(I*tau + phase), tau, 'la') then\n",
    "    resonant := resonant + conpart*eval(exp(phase),la);\n",
    "  end if;\n",
    "end do:"
   ]
  },
  {
   "cell_type": "code",
   "execution_count": 8,
   "id": "7ef50063",
   "metadata": {
    "scrolled": true
   },
   "outputs": [],
   "source": [
    "yA := resonant/(A*exp(I*phi)):"
   ]
  },
  {
   "cell_type": "code",
   "execution_count": 9,
   "id": "1451cf3e",
   "metadata": {},
   "outputs": [
    {
     "data": {
      "text/markdown": [
       "$$0<R,0<F,0<\\varepsilon,\\phi ::\\mathit{real},\\Phi ::\\mathit{real},0<\\tau,0<A,\\sigma ::\\mathit{real}$$"
      ]
     },
     "execution_count": 9,
     "metadata": {},
     "output_type": "execute_result"
    }
   ],
   "source": [
    "assumption_list := R>0, F>0, e>0, phi::real, Phi::real, tau>0, A>0, sigma::real;"
   ]
  },
  {
   "cell_type": "code",
   "execution_count": 10,
   "id": "ebe59a29",
   "metadata": {},
   "outputs": [
    {
     "data": {
      "text/markdown": [
       "$$\\frac{\\varepsilon  \\left(-\\sin \\left(\\phi \\right) F \\cos \\left(\\Phi \\right)-4 A^{3}+\\cos \\left(\\phi \\right) F \\sin \\left(\\Phi \\right)+A \\right)}{2 A}$$"
      ]
     },
     "execution_count": 10,
     "metadata": {},
     "output_type": "execute_result"
    }
   ],
   "source": [
    "rhsR := simplify( Re( convert(series( diff(yA,tau)/yA,e,N+1),polynom) ) ) \n",
    "        assuming assumption_list;"
   ]
  },
  {
   "cell_type": "markdown",
   "id": "89114355",
   "metadata": {},
   "source": [
    "We know $A=R + O(\\e)$ but we need to know more, if we work with $N > 1$."
   ]
  },
  {
   "cell_type": "code",
   "execution_count": 11,
   "id": "fd978857",
   "metadata": {},
   "outputs": [
    {
     "data": {
      "text/markdown": [
       "$$-\\frac{K_{1}}{8} \\varepsilon^{2}+K_{2} \\varepsilon^{3}$$"
      ]
     },
     "execution_count": 11,
     "metadata": {},
     "output_type": "execute_result"
    }
   ],
   "source": [
    "yA := collect(yA, e, m -> Re(m) + Im(m)*I) assuming assumption_list:\n",
    "yA := combine(yA, trig):\n",
    "#Now we will need to invert R = A*yA and the best way is by a real equation.  R is real and A > 0 by our choice of phi.\n",
    "rhosq := series(evalc(Re(yA)^2 + Im(yA)^2), e, N + 1):\n",
    "rhosq := map(simplify, rhosq):\n",
    "rhosq := convert(rhosq, polynom):\n",
    "#Our equation to solve for A in terms of R and e is\n",
    "freqn := -A^2*rhosq + R^2:\n",
    "#We will solve this perturbatively for A = g(R,e).  We need the derivative, for our regular perturbation method.\n",
    "eval(diff(freqn, R), e = 0):\n",
    "#So our inverse operator is 1/2R.  Now check that our initial approximation A=R is accurate enough:\n",
    "series(leadterm(eval(freqn, A = R)), e):\n",
    "#So A = R is a solution to Order epsilon\n",
    "#Let's use the array \"Eh\" to represent our terms in the A expansion.\n",
    "Eh := Array(0 .. N):\n",
    "#We have to put the residuals somewhere:\n",
    "residEh := Array(0 .. N):\n",
    "#Our initial approximation:\n",
    "Eh[0] := R:\n",
    "#Our running solution is initially the same as A[0] (I mean, Eh[0]).\n",
    "Ehz := Eh[0]:\n",
    "#Regular perturbation solution of the freqn\n",
    "for k to N do\n",
    "    residEh[k - 1] := coeff(map(simplify, series(eval(freqn, A = Ehz), e, k + 2)), e, k);\n",
    "    Eh[k] := residEh[k - 1]*e^k/(2*R);\n",
    "    Ehz := Ehz + Eh[k];\n",
    "end do:\n",
    "# Check the final residual\n",
    "tmp := map( combine, \n",
    "      map(simplify, series(eval(freqn, A = Ehz), e, N+2)),\n",
    "       trig\n",
    "     ):\n",
    "residEh[N] := map(LargeExpressions:-Veil[K], tmp );"
   ]
  },
  {
   "cell_type": "code",
   "execution_count": 12,
   "id": "578a9aff",
   "metadata": {
    "scrolled": true
   },
   "outputs": [
    {
     "data": {
      "text/markdown": [
       "$$\\frac{\\left(-\\sin \\left(\\phi \\right) F \\cos \\left(\\Phi \\right)-4 R^{3}+\\cos \\left(\\phi \\right) F \\sin \\left(\\Phi \\right)+R \\right) \\varepsilon}{2 R}$$"
      ]
     },
     "execution_count": 12,
     "metadata": {},
     "output_type": "execute_result"
    }
   ],
   "source": [
    "rhsR := convert( series( eval(rhsR,A=Ehz), e, N+1), polynom );"
   ]
  },
  {
   "cell_type": "code",
   "execution_count": 13,
   "id": "1b31ea68",
   "metadata": {},
   "outputs": [
    {
     "data": {
      "text/markdown": [
       "$$\\frac{\\sin \\left(-\\phi +\\Phi \\right) \\varepsilon  F}{2 R}-2 \\varepsilon  \\,R^{2}+\\frac{\\varepsilon}{2}$$"
      ]
     },
     "execution_count": 13,
     "metadata": {},
     "output_type": "execute_result"
    }
   ],
   "source": [
    "rhsR := collect( rhsR, [e,F,R], distributed, m->combine(m,trig) ); "
   ]
  },
  {
   "cell_type": "code",
   "execution_count": 14,
   "id": "97909bb6",
   "metadata": {},
   "outputs": [
    {
     "data": {
      "text/markdown": [
       "$$0$$"
      ]
     },
     "execution_count": 14,
     "metadata": {},
     "output_type": "execute_result"
    }
   ],
   "source": [
    "rhsR := eval( rhsR, tau=0 ): # Remove secularity here\n",
    "coeff(rhsR,e,0);"
   ]
  },
  {
   "cell_type": "code",
   "execution_count": 15,
   "id": "f855b1ae",
   "metadata": {},
   "outputs": [
    {
     "data": {
      "text/markdown": [
       "$$R \\left(\\frac{\\sin \\left(-\\phi +\\Phi \\right) \\varepsilon  F}{2 R}-2 \\varepsilon  \\,R^{2}+\\frac{\\varepsilon}{2}\\right)$$"
      ]
     },
     "execution_count": 15,
     "metadata": {},
     "output_type": "execute_result"
    }
   ],
   "source": [
    "slowRderiv := R*convert( rhsR, polynom );"
   ]
  },
  {
   "cell_type": "code",
   "execution_count": 16,
   "id": "b698528d",
   "metadata": {
    "scrolled": true
   },
   "outputs": [
    {
     "data": {
      "text/plain": [
       "proc (expr, var) R(expr)*(1/2*sin(-theta(expr)+Phi)/R(expr)*varepsilon*F-2*varepsilon*R(expr)^2+1/2*varepsilon)*diff(expr,var) end proc"
      ]
     },
     "execution_count": 16,
     "metadata": {},
     "output_type": "execute_result"
    }
   ],
   "source": [
    "`diff/R` := codegen[makeproc](eval(slowRderiv*'diff'('expr', 'var'), \n",
    "  [R = R(expr), phi = theta(expr),tau=expr]), parameters = [expr, var]);"
   ]
  },
  {
   "cell_type": "code",
   "execution_count": 17,
   "id": "ba312804",
   "metadata": {
    "scrolled": true
   },
   "outputs": [
    {
     "data": {
      "text/markdown": [
       "$$R \\left(\\tau \\right) \\left(\\frac{\\sin \\left(-\\theta \\left(\\tau \\right)+\\Phi \\right) \\varepsilon  F}{2 R \\left(\\tau \\right)}-2 \\varepsilon  R \\left(\\tau \\right)^{2}+\\frac{\\varepsilon}{2}\\right)$$"
      ]
     },
     "execution_count": 17,
     "metadata": {},
     "output_type": "execute_result"
    }
   ],
   "source": [
    "diff(R(tau),tau);"
   ]
  },
  {
   "cell_type": "code",
   "execution_count": 18,
   "id": "ea88eccb",
   "metadata": {
    "scrolled": true
   },
   "outputs": [
    {
     "data": {
      "text/markdown": [
       "$$\\frac{\\varepsilon  \\left(-F \\cos \\left(-\\phi +\\Phi \\right)-\\sigma  R \\right)}{2 R}$$"
      ]
     },
     "execution_count": 18,
     "metadata": {},
     "output_type": "execute_result"
    }
   ],
   "source": [
    "rhstheta := Im( \n",
    "             convert( \n",
    "               simplify( series( eval( diff(yA,tau)/yA, A=Ehz ),e,N+1))\n",
    "               ,polynom)\n",
    "            ) assuming assumption_list;"
   ]
  },
  {
   "cell_type": "code",
   "execution_count": 19,
   "id": "fdd1d46b",
   "metadata": {
    "scrolled": true
   },
   "outputs": [
    {
     "data": {
      "text/markdown": [
       "$$0$$"
      ]
     },
     "execution_count": 19,
     "metadata": {},
     "output_type": "execute_result"
    }
   ],
   "source": [
    "rhstheta := eval(combine(rhstheta,trig),tau=0): # Again, remove secularity \n",
    "coeff(rhstheta,e,0);"
   ]
  },
  {
   "cell_type": "code",
   "execution_count": 20,
   "id": "2989b662",
   "metadata": {},
   "outputs": [
    {
     "data": {
      "text/plain": [
       "proc (expr, var) -1/2*varepsilon*(F*cos(-theta(expr)+Phi)+sigma*R(expr))/R(expr)*diff(expr,var) end proc"
      ]
     },
     "execution_count": 20,
     "metadata": {},
     "output_type": "execute_result"
    }
   ],
   "source": [
    "`diff/theta` := codegen[makeproc](eval(rhstheta*'diff'('expr', 'var'), \n",
    "  [R = R(expr), phi = theta(expr), tau=expr]), parameters = [expr, var]);"
   ]
  },
  {
   "cell_type": "code",
   "execution_count": 21,
   "id": "8b42df8c",
   "metadata": {
    "scrolled": true
   },
   "outputs": [
    {
     "data": {
      "text/markdown": [
       "$$-\\frac{\\varepsilon  \\left(F \\cos \\left(-\\theta \\left(\\tau \\right)+\\Phi \\right)+\\sigma  R \\left(\\tau \\right)\\right)}{2 R \\left(\\tau \\right)}$$"
      ]
     },
     "execution_count": 21,
     "metadata": {},
     "output_type": "execute_result"
    }
   ],
   "source": [
    "diff(theta(tau),tau);"
   ]
  },
  {
   "cell_type": "markdown",
   "id": "cf1c9474",
   "metadata": {},
   "source": [
    "Now we re-do the computation (we should have checked the residual up there to see if it was $O(\\e^2)$, but we will do it once we have recomputed)."
   ]
  },
  {
   "cell_type": "code",
   "execution_count": 22,
   "id": "43d64b6e",
   "metadata": {
    "scrolled": true
   },
   "outputs": [
    {
     "data": {
      "text/plain": [
       "                          rr := Array(0 .. 1, [0, 0])"
      ]
     },
     "metadata": {},
     "output_type": "display_data"
    },
    {
     "data": {
      "text/markdown": [
       "$$2 R \\left(\\tau \\right) \\cos \\left(\\theta \\left(\\tau \\right)+\\tau \\right)$$"
      ]
     },
     "execution_count": 22,
     "metadata": {},
     "output_type": "execute_result"
    }
   ],
   "source": [
    "yr := Array(0..N);\n",
    "rr := Array(0..N);\n",
    "# Start with the right initial approximation\n",
    "yr[0] := collect( combine( convert( eval( ys[0], \n",
    "  [A=R(tau), phi=theta(tau)]), trig ), trig ), [R(tau),F], normal ) \n",
    "  assuming assumption_list;"
   ]
  },
  {
   "cell_type": "markdown",
   "id": "8ef0ad2f",
   "metadata": {},
   "source": [
    "To solve the first-order correction, we have to hide the dependence of R and theta on t from dsolve.  Because their derivatives are $O(\\e)$, they are constant for the purpose of perturbative correction."
   ]
  },
  {
   "cell_type": "code",
   "execution_count": 23,
   "id": "5c65d23c",
   "metadata": {
    "scrolled": true
   },
   "outputs": [
    {
     "data": {
      "text/plain": [
       "                     zr := 2 R(tau) cos(theta(tau) + tau)"
      ]
     },
     "metadata": {},
     "output_type": "display_data"
    }
   ],
   "source": [
    "loop_start := time():\n",
    "timesr := Array(1 .. N):\n",
    "zr := yr[0];\n",
    "for k to N do\n",
    "    res := series( eval(WeaklyNonlinear, y(tau) = zr), e, k+1 );\n",
    "    rr[k - 1] := combine(expand(\n",
    "                          coeff( res, e, k)),\n",
    "                          exp);\n",
    "    tmp := eval(rr[k-1], [R(tau)=RR,theta(tau)=THETA]);\n",
    "    newans := SHOlveTerm( tmp, tau, 1 );\n",
    "    newans := eval( newans, [RR=R(tau), THETA=theta(tau)]);\n",
    "    yr[k] := -newans;\n",
    "    zr := zr + yr[k]*e^k;\n",
    "    timesr[k] := time();\n",
    "end do:"
   ]
  },
  {
   "cell_type": "markdown",
   "id": "39dcff7f",
   "metadata": {},
   "source": [
    "Some combination of simplification commands cleans up the answer to be intelligible."
   ]
  },
  {
   "cell_type": "code",
   "execution_count": 24,
   "id": "51a34b99",
   "metadata": {
    "scrolled": true
   },
   "outputs": [
    {
     "data": {
      "text/markdown": [
       "$$2 R \\left(\\tau \\right) \\cos \\left(\\theta \\left(\\tau \\right)+\\tau \\right)+\\frac{R \\left(\\tau \\right)^{3} \\sin \\left(3 \\theta \\left(\\tau \\right)+3 \\tau \\right) \\varepsilon}{3}$$"
      ]
     },
     "execution_count": 24,
     "metadata": {},
     "output_type": "execute_result"
    }
   ],
   "source": [
    "ztrig := collect( combine(convert(zr,trig),trig), \n",
    "  [sin,cos], m->collect(m,[R(tau),F], factor));"
   ]
  },
  {
   "cell_type": "markdown",
   "id": "ce46c134",
   "metadata": {},
   "source": [
    "The fact that _this_ final residual is $O(\\e^{N+1})$ proves that we have found a solution to the correct order."
   ]
  },
  {
   "cell_type": "code",
   "execution_count": 25,
   "id": "4eb53c38",
   "metadata": {
    "scrolled": true
   },
   "outputs": [
    {
     "data": {
      "text/plain": [
       "kilobytes used=14550, alloc=18537, time=1.41"
      ]
     },
     "metadata": {},
     "output_type": "display_data"
    },
    {
     "data": {
      "text/markdown": [
       "$$\\frac{K_{3}}{2} \\varepsilon^{2}+K_{2} \\varepsilon^{3}$$"
      ]
     },
     "execution_count": 25,
     "metadata": {},
     "output_type": "execute_result"
    }
   ],
   "source": [
    "fullresidual := eval(convert( WeaklyNonlinear, trig),y(tau)=ztrig):\n",
    "map(LargeExpressions:-Veil[K], map(simplify, series(fullresidual, e, N+2)));"
   ]
  },
  {
   "cell_type": "code",
   "execution_count": 26,
   "id": "d8a3fe32",
   "metadata": {},
   "outputs": [
    {
     "data": {
      "text/markdown": [
       "$$\\left(-4 \\cos \\left(5 \\theta \\left(\\tau \\right)+5 \\tau \\right)+4 \\cos \\left(\\theta \\left(\\tau \\right)+\\tau \\right)+12 \\cos \\left(3 \\theta \\left(\\tau \\right)+3 \\tau \\right)\\right) R \\left(\\tau \\right)^{5}+\\left(4 \\sin \\left(\\theta \\left(\\tau \\right)+\\tau \\right) \\sigma -2 \\cos \\left(3 \\theta \\left(\\tau \\right)+3 \\tau \\right)\\right) R \\left(\\tau \\right)^{3}+\\left(4 \\sin \\left(\\tau +\\Phi \\right)-\\sin \\left(2 \\theta \\left(\\tau \\right)+3 \\tau +\\Phi \\right)-6 \\sin \\left(-2 \\theta \\left(\\tau \\right)+\\Phi -\\tau \\right)\\right) F R \\left(\\tau \\right)^{2}+\\left(-\\sin \\left(\\theta \\left(\\tau \\right)+\\tau \\right) \\sigma +\\left(\\sigma^{2}-\\frac{1}{2}\\right) \\cos \\left(\\theta \\left(\\tau \\right)+\\tau \\right)\\right) R \\left(\\tau \\right)+\\left(-\\frac{\\sin \\left(\\tau +\\Phi \\right)}{2}+\\frac{3 \\sigma  \\cos \\left(\\tau +\\Phi \\right)}{2}\\right) F$$"
      ]
     },
     "execution_count": 26,
     "metadata": {},
     "output_type": "execute_result"
    }
   ],
   "source": [
    "collect( combine(\n",
    "   coeff( series( fullresidual, e, N+2), e, N+1 ),\n",
    "                 trig ),\n",
    "   [R(tau),F,sin,cos], factor );"
   ]
  },
  {
   "cell_type": "markdown",
   "id": "b3ddabab",
   "metadata": {},
   "source": [
    "Good: no secular terms visible.  We should check that the _full_ residual contains no secular terms, as well:"
   ]
  },
  {
   "cell_type": "code",
   "execution_count": 27,
   "id": "f26285a6",
   "metadata": {},
   "outputs": [],
   "source": [
    "hidefns := eval( fullresidual, [sin=(m->SS),cos=(m->CC), R(tau)=RRR] ):"
   ]
  },
  {
   "cell_type": "code",
   "execution_count": 28,
   "id": "8d34c64a",
   "metadata": {
    "scrolled": true
   },
   "outputs": [
    {
     "data": {
      "text/markdown": [
       "$$[]$$"
      ]
     },
     "execution_count": 28,
     "metadata": {},
     "output_type": "execute_result"
    }
   ],
   "source": [
    "select( m->has(m,tau), [op(hidefns)]);"
   ]
  },
  {
   "cell_type": "markdown",
   "id": "51bcbece",
   "metadata": {},
   "source": [
    "No secular terms remain, at all."
   ]
  },
  {
   "cell_type": "code",
   "execution_count": 29,
   "id": "6f3472c9",
   "metadata": {},
   "outputs": [
    {
     "data": {
      "text/plain": [
       "                                   Phi := 0"
      ]
     },
     "metadata": {},
     "output_type": "display_data"
    }
   ],
   "source": [
    "Phi := 0; forget(diff);"
   ]
  },
  {
   "cell_type": "code",
   "execution_count": 30,
   "id": "ee9b679a",
   "metadata": {},
   "outputs": [
    {
     "data": {
      "text/markdown": [
       "$$\\cos \\left(\\theta \\left(\\tau \\right)\\right) = -\\frac{\\sigma  R \\left(\\tau \\right)}{F}$$"
      ]
     },
     "execution_count": 30,
     "metadata": {},
     "output_type": "execute_result"
    }
   ],
   "source": [
    "costheta := map( expand, isolate( expand( diff(theta(tau),tau)/e), cos(theta(tau)) ) ) ;"
   ]
  },
  {
   "cell_type": "code",
   "execution_count": 31,
   "id": "7988ca01",
   "metadata": {},
   "outputs": [
    {
     "data": {
      "text/markdown": [
       "$$\\sin \\left(\\theta \\left(\\tau \\right)\\right) = -\\frac{4 R \\left(\\tau \\right)^{3}}{F}+\\frac{R \\left(\\tau \\right)}{F}$$"
      ]
     },
     "execution_count": 31,
     "metadata": {},
     "output_type": "execute_result"
    }
   ],
   "source": [
    "sintheta := map( expand, isolate( expand( diff(R(tau),tau)/e), sin(theta(tau)) ) ) ;"
   ]
  },
  {
   "cell_type": "code",
   "execution_count": 32,
   "id": "997c27dc",
   "metadata": {},
   "outputs": [
    {
     "data": {
      "text/markdown": [
       "$$16 R \\left(\\tau \\right)^{6}-8 R \\left(\\tau \\right)^{4}+R \\left(\\tau \\right)^{2} \\sigma^{2}-F^{2}+R \\left(\\tau \\right)^{2}$$"
      ]
     },
     "execution_count": 32,
     "metadata": {},
     "output_type": "execute_result"
    }
   ],
   "source": [
    "steadyR := numer( rhs(costheta)^2 + rhs(sintheta)^2 - 1);"
   ]
  },
  {
   "cell_type": "code",
   "execution_count": 33,
   "id": "dcb258f6",
   "metadata": {},
   "outputs": [
    {
     "data": {
      "text/markdown": [
       "$$-16 R^{4}+8 R^{2}+\\frac{F^{2}}{R^{2}}-1$$"
      ]
     },
     "execution_count": 33,
     "metadata": {},
     "output_type": "execute_result"
    }
   ],
   "source": [
    "SigmaSquared := eval( expand( rhs( isolate(steadyR, sigma^2)) ), R(tau)=R);"
   ]
  },
  {
   "cell_type": "code",
   "execution_count": 34,
   "id": "0d81ea51",
   "metadata": {},
   "outputs": [
    {
     "data": {
      "text/markdown": [
       "$$\\left[\\left[F = -\\frac{\\mathit{RootOf}\\left(3 \\textit{\\_Z}^{2}-1\\right)}{3}, R = \\frac{\\mathit{RootOf}\\left(3 \\textit{\\_Z}^{2}-1\\right)}{2}\\right], \\left[F = 0, R = -{\\frac{1}{2}}\\right], \\left[F = 0, R = {\\frac{1}{2}}\\right], \\left[F = \\frac{\\mathit{RootOf}\\left(3 \\textit{\\_Z}^{2}-1\\right)}{3}, R = \\frac{\\mathit{RootOf}\\left(3 \\textit{\\_Z}^{2}-1\\right)}{2}\\right]\\right]$$"
      ]
     },
     "execution_count": 34,
     "metadata": {},
     "output_type": "execute_result"
    }
   ],
   "source": [
    "solve( [SigmaSquared, diff(SigmaSquared,R)], [F,R] );"
   ]
  },
  {
   "cell_type": "code",
   "execution_count": 35,
   "id": "80f7267d",
   "metadata": {},
   "outputs": [
    {
     "data": {
      "text/markdown": [
       "$$R^{2} \\sigma^{2}+\\frac{\\left(3 R^{2}-1\\right) \\left(12 R^{2}-1\\right)^{2}}{27}$$"
      ]
     },
     "execution_count": 35,
     "metadata": {},
     "output_type": "execute_result"
    }
   ],
   "source": [
    "collect( eval( steadyR, [R(tau)=R,F=1/sqrt(3)/3]), sigma, factor );"
   ]
  },
  {
   "cell_type": "code",
   "execution_count": 36,
   "id": "e331b1c5",
   "metadata": {},
   "outputs": [
    {
     "data": {
      "text/markdown": [
       "$$16 R^{6}-8 R^{4}+R^{2} \\sigma^{2}-F^{2}+R^{2}$$"
      ]
     },
     "execution_count": 36,
     "metadata": {},
     "output_type": "execute_result"
    }
   ],
   "source": [
    "steadyR := eval(steadyR, R(tau)=R);"
   ]
  },
  {
   "cell_type": "code",
   "execution_count": 37,
   "id": "7b1b9e2e",
   "metadata": {
    "scrolled": true
   },
   "outputs": [
    {
     "data": {
      "text/plain": [
       "kilobytes used=49787, alloc=22776, time=4.84"
      ]
     },
     "metadata": {},
     "output_type": "display_data"
    },
    {
     "data": {
      "image/png": "[encoded data removed]"
     },
     "execution_count": 37,
     "metadata": {},
     "output_type": "execute_result"
    }
   ],
   "source": [
    "algcurves:-plot_real_curve( eval(numer(steadyR), F=1/3/sqrt(3)), sigma, R );"
   ]
  },
  {
   "cell_type": "code",
   "execution_count": 38,
   "id": "0dd2706b",
   "metadata": {},
   "outputs": [
    {
     "data": {
      "text/markdown": [
       "$$R^{2} \\left(16 R^{4}-8 R^{2}+\\sigma^{2}+1\\right)$$"
      ]
     },
     "execution_count": 38,
     "metadata": {},
     "output_type": "execute_result"
    }
   ],
   "source": [
    "factor( eval(steadyR, F=0));"
   ]
  },
  {
   "cell_type": "code",
   "execution_count": 39,
   "id": "f6b9ffea",
   "metadata": {},
   "outputs": [
    {
     "data": {
      "text/markdown": [
       "$$-\\frac{\\left(4 R^{3}-R +10\\right) \\left(4 R^{3}-R -10\\right)}{R^{2}}$$"
      ]
     },
     "execution_count": 39,
     "metadata": {},
     "output_type": "execute_result"
    }
   ],
   "source": [
    "factor(eval(SigmaSquared, F=10));"
   ]
  },
  {
   "cell_type": "code",
   "execution_count": 40,
   "id": "ede880d2",
   "metadata": {},
   "outputs": [
    {
     "data": {
      "text/markdown": [
       "$$\\left[\\begin{array}{c}\n",
       "-\\frac{\\sin \\left(\\theta \\right) F}{2}-2 R^{3}+\\frac{R}{2} \n",
       "\\\\\n",
       " -\\frac{F \\cos \\left(\\theta \\right)}{2 R}-\\frac{\\sigma}{2} \n",
       "\\end{array}\\right]$$"
      ]
     },
     "execution_count": 40,
     "metadata": {},
     "output_type": "execute_result"
    }
   ],
   "source": [
    "FF := eval(\n",
    "  Vector(2, [expand(diff(R(tau),tau)/e), expand(diff(theta(tau),tau)/e)]),\n",
    "  [R(tau)=R,theta(tau)=theta]\n",
    "          );"
   ]
  },
  {
   "cell_type": "code",
   "execution_count": 41,
   "id": "93c70289",
   "metadata": {},
   "outputs": [
    {
     "data": {
      "text/markdown": [
       "$$\\left[\\begin{array}{cc}\n",
       "-6 R^{2}+\\frac{1}{2} & -\\frac{F \\cos \\left(\\theta \\right)}{2} \n",
       "\\\\\n",
       " \\frac{F \\cos \\left(\\theta \\right)}{2 R^{2}} & \\frac{F \\sin \\left(\\theta \\right)}{2 R} \n",
       "\\end{array}\\right]$$"
      ]
     },
     "execution_count": 41,
     "metadata": {},
     "output_type": "execute_result"
    }
   ],
   "source": [
    "J := VectorCalculus:-Jacobian( FF, [R, theta]);"
   ]
  },
  {
   "cell_type": "code",
   "execution_count": 42,
   "id": "28621789",
   "metadata": {},
   "outputs": [
    {
     "data": {
      "text/markdown": [
       "$$\\left[\\begin{array}{cc}\n",
       "-6 R^{2}+\\frac{1}{2} & \\frac{\\sigma  R}{2} \n",
       "\\\\\n",
       " -\\frac{\\sigma}{2 R} & \\frac{F \\left(-\\frac{4 R^{3}}{F}+\\frac{R}{F}\\right)}{2 R} \n",
       "\\end{array}\\right]$$"
      ]
     },
     "execution_count": 42,
     "metadata": {},
     "output_type": "execute_result"
    }
   ],
   "source": [
    "J := eval( J, [sin(theta)=eval(rhs(sintheta),[R(tau)=R]), \n",
    "               cos(theta)=eval(rhs(costheta),[R(tau)=R])]);"
   ]
  },
  {
   "cell_type": "code",
   "execution_count": 43,
   "id": "e5593ec8",
   "metadata": {
    "scrolled": true
   },
   "outputs": [
    {
     "data": {
      "text/markdown": [
       "$$\\left[\\begin{array}{cc}\n",
       "-6 R^{2}+\\frac{1}{2} & \\frac{\\sigma  R}{2} \n",
       "\\\\\n",
       " -\\frac{\\sigma}{2 R} & -2 R^{2}+\\frac{1}{2} \n",
       "\\end{array}\\right]$$"
      ]
     },
     "execution_count": 43,
     "metadata": {},
     "output_type": "execute_result"
    }
   ],
   "source": [
    "J := map(expand,J);"
   ]
  },
  {
   "cell_type": "code",
   "execution_count": 44,
   "id": "ea7d5081",
   "metadata": {},
   "outputs": [
    {
     "data": {
      "text/plain": [
       "Matrix(2,2,{(1, 1) = -6*R^2+1/2, (1, 2) = 1/2*sigma*R, (2, 1) = -1/2/R*sigma, (2, 2) = -2*R^2+1/2},datatype = anything,storage = rectangular,order = Fortran_order,shape = [])"
      ]
     },
     "metadata": {},
     "output_type": "display_data"
    }
   ],
   "source": [
    "lprint(J); # latex of matrices doesn't work in this version of Jupyter"
   ]
  },
  {
   "cell_type": "code",
   "execution_count": 45,
   "id": "10a652d0",
   "metadata": {},
   "outputs": [
    {
     "data": {
      "text/markdown": [
       "$$-8 R^{2}+1$$"
      ]
     },
     "execution_count": 45,
     "metadata": {},
     "output_type": "execute_result"
    }
   ],
   "source": [
    "tr := LinearAlgebra:-Trace(J);"
   ]
  },
  {
   "cell_type": "code",
   "execution_count": 46,
   "id": "43830804",
   "metadata": {
    "scrolled": true
   },
   "outputs": [
    {
     "data": {
      "text/markdown": [
       "$$12 R^{4}-4 R^{2}+\\frac{1}{4}+\\frac{1}{4} \\sigma^{2}$$"
      ]
     },
     "execution_count": 46,
     "metadata": {},
     "output_type": "execute_result"
    }
   ],
   "source": [
    "dt := LinearAlgebra:-Determinant(J);"
   ]
  },
  {
   "cell_type": "code",
   "execution_count": 47,
   "id": "79b6c5f9",
   "metadata": {},
   "outputs": [
    {
     "data": {
      "text/markdown": [
       "$$12 \\left(\\mathit{RR} -\\frac{1}{6}\\right)^{2}-\\frac{1}{12}+\\frac{\\sigma^{2}}{4}$$"
      ]
     },
     "execution_count": 47,
     "metadata": {},
     "output_type": "execute_result"
    }
   ],
   "source": [
    "student[completesquare]( eval(dt, R=sqrt(RR)), RR);"
   ]
  },
  {
   "cell_type": "code",
   "execution_count": 48,
   "id": "0eef5d46",
   "metadata": {},
   "outputs": [
    {
     "data": {
      "image/png": "[encoded data removed]"
     },
     "execution_count": 48,
     "metadata": {},
     "output_type": "execute_result"
    }
   ],
   "source": [
    "dtplot := plots[implicitplot]( dt, sigma=-1..1, R=0..1, view=[-1..1, 0..0.5], \n",
    "color=\"Executive Red\", labels=[sigma,R], symbol=point);"
   ]
  },
  {
   "cell_type": "code",
   "execution_count": 49,
   "id": "534d31e8",
   "metadata": {},
   "outputs": [
    {
     "data": {
      "text/markdown": [
       "$$- 0.0828000000$$"
      ]
     },
     "execution_count": 49,
     "metadata": {},
     "output_type": "execute_result"
    }
   ],
   "source": [
    "eval(dt, [R=0.4, sigma=0]);"
   ]
  },
  {
   "cell_type": "code",
   "execution_count": 50,
   "id": "da1f9eab",
   "metadata": {},
   "outputs": [
    {
     "data": {
      "image/png": "[encoded data removed]"
     },
     "execution_count": 50,
     "metadata": {},
     "output_type": "execute_result"
    }
   ],
   "source": [
    "trplot := plot( 1/sqrt(8), sigma=-1..1, colour=\"Executive Blue\",\n",
    "               labels=[sigma,R], view=[-1..1,0..0.5]);"
   ]
  },
  {
   "cell_type": "code",
   "execution_count": 51,
   "id": "70796bae",
   "metadata": {},
   "outputs": [
    {
     "data": {
      "text/markdown": [
       "$$ 0.1924500898$$"
      ]
     },
     "execution_count": 51,
     "metadata": {},
     "output_type": "execute_result"
    }
   ],
   "source": [
    "evalf(1/3/sqrt(3));"
   ]
  },
  {
   "cell_type": "code",
   "execution_count": 52,
   "id": "d79557ba",
   "metadata": {},
   "outputs": [
    {
     "data": {
      "text/markdown": [
       "$$\\left[\\frac{\\sqrt{3}}{36}, \\frac{\\sqrt{3}}{18}, \\frac{\\sqrt{3}}{12}, \\frac{\\sqrt{3}}{9}, {\\frac{3}{10}}, {\\frac{2}{5}}, {\\frac{3}{5}}, {\\frac{4}{5}}, 1, {\\frac{3}{2}}, 2\\right]$$"
      ]
     },
     "execution_count": 52,
     "metadata": {},
     "output_type": "execute_result"
    }
   ],
   "source": [
    "flist := [seq(k/3/sqrt(3)/4, k=1..4), 3/10, 2/5, 3/5, 4/5, 1, 3/2, 2 ]"
   ]
  },
  {
   "cell_type": "code",
   "execution_count": 53,
   "id": "f8d74190",
   "metadata": {},
   "outputs": [
    {
     "data": {
      "text/plain": [
       "16*R^6-8*R^4+R^2*sigma^2-F^2+R^2"
      ]
     },
     "metadata": {},
     "output_type": "display_data"
    }
   ],
   "source": [
    "lprint(steadyR)"
   ]
  },
  {
   "cell_type": "code",
   "execution_count": 54,
   "id": "c391c447",
   "metadata": {},
   "outputs": [
    {
     "data": {
      "text/plain": [
       "kilobytes used=56437, alloc=23087, time=5.59"
      ]
     },
     "metadata": {},
     "output_type": "display_data"
    }
   ],
   "source": [
    "for k to numelems(flist) do\n",
    "  #plts[k] := algcurves:-plot_real_curve( eval(numer(steadyR), F=flist[k]), \n",
    "  #sigma, R); # Bug somewhere.\n",
    "  plts[k] := plots[implicitplot]( eval(numer(steadyR), F=flist[k]), \n",
    "             sigma=-1..1, R=0..1, view=[-1..1,0..1], color=black \n",
    "             );\n",
    "end do:"
   ]
  },
  {
   "cell_type": "code",
   "execution_count": 55,
   "id": "7a181738",
   "metadata": {},
   "outputs": [
    {
     "data": {
      "image/png": "[encoded data removed]"
     },
     "execution_count": 55,
     "metadata": {},
     "output_type": "execute_result"
    }
   ],
   "source": [
    " plots[display]( dtplot, trplot, seq(plts[k],k=1..numelems(flist)), \n",
    "     gridlines=false, view=[-1..1,0..1.0], labels=[sigma,R], symbol=point);"
   ]
  },
  {
   "cell_type": "code",
   "execution_count": null,
   "id": "08e8d22f",
   "metadata": {},
   "outputs": [],
   "source": []
  }
 ],
 "metadata": {
  "kernelspec": {
   "display_name": "Maple 2024",
   "language": "maple",
   "name": "maple"
  },
  "language_info": {
   "file_extension": ".mpl",
   "mimetype": "application/vnd.maple.mpl",
   "name": "maple",
   "version": "2024"
  }
 },
 "nbformat": 4,
 "nbformat_minor": 5
}
