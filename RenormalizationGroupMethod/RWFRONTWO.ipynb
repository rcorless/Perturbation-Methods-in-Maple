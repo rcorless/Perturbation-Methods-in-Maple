{
 "cells": [
  {
   "cell_type": "markdown",
   "id": "26cb0a3b",
   "metadata": {},
   "source": [
    "# Resonant Weakly Forced Rayleigh Oscillator #\n",
    "\n",
    "Support material for the book __Perturbation Methods from a Backward Error Point of View__ by Robert M. Corless and Nicolas Fillion, in preparation.\n",
    "\n",
    "Copyright (c) 2024 Robert M. Corless\n",
    "\n",
    "Permission is hereby granted, free of charge, to any person obtaining a copy of this software and associated documentation files (the “Software”), to deal in the Software without restriction, including without limitation the rights to use, copy, modify, merge, publish, distribute, sublicense, and/or sell copies of the Software, and to permit persons to whom the Software is furnished to do so, subject to the following conditions:\n",
    "\n",
    "The above copyright notice and this permission notice shall be included in all copies or substantial portions of the Software.\n",
    "\n",
    "THE SOFTWARE IS PROVIDED “AS IS”, WITHOUT WARRANTY OF ANY KIND, EXPRESS OR IMPLIED, INCLUDING BUT NOT LIMITED TO THE WARRANTIES OF MERCHANTABILITY, FITNESS FOR A PARTICULAR PURPOSE AND NONINFRINGEMENT. IN NO EVENT SHALL THE AUTHORS OR COPYRIGHT HOLDERS BE LIABLE FOR ANY CLAIM, DAMAGES OR OTHER LIABILITY, WHETHER IN AN ACTION OF CONTRACT, TORT OR OTHERWISE, ARISING FROM, OUT OF OR IN CONNECTION WITH THE SOFTWARE OR THE USE OR OTHER DEALINGS IN THE SOFTWARE.\n",
    "\n",
    "$\\newcommand{\\e}{\\varepsilon}$"
   ]
  },
  {
   "cell_type": "markdown",
   "id": "a7fb1aad",
   "metadata": {},
   "source": [
    "This notebook explores the __weakly__ forced Rayleigh oscillator\n",
    "\\begin{equation}\n",
    "\\ddot{y} - \\e \\dot{y}\\left( 1 - \\frac{4}{3}\\dot{y}^2 \\right) + y = 2\\e F\\cos(\\Omega t + \\Phi)\n",
    "\\end{equation}\n",
    "for $\\Omega \\approx 1$ by perturbation expansion up to and including the $O(\\e^N)$ terms, so it has a residual $O(\\e^{N+1})$.  A strong forcing near resonance would get an $O(1/\\e)$ response, so we examine this case.\n",
    "\n",
    "Define $N$ in the next cell."
   ]
  },
  {
   "cell_type": "code",
   "execution_count": 1,
   "id": "fc077e43",
   "metadata": {},
   "outputs": [
    {
     "data": {
      "text/plain": [
       "kilobytes used=1805, alloc=5424, time=0.30"
      ]
     },
     "metadata": {},
     "output_type": "display_data"
    },
    {
     "data": {
      "text/markdown": [
       "$$2$$"
      ]
     },
     "execution_count": 1,
     "metadata": {},
     "output_type": "execute_result"
    }
   ],
   "source": [
    "N := 2;"
   ]
  },
  {
   "cell_type": "markdown",
   "id": "ede730bb",
   "metadata": {},
   "source": [
    "## Weakly forced resonant case ##"
   ]
  },
  {
   "cell_type": "code",
   "execution_count": 2,
   "id": "19ff9fad",
   "metadata": {
    "scrolled": false
   },
   "outputs": [
    {
     "data": {
      "text/markdown": [
       "$$\\left(\\frac{d^{2}}{d \\tau^{2}}y \\left(\\tau \\right)\\right) \\left(1+\\frac{\\sigma  \\varepsilon}{2}\\right)^{2}-\\varepsilon  \\left(\\frac{d}{d \\tau}y \\left(\\tau \\right)\\right) \\left(1+\\frac{\\sigma  \\varepsilon}{2}\\right) \\left(1-\\frac{4 \\left(\\frac{d}{d \\tau}y \\left(\\tau \\right)\\right)^{2} \\left(1+\\frac{\\sigma  \\varepsilon}{2}\\right)^{2}}{3}\\right)+y \\left(\\tau \\right)-\\varepsilon  F \\,{\\mathrm e}^{\\mathrm{I} \\left(\\tau +\\Phi \\right)}-\\varepsilon  F \\,{\\mathrm e}^{\\mathrm{-I} \\left(\\tau +\\Phi \\right)}$$"
      ]
     },
     "execution_count": 2,
     "metadata": {},
     "output_type": "execute_result"
    }
   ],
   "source": [
    "macro( e=varepsilon ):\n",
    "Omega := 1 + sigma*e/2: # conventional\n",
    "WeaklyNonlineart := diff(y(t), t, t) \n",
    "  - e*diff(y(t), t)*(1 - 4/3*diff(y(t), t)^2) + y(t) \n",
    "  - e*F*exp(I*(tau+Phi)) - e*F*exp(-I*(tau+Phi)) :\n",
    "tmp := PDETools:-dchange( t=tau/Omega, WeaklyNonlineart, [tau]):\n",
    "WeaklyNonlinear := eval(tmp, y(tau,sigma,e)=y(tau));"
   ]
  },
  {
   "cell_type": "code",
   "execution_count": 3,
   "id": "b72833a8",
   "metadata": {},
   "outputs": [
    {
     "data": {
      "text/markdown": [
       "$$\\frac{d^{2}}{d \\tau^{2}}y \\left(\\tau \\right)+y \\left(\\tau \\right)$$"
      ]
     },
     "execution_count": 3,
     "metadata": {},
     "output_type": "execute_result"
    }
   ],
   "source": [
    "LinearODE := diff(y(tau),tau,tau) + y(tau);"
   ]
  },
  {
   "cell_type": "code",
   "execution_count": 4,
   "id": "518eb4f1",
   "metadata": {},
   "outputs": [
    {
     "data": {
      "text/markdown": [
       "$$y \\left(\\tau \\right) = c_{1} \\sin \\left(\\tau \\right)+c_{2} \\cos \\left(\\tau \\right)$$"
      ]
     },
     "execution_count": 4,
     "metadata": {},
     "output_type": "execute_result"
    }
   ],
   "source": [
    "sol := dsolve( eval( WeaklyNonlinear, e=0), y(tau) );"
   ]
  },
  {
   "cell_type": "markdown",
   "id": "6f6c7c7e",
   "metadata": {},
   "source": [
    "That solution has sines and cosines.  We will work over the complex exponentials first.  Use the variable zs to keep the solution in."
   ]
  },
  {
   "cell_type": "code",
   "execution_count": 5,
   "id": "c8f36c6e",
   "metadata": {},
   "outputs": [
    {
     "data": {
      "text/plain": [
       "         ys[0] := A exp(phi I) exp(tau I) + A exp(-I phi) exp(-I tau)"
      ]
     },
     "metadata": {},
     "output_type": "display_data"
    },
    {
     "data": {
      "text/markdown": [
       "$$A \\,{\\mathrm e}^{\\phi  \\mathrm{I}} {\\mathrm e}^{\\tau  \\mathrm{I}}+A \\,{\\mathrm e}^{\\mathrm{-I} \\phi} {\\mathrm e}^{\\mathrm{-I} \\tau}$$"
      ]
     },
     "execution_count": 5,
     "metadata": {},
     "output_type": "execute_result"
    }
   ],
   "source": [
    "ys := Array(0 .. N): # Placeholder for secular solution terms\n",
    "rs := Array(0 .. N): # Placeholder for residuals\n",
    "ys[0] :=  A*exp(I*phi)*exp(I*tau) + A*exp(-I*phi)*exp(-I*tau) ;\n",
    "zs := ys[0];"
   ]
  },
  {
   "cell_type": "markdown",
   "id": "0b6aa766",
   "metadata": {},
   "source": [
    "We will continue to work with sines and cosines, but to get the secular equation we will convert to exponentials."
   ]
  },
  {
   "cell_type": "code",
   "execution_count": 6,
   "id": "10e63711",
   "metadata": {},
   "outputs": [],
   "source": [
    "# SHOlveTerm --- solve a simple harmonic oscillator, harmonically forced\n",
    "#\n",
    "# Copyright 2024 Robert M. Corless \n",
    "#\n",
    "# dsolve can be inefficient at solving y'' + omega^2*y = sum of simple terms\n",
    "# (probably getting bogged down in type checking or simplification\n",
    "#  or its own heuristics, or perhaps it's just its generality).\n",
    "# This routine attempts to do this simpler task more efficiently,\n",
    "# by giving up on generality.\n",
    "#\n",
    "# Input: expr  : right-hand side: polynomial in sine/cos/exp only\n",
    "#                with coefficients polynomials in var\n",
    "#        var   : variable (usually t)\n",
    "#        omega : natural frequency\n",
    "#\n",
    "# Processing: map over a sum of terms\n",
    "#             match the terms to poly(var)*exp( I*(freq*var + phase) )\n",
    "#                            or  poly(var)*sin( freq*var + phase )\n",
    "#                            or  poly(var)*cos( freq*var + phase )\n",
    "#\n",
    "#          solve the problem y'' + omega^2*y = sum poly(var)* fn( freq*var+phase )\n",
    "#\n",
    "# Output: a particular solution to y'' + omega^2 = ...\n",
    "#         where the rhs is a sum of polynomials in var times sin/cos/exp.\n",
    "#\n",
    "# Comments: dsolve would solve this, but for large expressions might take\n",
    "# a seemingly unreasonable length of time to do so, and may return \n",
    "# unevaluated integrals (because it thinks the answers are too complicated).\n",
    "# However, this simple routine will not succeed for unexpected inputs.\n",
    "# Take your pick.\n",
    "\n",
    "SHOlveTerm := proc( expr, var, omega )\n",
    "\tlocal A, c, fn, freq, la, m, phase, sol, term, zerp;\n",
    "\tdescription \"Solve y''+ omega^2*y=expr\";\n",
    "    if has( expr, sin ) or has( expr, cos ) then\n",
    "      # convert,exp will make cos(A) --> (exp(I*A)+exp(-I*A))/2, etc\n",
    "      # expand will expand (A*exp(B) + C*exp(D))*(E*exp(F)+G*exp(H))\n",
    "      # to A*E*exp(B)*exp(F) + A*G*exp(B)*exp(H) + ... \n",
    "      # combine,exp will make exp(B)*exp(F)-->exp(B+F)\n",
    "      term := combine( expand( convert(expr,exp ) ), exp );\n",
    "    else\n",
    "      term := expr;\n",
    "    end if; \n",
    "\tif type( term, `+` ) then\n",
    "      # Apply this procedure to each term in a sum  \n",
    "\t  return map( procname, term, var, omega );\n",
    "\telse \n",
    "      # Look for A*exp(I*(freq*var+phase))\n",
    "      term := combine( term, exp );\n",
    "      A := eval(term, exp=1);\n",
    "      fn := normal( term/A );\n",
    "      # Each term *should* be A*exp(B).  Should be.\n",
    "      if normal( expr-A*fn ) <> 0 then\n",
    "        error \"Unexpected term type\", term;\n",
    "      end if;\n",
    "      # Identify frequency and phase\n",
    "      if match( fn=exp(I*(freq*var+phase)), var, 'la' ) then\n",
    "        if eval(freq,la)^2 = omega^2 then\n",
    "          # resonant case\n",
    "          m := degree(A, var) + 1; # A must be polynomial\n",
    "        else\n",
    "          m := degree(A, var);\n",
    "        end if;\n",
    "        P := add( c[k]*var^k, k=0..m );\n",
    "        # y = P(var)*exp(I*(freq*var+phase))\n",
    "        # for P(var) a polynomial to be found.\n",
    "        zerp := eval( omega^2*P + diff(P,var,var) + 2*I*freq*diff(P,var) - freq^2*P - A, la);\n",
    "        sol := solve( {seq( coeff(zerp,var,k), k=0..m)}, {seq(c[k],k=0..m)} );\n",
    "        # triangular system, guaranteed to have a solution\n",
    "        # Throw away the redundant terms c[0]*exp(I*(freq*var+phase))\n",
    "        return eval( eval( eval(P,sol), c[0]=0)*exp(I*(freq*var+phase)), la );\n",
    "      else\n",
    "        error \"Unexpected term type, after match\", term, A, fn;\n",
    "      end if;\n",
    "    end if;\n",
    "end proc:"
   ]
  },
  {
   "cell_type": "code",
   "execution_count": 7,
   "id": "5acadd14",
   "metadata": {},
   "outputs": [
    {
     "data": {
      "text/plain": [
       "kilobytes used=6066, alloc=9818, time=0.69"
      ]
     },
     "metadata": {},
     "output_type": "display_data"
    }
   ],
   "source": [
    "loop_start := time():\n",
    "times := Array(1 .. N):\n",
    "for k to N do\n",
    "    residuals[k - 1] := combine(expand(\n",
    "                          coeff(eval(WeaklyNonlinear, y(tau) = zs), e, k)),\n",
    "                          exp);\n",
    "    newans := SHOlveTerm( residuals[k-1], tau, 1 );\n",
    "    ys[k] := -newans;\n",
    "    zs := zs + ys[k]*e^k;\n",
    "    times[k] := time();\n",
    "end do:"
   ]
  },
  {
   "cell_type": "code",
   "execution_count": 8,
   "id": "b66af270",
   "metadata": {},
   "outputs": [
    {
     "data": {
      "text/plain": [
       "                                                       exp(Phi I) exp(tau I)"
      ]
     },
     "metadata": {},
     "output_type": "display_data"
    }
   ],
   "source": [
    "resonant := 0; # This is not particularly robust.\n",
    "ze := expand( combine( expand(zs), exp ) ):\n",
    "trms := [op(ze)];\n",
    "detected := Array(1..numelems(trms), j->false):\n",
    "for k to numelems( trms ) do\n",
    "  trm := combine( trms[k], exp );\n",
    "  conpart := eval(trm,exp=1); # trm = A*exp(B) we hope\n",
    "  expart := normal( trm/conpart );\n",
    "  if match( combine(expart,exp)=exp(I*tau + phase), tau, 'la') then\n",
    "    resonant := resonant + conpart*eval(exp(phase),la);\n",
    "    detected[k] := true;\n",
    "  end if;\n",
    "end do:"
   ]
  },
  {
   "cell_type": "code",
   "execution_count": 9,
   "id": "7ef50063",
   "metadata": {
    "scrolled": true
   },
   "outputs": [],
   "source": [
    "yA := resonant/(A*exp(I*phi)):"
   ]
  },
  {
   "cell_type": "code",
   "execution_count": 10,
   "id": "1451cf3e",
   "metadata": {},
   "outputs": [
    {
     "data": {
      "text/markdown": [
       "$$0<R,0<F,0<\\varepsilon,\\phi ::\\mathit{real},\\Phi ::\\mathit{real},0<\\tau,0<A,\\sigma ::\\mathit{real}$$"
      ]
     },
     "execution_count": 10,
     "metadata": {},
     "output_type": "execute_result"
    }
   ],
   "source": [
    "assumption_list := R>0, F>0, e>0, phi::real, Phi::real, tau>0, A>0, sigma::real;"
   ]
  },
  {
   "cell_type": "code",
   "execution_count": 11,
   "id": "ebe59a29",
   "metadata": {},
   "outputs": [
    {
     "data": {
      "text/plain": [
       "kilobytes used=12628, alloc=14426, time=1.16"
      ]
     },
     "metadata": {},
     "output_type": "display_data"
    }
   ],
   "source": [
    "rhsR := simplify( Re( convert(series( diff(yA,tau)/yA,e,N+1),polynom) ) ) \n",
    "        assuming assumption_list:"
   ]
  },
  {
   "cell_type": "markdown",
   "id": "89114355",
   "metadata": {},
   "source": [
    "We know $A=R + O(\\e)$ but we need to know more, now."
   ]
  },
  {
   "cell_type": "code",
   "execution_count": 12,
   "id": "fd978857",
   "metadata": {},
   "outputs": [
    {
     "data": {
      "text/plain": [
       "                     residEh[2] := - 1/8 K[1] varepsilon"
      ]
     },
     "metadata": {},
     "output_type": "display_data"
    }
   ],
   "source": [
    "yA := collect(yA, e, m -> Re(m) + Im(m)*I) assuming assumption_list;\n",
    "yA := combine(yA, trig);\n",
    "#Now we will need to invert R = A*yA and the best way is by a real equation.  R is real and A > 0 by our choice of phi.\n",
    "rhosq := series(evalc(Re(yA)^2 + Im(yA)^2), e, N + 1);\n",
    "rhosq := map(simplify, rhosq);\n",
    "rhosq := convert(rhosq, polynom);\n",
    "#Our equation to solve for A in terms of R and e is\n",
    "freqn := -A^2*rhosq + R^2;\n",
    "#We will solve this perturbatively for A = g(R,e).  We need the derivative, for our regular perturbation method.\n",
    "eval(diff(freqn, R), e = 0);\n",
    "#So our inverse operator is 1/2R.  Now check that our initial approximation A=R is accurate enough:\n",
    "series(leadterm(eval(freqn, A = R)), e);\n",
    "#So A = R is a solution to Order epsilon\n",
    "#Let's use the array \"Eh\" to represent our terms in the A expansion.\n",
    "Eh := Array(0 .. N);\n",
    "#We have to put the residuals somewhere:\n",
    "residEh := Array(0 .. N);\n",
    "#Our initial approximation:\n",
    "Eh[0] := R;\n",
    "#Our running solution is initially the same as A[0] (I mean, Eh[0]).\n",
    "Ehz := Eh[0];\n",
    "#Regular perturbation solution of the freqn\n",
    "for k to N do\n",
    "    residEh[k - 1] := coeff(map(simplify, series(eval(freqn, A = Ehz), e, k + 2)), e, k);\n",
    "    Eh[k] := residEh[k - 1]*e^k/(2*R);\n",
    "    Ehz := Ehz + Eh[k];\n",
    "end do;\n",
    "#Check the final residual\n",
    "residEh[N] :=  \n",
    "  collect(convert( map( simplify, series( eval(freqn, A=Ehz), e, N+2 ) ),polynom),\n",
    "          e,LargeExpressions:-Veil[K]);\n"
   ]
  },
  {
   "cell_type": "code",
   "execution_count": 13,
   "id": "b113e08c",
   "metadata": {},
   "outputs": [
    {
     "data": {
      "text/markdown": [
       "$$K_{4}$$"
      ]
     },
     "execution_count": 13,
     "metadata": {},
     "output_type": "execute_result"
    }
   ],
   "source": [
    "collect( LargeExpressions:-Unveil[K]( K[4] ), [sin,cos]);"
   ]
  },
  {
   "cell_type": "markdown",
   "id": "d5376e8f",
   "metadata": {},
   "source": [
    "It's very puzzling that the above doesn't detect that the coefficients are zero, while at the same time the identical command below _does_ detect it."
   ]
  },
  {
   "cell_type": "code",
   "execution_count": 14,
   "id": "79ef59f0",
   "metadata": {
    "scrolled": true
   },
   "outputs": [
    {
     "data": {
      "text/markdown": [
       "$$-\\frac{3 \\left(\\frac{F^{2} \\sin \\left(-\\phi +\\Phi \\right)^{2} \\sigma}{4}-5 F \\left(F \\left(R^{2}+\\frac{\\tau  \\sigma}{60}-\\frac{1}{60}\\right) \\cos \\left(-\\phi +\\Phi \\right)+\\frac{8 R \\left(R^{4} \\tau +\\frac{\\left(-\\tau +\\frac{5 \\sigma}{2}\\right) R^{2}}{3}+\\frac{\\tau}{48}-\\frac{5 \\sigma}{48}\\right)}{5}\\right) \\sin \\left(-\\phi +\\Phi \\right)+40 R F \\left(\\frac{1}{240}+R^{4}+\\frac{\\left(-1+\\frac{\\tau  \\sigma}{6}\\right) R^{2}}{5}-\\frac{\\tau  \\sigma}{240}\\right) \\cos \\left(-\\phi +\\Phi \\right)+16 R^{8} \\tau +\\frac{28 \\left(-\\tau +2 \\sigma \\right) R^{6}}{3}+\\frac{5 \\left(\\tau -4 \\sigma \\right) R^{4}}{3}+\\left(F^{2} \\tau -\\frac{1}{12} \\tau +\\frac{1}{2} \\sigma \\right) R^{2}-\\frac{F^{2} \\tau}{12}\\right) \\tau^{2}}{2} \\varepsilon^{3}+\\mathrm{O}\\left(\\varepsilon^{4}\\right)$$"
      ]
     },
     "execution_count": 14,
     "metadata": {},
     "output_type": "execute_result"
    }
   ],
   "source": [
    "map( simplify, series( eval(freqn, A=Ehz), e, N+2 ) );"
   ]
  },
  {
   "cell_type": "code",
   "execution_count": 15,
   "id": "578a9aff",
   "metadata": {
    "scrolled": true
   },
   "outputs": [],
   "source": [
    "rhsR := convert( series( eval(rhsR,A=Ehz), e, N+1), polynom ):"
   ]
  },
  {
   "cell_type": "code",
   "execution_count": 16,
   "id": "1b31ea68",
   "metadata": {},
   "outputs": [],
   "source": [
    "rhsR := collect( rhsR, [e,F,R], distributed, factor ): "
   ]
  },
  {
   "cell_type": "code",
   "execution_count": 17,
   "id": "f855b1ae",
   "metadata": {},
   "outputs": [],
   "source": [
    "slowRderiv := R*convert( rhsR, polynom ):"
   ]
  },
  {
   "cell_type": "code",
   "execution_count": 18,
   "id": "b698528d",
   "metadata": {
    "scrolled": true
   },
   "outputs": [
    {
     "data": {
      "text/plain": [
       "proc (expr, var) R(expr)*(1/4*expr*(sin(-theta(expr)+Phi)^2+cos(-2*theta(expr)+2*Phi))/R(expr)^2*varepsilon^2*F^2+5/2*cos(-theta(expr)+Phi)*varepsilon^2*F*R(expr)+(-3/8*sigma*sin(-theta(expr)+Phi)+1/4*sigma*expr*cos(-theta(expr)+Phi)-1/8*cos(-theta(expr)+Phi))*varepsilon^2*F/R(expr)+sigma*varepsilon^2*R(expr)^2-1/4*sigma*varepsilon^2+1/2*sin(-theta(expr)+Phi)/R(expr)*varepsilon*F-2*varepsilon*R(expr)^2+1/2*varepsilon)*diff(expr,var) end proc"
      ]
     },
     "execution_count": 18,
     "metadata": {},
     "output_type": "execute_result"
    }
   ],
   "source": [
    "`diff/R` := codegen[makeproc](eval(slowRderiv*'diff'('expr', 'var'), \n",
    "  [R = R(expr), phi = theta(expr),tau=expr]), parameters = [expr, var]);"
   ]
  },
  {
   "cell_type": "code",
   "execution_count": 19,
   "id": "ba312804",
   "metadata": {
    "scrolled": true
   },
   "outputs": [
    {
     "data": {
      "text/markdown": [
       "$$R \\left(\\tau \\right) \\left(\\frac{\\tau  \\left(\\sin \\left(-\\theta \\left(\\tau \\right)+\\Phi \\right)^{2}+\\cos \\left(-2 \\theta \\left(\\tau \\right)+2 \\Phi \\right)\\right) \\varepsilon^{2} F^{2}}{4 R \\left(\\tau \\right)^{2}}+\\frac{5 \\cos \\left(-\\theta \\left(\\tau \\right)+\\Phi \\right) \\varepsilon^{2} F R \\left(\\tau \\right)}{2}+\\frac{\\left(-\\frac{3 \\sigma  \\sin \\left(-\\theta \\left(\\tau \\right)+\\Phi \\right)}{8}+\\frac{\\sigma  \\tau  \\cos \\left(-\\theta \\left(\\tau \\right)+\\Phi \\right)}{4}-\\frac{\\cos \\left(-\\theta \\left(\\tau \\right)+\\Phi \\right)}{8}\\right) \\varepsilon^{2} F}{R \\left(\\tau \\right)}+\\sigma  \\,\\varepsilon^{2} R \\left(\\tau \\right)^{2}-\\frac{\\sigma  \\,\\varepsilon^{2}}{4}+\\frac{\\sin \\left(-\\theta \\left(\\tau \\right)+\\Phi \\right) \\varepsilon  F}{2 R \\left(\\tau \\right)}-2 \\varepsilon  R \\left(\\tau \\right)^{2}+\\frac{\\varepsilon}{2}\\right)$$"
      ]
     },
     "execution_count": 19,
     "metadata": {},
     "output_type": "execute_result"
    }
   ],
   "source": [
    "diff(R(tau),tau);"
   ]
  },
  {
   "cell_type": "code",
   "execution_count": 20,
   "id": "ea88eccb",
   "metadata": {
    "scrolled": true
   },
   "outputs": [
    {
     "data": {
      "text/plain": [
       "kilobytes used=26216, alloc=18522, time=2.22"
      ]
     },
     "metadata": {},
     "output_type": "display_data"
    },
    {
     "data": {
      "text/markdown": [
       "$$\\frac{\\varepsilon  \\left(-F \\cos \\left(-\\phi +\\Phi \\right)-R \\sigma \\right)}{2 R}+\\frac{\\varepsilon^{2} \\left(8 R^{6}+2 F^{2} \\sin \\left(-\\phi +\\Phi \\right) \\cos \\left(-\\phi +\\Phi \\right) \\tau -4 R^{3} F \\sin \\left(-\\phi +\\Phi \\right)+2 \\tau  F R \\sin \\left(-\\phi +\\Phi \\right) \\sigma +3 F \\cos \\left(-\\phi +\\Phi \\right) \\sigma  R +2 R^{2} \\sigma^{2}-F \\sin \\left(-\\phi +\\Phi \\right) R -R^{2}\\right)}{8 R^{2}}$$"
      ]
     },
     "execution_count": 20,
     "metadata": {},
     "output_type": "execute_result"
    }
   ],
   "source": [
    "rhstheta := Im( \n",
    "             convert( \n",
    "               simplify( series( eval( diff(yA,tau)/yA, A=Ehz ),e,N+1))\n",
    "               ,polynom)\n",
    "            ) assuming assumption_list;"
   ]
  },
  {
   "cell_type": "code",
   "execution_count": 21,
   "id": "fdd1d46b",
   "metadata": {
    "scrolled": true
   },
   "outputs": [
    {
     "data": {
      "text/markdown": [
       "$$\\frac{\\varepsilon  \\left(8 R^{6} \\varepsilon -4 F \\sin \\left(-\\phi +\\Phi \\right) R^{3} \\varepsilon +2 F \\sin \\left(-\\phi +\\Phi \\right) R \\sigma  \\tau  \\varepsilon +F^{2} \\sin \\left(-2 \\phi +2 \\Phi \\right) \\tau  \\varepsilon +3 F \\cos \\left(-\\phi +\\Phi \\right) R \\sigma  \\varepsilon +2 R^{2} \\sigma^{2} \\varepsilon -F \\sin \\left(-\\phi +\\Phi \\right) R \\varepsilon -4 F R \\cos \\left(-\\phi +\\Phi \\right)-4 R^{2} \\sigma -\\varepsilon  \\,R^{2}\\right)}{8 R^{2}}$$"
      ]
     },
     "execution_count": 21,
     "metadata": {},
     "output_type": "execute_result"
    }
   ],
   "source": [
    "rhstheta := combine(rhstheta,trig);"
   ]
  },
  {
   "cell_type": "code",
   "execution_count": 22,
   "id": "2989b662",
   "metadata": {},
   "outputs": [
    {
     "data": {
      "text/plain": [
       "proc (expr, var) 1/8*varepsilon*(8*R(expr)^6*varepsilon-4*F*sin(-theta(expr)+Phi)*R(expr)^3*varepsilon+2*F*sin(-theta(expr)+Phi)*R(expr)*sigma*expr*varepsilon+F^2*sin(-2*theta(expr)+2*Phi)*expr*varepsilon+3*F*cos(-theta(expr)+Phi)*R(expr)*sigma*varepsilon+2*R(expr)^2*sigma^2*varepsilon-F*sin(-theta(expr)+Phi)*R(expr)*varepsilon-4*F*R(expr)*cos(-theta(expr)+Phi)-4*R(expr)^2*sigma-varepsilon*R(expr)^2)/R(expr)^2*diff(expr,var) end proc"
      ]
     },
     "execution_count": 22,
     "metadata": {},
     "output_type": "execute_result"
    }
   ],
   "source": [
    "`diff/theta` := codegen[makeproc](eval(rhstheta*'diff'('expr', 'var'), \n",
    "  [R = R(expr), phi = theta(expr), tau=expr]), parameters = [expr, var]);"
   ]
  },
  {
   "cell_type": "code",
   "execution_count": 23,
   "id": "8b42df8c",
   "metadata": {
    "scrolled": true
   },
   "outputs": [
    {
     "data": {
      "text/markdown": [
       "$$\\frac{\\varepsilon  \\left(8 R \\left(\\tau \\right)^{6} \\varepsilon -4 F \\sin \\left(-\\theta \\left(\\tau \\right)+\\Phi \\right) R \\left(\\tau \\right)^{3} \\varepsilon +2 F \\sin \\left(-\\theta \\left(\\tau \\right)+\\Phi \\right) R \\left(\\tau \\right) \\sigma  \\tau  \\varepsilon +F^{2} \\sin \\left(-2 \\theta \\left(\\tau \\right)+2 \\Phi \\right) \\tau  \\varepsilon +3 F \\cos \\left(-\\theta \\left(\\tau \\right)+\\Phi \\right) R \\left(\\tau \\right) \\sigma  \\varepsilon +2 R \\left(\\tau \\right)^{2} \\sigma^{2} \\varepsilon -F \\sin \\left(-\\theta \\left(\\tau \\right)+\\Phi \\right) R \\left(\\tau \\right) \\varepsilon -4 F R \\left(\\tau \\right) \\cos \\left(-\\theta \\left(\\tau \\right)+\\Phi \\right)-4 R \\left(\\tau \\right)^{2} \\sigma -\\varepsilon  R \\left(\\tau \\right)^{2}\\right)}{8 R \\left(\\tau \\right)^{2}}$$"
      ]
     },
     "execution_count": 23,
     "metadata": {},
     "output_type": "execute_result"
    }
   ],
   "source": [
    "diff(theta(tau),tau);"
   ]
  },
  {
   "cell_type": "markdown",
   "id": "cf1c9474",
   "metadata": {},
   "source": [
    "Now we re-do the computation (we should have checked the residual up there to see if it was $O(\\e^2)$, but we will do it once we have recomputed)."
   ]
  },
  {
   "cell_type": "code",
   "execution_count": 24,
   "id": "43d64b6e",
   "metadata": {
    "scrolled": true
   },
   "outputs": [
    {
     "data": {
      "text/plain": [
       "                        rr := Array(0 .. 2, [0, 0, 0])"
      ]
     },
     "metadata": {},
     "output_type": "display_data"
    },
    {
     "data": {
      "text/markdown": [
       "$$2 R \\left(\\tau \\right) \\cos \\left(\\theta \\left(\\tau \\right)+\\tau \\right)$$"
      ]
     },
     "execution_count": 24,
     "metadata": {},
     "output_type": "execute_result"
    }
   ],
   "source": [
    "yr := Array(0..N);\n",
    "rr := Array(0..N);\n",
    "# Start with the right initial approximation\n",
    "yr[0] := collect( combine( convert( eval( ys[0], \n",
    "  [A=R(tau), phi=theta(tau)]), trig ), trig ), [R(tau),F], normal ) \n",
    "  assuming assumption_list;"
   ]
  },
  {
   "cell_type": "markdown",
   "id": "8ef0ad2f",
   "metadata": {},
   "source": [
    "To solve the first-order correction, we have to hide the dependence of R and theta on t from dsolve.  Because their derivatives are $O(\\e)$, they are constant for the purpose of perturbative correction."
   ]
  },
  {
   "cell_type": "code",
   "execution_count": 25,
   "id": "0490b3f9",
   "metadata": {
    "scrolled": true
   },
   "outputs": [
    {
     "data": {
      "text/plain": [
       "kilobytes used=36701, alloc=18522, time=2.97"
      ]
     },
     "metadata": {},
     "output_type": "display_data"
    }
   ],
   "source": [
    "loop_start := time():\n",
    "timesr := Array(1 .. N):\n",
    "zr := yr[0];\n",
    "for k to N do\n",
    "    res := series( eval(WeaklyNonlinear, y(tau) = zr), e, k+1 );\n",
    "    rr[k - 1] := combine(expand(\n",
    "                          coeff( res, e, k)),\n",
    "                          exp);\n",
    "    tmp := eval(rr[k-1], [R(tau)=RR,theta(tau)=THETA]);\n",
    "    newans := SHOlveTerm( tmp, tau, 1 );\n",
    "    newans := eval( newans, [RR=R(tau), THETA=theta(tau)]);\n",
    "    yr[k] := -newans;\n",
    "    zr := zr + yr[k]*e^k;\n",
    "    timesr[k] := time();\n",
    "end do:"
   ]
  },
  {
   "cell_type": "code",
   "execution_count": 26,
   "id": "fb6b7777",
   "metadata": {},
   "outputs": [
    {
     "data": {
      "text/markdown": [
       "$$2 R \\left(\\tau \\right) \\cos \\left(\\theta \\left(\\tau \\right)+\\tau \\right)+\\left(-\\frac{\\mathrm{I} R \\left(\\tau \\right)^{3} {\\mathrm e}^{\\mathrm{I} \\left(3 \\theta \\left(\\tau \\right)+3 \\tau \\right)}}{6}+\\frac{\\mathrm{I} R \\left(\\tau \\right)^{3} {\\mathrm e}^{\\mathrm{I} \\left(-3 \\theta \\left(\\tau \\right)-3 \\tau \\right)}}{6}\\right) \\varepsilon +\\left(-\\frac{R \\left(\\tau \\right)^{5} {\\mathrm e}^{\\mathrm{I} \\left(5 \\theta \\left(\\tau \\right)+5 \\tau \\right)}}{12}-\\frac{R \\left(\\tau \\right)^{3} {\\mathrm e}^{\\mathrm{I} \\left(3 \\theta \\left(\\tau \\right)+3 \\tau \\right)}}{8}-\\frac{R \\left(\\tau \\right)^{3} {\\mathrm e}^{\\mathrm{I} \\left(-3 \\theta \\left(\\tau \\right)-3 \\tau \\right)}}{8}-\\frac{R \\left(\\tau \\right)^{5} {\\mathrm e}^{\\mathrm{I} \\left(-5 \\theta \\left(\\tau \\right)-5 \\tau \\right)}}{12}+\\frac{3 R \\left(\\tau \\right)^{5} {\\mathrm e}^{\\mathrm{I} \\left(3 \\theta \\left(\\tau \\right)+3 \\tau \\right)}}{4}-\\frac{\\mathrm{I} R \\left(\\tau \\right)^{2} F \\,{\\mathrm e}^{\\mathrm{I} \\left(-3 \\tau -\\Phi -2 \\theta \\left(\\tau \\right)\\right)}}{16}-\\frac{\\mathrm{I} F^{2} \\tau  \\,{\\mathrm e}^{\\mathrm{I} \\left(-\\theta \\left(\\tau \\right)-\\tau \\right)}}{16 R \\left(\\tau \\right)}+\\frac{\\mathrm{I} R \\left(\\tau \\right)^{2} F \\,{\\mathrm e}^{\\mathrm{I} \\left(3 \\tau +\\Phi +2 \\theta \\left(\\tau \\right)\\right)}}{16}+\\frac{\\mathrm{I} F^{2} \\tau  \\,{\\mathrm e}^{\\mathrm{I} \\left(\\theta \\left(\\tau \\right)+\\tau \\right)}}{16 R \\left(\\tau \\right)}+\\frac{\\mathrm{I} \\sigma  F \\tau  \\,{\\mathrm e}^{\\mathrm{I} \\left(\\tau +\\Phi \\right)}}{8}-\\left(\\frac{\\sigma  F \\,\\tau^{2}}{8}+\\frac{\\mathrm{I} \\sigma  F \\tau}{8}\\right) {\\mathrm e}^{\\mathrm{I} \\left(\\tau +\\Phi \\right)}-\\left(\\frac{F^{2} \\tau^{2}}{16 R \\left(\\tau \\right)}+\\frac{\\mathrm{I} F^{2} \\tau}{16 R \\left(\\tau \\right)}\\right) {\\mathrm e}^{\\mathrm{I} \\left(\\tau +2 \\Phi -\\theta \\left(\\tau \\right)\\right)}-\\left(\\frac{F^{2} \\tau^{2}}{16 R \\left(\\tau \\right)}-\\frac{\\mathrm{I} F^{2} \\tau}{16 R \\left(\\tau \\right)}\\right) {\\mathrm e}^{\\mathrm{I} \\left(-\\tau -2 \\Phi +\\theta \\left(\\tau \\right)\\right)}-\\left(\\frac{F^{2} \\tau^{2}}{16 R \\left(\\tau \\right)}-\\frac{\\mathrm{I} F^{2} \\tau}{16 R \\left(\\tau \\right)}\\right) {\\mathrm e}^{\\mathrm{I} \\left(-\\theta \\left(\\tau \\right)-\\tau \\right)}+\\frac{3 R \\left(\\tau \\right)^{5} {\\mathrm e}^{\\mathrm{I} \\left(-3 \\theta \\left(\\tau \\right)-3 \\tau \\right)}}{4}-\\left(\\frac{\\sigma  F \\,\\tau^{2}}{8}-\\frac{\\mathrm{I} \\sigma  F \\tau}{8}\\right) {\\mathrm e}^{\\mathrm{I} \\left(-\\Phi -\\tau \\right)}-\\left(\\frac{F^{2} \\tau^{2}}{16 R \\left(\\tau \\right)}+\\frac{\\mathrm{I} F^{2} \\tau}{16 R \\left(\\tau \\right)}\\right) {\\mathrm e}^{\\mathrm{I} \\left(\\theta \\left(\\tau \\right)+\\tau \\right)}-\\frac{\\mathrm{I} \\sigma  F \\tau  \\,{\\mathrm e}^{\\mathrm{I} \\left(-\\Phi -\\tau \\right)}}{8}+\\frac{\\mathrm{I} F^{2} \\tau  \\,{\\mathrm e}^{\\mathrm{I} \\left(\\tau +2 \\Phi -\\theta \\left(\\tau \\right)\\right)}}{16 R \\left(\\tau \\right)}-\\frac{\\mathrm{I} F^{2} \\tau  \\,{\\mathrm e}^{\\mathrm{I} \\left(-\\tau -2 \\Phi +\\theta \\left(\\tau \\right)\\right)}}{16 R \\left(\\tau \\right)}\\right) \\varepsilon^{2}$$"
      ]
     },
     "execution_count": 26,
     "metadata": {},
     "output_type": "execute_result"
    }
   ],
   "source": [
    "zr;"
   ]
  },
  {
   "cell_type": "markdown",
   "id": "39dcff7f",
   "metadata": {},
   "source": [
    "Some combination of simplification commands cleans up the answer to be intelligible."
   ]
  },
  {
   "cell_type": "code",
   "execution_count": 27,
   "id": "51a34b99",
   "metadata": {
    "scrolled": true
   },
   "outputs": [
    {
     "data": {
      "text/markdown": [
       "$$\\frac{R \\left(\\tau \\right)^{3} \\sin \\left(3 \\theta \\left(\\tau \\right)+3 \\tau \\right) \\varepsilon}{3}-\\frac{F R \\left(\\tau \\right)^{2} \\varepsilon^{2} \\sin \\left(3 \\tau +\\Phi +2 \\theta \\left(\\tau \\right)\\right)}{8}-\\frac{F \\sigma  \\,\\tau^{2} \\varepsilon^{2} \\cos \\left(\\tau +\\Phi \\right)}{4}+\\left(2 R \\left(\\tau \\right)-\\frac{F^{2} \\tau^{2} \\varepsilon^{2}}{8 R \\left(\\tau \\right)}\\right) \\cos \\left(\\theta \\left(\\tau \\right)+\\tau \\right)+\\left(\\frac{3 \\varepsilon^{2} R \\left(\\tau \\right)^{5}}{2}-\\frac{\\varepsilon^{2} R \\left(\\tau \\right)^{3}}{4}\\right) \\cos \\left(3 \\theta \\left(\\tau \\right)+3 \\tau \\right)-\\frac{\\varepsilon^{2} R \\left(\\tau \\right)^{5} \\cos \\left(5 \\theta \\left(\\tau \\right)+5 \\tau \\right)}{6}-\\frac{F^{2} \\cos \\left(\\tau +2 \\Phi -\\theta \\left(\\tau \\right)\\right) \\tau^{2} \\varepsilon^{2}}{8 R \\left(\\tau \\right)}$$"
      ]
     },
     "execution_count": 27,
     "metadata": {},
     "output_type": "execute_result"
    }
   ],
   "source": [
    "ztrig := collect( combine(convert(zr,trig),trig), \n",
    "  [sin,cos], m->collect(m,[R(tau),F], factor));"
   ]
  },
  {
   "cell_type": "markdown",
   "id": "b78a41a7",
   "metadata": {},
   "source": []
  },
  {
   "cell_type": "markdown",
   "id": "ce46c134",
   "metadata": {},
   "source": [
    "The fact that _this_ final residual is $O(\\e^(N+1))$ proves that we have found a solution to the right order."
   ]
  },
  {
   "cell_type": "code",
   "execution_count": 28,
   "id": "4eb53c38",
   "metadata": {
    "scrolled": true
   },
   "outputs": [
    {
     "data": {
      "text/plain": [
       "kilobytes used=44675, alloc=18522, time=3.47"
      ]
     },
     "metadata": {},
     "output_type": "display_data"
    },
    {
     "data": {
      "text/markdown": [
       "$$-\\frac{K_{2}}{24} \\varepsilon^{3}+K_{3} \\varepsilon^{4}$$"
      ]
     },
     "execution_count": 28,
     "metadata": {},
     "output_type": "execute_result"
    }
   ],
   "source": [
    "fullresidual := eval(WeaklyNonlinear,y(tau)=ztrig):\n",
    "map(LargeExpressions:-Veil[K], map(simplify, series(fullresidual, e, N+2)));"
   ]
  },
  {
   "cell_type": "code",
   "execution_count": 29,
   "id": "d8a3fe32",
   "metadata": {},
   "outputs": [
    {
     "data": {
      "text/plain": [
       "kilobytes used=51312, alloc=18522, time=3.91"
      ]
     },
     "metadata": {},
     "output_type": "display_data"
    },
    {
     "data": {
      "text/markdown": [
       "$$\\left(-\\frac{16 \\sin \\left(7 \\theta \\left(\\tau \\right)+7 \\tau \\right)}{3}+\\frac{74 \\sin \\left(3 \\theta \\left(\\tau \\right)+3 \\tau \\right)}{3}+34 \\sin \\left(5 \\theta \\left(\\tau \\right)+5 \\tau \\right)-26 \\sin \\left(\\theta \\left(\\tau \\right)+\\tau \\right)\\right) R \\left(\\tau \\right)^{7}+\\left(-2 \\cos \\left(\\theta \\left(\\tau \\right)+\\tau \\right) \\sigma -7 \\sin \\left(3 \\theta \\left(\\tau \\right)+3 \\tau \\right)+11 \\sin \\left(\\theta \\left(\\tau \\right)+\\tau \\right)-\\frac{17 \\sin \\left(5 \\theta \\left(\\tau \\right)+5 \\tau \\right)}{3}\\right) R \\left(\\tau \\right)^{5}+\\left(-\\frac{23 \\cos \\left(\\tau +\\Phi \\right)}{2}+6 \\cos \\left(-2 \\theta \\left(\\tau \\right)+\\Phi -\\tau \\right)-\\frac{25 \\cos \\left(-4 \\theta \\left(\\tau \\right)-3 \\tau +\\Phi \\right)}{2}+\\frac{10 \\cos \\left(4 \\theta \\left(\\tau \\right)+5 \\tau +\\Phi \\right)}{3}-2 \\cos \\left(3 \\tau +\\Phi +2 \\theta \\left(\\tau \\right)\\right)\\right) F R \\left(\\tau \\right)^{4}+\\left(-2 \\sin \\left(\\theta \\left(\\tau \\right)+\\tau \\right) \\sigma^{2}-\\frac{\\sin \\left(3 \\theta \\left(\\tau \\right)+3 \\tau \\right)}{2}\\right) R \\left(\\tau \\right)^{3}+\\left(2 \\sigma  \\left(\\tau^{2}-2\\right) \\sin \\left(\\tau +\\Phi \\right)-\\frac{\\sigma  \\left(8 \\tau^{2}-9\\right) \\sin \\left(3 \\tau +\\Phi +2 \\theta \\left(\\tau \\right)\\right)}{8}-\\sigma  \\left(\\tau^{2}-3\\right) \\sin \\left(-2 \\theta \\left(\\tau \\right)+\\Phi -\\tau \\right)-2 \\sigma  \\tau  \\cos \\left(\\tau +\\Phi \\right)+\\left(\\frac{3 \\tau  \\sigma}{2}+\\frac{7}{8}\\right) \\cos \\left(3 \\tau +\\Phi +2 \\theta \\left(\\tau \\right)\\right)+\\left(-\\tau  \\sigma -1\\right) \\cos \\left(-2 \\theta \\left(\\tau \\right)+\\Phi -\\tau \\right)\\right) F R \\left(\\tau \\right)^{2}+\\left(\\left(2 \\left(\\tau -1\\right) \\left(\\tau +1\\right) \\sin \\left(\\theta \\left(\\tau \\right)+\\tau \\right)-\\frac{\\left(2 \\tau -1\\right) \\left(2 \\tau +1\\right) \\sin \\left(3 \\theta \\left(\\tau \\right)+3 \\tau \\right)}{8}+\\left(\\frac{3 \\tau^{2}}{2}-1\\right) \\sin \\left(\\tau +2 \\Phi -\\theta \\left(\\tau \\right)\\right)-\\frac{\\tau^{2} \\sin \\left(-3 \\theta \\left(\\tau \\right)+2 \\Phi -\\tau \\right)}{2}+\\left(-\\frac{\\tau^{2}}{2}+\\frac{7}{8}\\right) \\sin \\left(\\theta \\left(\\tau \\right)+3 \\tau +2 \\Phi \\right)-\\frac{3 \\cos \\left(\\tau +2 \\Phi -\\theta \\left(\\tau \\right)\\right) \\tau}{2}-2 \\cos \\left(\\theta \\left(\\tau \\right)+\\tau \\right) \\tau +\\frac{3 \\cos \\left(\\theta \\left(\\tau \\right)+3 \\tau +2 \\Phi \\right) \\tau}{4}+\\frac{3 \\cos \\left(3 \\theta \\left(\\tau \\right)+3 \\tau \\right) \\tau}{4}-\\frac{\\tau  \\cos \\left(-3 \\theta \\left(\\tau \\right)+2 \\Phi -\\tau \\right)}{2}\\right) F^{2}+\\frac{\\sin \\left(\\theta \\left(\\tau \\right)+\\tau \\right) \\sigma^{2}}{2}-\\frac{\\sigma  \\left(2 \\sigma^{2}-1\\right) \\cos \\left(\\theta \\left(\\tau \\right)+\\tau \\right)}{4}\\right) R \\left(\\tau \\right)+\\left(\\frac{\\sigma  \\left(\\tau  \\sigma -\\tau^{2}+2\\right) \\sin \\left(\\tau +\\Phi \\right)}{4}+\\frac{\\sigma  \\left(2 \\tau^{2} \\sigma -7 \\sigma +2 \\tau \\right) \\cos \\left(\\tau +\\Phi \\right)}{8}\\right) F +\\frac{\\left(-\\frac{\\sin \\left(\\theta \\left(\\tau \\right)+\\tau \\right) \\tau^{2}}{4}+\\frac{\\tau  \\left(-\\tau +\\sigma \\right) \\sin \\left(\\tau +2 \\Phi -\\theta \\left(\\tau \\right)\\right)}{4}+\\frac{\\cos \\left(\\theta \\left(\\tau \\right)+\\tau \\right) \\tau}{4}+\\frac{\\tau  \\left(\\tau  \\sigma +1\\right) \\cos \\left(\\tau +2 \\Phi -\\theta \\left(\\tau \\right)\\right)}{4}\\right) F^{2}}{R \\left(\\tau \\right)}+\\frac{\\left(-\\frac{\\tau^{2} \\cos \\left(-2 \\theta \\left(\\tau \\right)+\\Phi -\\tau \\right)}{8}+\\frac{\\cos \\left(-2 \\theta \\left(\\tau \\right)+3 \\Phi +\\tau \\right) \\tau^{2}}{8}+\\frac{\\tau  \\sin \\left(-2 \\theta \\left(\\tau \\right)+\\Phi -\\tau \\right)}{8}+\\frac{\\tau  \\sin \\left(-2 \\theta \\left(\\tau \\right)+3 \\Phi +\\tau \\right)}{8}\\right) F^{3}}{R \\left(\\tau \\right)^{2}}$$"
      ]
     },
     "execution_count": 29,
     "metadata": {},
     "output_type": "execute_result"
    }
   ],
   "source": [
    "collect( combine(\n",
    "   coeff( series( fullresidual, e, N+2), e, N+1 ),\n",
    "                 trig ),\n",
    "   [R(tau),F,sin,cos], factor );"
   ]
  },
  {
   "cell_type": "markdown",
   "id": "272ee429",
   "metadata": {},
   "source": [
    "Bad: secular terms visible."
   ]
  },
  {
   "cell_type": "code",
   "execution_count": 30,
   "id": "24aa00bb",
   "metadata": {
    "scrolled": true
   },
   "outputs": [
    {
     "data": {
      "text/markdown": [
       "$$R \\left(\\tau \\right) \\left(\\frac{\\sin \\left(-\\theta \\left(\\tau \\right)+\\Phi \\right) F}{2 R \\left(\\tau \\right)}-2 R \\left(\\tau \\right)^{2}+\\frac{1}{2}\\right) \\varepsilon +R \\left(\\tau \\right) \\left(\\frac{\\tau  \\left(\\sin \\left(-\\theta \\left(\\tau \\right)+\\Phi \\right)^{2}+\\cos \\left(-2 \\theta \\left(\\tau \\right)+2 \\Phi \\right)\\right) F^{2}}{4 R \\left(\\tau \\right)^{2}}+\\frac{5 F R \\left(\\tau \\right) \\cos \\left(-\\theta \\left(\\tau \\right)+\\Phi \\right)}{2}+\\frac{\\left(-\\frac{3 \\sigma  \\sin \\left(-\\theta \\left(\\tau \\right)+\\Phi \\right)}{8}+\\frac{\\sigma  \\tau  \\cos \\left(-\\theta \\left(\\tau \\right)+\\Phi \\right)}{4}-\\frac{\\cos \\left(-\\theta \\left(\\tau \\right)+\\Phi \\right)}{8}\\right) F}{R \\left(\\tau \\right)}+R \\left(\\tau \\right)^{2} \\sigma -\\frac{\\sigma}{4}\\right) \\varepsilon^{2}$$"
      ]
     },
     "execution_count": 30,
     "metadata": {},
     "output_type": "execute_result"
    }
   ],
   "source": [
    "series( diff(R(tau),tau), e, N+1 );"
   ]
  },
  {
   "cell_type": "code",
   "execution_count": 33,
   "id": "56673cf7",
   "metadata": {},
   "outputs": [],
   "source": [
    "RT := convert( eval( series( R(tau), tau, N+1 ), [theta(0)=phi,R(0)=A]), polynom):\n",
    "thetat := convert( eval( series( theta(tau), tau, N+1 ), [theta(0)=phi,R(0)=A]), polynom):\n",
    "combine( convert( coeff(zs,e,0), trig ),trig):\n",
    "maybe := series( eval(ztrig, [R(tau)=RT,theta(tau)=thetat])-zs, e, N+1):"
   ]
  },
  {
   "cell_type": "code",
   "execution_count": 34,
   "id": "97d32968",
   "metadata": {},
   "outputs": [
    {
     "data": {
      "text/markdown": [
       "$$\\mathrm{O}\\left(\\varepsilon^{3}\\right)$$"
      ]
     },
     "execution_count": 34,
     "metadata": {},
     "output_type": "execute_result"
    }
   ],
   "source": [
    "map(simplify,maybe);"
   ]
  },
  {
   "cell_type": "code",
   "execution_count": null,
   "id": "de4e46d6",
   "metadata": {},
   "outputs": [],
   "source": []
  }
 ],
 "metadata": {
  "kernelspec": {
   "display_name": "Maple 2024",
   "language": "maple",
   "name": "maple"
  },
  "language_info": {
   "file_extension": ".mpl",
   "mimetype": "application/vnd.maple.mpl",
   "name": "maple",
   "version": "2024"
  }
 },
 "nbformat": 4,
 "nbformat_minor": 5
}
