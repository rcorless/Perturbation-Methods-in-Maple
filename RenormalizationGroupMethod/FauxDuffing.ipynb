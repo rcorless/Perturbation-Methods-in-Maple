{
 "cells": [
  {
   "cell_type": "markdown",
   "id": "2af3960a",
   "metadata": {},
   "source": [
    "# The Renormalization Group (RG) method #\n",
    "##  for the false Duffing equation ##\n",
    "\n",
    "Support material for the book __Perturbation Methods from a Backward Error Point of View__ by Robert M. Corless and Nicolas Fillion, in preparation.\n",
    "\n",
    "This section of the book follows the method given in the very nice 2012 SIAM Review (Education) paper [\"The Renormalization Group: A Perturbation Method for the Graduate Curriculum\"](https://doi.org/10.1137/080731967) by Eleftherios Kirkinis. \n",
    "\n",
    "\n",
    "Copyright (c) 2024 Robert M. Corless\n",
    "\n",
    "Permission is hereby granted, free of charge, to any person obtaining a copy of this software and associated documentation files (the “Software”), to deal in the Software without restriction, including without limitation the rights to use, copy, modify, merge, publish, distribute, sublicense, and/or sell copies of the Software, and to permit persons to whom the Software is furnished to do so, subject to the following conditions:\n",
    "\n",
    "The above copyright notice and this permission notice shall be included in all copies or substantial portions of the Software.\n",
    "\n",
    "THE SOFTWARE IS PROVIDED “AS IS”, WITHOUT WARRANTY OF ANY KIND, EXPRESS OR IMPLIED, INCLUDING BUT NOT LIMITED TO THE WARRANTIES OF MERCHANTABILITY, FITNESS FOR A PARTICULAR PURPOSE AND NONINFRINGEMENT. IN NO EVENT SHALL THE AUTHORS OR COPYRIGHT HOLDERS BE LIABLE FOR ANY CLAIM, DAMAGES OR OTHER LIABILITY, WHETHER IN AN ACTION OF CONTRACT, TORT OR OTHERWISE, ARISING FROM, OUT OF OR IN CONNECTION WITH THE SOFTWARE OR THE USE OR OTHER DEALINGS IN THE SOFTWARE.\n",
    "\n"
   ]
  },
  {
   "cell_type": "markdown",
   "id": "9288022d",
   "metadata": {},
   "source": [
    "## Preliminaries ##\n",
    "\n",
    "First, some setup: a macro to allow easy typing of $\\varepsilon$, and some helper utilities."
   ]
  },
  {
   "cell_type": "code",
   "execution_count": 1,
   "id": "0c810e4d",
   "metadata": {},
   "outputs": [
    {
     "data": {
      "text/plain": [
       "kilobytes used=1676, alloc=5424, time=0.30"
      ]
     },
     "metadata": {},
     "output_type": "display_data"
    },
    {
     "data": {
      "text/markdown": [
       "$$\\varepsilon$$"
      ]
     },
     "execution_count": 1,
     "metadata": {},
     "output_type": "execute_result"
    }
   ],
   "source": [
    "starting_time := time():\n",
    "macro( ep = varepsilon );"
   ]
  },
  {
   "cell_type": "code",
   "execution_count": 2,
   "id": "883657d8",
   "metadata": {},
   "outputs": [
    {
     "data": {
      "text/markdown": [
       "$$\\mathit{residual}$$"
      ]
     },
     "execution_count": 2,
     "metadata": {},
     "output_type": "execute_result"
    }
   ],
   "source": [
    "simplify( residual );"
   ]
  },
  {
   "cell_type": "markdown",
   "id": "81676df6",
   "metadata": {},
   "source": [
    "## Input parameters: the DE and the order we work to ##\n",
    "\n",
    "This example is the false Duffing equation.  "
   ]
  },
  {
   "cell_type": "code",
   "execution_count": 3,
   "id": "474615b8",
   "metadata": {},
   "outputs": [
    {
     "data": {
      "text/markdown": [
       "$$\\frac{d^{2}}{d t^{2}}y \\left(t \\right)+\\frac{d}{d t}y \\left(t \\right)+\\varepsilon  y \\left(t \\right)^{3}$$"
      ]
     },
     "execution_count": 3,
     "metadata": {},
     "output_type": "execute_result"
    }
   ],
   "source": [
    "y := 'y':\n",
    "residual := 'residual':\n",
    "WeaklyNonlinear := diff(y(t), t, t) + diff(y(t), t) + ep*y(t)^3"
   ]
  },
  {
   "cell_type": "markdown",
   "id": "b9fb5a96",
   "metadata": {},
   "source": [
    "Choose the order to work to.  We will get the solution to $O(\\varepsilon^{N+1})$, first with secularity, and then without.  "
   ]
  },
  {
   "cell_type": "code",
   "execution_count": 4,
   "id": "e2d6dd77",
   "metadata": {},
   "outputs": [
    {
     "data": {
      "text/plain": [
       "                                    N := 1"
      ]
     },
     "metadata": {},
     "output_type": "display_data"
    },
    {
     "data": {
      "text/markdown": [
       "$$1$$"
      ]
     },
     "execution_count": 4,
     "metadata": {},
     "output_type": "execute_result"
    }
   ],
   "source": [
    "N := 1;  # Taking N=0 breaks some assumptions below, so choose N > 0."
   ]
  },
  {
   "cell_type": "markdown",
   "id": "00f77412",
   "metadata": {},
   "source": [
    "## Compute the naive secular solution ##"
   ]
  },
  {
   "cell_type": "code",
   "execution_count": 5,
   "id": "2419e387",
   "metadata": {},
   "outputs": [
    {
     "data": {
      "text/latex": [
       "$$\\mathit{Array}\\left(0..1, \\left[0, 0\\right]\\right)$$"
      ]
     },
     "execution_count": 5,
     "metadata": {},
     "output_type": "execute_result"
    }
   ],
   "source": [
    "ys := Array(0 .. N): # Placeholder for secular solution terms\n",
    "rs := Array(0 .. N): # Placeholder for residuals"
   ]
  },
  {
   "cell_type": "markdown",
   "id": "7382dc93",
   "metadata": {},
   "source": [
    "The initial approximation is a solution to $y'' + y' = 0$."
   ]
  },
  {
   "cell_type": "code",
   "execution_count": 6,
   "id": "828e6fe6",
   "metadata": {
    "scrolled": true
   },
   "outputs": [
    {
     "data": {
      "text/markdown": [
       "$$A +B \\,{\\mathrm e}^{-t}$$"
      ]
     },
     "execution_count": 6,
     "metadata": {},
     "output_type": "execute_result"
    }
   ],
   "source": [
    "ys[0] := A + B*exp(-t);"
   ]
  },
  {
   "cell_type": "code",
   "execution_count": 7,
   "id": "065a565b",
   "metadata": {},
   "outputs": [
    {
     "data": {
      "text/markdown": [
       "$$A +B \\,{\\mathrm e}^{-t}$$"
      ]
     },
     "execution_count": 7,
     "metadata": {},
     "output_type": "execute_result"
    }
   ],
   "source": [
    "zs := ys[0]: # Current secular solution in the variable \"zs\""
   ]
  },
  {
   "cell_type": "markdown",
   "id": "1aa9bb58",
   "metadata": {},
   "source": [
    "Build up the regular perturbation solution using our fast \"particular solution\" solver. We ignore initial conditions entirely; we will fix them up at the end if we need to.\n",
    "\n",
    "Regular perturbation solves the linearized system $y'' + y =$ the negative of the coefficient of $\\varepsilon^k$ in the residual of $y_{k-1}$.\n"
   ]
  },
  {
   "cell_type": "code",
   "execution_count": 8,
   "id": "71c8a5d9",
   "metadata": {
    "scrolled": true
   },
   "outputs": [
    {
     "data": {
      "text/plain": [
       "kilobytes used=5705, alloc=9814, time=0.70"
      ]
     },
     "metadata": {},
     "output_type": "display_data"
    }
   ],
   "source": [
    "loop_start := time():\n",
    "times := Array(1 .. N):\n",
    "for k to N do\n",
    "    residuals[k - 1] := combine(expand(\n",
    "                          coeff(eval(WeaklyNonlinear, y(t) = zs), ep, k)),\n",
    "                          exp);\n",
    "    newans := rhs( dsolve( \n",
    "      {diff(y(t),t,t) + diff(y(t),t) = - residuals[k-1],\n",
    "       y(0)=0, D(y)(0)=0}, y(t)\n",
    "                          )\n",
    "                );\n",
    "    ys[k] := newans;\n",
    "    zs := zs + ys[k]*ep^k;\n",
    "    times[k] := time();\n",
    "end do:"
   ]
  },
  {
   "cell_type": "code",
   "execution_count": 9,
   "id": "81eb0a20",
   "metadata": {},
   "outputs": [
    {
     "data": {
      "text/markdown": [
       "$$A +B \\,{\\mathrm e}^{-t}+\\left(\\frac{\\left(-2 A^{3}+6 A^{2} B \\left(t +1\\right)+6 A \\,B^{2}+B^{3}\\right) {\\mathrm e}^{-t}}{2}-\\frac{B^{3} {\\mathrm e}^{-3 t}}{6}-\\frac{3 A \\,B^{2} {\\mathrm e}^{-2 t}}{2}+\\left(-t +1\\right) A^{3}-3 A^{2} B -\\frac{3 A \\,B^{2}}{2}-\\frac{B^{3}}{3}\\right) \\varepsilon$$"
      ]
     },
     "execution_count": 9,
     "metadata": {},
     "output_type": "execute_result"
    }
   ],
   "source": [
    "zs;"
   ]
  },
  {
   "cell_type": "markdown",
   "id": "7fafb1d7",
   "metadata": {},
   "source": [
    "Always compute the final residual.  Here, we are just computing the leading coefficient of the final residual; that is enough for us here."
   ]
  },
  {
   "cell_type": "code",
   "execution_count": 10,
   "id": "28254102",
   "metadata": {},
   "outputs": [
    {
     "data": {
      "text/plain": [
       "memory used=2.36MiB, alloc change=0 bytes, cpu time=16.00ms, real time=18.00ms, gc time=0ns"
      ]
     },
     "metadata": {},
     "output_type": "display_data"
    },
    {
     "data": {
      "text/markdown": [
       "$$-\\frac{K_{1}}{2} \\varepsilon^{2}$$"
      ]
     },
     "execution_count": 10,
     "metadata": {},
     "output_type": "execute_result"
    }
   ],
   "source": [
    "residuals[N] := CodeTools:-Usage(\n",
    "  map(LargeExpressions:-Veil[K], \n",
    "  series(leadterm(\n",
    "    combine(expand(eval(WeaklyNonlinear, y(t) = zs)), exp)),\n",
    "       ep)\n",
    "     )                          );"
   ]
  },
  {
   "cell_type": "markdown",
   "id": "921887a2",
   "metadata": {},
   "source": [
    "For this equation, the secular terms arise from A and from B in different ways."
   ]
  },
  {
   "cell_type": "code",
   "execution_count": 11,
   "id": "711af4d0",
   "metadata": {
    "scrolled": true
   },
   "outputs": [
    {
     "data": {
      "text/markdown": [
       "$$A +\\left(\\left(-t +1\\right) A^{3}-3 A^{2} B -\\frac{3 A \\,B^{2}}{2}-\\frac{B^{3}}{3}\\right) \\varepsilon$$"
      ]
     },
     "execution_count": 11,
     "metadata": {},
     "output_type": "execute_result"
    }
   ],
   "source": [
    "as := eval(zs, exp=0 );"
   ]
  },
  {
   "cell_type": "code",
   "execution_count": 12,
   "id": "55cde842",
   "metadata": {
    "scrolled": true
   },
   "outputs": [
    {
     "data": {
      "text/markdown": [
       "$$A +B Z +\\left(\\frac{\\left(-2 A^{3}+6 A^{2} B \\left(t +1\\right)+6 A \\,B^{2}+B^{3}\\right) Z}{2}-\\frac{B^{3} Z^{3}}{6}-\\frac{3 A \\,B^{2} Z^{2}}{2}+\\left(-t +1\\right) A^{3}-3 A^{2} B -\\frac{3 A \\,B^{2}}{2}-\\frac{B^{3}}{3}\\right) \\varepsilon$$"
      ]
     },
     "execution_count": 12,
     "metadata": {},
     "output_type": "execute_result"
    }
   ],
   "source": [
    "tmp := eval( zs, [exp(-t)=Z, exp(-2*t)=Z^2, exp(-3*t)=Z^3]);"
   ]
  },
  {
   "cell_type": "code",
   "execution_count": 13,
   "id": "8f2ca180",
   "metadata": {},
   "outputs": [
    {
     "data": {
      "text/markdown": [
       "$$B +\\left(-A^{3}+3 A^{2} B \\left(t +1\\right)+3 A \\,B^{2}+\\frac{B^{3}}{2}\\right) \\varepsilon$$"
      ]
     },
     "execution_count": 13,
     "metadata": {},
     "output_type": "execute_result"
    }
   ],
   "source": [
    "bs := coeff(tmp, Z );"
   ]
  },
  {
   "cell_type": "code",
   "execution_count": 14,
   "id": "9d8d456e",
   "metadata": {},
   "outputs": [
    {
     "data": {
      "text/markdown": [
       "$$-A^{2} \\varepsilon +\\mathrm{O}\\left(\\varepsilon^{2}\\right)$$"
      ]
     },
     "execution_count": 14,
     "metadata": {},
     "output_type": "execute_result"
    }
   ],
   "source": [
    "eval( series( diff(as,t)/as, ep, N+1 ), t=0 );"
   ]
  },
  {
   "cell_type": "code",
   "execution_count": 15,
   "id": "d0c0e8eb",
   "metadata": {},
   "outputs": [
    {
     "data": {
      "text/markdown": [
       "$$3 A^{2} \\varepsilon +\\mathrm{O}\\left(\\varepsilon^{2}\\right)$$"
      ]
     },
     "execution_count": 15,
     "metadata": {},
     "output_type": "execute_result"
    }
   ],
   "source": [
    "eval( series( diff(bs,t)/bs, ep, N+1), t=0 );"
   ]
  },
  {
   "cell_type": "markdown",
   "id": "9a7f06c9",
   "metadata": {},
   "source": [
    "These are more complicated than those of the other class of equation.  At first order they are simple enough, but at second order they become a set of _rational_ coupled differential equations.  Luckily the first order is already enough to let us solve the problem quite adequately."
   ]
  }
 ],
 "metadata": {
  "kernelspec": {
   "display_name": "Maple 2024",
   "language": "maple",
   "name": "maple"
  },
  "language_info": {
   "file_extension": ".mpl",
   "mimetype": "application/vnd.maple.mpl",
   "name": "maple",
   "version": "2024"
  }
 },
 "nbformat": 4,
 "nbformat_minor": 5
}
