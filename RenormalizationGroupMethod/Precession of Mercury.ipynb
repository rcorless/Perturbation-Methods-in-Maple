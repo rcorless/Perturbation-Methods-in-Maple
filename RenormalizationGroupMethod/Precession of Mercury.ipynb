{
 "cells": [
  {
   "cell_type": "markdown",
   "id": "2af3960a",
   "metadata": {},
   "source": [
    "# The Renormalization Group (RG) method #\n",
    "##  for weakly nonlinear oscillator equations ##\n",
    "\n",
    "Support material for the book __Perturbation Methods from a Backward Error Point of View__ by Robert M. Corless and Nicolas Fillion, in preparation.\n",
    "\n",
    "This section of the book follows the method given in the very nice 2012 SIAM Review (Education) paper [\"The Renormalization Group: A Perturbation Method for the Graduate Curriculum\"](https://doi.org/10.1137/080731967) by Eleftherios Kirkinis. \n",
    "\n",
    "\n",
    "Copyright (c) 2024 Robert M. Corless\n",
    "\n",
    "Permission is hereby granted, free of charge, to any person obtaining a copy of this software and associated documentation files (the “Software”), to deal in the Software without restriction, including without limitation the rights to use, copy, modify, merge, publish, distribute, sublicense, and/or sell copies of the Software, and to permit persons to whom the Software is furnished to do so, subject to the following conditions:\n",
    "\n",
    "The above copyright notice and this permission notice shall be included in all copies or substantial portions of the Software.\n",
    "\n",
    "THE SOFTWARE IS PROVIDED “AS IS”, WITHOUT WARRANTY OF ANY KIND, EXPRESS OR IMPLIED, INCLUDING BUT NOT LIMITED TO THE WARRANTIES OF MERCHANTABILITY, FITNESS FOR A PARTICULAR PURPOSE AND NONINFRINGEMENT. IN NO EVENT SHALL THE AUTHORS OR COPYRIGHT HOLDERS BE LIABLE FOR ANY CLAIM, DAMAGES OR OTHER LIABILITY, WHETHER IN AN ACTION OF CONTRACT, TORT OR OTHERWISE, ARISING FROM, OUT OF OR IN CONNECTION WITH THE SOFTWARE OR THE USE OR OTHER DEALINGS IN THE SOFTWARE.\n",
    "\n"
   ]
  },
  {
   "cell_type": "markdown",
   "id": "9288022d",
   "metadata": {},
   "source": [
    "## Preliminaries ##\n",
    "\n",
    "First, some setup: a macro to allow easy typing of $\\varepsilon$, and some helper utilities."
   ]
  },
  {
   "cell_type": "code",
   "execution_count": 1,
   "id": "0c810e4d",
   "metadata": {},
   "outputs": [
    {
     "data": {
      "text/plain": [
       "kilobytes used=1794, alloc=5424, time=0.34"
      ]
     },
     "metadata": {},
     "output_type": "display_data"
    },
    {
     "data": {
      "text/markdown": [
       "$$\\varepsilon$$"
      ]
     },
     "execution_count": 1,
     "metadata": {},
     "output_type": "execute_result"
    }
   ],
   "source": [
    "starting_time := time():\n",
    "macro( e = varepsilon );"
   ]
  },
  {
   "cell_type": "markdown",
   "id": "74af7581",
   "metadata": {},
   "source": [
    "The following helper routine makes life somewhat easier.\n",
    "\n",
    "\"partsol\" finds a particular solution of $y'' + y = Q \\exp(i t\\omega)$ more quickly than dsolve does, and leaves the answer in the form $P\\exp(i t\\omega)$.\n"
   ]
  },
  {
   "cell_type": "code",
   "execution_count": 2,
   "id": "2036f61c",
   "metadata": {},
   "outputs": [],
   "source": [
    "partsol := proc( Q, x, omega)\n",
    "\tlocal k, m, mdeg, p;\n",
    "\tm := degree( Q, x );\n",
    "\tif omega^2=1 then\n",
    "\t\tmdeg := m+1;\n",
    "\telse\n",
    "\t\tmdeg := m;\n",
    "\tend if;\n",
    "\tP := add(p[k]*x^k,k=0..mdeg);\n",
    "\tzr := collect( Q - (1-omega^2)*P - \n",
    "\t              2*I*omega*diff(P,x) - diff(P,x,x), x);\n",
    "\teqs := PolynomialTools:-CoefficientList(zr,x);\n",
    "\tsol := solve(convert(eqs,set), {seq(p[k],k=0..mdeg)} );\n",
    "\treturn eval( eval(P, sol), p[0]=0 );\n",
    "end proc:"
   ]
  },
  {
   "cell_type": "markdown",
   "id": "9c586e2d",
   "metadata": {},
   "source": [
    "Just to see how it works, here are three examples.  First, solve $y'' + y = 1*\\exp(i 1 x)$:"
   ]
  },
  {
   "cell_type": "code",
   "execution_count": 3,
   "id": "7a2e5db0",
   "metadata": {},
   "outputs": [
    {
     "data": {
      "text/markdown": [
       "$$-\\frac{\\mathrm{I}}{2} x$$"
      ]
     },
     "execution_count": 3,
     "metadata": {},
     "output_type": "execute_result"
    }
   ],
   "source": [
    "a := partsol( 1, x, 1 );"
   ]
  },
  {
   "cell_type": "markdown",
   "id": "ce91b59f",
   "metadata": {},
   "source": [
    "Now we check, to see if $y = a\\exp(ix)$ solves the given differential equation:"
   ]
  },
  {
   "cell_type": "code",
   "execution_count": 4,
   "id": "23e1c79c",
   "metadata": {},
   "outputs": [
    {
     "data": {
      "text/markdown": [
       "$$0$$"
      ]
     },
     "execution_count": 4,
     "metadata": {},
     "output_type": "execute_result"
    }
   ],
   "source": [
    "y := a*exp(I*x):\n",
    "residual := diff(y,x,x) + y - exp(I*x);"
   ]
  },
  {
   "cell_type": "markdown",
   "id": "5c32ade5",
   "metadata": {},
   "source": [
    "Another example: solve $y'' + y = 1\\cdot \\exp(i 2 x)$:"
   ]
  },
  {
   "cell_type": "code",
   "execution_count": 5,
   "id": "9c760af3",
   "metadata": {},
   "outputs": [
    {
     "data": {
      "text/plain": [
       "kilobytes used=3880, alloc=9776, time=0.62"
      ]
     },
     "metadata": {},
     "output_type": "display_data"
    },
    {
     "data": {
      "text/markdown": [
       "$$-{\\frac{1}{3}}$$"
      ]
     },
     "execution_count": 5,
     "metadata": {},
     "output_type": "execute_result"
    }
   ],
   "source": [
    "a := partsol( 1, x, 2 );"
   ]
  },
  {
   "cell_type": "code",
   "execution_count": 6,
   "id": "9db521ba",
   "metadata": {},
   "outputs": [
    {
     "data": {
      "text/markdown": [
       "$$0$$"
      ]
     },
     "execution_count": 6,
     "metadata": {},
     "output_type": "execute_result"
    }
   ],
   "source": [
    "y := a*exp(I*2*x):\n",
    "residual := diff(y,x,x) + y - exp(I*2*x);"
   ]
  },
  {
   "cell_type": "markdown",
   "id": "9ac07a42",
   "metadata": {},
   "source": [
    "Both of those checked out.  Now try a harder example, $y'' + y = (x+3)\\exp(ix)$, which has some resonance."
   ]
  },
  {
   "cell_type": "code",
   "execution_count": 7,
   "id": "7277f1e0",
   "metadata": {},
   "outputs": [
    {
     "data": {
      "text/markdown": [
       "$$-\\frac{\\mathrm{I} x^{2}}{4}+\\left(\\frac{1}{4}-\\frac{3 \\,\\mathrm{I}}{2}\\right) x$$"
      ]
     },
     "execution_count": 7,
     "metadata": {},
     "output_type": "execute_result"
    }
   ],
   "source": [
    "a := partsol( x+3, x, 1 );"
   ]
  },
  {
   "cell_type": "code",
   "execution_count": 8,
   "id": "897543b9",
   "metadata": {},
   "outputs": [
    {
     "data": {
      "text/markdown": [
       "$$-\\frac{\\mathrm{I} \\,{\\mathrm e}^{\\mathrm{I} x}}{2}+2 \\,\\mathrm{I} \\left(-\\frac{\\mathrm{I} x}{2}+\\frac{1}{4}-\\frac{3 \\,\\mathrm{I}}{2}\\right) {\\mathrm e}^{\\mathrm{I} x}-\\left(x +3\\right) {\\mathrm e}^{\\mathrm{I} x}$$"
      ]
     },
     "execution_count": 8,
     "metadata": {},
     "output_type": "execute_result"
    }
   ],
   "source": [
    "y := a*exp(I*x):\n",
    "residual := diff(y,x,x) + y - (x+3)*exp(I*x);"
   ]
  },
  {
   "cell_type": "markdown",
   "id": "b7a40d23",
   "metadata": {},
   "source": [
    "That doesn't _look_ like zero, but it is."
   ]
  },
  {
   "cell_type": "code",
   "execution_count": 9,
   "id": "883657d8",
   "metadata": {},
   "outputs": [
    {
     "data": {
      "text/markdown": [
       "$$0$$"
      ]
     },
     "execution_count": 9,
     "metadata": {},
     "output_type": "execute_result"
    }
   ],
   "source": [
    "simplify( residual );"
   ]
  },
  {
   "cell_type": "markdown",
   "id": "81676df6",
   "metadata": {},
   "source": [
    "## Input parameters: the DE and the order we work to ##\n",
    "\n",
    "This example is the Rayleigh equation.  You can change it to be whatever you want."
   ]
  },
  {
   "cell_type": "code",
   "execution_count": 10,
   "id": "474615b8",
   "metadata": {},
   "outputs": [
    {
     "data": {
      "text/plain": [
       "                                                 \\dt      /"
      ]
     },
     "metadata": {},
     "output_type": "display_data"
    },
    {
     "data": {
      "text/markdown": [
       "$$-\\frac{3 \\left(y \\left(t \\right)+1\\right)^{2} \\varepsilon}{2}+\\frac{d^{2}}{d t^{2}}y \\left(t \\right)+y \\left(t \\right)$$"
      ]
     },
     "execution_count": 10,
     "metadata": {},
     "output_type": "execute_result"
    }
   ],
   "source": [
    "y := 'y':\n",
    "residual := 'residual':\n",
    "y := 'y';\n",
    "firstorder := (diff(v(t),t))^2 - 2*v(t) + v(t)^2 - e*v(t)^3 + beta;\n",
    "secondorder := normal( diff( firstorder, t )/2/diff(v(t),t));\n",
    "WeaklyNonlinear := eval(secondorder, v(t)=y(t)+1);"
   ]
  },
  {
   "cell_type": "markdown",
   "id": "b9fb5a96",
   "metadata": {},
   "source": [
    "Choose the order to work to.  We will get the solution to $O(\\varepsilon^{N+1})$, first with secularity, and then without.  We have taken $N$ as high as $16$, where the total process took about twenty-six minutes with our original, specialized code.  We have since replaced that specialized code because it was too fragile; changing the differential equation caused it to break very easily.  The timing is now longer: for $N=8$ it takes 50 seconds, or less than a minute. For N=12 it takes 336 seconds, or five and a half minutes. For $N=16$ the code now takes 35 minutes."
   ]
  },
  {
   "cell_type": "code",
   "execution_count": 11,
   "id": "e2d6dd77",
   "metadata": {},
   "outputs": [
    {
     "data": {
      "text/plain": [
       "                                    N := 1"
      ]
     },
     "metadata": {},
     "output_type": "display_data"
    },
    {
     "data": {
      "text/markdown": [
       "$$1$$"
      ]
     },
     "execution_count": 11,
     "metadata": {},
     "output_type": "execute_result"
    }
   ],
   "source": [
    "N := 1;  # Taking N=0 breaks some assumptions below, so choose N > 0."
   ]
  },
  {
   "cell_type": "markdown",
   "id": "00f77412",
   "metadata": {},
   "source": [
    "## Compute the naive secular solution ##"
   ]
  },
  {
   "cell_type": "code",
   "execution_count": 12,
   "id": "2419e387",
   "metadata": {},
   "outputs": [
    {
     "data": {
      "text/latex": [
       "$$\\mathit{Array}\\left(0..1, \\left[0, 0\\right]\\right)$$"
      ]
     },
     "execution_count": 12,
     "metadata": {},
     "output_type": "execute_result"
    }
   ],
   "source": [
    "ys := Array(0 .. N): # Placeholder for secular solution terms\n",
    "rs := Array(0 .. N): # Placeholder for residuals"
   ]
  },
  {
   "cell_type": "markdown",
   "id": "7382dc93",
   "metadata": {},
   "source": [
    "The initial approximation is a solution to $y'' + y = 0$, which we write in complex conjugate form."
   ]
  },
  {
   "cell_type": "code",
   "execution_count": 13,
   "id": "828e6fe6",
   "metadata": {
    "scrolled": true
   },
   "outputs": [
    {
     "data": {
      "text/markdown": [
       "$$A \\,{\\mathrm e}^{\\mathrm{I} \\phi} {\\mathrm e}^{\\mathrm{I} t}+A \\,{\\mathrm e}^{\\mathrm{-I} \\phi} {\\mathrm e}^{\\mathrm{-I} t}$$"
      ]
     },
     "execution_count": 13,
     "metadata": {},
     "output_type": "execute_result"
    }
   ],
   "source": [
    "ys[0] := A*exp(phi*I)*exp(t*I) + A*exp(-I*phi)*exp(-I*t);"
   ]
  },
  {
   "cell_type": "code",
   "execution_count": 14,
   "id": "065a565b",
   "metadata": {},
   "outputs": [
    {
     "data": {
      "text/markdown": [
       "$$A \\,{\\mathrm e}^{\\mathrm{I} \\phi} {\\mathrm e}^{\\mathrm{I} t}+A \\,{\\mathrm e}^{\\mathrm{-I} \\phi} {\\mathrm e}^{\\mathrm{-I} t}$$"
      ]
     },
     "execution_count": 14,
     "metadata": {},
     "output_type": "execute_result"
    }
   ],
   "source": [
    "zs := ys[0]: # Current secular solution in the variable \"zs\""
   ]
  },
  {
   "cell_type": "markdown",
   "id": "1aa9bb58",
   "metadata": {},
   "source": [
    "Build up the regular perturbation solution using our fast \"particular solution\" solver. We ignore initial conditions entirely; we will fix them up at the end if we need to.\n",
    "\n",
    "Regular perturbation solves the linearized system $y'' + y =$ the negative of the coefficient of $\\varepsilon^k$ in the residual of $y_{k-1}$.\n"
   ]
  },
  {
   "cell_type": "code",
   "execution_count": 15,
   "id": "71c8a5d9",
   "metadata": {
    "scrolled": true
   },
   "outputs": [],
   "source": [
    "loop_start := time():\n",
    "times := Array(1 .. N):\n",
    "for k to N do\n",
    "    residuals[k - 1] := combine(expand(\n",
    "                          coeff(eval(WeaklyNonlinear, y(t) = zs), e, k)),\n",
    "                          exp);\n",
    "    if type(residuals[k - 1], `+`) then\n",
    "        newans := 0;\n",
    "        for trm in op(residuals[k - 1]) do\n",
    "            expco := eval(trm, exp = 1);\n",
    "            exptrm := simplify(trm/expco) assuming A>0, phi::real ;\n",
    "            if not match(exptrm = 'exp((t + theta)*omega__1*I)', t, 's') then\n",
    "                error \"Unexpected form of a term in the residual:\", exptrm;\n",
    "            else\n",
    "                newans := newans + partsol(op(eval([expco, t, omega__1], s)))*eval(exp((t + theta)*omega__1*I), s);\n",
    "            end if;\n",
    "        end do;\n",
    "    end if;\n",
    "    ys[k] := -newans;\n",
    "    zs := zs + ys[k]*e^k;\n",
    "    times[k] := time();\n",
    "end do:"
   ]
  },
  {
   "cell_type": "markdown",
   "id": "7fafb1d7",
   "metadata": {},
   "source": [
    "Always compute the final residual.  Here, we are just computing the leading coefficient of the final residual; that is enough for us here."
   ]
  },
  {
   "cell_type": "code",
   "execution_count": 16,
   "id": "28254102",
   "metadata": {},
   "outputs": [
    {
     "data": {
      "text/plain": [
       "memory used=7.47MiB, alloc change=0 bytes, cpu time=109.00ms, real time=106.00ms, gc time=0ns"
      ]
     },
     "metadata": {},
     "output_type": "display_data"
    },
    {
     "data": {
      "text/markdown": [
       "$$\\frac{3 K_{1}}{2} \\varepsilon^{2}$$"
      ]
     },
     "execution_count": 16,
     "metadata": {},
     "output_type": "execute_result"
    }
   ],
   "source": [
    "residuals[N] := CodeTools:-Usage(\n",
    "  map(LargeExpressions:-Veil[K], \n",
    "  series(leadterm(\n",
    "    combine(expand(eval(WeaklyNonlinear, y(t) = zs)), exp)),\n",
    "       e)\n",
    "     )                          );"
   ]
  },
  {
   "cell_type": "markdown",
   "id": "921887a2",
   "metadata": {},
   "source": [
    "The secular term has $\\exp(i t)$ in it, but might also get mixed up with $\\exp(i(t+\\phi))$ or $\\exp(i(t-\\phi))$.  So we get them all."
   ]
  },
  {
   "cell_type": "code",
   "execution_count": 17,
   "id": "419073a7",
   "metadata": {},
   "outputs": [],
   "source": [
    "saecular := coeff(zs, exp(t*I)) \n",
    "  + exp(phi*I)*coeff(zs, exp((t + phi)*I)) \n",
    "  + exp(-I*phi)*coeff(zs, exp((t - phi)*I)):"
   ]
  },
  {
   "cell_type": "markdown",
   "id": "5e9954e1",
   "metadata": {},
   "source": [
    "We clean this up a bit."
   ]
  },
  {
   "cell_type": "code",
   "execution_count": 18,
   "id": "1b0adf91",
   "metadata": {},
   "outputs": [],
   "source": [
    "saecular := (collect(saecular, e, m -> Re(m) + Im(m)*I) \n",
    "             assuming (0 < t, A>0, phi::real)):\n",
    "saecular := (simplify(saecular) assuming (0 < t, A > 0, phi::real)):\n",
    "saecular := collect(saecular, e, factor):"
   ]
  },
  {
   "cell_type": "markdown",
   "id": "adec9472",
   "metadata": {},
   "source": [
    "## Compute the secular series ##\n",
    "\n",
    "The _secular series_ is available from this term."
   ]
  },
  {
   "cell_type": "code",
   "execution_count": 19,
   "id": "36f15e0a",
   "metadata": {},
   "outputs": [],
   "source": [
    "yA := collect(saecular/(A*exp(phi*I)), e):\n",
    "yA := (collect(yA, e, m -> Re(m) + Im(m)*I) \n",
    "  assuming (0 < t, A>0, phi::real)):\n",
    "yA := combine(yA, trig):"
   ]
  },
  {
   "cell_type": "markdown",
   "id": "40ad69ba",
   "metadata": {},
   "source": [
    "## Express A in terms of R ##\n",
    "Now we will need to invert $R = A y_A$ and the best way is by a real equation.  $R$ is real and $A > 0$ by our choice of $\\phi$.  The equation that we will solve is $f(R,A,\\varepsilon) = 0$ where $f(R,A,\\varepsilon) = R^2 - A^2(\\Re(y_A)^2 + \\Im(y_A)^2)$."
   ]
  },
  {
   "cell_type": "code",
   "execution_count": 20,
   "id": "2400d2cb",
   "metadata": {},
   "outputs": [],
   "source": [
    "rhosq := series(evalc(Re(yA)^2 + Im(yA)^2), e, N + 1):\n",
    "rhosq := map(simplify, rhosq):\n",
    "rhosq := convert(rhosq, polynom):\n",
    "freqn := R^2 - A^2*rhosq:"
   ]
  },
  {
   "cell_type": "markdown",
   "id": "9b6c3723",
   "metadata": {},
   "source": [
    "We will solve this perturbatively for $A = g(R,\\varepsilon)$.  We need the derivative, for our regular perturbation method."
   ]
  },
  {
   "cell_type": "code",
   "execution_count": 21,
   "id": "80720f71",
   "metadata": {},
   "outputs": [
    {
     "data": {
      "text/markdown": [
       "$$2 R$$"
      ]
     },
     "execution_count": 21,
     "metadata": {},
     "output_type": "execute_result"
    }
   ],
   "source": [
    "eval(diff(freqn, R), e = 0);"
   ]
  },
  {
   "cell_type": "markdown",
   "id": "74958cf0",
   "metadata": {},
   "source": [
    "So our inverse operator is $\\frac{1}{2R}$.  Now check that our initial approximation A=R is accurate enough:"
   ]
  },
  {
   "cell_type": "code",
   "execution_count": 22,
   "id": "9c3f7de8",
   "metadata": {},
   "outputs": [
    {
     "data": {
      "text/markdown": [
       "$$0$$"
      ]
     },
     "execution_count": 22,
     "metadata": {},
     "output_type": "execute_result"
    }
   ],
   "source": [
    "series(leadterm(eval(freqn, A = R)), e);"
   ]
  },
  {
   "cell_type": "markdown",
   "id": "ab31f96e",
   "metadata": {},
   "source": [
    "So $A =  R + O(\\varepsilon)$ is a good initial approximation.\n",
    "Let's use the array \"Eh\" to represent our terms in the $A$ expansion."
   ]
  },
  {
   "cell_type": "code",
   "execution_count": 23,
   "id": "f86e5130",
   "metadata": {
    "scrolled": true
   },
   "outputs": [
    {
     "data": {
      "text/latex": [
       "$$\\mathit{Array}\\left(0..1, \\left[0, 0\\right]\\right)$$"
      ]
     },
     "execution_count": 23,
     "metadata": {},
     "output_type": "execute_result"
    }
   ],
   "source": [
    "Eh := Array(0 .. N): # get them one by one\n",
    "residEh := Array(0 .. N): # keep the residuals as well"
   ]
  },
  {
   "cell_type": "markdown",
   "id": "9053677e",
   "metadata": {},
   "source": [
    "Our initial approximation:"
   ]
  },
  {
   "cell_type": "code",
   "execution_count": 24,
   "id": "7fced82b",
   "metadata": {},
   "outputs": [
    {
     "data": {
      "text/markdown": [
       "$$R$$"
      ]
     },
     "execution_count": 24,
     "metadata": {},
     "output_type": "execute_result"
    }
   ],
   "source": [
    "Eh[0] := R:\n",
    "Ehz := Eh[0]: # Running solution"
   ]
  },
  {
   "cell_type": "markdown",
   "id": "021b5e56",
   "metadata": {},
   "source": [
    "Now we use our basic perturbation algorithm to find $A$ in terms of $R$, $\\varepsilon$, and $t$."
   ]
  },
  {
   "cell_type": "code",
   "execution_count": 25,
   "id": "0a4ca6af",
   "metadata": {},
   "outputs": [],
   "source": [
    "for k to N do\n",
    "    residEh[k - 1] := coeff(map(simplify, series(eval(freqn, A = Ehz), e, k + 2)), e, k);\n",
    "    Eh[k] := residEh[k - 1]*e^k/(2*R);\n",
    "    Ehz := Ehz + Eh[k];\n",
    "end do:"
   ]
  },
  {
   "cell_type": "markdown",
   "id": "138bb02b",
   "metadata": {},
   "source": [
    "Check the final residual: (We don't want to look at the leading coefficient, which will be ugly, but we do want to know the order: so we Veil the coefficient)"
   ]
  },
  {
   "cell_type": "code",
   "execution_count": 26,
   "id": "b8c1ab09",
   "metadata": {},
   "outputs": [
    {
     "data": {
      "text/plain": [
       "memory used=3.38KiB, alloc change=0 bytes, cpu time=0ns, real time=0ns, gc time=0ns"
      ]
     },
     "metadata": {},
     "output_type": "display_data"
    },
    {
     "data": {
      "text/markdown": [
       "$$0$$"
      ]
     },
     "execution_count": 26,
     "metadata": {},
     "output_type": "execute_result"
    }
   ],
   "source": [
    "residEh[N] := CodeTools:-Usage(\n",
    "  map(LargeExpressions:-Veil[K], \n",
    "  map(simplify, \n",
    "  series(eval(freqn, A = Ehz), e, N + 2)\n",
    "     )\n",
    "     )                        );"
   ]
  },
  {
   "cell_type": "code",
   "execution_count": 27,
   "id": "5fcec697",
   "metadata": {
    "scrolled": true
   },
   "outputs": [
    {
     "data": {
      "text/plain": [
       "                                   -3/2 I t"
      ]
     },
     "metadata": {},
     "output_type": "display_data"
    },
    {
     "data": {
      "text/markdown": [
       "$$-\\frac{3 \\,\\mathrm{I}}{2} t$$"
      ]
     },
     "execution_count": 27,
     "metadata": {},
     "output_type": "execute_result"
    }
   ],
   "source": [
    "yA := convert(yA, polynom): # The series data structure can be inconvenient\n",
    "# Maple's internal series data structure is a bit hard to handle sometimes.\n",
    "coeff( yA, e, 1 ); # Let's look at the first term."
   ]
  },
  {
   "cell_type": "markdown",
   "id": "0fe63793",
   "metadata": {},
   "source": [
    "## Reverse Engineering the Amplitude and Phase DEs ##\n",
    "\n",
    "The real part of $\\dot{y}_A/y_A$ is $\\dot{R}/R$, and this is crucial for the renormalization process."
   ]
  },
  {
   "cell_type": "code",
   "execution_count": 28,
   "id": "47fcfbf0",
   "metadata": {},
   "outputs": [
    {
     "data": {
      "text/markdown": [
       "$$0$$"
      ]
     },
     "execution_count": 28,
     "metadata": {},
     "output_type": "execute_result"
    }
   ],
   "source": [
    "reyAtyA := (Re(diff(yA, t)/yA) assuming (0 < t, 0 < e, 0 < A, phi::real)):\n",
    "series(eval(reyAtyA, A = Ehz), e, N + 1):\n",
    "simplify(%):\n",
    "slowRderiv := R*convert(%,polynom);"
   ]
  },
  {
   "cell_type": "markdown",
   "id": "32e79e8d",
   "metadata": {},
   "source": [
    "Now we convert that _expression_ into a _procedure_ which Maple will be able to use to differentiate the function $R(t)$."
   ]
  },
  {
   "cell_type": "code",
   "execution_count": 29,
   "id": "2666a67b",
   "metadata": {
    "scrolled": true
   },
   "outputs": [
    {
     "data": {
      "text/plain": [
       "proc (expr, var) 0 end proc"
      ]
     },
     "execution_count": 29,
     "metadata": {},
     "output_type": "execute_result"
    }
   ],
   "source": [
    "`diff/R` := codegen[makeproc](\n",
    "  eval(slowRderiv*'diff'('expr', 'var'), R = R(expr)), \n",
    "  parameters = [expr, var]);"
   ]
  },
  {
   "cell_type": "markdown",
   "id": "fedb5539",
   "metadata": {},
   "source": [
    "Now test that Maple knows what the derivative of $R(t)$ is."
   ]
  },
  {
   "cell_type": "code",
   "execution_count": 30,
   "id": "e6b071cd",
   "metadata": {},
   "outputs": [
    {
     "data": {
      "text/markdown": [
       "$$0$$"
      ]
     },
     "execution_count": 30,
     "metadata": {},
     "output_type": "execute_result"
    }
   ],
   "source": [
    "diff( R(t), t );"
   ]
  },
  {
   "cell_type": "markdown",
   "id": "c85dcda9",
   "metadata": {},
   "source": [
    "Now do the same for the $\\theta$ equation"
   ]
  },
  {
   "cell_type": "code",
   "execution_count": 31,
   "id": "29cd397c",
   "metadata": {},
   "outputs": [],
   "source": [
    "ImyAtyA := (Im(diff(yA, t)/yA) assuming (0 < t, 0 < e, 0 < A, phi::real )):\n",
    "ImyAtyA := series(eval(ImyAtyA, A = Ehz), e, N + 1):\n",
    "ImyAtyA := simplify(ImyAtyA):\n",
    "ImyAtyA := convert(ImyAtyA, polynom):\n",
    "`diff/theta` := codegen[makeproc](\n",
    "  eval(ImyAtyA*'diff'('expr', 'var'), R = R(expr)), \n",
    "  parameters = [expr, var]):"
   ]
  },
  {
   "cell_type": "code",
   "execution_count": 32,
   "id": "b2cc8f2d",
   "metadata": {},
   "outputs": [
    {
     "data": {
      "text/markdown": [
       "$$-\\frac{3 \\varepsilon}{2}$$"
      ]
     },
     "execution_count": 32,
     "metadata": {},
     "output_type": "execute_result"
    }
   ],
   "source": [
    "diff( theta(t), t );"
   ]
  },
  {
   "cell_type": "markdown",
   "id": "06450fb3",
   "metadata": {},
   "source": [
    "## Finding the Renormalized Solution ##\n",
    "\n",
    "We are now in a position to re-do the perturbation computation, starting from our improved initial approximation.  This time, there will be no secular terms."
   ]
  },
  {
   "cell_type": "code",
   "execution_count": 33,
   "id": "1d856040",
   "metadata": {},
   "outputs": [],
   "source": [
    "SHOlveTerm := proc( expr, var )\n",
    "\tlocal A, la, omega, phase;\n",
    "\tdescription \"Solve y''+y=expr\";\n",
    "\tif type( expr, `+` ) then\n",
    "\t\treturn map( procname, expr, var );\n",
    "\telif match( expr=A*cos(omega*var+phase), var, 'la' ) then\n",
    "\t\tif eval(omega^2,la)=1 then\n",
    "\t\t\terror \"Resonant term encountered\", expr, var;\n",
    "\t\telse\n",
    "\t\t\treturn eval( A*cos(omega*var+phase)/(1-omega^2), la );\n",
    "\t\tend if;\n",
    "\telif match( expr=A*sin(omega*var+phase), var, 'la' ) then\n",
    "\t\tif eval(omega^2,la)=1 then\n",
    "\t\t\terror \"Resonant term encountered\", expr, var;\n",
    "\t\telse\n",
    "\t\t\treturn eval( A*sin(omega*var+phase)/(1-omega^2), la );\n",
    "\t\tend if;\n",
    "\telse\n",
    "\t\terror \"Unexpected kind of term\", expr, var;\n",
    "\tend if\n",
    "end proc:"
   ]
  },
  {
   "cell_type": "code",
   "execution_count": 34,
   "id": "874390a9",
   "metadata": {},
   "outputs": [
    {
     "data": {
      "text/markdown": [
       "$$2 R \\left(t \\right) \\cos \\left(t +\\theta \\left(t \\right)\\right)$$"
      ]
     },
     "execution_count": 34,
     "metadata": {},
     "output_type": "execute_result"
    }
   ],
   "source": [
    "yr := Array(0 .. N):\n",
    "rr := Array(0 .. N):\n",
    "T := t + theta(t):\n",
    "yr[0] := 2*R(t)*cos(T):\n",
    "zr := yr[0]: # Our running solution."
   ]
  },
  {
   "cell_type": "markdown",
   "id": "b37c0c27",
   "metadata": {},
   "source": [
    "This is just a regular expansion, but starting from our initial approximation with all its information about the secular terms hidden in its differentiation rules.\n",
    "\n",
    "The fundamental assumptions: there will be no resonant terms, and each R(t) and theta(t) can be treated as constant (their derivatives are higher order in epsilon)."
   ]
  },
  {
   "cell_type": "code",
   "execution_count": 35,
   "id": "735b44ff",
   "metadata": {
    "scrolled": true
   },
   "outputs": [
    {
     "ename": "Maple Error",
     "evalue": "Error, (in SHOlveTerm) Unexpected kind of term, 3*RR^2, t",
     "output_type": "error",
     "traceback": [
      "Runtime error: Error, (in SHOlveTerm) Unexpected kind of term, 3*RR^2, t"
     ]
    }
   ],
   "source": [
    "rentimes := Array(0 .. N):\n",
    "rentimes[0] := time():\n",
    "for k to N do\n",
    "    rr[k - 1] := coeff(series(eval(WeaklyNonlinear, y(t) = zr), e, k + 1),\n",
    "                       e, k);\n",
    "    rr[k - 1] := combine(rr[k - 1], trig);\n",
    "    rr[k-1] := eval(rr[k-1], [R(t)=RR,theta(t)=Theta]);\n",
    "    yr[k] := SHOlveTerm( -rr[k-1], t );\n",
    "    yr[k] := eval(yr[k], [RR=R(t),Theta=theta(t)]);\n",
    "    zr := zr + e^k*yr[k];\n",
    "    rentimes[k] := time();\n",
    "end do:"
   ]
  },
  {
   "cell_type": "code",
   "execution_count": 39,
   "id": "4b77964f",
   "metadata": {},
   "outputs": [
    {
     "data": {
      "text/markdown": [
       "$$-3 R \\left(t \\right)^{2} \\cos \\left(2 t +2 \\theta \\left(t \\right)\\right) \\varepsilon -3 R \\left(t \\right)^{2} \\varepsilon -\\frac{3 \\varepsilon}{2}-\\frac{9 R \\left(t \\right) \\cos \\left(t +\\theta \\left(t \\right)\\right) \\varepsilon^{2}}{2}$$"
      ]
     },
     "execution_count": 39,
     "metadata": {},
     "output_type": "execute_result"
    }
   ],
   "source": [
    "fullrrN := collect( eval(WeaklyNonlinear, y(t) = zr), ep, m->combine(m,trig));"
   ]
  },
  {
   "cell_type": "markdown",
   "id": "f1129061",
   "metadata": {},
   "source": [
    "Now, we _really care_ what the full residual is, not just the leading term in $\\varepsilon$.  The computation won't be correct if the leading term is not $O(\\varepsilon^{N+1})$, so we should check that, too, but we also care about what the full residual is."
   ]
  },
  {
   "cell_type": "code",
   "execution_count": null,
   "id": "3b156e92",
   "metadata": {
    "scrolled": false
   },
   "outputs": [],
   "source": [
    "collect( \n",
    "  convert(map( combine, series( fullrrN, e, N+3 ), trig),polynom),\n",
    "  e,\n",
    "  LargeExpressions:-Veil[K]\n",
    "       ) assuming e>0, R(t)>0, t>0, theta(t)>0;"
   ]
  },
  {
   "cell_type": "markdown",
   "id": "7623d282",
   "metadata": {},
   "source": [
    "## Sample the final residual ##"
   ]
  },
  {
   "cell_type": "code",
   "execution_count": null,
   "id": "33af2e79",
   "metadata": {
    "scrolled": true
   },
   "outputs": [],
   "source": [
    "Digits := 30:\n",
    "sample := eval(fullrrN, [e = 0.4, R(t) = 1/2, theta(t) = 0]):\n",
    "plot(sample, t = 0 .. 4*Pi, thickness=8, gridlines=true, \n",
    "     labels=[t+theta(t),r(t)], tickmarks=[spacing(Pi/2),default],\n",
    "     labeldirections = [horizontal, vertical], \n",
    "     font = [\"Arial\", 48], labelfont = [\"Arial\", 48], \n",
    "     size=[2000,2000]);"
   ]
  },
  {
   "cell_type": "markdown",
   "id": "02ac6102",
   "metadata": {},
   "source": [
    "## Look at the growth of computing times ##\n",
    "\n",
    "We sampled the clock after each iteration of the loop to get the _secular_ series; this was the expensive one.  It looks like exponential growth (it may not be; it may only be high-degree polynomial growth).  We think that the issue is that the number of symbolic terms in the answer grows very quickly at each order.  This may not be so much a problem of inefficient code as it is a difficulty with a large, cumbersome answer."
   ]
  },
  {
   "cell_type": "code",
   "execution_count": null,
   "id": "f6074479",
   "metadata": {
    "scrolled": true
   },
   "outputs": [],
   "source": [
    "plots[pointplot]([seq([k, log[10](times[k] - times[k - 1])], k = 2 .. N)], \n",
    "style = point, symbol = solidcircle, symbolsize = 8, \n",
    "labels = [m, typeset('log10'(CPU[m] - CPU[m - 1]), \"(sec)\")], \n",
    "labeldirections = [horizontal, vertical], font = [\"Arial\", 48],\n",
    "  labelfont = [\"Arial\", 48], gridlines = true, size = [2000, 2000]);"
   ]
  },
  {
   "cell_type": "markdown",
   "id": "bbcfee38",
   "metadata": {},
   "source": [
    "Let's test that assertion about cumbersome symbolic answers."
   ]
  },
  {
   "cell_type": "code",
   "execution_count": null,
   "id": "4542759a",
   "metadata": {
    "scrolled": true
   },
   "outputs": [],
   "source": [
    "seq( length( ys[k] ), k=1..N );"
   ]
  },
  {
   "cell_type": "code",
   "execution_count": null,
   "id": "fc1a3913",
   "metadata": {
    "scrolled": true
   },
   "outputs": [],
   "source": [
    "plot( [seq([k,log[10](length(ys[k]))],k=0..N)], style=point, symbol=solidbox);"
   ]
  },
  {
   "cell_type": "markdown",
   "id": "019274d4",
   "metadata": {},
   "source": [
    "Actually, that graph does _not_ look exponential.  The apparently exponential growth in computing time may have an explanation that points a finger at our code, then.  To be fair to ourselves, for convenience we are using pretty powerful general-purpose tools like \"simplify\" and \"match\" inside a loop; actually inside a nested loop because we are not only looping over the power $k$ of $\\varepsilon$ but also walking through each term of the residual at that order. So, perhaps this code could be more efficient, at the cost of more programming time."
   ]
  },
  {
   "cell_type": "markdown",
   "id": "a9bdb69a",
   "metadata": {},
   "source": [
    "## Sensitivity (Conditioning) of the DE ##\n",
    "\n",
    "Our example is an unforced nonlinear oscillator. We have shown that the renormalization method gets an exact solution to a problem that is uniformly near to the original problem, and by making $\\varepsilon$ small enough we can ensure that the problem we have solved is as close as we like to the one that we started to solve.  As usual, we have to think about what the effects of small changes to the problem are.\n",
    "\n",
    "Also as usual for weakly nonlinear oscillators, the problem _is sensitive_ to changes that are resonant.  That is the whole purpose of the solution process, to remove spurious resonances which would throw the solution off over long times. At its simplest, the underlying linear problem has the Green's function $\\sin(t-\\tau)$, as we discuss in the book.  If the perturbing force is nonresonant, then it does not have much effect: the condition number is nearly $1$, in fact.\n",
    "\n",
    "We can see that in a simple way, here, by merely plotting the difference between the $O(\\varepsilon^N)$ solution and the $O(\\varepsilon^{N+1})$ solution and comparing it to the residual, for some reasonable value of $\\varepsilon$.  We used $\\varepsilon = 0.4$ above, which was suitable for quite large $N$.  Comparing the two graphs, we see that the effect of the nonresonant perturbation is _smaller_ than the residual.  For $N=13$ and $\\varepsilon=0.4$ the magnitude of the residual is about $4\\times 10^{-8}$, while the change in the solution is at most $6 \\times 10^{-9}$.\n",
    "\n",
    "Of course, this only samples the effect of a particular nonresonant forcing; a more general analysis would be more convincing.  Perhaps there is some other nonresonant forcing that would have a greater effect.  But since the kernel of the Green's function integral is bounded by $1$, it can never have _that_ much effect."
   ]
  },
  {
   "cell_type": "code",
   "execution_count": null,
   "id": "4abb465a",
   "metadata": {},
   "outputs": [],
   "source": [
    "zn := zr - coeff(zr,e,N)*e^N:\n",
    "plot( eval( e^N*coeff(zr,e,N), [R(t)=1/2, theta(t)=0,e=0.4]),\n",
    "      t=0..4*Pi, colour=blue, \n",
    "      labels=[typeset( t+theta(t)),typeset('z[N]-z[N-1]' )],\n",
    "      thickness=8, gridlines=true, \n",
    "      tickmarks=[spacing(Pi/2),default],\n",
    "      labeldirections = [horizontal, vertical], \n",
    "      font = [\"Arial\", 48], labelfont = [\"Arial\", 48], size=[2000,2000] \n",
    "    );"
   ]
  },
  {
   "cell_type": "code",
   "execution_count": null,
   "id": "d5f655de",
   "metadata": {
    "scrolled": true
   },
   "outputs": [],
   "source": [
    "time_taken := time() - starting_time;"
   ]
  },
  {
   "cell_type": "code",
   "execution_count": null,
   "id": "16f2b8dc",
   "metadata": {},
   "outputs": [],
   "source": [
    "time_taken/60;"
   ]
  }
 ],
 "metadata": {
  "kernelspec": {
   "display_name": "Maple 2024",
   "language": "maple",
   "name": "maple"
  },
  "language_info": {
   "file_extension": ".mpl",
   "mimetype": "application/vnd.maple.mpl",
   "name": "maple",
   "version": "2024"
  }
 },
 "nbformat": 4,
 "nbformat_minor": 5
}
