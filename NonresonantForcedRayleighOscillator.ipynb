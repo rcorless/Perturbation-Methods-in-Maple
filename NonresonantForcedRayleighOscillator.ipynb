{
 "cells": [
  {
   "cell_type": "markdown",
   "id": "26cb0a3b",
   "metadata": {},
   "source": [
    "# The Forced Rayleigh Oscillator #\n",
    "\n",
    "## Nonresonant case ##\n",
    "\n",
    "Support material for the book __Perturbation Methods using Backward Error__ by Robert M. Corless and Nicolas Fillion, in preparation.\n",
    "\n",
    "Copyright (c) 2024 Robert M. Corless\n",
    "\n",
    "Permission is hereby granted, free of charge, to any person obtaining a copy of this software and associated documentation files (the “Software”), to deal in the Software without restriction, including without limitation the rights to use, copy, modify, merge, publish, distribute, sublicense, and/or sell copies of the Software, and to permit persons to whom the Software is furnished to do so, subject to the following conditions:\n",
    "\n",
    "The above copyright notice and this permission notice shall be included in all copies or substantial portions of the Software.\n",
    "\n",
    "THE SOFTWARE IS PROVIDED “AS IS”, WITHOUT WARRANTY OF ANY KIND, EXPRESS OR IMPLIED, INCLUDING BUT NOT LIMITED TO THE WARRANTIES OF MERCHANTABILITY, FITNESS FOR A PARTICULAR PURPOSE AND NONINFRINGEMENT. IN NO EVENT SHALL THE AUTHORS OR COPYRIGHT HOLDERS BE LIABLE FOR ANY CLAIM, DAMAGES OR OTHER LIABILITY, WHETHER IN AN ACTION OF CONTRACT, TORT OR OTHERWISE, ARISING FROM, OUT OF OR IN CONNECTION WITH THE SOFTWARE OR THE USE OR OTHER DEALINGS IN THE SOFTWARE.\n",
    "\n",
    "$\\newcommand{\\e}{\\varepsilon}$"
   ]
  },
  {
   "cell_type": "markdown",
   "id": "a7fb1aad",
   "metadata": {},
   "source": [
    "This notebook explores the forced Rayleigh oscillator\n",
    "\\begin{equation}\n",
    "\\ddot{y} - \\e \\dot{y}\\left( 1 - \\frac{4}{3}\\dot{y}^2 \\right) + y = 2F\\cos(\\Omega t + \\Phi)\n",
    "\\end{equation}\n",
    "by perturbation expansion up to and including the $O(\\e)$ terms, so it has a residual $O(\\e^2)$.  We will encounter the so-called \"small divisors\" problem, and discover that we will have to do separate expansions for $\\Omega \\approx 1$ (called the _resonant_ case), $\\Omega \\approx 1/3$ (called the _superharmonic_ case), $\\Omega \\approx 3$ (called the _subharmonic_ case), and $\\Omega$ none of those three (called the _nonresonant_ case).  We will do the nonresonant case first, and see how \"small divisors\" require us to consider the other three. "
   ]
  },
  {
   "cell_type": "markdown",
   "id": "ede730bb",
   "metadata": {},
   "source": [
    "## Nonresonant case ##"
   ]
  },
  {
   "cell_type": "code",
   "execution_count": 1,
   "id": "19ff9fad",
   "metadata": {
    "scrolled": false
   },
   "outputs": [
    {
     "data": {
      "text/plain": [
       "                                       e"
      ]
     },
     "metadata": {},
     "output_type": "display_data"
    },
    {
     "data": {
      "text/markdown": [
       "$$\\frac{d^{2}}{d t^{2}}y \\left(t \\right)-\\varepsilon  \\left(\\frac{d}{d t}y \\left(t \\right)\\right) \\left(1-\\frac{4 \\left(\\frac{d}{d t}y \\left(t \\right)\\right)^{2}}{3}\\right)+y \\left(t \\right)-F \\,{\\mathrm e}^{\\mathrm{I} \\left(\\Omega  t +\\Phi \\right)}-F \\,{\\mathrm e}^{\\mathrm{-I} \\left(\\Omega  t +\\Phi \\right)}$$"
      ]
     },
     "execution_count": 1,
     "metadata": {},
     "output_type": "execute_result"
    }
   ],
   "source": [
    "macro( e=varepsilon );\n",
    "WeaklyNonlinear := diff(y(t), t, t) \n",
    "  - e*diff(y(t), t)*(1 - 4/3*diff(y(t), t)^2) + y(t) \n",
    "  - F*exp(I*(Omega*t+Phi)) - F*exp(-I*(Omega*t+Phi));"
   ]
  },
  {
   "cell_type": "code",
   "execution_count": 2,
   "id": "b72833a8",
   "metadata": {},
   "outputs": [
    {
     "data": {
      "text/markdown": [
       "$$\\frac{d^{2}}{d t^{2}}y \\left(t \\right)+y \\left(t \\right)$$"
      ]
     },
     "execution_count": 2,
     "metadata": {},
     "output_type": "execute_result"
    }
   ],
   "source": [
    "LinearODE := diff(y(t),t,t) + y(t);"
   ]
  },
  {
   "cell_type": "code",
   "execution_count": 3,
   "id": "518eb4f1",
   "metadata": {},
   "outputs": [
    {
     "data": {
      "text/plain": [
       "kilobytes used=5428, alloc=13872, time=0.78"
      ]
     },
     "metadata": {},
     "output_type": "display_data"
    },
    {
     "data": {
      "text/markdown": [
       "$$y \\left(t \\right) = \\sin \\left(t \\right) c_{2} +\\cos \\left(t \\right) c_{1} -\\frac{2 F \\cos \\left(\\Omega  t +\\Phi \\right)}{\\Omega^{2}-1}$$"
      ]
     },
     "execution_count": 3,
     "metadata": {},
     "output_type": "execute_result"
    }
   ],
   "source": [
    "sol := dsolve( eval( WeaklyNonlinear, e=0), y(t) );"
   ]
  },
  {
   "cell_type": "code",
   "execution_count": 4,
   "id": "c8f36c6e",
   "metadata": {},
   "outputs": [
    {
     "data": {
      "text/markdown": [
       "$$-\\frac{2 F \\cos \\left(\\Omega  t +\\Phi \\right)}{\\Omega^{2}-1}+A \\,{\\mathrm e}^{\\mathrm{I} \\phi} {\\mathrm e}^{\\mathrm{I} t}+A \\,{\\mathrm e}^{\\mathrm{-I} \\phi} {\\mathrm e}^{\\mathrm{-I} t}$$"
      ]
     },
     "execution_count": 4,
     "metadata": {},
     "output_type": "execute_result"
    }
   ],
   "source": [
    "simplersol := eval( rhs(sol), [c__1=0, c__2=0 ] ) \n",
    "  + A*exp(I*phi)*exp(I*t) + A*exp(-I*phi)*exp(-I*t) ;"
   ]
  },
  {
   "cell_type": "code",
   "execution_count": 5,
   "id": "d7db74aa",
   "metadata": {},
   "outputs": [
    {
     "data": {
      "text/plain": [
       "                        Omega  - 2 Omega  + 1"
      ]
     },
     "metadata": {},
     "output_type": "display_data"
    },
    {
     "data": {
      "text/markdown": [
       "$$\\left(-\\frac{16 \\Omega^{2} F^{2} A}{\\Omega^{4}-2 \\Omega^{2}+1}-8 A^{3}+2 A \\right) \\sin \\left(\\phi +t \\right)+\\frac{8 A^{3} \\sin \\left(3 \\phi +3 t \\right)}{3}+\\left(\\frac{8 \\Omega^{3} F^{3}}{\\Omega^{6}-3 \\Omega^{4}+3 \\Omega^{2}-1}+\\frac{16 \\Omega  F \\,A^{2}}{\\Omega^{2}-1}-\\frac{2 F \\Omega}{\\Omega^{2}-1}\\right) \\sin \\left(\\Omega  t +\\Phi \\right)-\\frac{8 \\Omega^{3} F^{3} \\sin \\left(3 \\Omega  t +3 \\Phi \\right)}{3 \\Omega^{6}-9 \\Omega^{4}+9 \\Omega^{2}-3}-\\frac{8 \\Omega  \\sin \\left(\\Omega  t +\\Phi -2 \\phi -2 t \\right) F \\,A^{2}}{\\Omega^{2}-1}-\\frac{8 \\Omega  \\sin \\left(\\Omega  t +\\Phi +2 \\phi +2 t \\right) F \\,A^{2}}{\\Omega^{2}-1}-\\frac{8 \\Omega^{2} \\sin \\left(2 \\Omega  t +2 \\Phi -\\phi -t \\right) F^{2} A}{\\Omega^{4}-2 \\Omega^{2}+1}+\\frac{8 \\Omega^{2} \\sin \\left(2 \\Omega  t +2 \\Phi +\\phi +t \\right) F^{2} A}{\\Omega^{4}-2 \\Omega^{2}+1}$$"
      ]
     },
     "execution_count": 5,
     "metadata": {},
     "output_type": "execute_result"
    }
   ],
   "source": [
    "residual := convert( simplify(\n",
    "  series( eval( WeaklyNonlinear, y(t)=simplersol ),e,2)\n",
    "                              ), exp ):\n",
    "residual := coeff( residual, e, 1 ):\n",
    "residual := convert( residual, trig ): # dsolve likes trig\n",
    "residual := combine( residual, trig );\n",
    "residual := collect( residual, [sin,cos,F,A], \n",
    "  distributed, m->normal(m,expanded));\n",
    "residual := collect( residual, [sin,cos] );"
   ]
  },
  {
   "cell_type": "code",
   "execution_count": 6,
   "id": "1cdfb148",
   "metadata": {
    "scrolled": true
   },
   "outputs": [],
   "source": [
    "# SHOlveTerm --- solve a simple harmonic oscillator, harmonically forced\n",
    "#\n",
    "# Copyright 2024 Robert M. Corless \n",
    "#\n",
    "# dsolve can be inefficient at solving y'' + omega^2*y = sum of simple terms\n",
    "# (probably getting bogged down in type checking or simplification\n",
    "#  or its own heuristics, or perhaps it's just its generality).\n",
    "# This routine attempts to do this simpler task more efficiently,\n",
    "# by giving up on generality.\n",
    "#\n",
    "# Input: expr  : right-hand side: polynomial in sine/cos/exp only\n",
    "#                with coefficients polynomials in var\n",
    "#        var   : variable (usually t)\n",
    "#        omega : natural frequency\n",
    "#\n",
    "# Processing: map over a sum of terms\n",
    "#             match the terms to poly(var)*exp( I*(freq*var + phase) )\n",
    "#                            or  poly(var)*sin( freq*var + phase )\n",
    "#                            or  poly(var)*cos( freq*var + phase )\n",
    "#\n",
    "#          solve the problem y'' + omega^2*y = sum poly(var)* fn( freq*var+phase )\n",
    "#\n",
    "# Output: a particular solution to y'' + omega^2 = ...\n",
    "#         where the rhs is a sum of polynomials in var times sin/cos/exp.\n",
    "#\n",
    "# Comments: dsolve would solve this, but for large expressions might take\n",
    "# a seemingly unreasonable length of time to do so, and may return \n",
    "# unevaluated integrals (because it thinks the answers are too complicated).\n",
    "# However, this simple routine will not succeed for unexpected inputs.\n",
    "# Take your pick.\n",
    "\n",
    "SHOlveTerm := proc( expr, var, omega )\n",
    "\tlocal A, c, fn, freq, la, m, phase, sol, term, zerp;\n",
    "\tdescription \"Solve y''+ omega^2*y=expr\";\n",
    "    if has( expr, sin ) or has( expr, cos ) then\n",
    "      # convert,exp will make cos(A) --> (exp(I*A)+exp(-I*A))/2, etc\n",
    "      # expand will expand (A*exp(B) + C*exp(D))*(E*exp(F)+G*exp(H))\n",
    "      # to A*E*exp(B)*exp(F) + A*G*exp(B)*exp(H) + ... \n",
    "      # combine,exp will make exp(B)*exp(F)-->exp(B+F)\n",
    "      term := combine( expand( convert(expr,exp ) ), exp );\n",
    "    else\n",
    "      term := expr;\n",
    "    end if; \n",
    "\tif type( term, `+` ) then\n",
    "      # Apply this procedure to each term in a sum  \n",
    "\t  return map( procname, term, var, omega );\n",
    "\telse \n",
    "      # Look for A*exp(I*(freq*var+phase))\n",
    "      term := combine( term, exp );\n",
    "      A := eval(term, exp=1);\n",
    "      fn := normal( term/A );\n",
    "      # Each term *should* be A*exp(B).  Should be.\n",
    "      if normal( expr-A*fn ) <> 0 then\n",
    "        error \"Unexpected term type\", term;\n",
    "      end if;\n",
    "      # Identify frequency and phase\n",
    "      if match( fn=exp(I*(freq*var+phase)), var, 'la' ) then\n",
    "        if eval(freq,la)^2 = omega^2 then\n",
    "          # resonant case\n",
    "          m := degree(A, var) + 1; # A must be polynomial\n",
    "        else\n",
    "          m := degree(A, var);\n",
    "        end if;\n",
    "        P := add( c[k]*var^k, k=0..m );\n",
    "        # y = P(var)*exp(I*(freq*var+phase))\n",
    "        # for P(var) a polynomial to be found.\n",
    "        zerp := eval( omega^2*P + diff(P,var,var) + 2*I*freq*diff(P,var) - freq^2*P - A, la);\n",
    "        sol := solve( {seq( coeff(zerp,var,k), k=0..m)}, {seq(c[k],k=0..m)} );\n",
    "        # triangular system, guaranteed to have a solution\n",
    "        # Throw away the redundant terms c[0]*exp(I*(freq*var+phase))\n",
    "        return eval( eval( eval(P,sol), c[0]=0)*exp(I*(freq*var+phase)), la );\n",
    "      else\n",
    "        error \"Unexpected term type, after match\", term, A, fn;\n",
    "      end if;\n",
    "    end if;\n",
    "end proc:"
   ]
  },
  {
   "cell_type": "markdown",
   "id": "0b6aa766",
   "metadata": {},
   "source": [
    "We see our first \"small divisor\" already in the solution to the zeroth order equation.  When $\\Omega^2 \\approx 1$, the amplitude is not small."
   ]
  },
  {
   "cell_type": "code",
   "execution_count": 7,
   "id": "e94bcd53",
   "metadata": {},
   "outputs": [
    {
     "data": {
      "text/markdown": [
       "$$-\\frac{4 \\,\\mathrm{I} \\Omega  F \\,A^{2} {\\mathrm e}^{\\mathrm{I} \\left(\\left(-\\Omega -2\\right) t -\\Phi -2 \\phi \\right)}}{\\left(\\Omega^{2}-1\\right) \\left(\\Omega^{2}+4 \\Omega +3\\right)}-\\frac{8 \\,\\mathrm{I} \\Omega  F \\,A^{2} {\\mathrm e}^{\\mathrm{I} \\left(\\Omega  t +\\Phi \\right)}}{\\left(\\Omega^{2}-1\\right)^{2}}+\\frac{4 \\,\\mathrm{I} \\Omega  F \\,A^{2} {\\mathrm e}^{\\mathrm{I} \\left(\\left(\\Omega -2\\right) t +\\Phi -2 \\phi \\right)}}{\\left(\\Omega^{2}-1\\right) \\left(\\Omega^{2}-4 \\Omega +3\\right)}+\\frac{4 \\,\\mathrm{I} F^{3} \\Omega^{3} {\\mathrm e}^{\\mathrm{I} \\left(3 \\Omega  t +3 \\Phi \\right)}}{3 \\left(\\Omega^{6}-3 \\Omega^{4}+3 \\Omega^{2}-1\\right) \\left(9 \\Omega^{2}-1\\right)}-\\frac{\\mathrm{I} A^{3} {\\mathrm e}^{\\mathrm{I} \\left(3 \\phi +3 t \\right)}}{6}+\\frac{\\mathrm{I} \\Omega  \\,F^{2} A \\,{\\mathrm e}^{\\mathrm{I} \\left(\\left(2 \\Omega -1\\right) t +2 \\Phi -\\phi \\right)}}{\\left(\\Omega^{4}-2 \\Omega^{2}+1\\right) \\left(\\Omega -1\\right)}+\\frac{\\mathrm{I} \\Omega  \\,F^{2} A \\,{\\mathrm e}^{\\mathrm{I} \\left(\\left(-2 \\Omega -1\\right) t -2 \\Phi -\\phi \\right)}}{\\left(\\Omega^{4}-2 \\Omega^{2}+1\\right) \\left(\\Omega +1\\right)}-2 A^{3} t \\,{\\mathrm e}^{\\mathrm{I} \\left(-\\phi -t \\right)}+\\frac{4 \\,\\mathrm{I} F^{3} \\Omega^{3} {\\mathrm e}^{\\mathrm{I} \\left(-\\Omega  t -\\Phi \\right)}}{\\left(\\Omega^{6}-3 \\Omega^{4}+3 \\Omega^{2}-1\\right) \\left(\\Omega^{2}-1\\right)}-2 A^{3} t \\,{\\mathrm e}^{\\mathrm{I} \\left(\\phi +t \\right)}-\\frac{4 \\,\\mathrm{I} F^{3} \\Omega^{3} {\\mathrm e}^{\\mathrm{I} \\left(-3 \\Omega  t -3 \\Phi \\right)}}{3 \\left(\\Omega^{6}-3 \\Omega^{4}+3 \\Omega^{2}-1\\right) \\left(9 \\Omega^{2}-1\\right)}-\\frac{4 \\Omega^{2} F^{2} A t \\,{\\mathrm e}^{\\mathrm{I} \\left(-\\phi -t \\right)}}{\\Omega^{4}-2 \\Omega^{2}+1}-\\frac{4 \\Omega^{2} F^{2} A t \\,{\\mathrm e}^{\\mathrm{I} \\left(\\phi +t \\right)}}{\\Omega^{4}-2 \\Omega^{2}+1}+\\frac{A t \\,{\\mathrm e}^{\\mathrm{I} \\left(-\\phi -t \\right)}}{2}+\\frac{8 \\,\\mathrm{I} \\Omega  F \\,A^{2} {\\mathrm e}^{\\mathrm{I} \\left(-\\Omega  t -\\Phi \\right)}}{\\left(\\Omega^{2}-1\\right)^{2}}-\\frac{4 \\,\\mathrm{I} F^{3} \\Omega^{3} {\\mathrm e}^{\\mathrm{I} \\left(\\Omega  t +\\Phi \\right)}}{\\left(\\Omega^{6}-3 \\Omega^{4}+3 \\Omega^{2}-1\\right) \\left(\\Omega^{2}-1\\right)}-\\frac{\\mathrm{I} \\Omega  \\,F^{2} A \\,{\\mathrm e}^{\\mathrm{I} \\left(\\left(-2 \\Omega +1\\right) t -2 \\Phi +\\phi \\right)}}{\\left(\\Omega^{4}-2 \\Omega^{2}+1\\right) \\left(\\Omega -1\\right)}-\\frac{\\mathrm{I} \\Omega  \\,F^{2} A \\,{\\mathrm e}^{\\mathrm{I} \\left(\\left(2 \\Omega +1\\right) t +2 \\Phi +\\phi \\right)}}{\\left(\\Omega^{4}-2 \\Omega^{2}+1\\right) \\left(\\Omega +1\\right)}-\\frac{\\mathrm{I} F \\Omega  \\,{\\mathrm e}^{\\mathrm{I} \\left(-\\Omega  t -\\Phi \\right)}}{\\left(\\Omega^{2}-1\\right)^{2}}+\\frac{\\mathrm{I} F \\Omega  \\,{\\mathrm e}^{\\mathrm{I} \\left(\\Omega  t +\\Phi \\right)}}{\\left(\\Omega^{2}-1\\right)^{2}}+\\frac{\\mathrm{I} A^{3} {\\mathrm e}^{\\mathrm{I} \\left(-3 \\phi -3 t \\right)}}{6}+\\frac{4 \\,\\mathrm{I} \\Omega  F \\,A^{2} {\\mathrm e}^{\\mathrm{I} \\left(\\left(\\Omega +2\\right) t +\\Phi +2 \\phi \\right)}}{\\left(\\Omega^{2}-1\\right) \\left(\\Omega^{2}+4 \\Omega +3\\right)}+\\frac{A t \\,{\\mathrm e}^{\\mathrm{I} \\left(\\phi +t \\right)}}{2}-\\frac{4 \\,\\mathrm{I} \\Omega  F \\,A^{2} {\\mathrm e}^{\\mathrm{I} \\left(\\left(-\\Omega +2\\right) t -\\Phi +2 \\phi \\right)}}{\\left(\\Omega^{2}-1\\right) \\left(\\Omega^{2}-4 \\Omega +3\\right)}$$"
      ]
     },
     "execution_count": 7,
     "metadata": {},
     "output_type": "execute_result"
    }
   ],
   "source": [
    "firstcorrection := SHOlveTerm( -residual, t, 1 );"
   ]
  },
  {
   "cell_type": "code",
   "execution_count": 8,
   "id": "243df172",
   "metadata": {},
   "outputs": [
    {
     "data": {
      "text/markdown": [
       "$$-\\frac{4 \\,\\mathrm{I} F^{3} \\Omega^{3} {\\mathrm e}^{-3 \\,\\mathrm{I} \\Omega  t -3 \\,\\mathrm{I} \\Phi}}{3 \\left(\\Omega -1\\right)^{3} \\left(\\Omega +1\\right)^{3} \\left(3 \\Omega -1\\right) \\left(3 \\Omega +1\\right)}-\\frac{A t \\left(4 A^{2} \\Omega^{4}-8 A^{2} \\Omega^{2}+8 F^{2} \\Omega^{2}-\\Omega^{4}+4 A^{2}+2 \\Omega^{2}-1\\right) {\\mathrm e}^{-\\mathrm{I} t -\\mathrm{I} \\phi}}{2 \\left(\\Omega -1\\right)^{2} \\left(\\Omega +1\\right)^{2}}-\\frac{A t \\left(4 A^{2} \\Omega^{4}-8 A^{2} \\Omega^{2}+8 F^{2} \\Omega^{2}-\\Omega^{4}+4 A^{2}+2 \\Omega^{2}-1\\right) {\\mathrm e}^{\\mathrm{I} t +\\mathrm{I} \\phi}}{2 \\left(\\Omega -1\\right)^{2} \\left(\\Omega +1\\right)^{2}}-\\frac{\\mathrm{I} \\Omega  \\,F^{2} A \\,{\\mathrm e}^{-2 \\,\\mathrm{I} t \\Omega -2 \\,\\mathrm{I} \\Phi +\\mathrm{I} \\phi +\\mathrm{I} t}}{\\left(\\Omega -1\\right)^{3} \\left(\\Omega +1\\right)^{2}}-\\frac{4 \\,\\mathrm{I} \\Omega  F \\,A^{2} {\\mathrm e}^{-\\mathrm{I} \\Omega  t -\\mathrm{I} \\Phi +2 \\,\\mathrm{I} \\phi +2 \\,\\mathrm{I} t}}{\\left(\\Omega -1\\right)^{2} \\left(\\Omega +1\\right) \\left(\\Omega -3\\right)}+\\frac{4 \\,\\mathrm{I} \\Omega  F \\,A^{2} {\\mathrm e}^{\\mathrm{I} \\Omega  t +\\mathrm{I} \\Phi -2 \\,\\mathrm{I} \\phi -2 \\,\\mathrm{I} t}}{\\left(\\Omega -1\\right)^{2} \\left(\\Omega +1\\right) \\left(\\Omega -3\\right)}-\\frac{\\mathrm{I} \\Omega  \\,F^{2} A \\,{\\mathrm e}^{2 \\,\\mathrm{I} \\Omega  t +2 \\,\\mathrm{I} \\Phi +\\mathrm{I} \\phi +\\mathrm{I} t}}{\\left(\\Omega -1\\right)^{2} \\left(\\Omega +1\\right)^{3}}-\\frac{4 \\,\\mathrm{I} \\Omega  F \\,A^{2} {\\mathrm e}^{-\\mathrm{I} \\Omega  t -\\mathrm{I} \\Phi -2 \\,\\mathrm{I} \\phi -2 \\,\\mathrm{I} t}}{\\left(\\Omega -1\\right) \\left(\\Omega +1\\right)^{2} \\left(\\Omega +3\\right)}-\\frac{\\mathrm{I} A^{3} {\\mathrm e}^{3 \\,\\mathrm{I} \\phi +3 \\,\\mathrm{I} t}}{6}-\\frac{\\mathrm{I} \\left(8 A^{2} \\Omega^{4}-16 A^{2} \\Omega^{2}+4 F^{2} \\Omega^{2}-\\Omega^{4}+8 A^{2}+2 \\Omega^{2}-1\\right) F \\Omega  \\,{\\mathrm e}^{\\mathrm{I} \\Omega  t +\\mathrm{I} \\Phi}}{\\left(\\Omega -1\\right)^{4} \\left(\\Omega +1\\right)^{4}}+\\frac{\\mathrm{I} \\Omega  \\,F^{2} A \\,{\\mathrm e}^{-2 \\,\\mathrm{I} t \\Omega -2 \\,\\mathrm{I} \\Phi -\\mathrm{I} \\phi -\\mathrm{I} t}}{\\left(\\Omega -1\\right)^{2} \\left(\\Omega +1\\right)^{3}}+\\frac{\\mathrm{I} \\Omega  \\,F^{2} A \\,{\\mathrm e}^{2 \\,\\mathrm{I} \\Omega  t +2 \\,\\mathrm{I} \\Phi -\\mathrm{I} \\phi -\\mathrm{I} t}}{\\left(\\Omega -1\\right)^{3} \\left(\\Omega +1\\right)^{2}}+\\frac{\\mathrm{I} \\left(8 A^{2} \\Omega^{4}-16 A^{2} \\Omega^{2}+4 F^{2} \\Omega^{2}-\\Omega^{4}+8 A^{2}+2 \\Omega^{2}-1\\right) F \\Omega  \\,{\\mathrm e}^{-\\mathrm{I} \\Omega  t -\\mathrm{I} \\Phi}}{\\left(\\Omega -1\\right)^{4} \\left(\\Omega +1\\right)^{4}}+\\frac{4 \\,\\mathrm{I} F^{3} \\Omega^{3} {\\mathrm e}^{3 \\,\\mathrm{I} \\Omega  t +3 \\,\\mathrm{I} \\Phi}}{3 \\left(\\Omega -1\\right)^{3} \\left(\\Omega +1\\right)^{3} \\left(3 \\Omega -1\\right) \\left(3 \\Omega +1\\right)}+\\frac{\\mathrm{I} A^{3} {\\mathrm e}^{-3 \\,\\mathrm{I} \\phi -3 \\,\\mathrm{I} t}}{6}+\\frac{4 \\,\\mathrm{I} \\Omega  F \\,A^{2} {\\mathrm e}^{\\mathrm{I} \\Omega  t +\\mathrm{I} \\Phi +2 \\,\\mathrm{I} \\phi +2 \\,\\mathrm{I} t}}{\\left(\\Omega -1\\right) \\left(\\Omega +1\\right)^{2} \\left(\\Omega +3\\right)}$$"
      ]
     },
     "execution_count": 8,
     "metadata": {},
     "output_type": "execute_result"
    }
   ],
   "source": [
    "firstcorrection := collect( combine(expand(convert( (firstcorrection), exp )),exp), exp, factor );"
   ]
  },
  {
   "cell_type": "code",
   "execution_count": 9,
   "id": "e27ec19e",
   "metadata": {
    "scrolled": false
   },
   "outputs": [
    {
     "data": {
      "text/markdown": [
       "$$A \\,{\\mathrm e}^{\\mathrm{I} \\phi}-\\frac{\\varepsilon  A t \\left(4 A^{2} \\Omega^{4}-8 A^{2} \\Omega^{2}+8 F^{2} \\Omega^{2}-\\Omega^{4}+4 A^{2}+2 \\Omega^{2}-1\\right) {\\mathrm e}^{\\mathrm{I} \\phi}}{2 \\left(\\Omega -1\\right)^{2} \\left(\\Omega +1\\right)^{2}}$$"
      ]
     },
     "execution_count": 9,
     "metadata": {},
     "output_type": "execute_result"
    }
   ],
   "source": [
    "saecular := A*exp(I*phi) + e*coeff( firstcorrection, exp(I*t)) \n",
    " + e*coeff( firstcorrection, exp(I*t+I*phi) )*exp(I*phi);"
   ]
  },
  {
   "cell_type": "code",
   "execution_count": 10,
   "id": "7ef50063",
   "metadata": {
    "scrolled": false
   },
   "outputs": [
    {
     "data": {
      "text/markdown": [
       "$$\\frac{A \\,{\\mathrm e}^{\\mathrm{I} \\phi}-\\frac{\\varepsilon  A t \\left(4 A^{2} \\Omega^{4}-8 A^{2} \\Omega^{2}+8 F^{2} \\Omega^{2}-\\Omega^{4}+4 A^{2}+2 \\Omega^{2}-1\\right) {\\mathrm e}^{\\mathrm{I} \\phi}}{2 \\left(\\Omega -1\\right)^{2} \\left(\\Omega +1\\right)^{2}}}{A \\,{\\mathrm e}^{\\mathrm{I} \\phi}}$$"
      ]
     },
     "execution_count": 10,
     "metadata": {},
     "output_type": "execute_result"
    }
   ],
   "source": [
    "yA := saecular/(A*exp(I*phi));"
   ]
  },
  {
   "cell_type": "code",
   "execution_count": 11,
   "id": "b581cd20",
   "metadata": {
    "scrolled": true
   },
   "outputs": [
    {
     "data": {
      "text/markdown": [
       "$$1+\\left(-\\frac{4 t \\,\\Omega^{2} F^{2}}{\\left(\\Omega -1\\right)^{2} \\left(\\Omega +1\\right)^{2}}-2 t \\,A^{2}+\\frac{t}{2}\\right) \\varepsilon$$"
      ]
     },
     "execution_count": 11,
     "metadata": {},
     "output_type": "execute_result"
    }
   ],
   "source": [
    "yA := collect( yA, e, m->collect(m,[F,A], factor));"
   ]
  },
  {
   "cell_type": "code",
   "execution_count": 12,
   "id": "1451cf3e",
   "metadata": {},
   "outputs": [
    {
     "data": {
      "text/markdown": [
       "$$0<F,0<\\varepsilon,\\phi ::\\mathit{real},\\Phi ::\\mathit{real},0<t,0<A,\\Omega ::\\mathit{real}$$"
      ]
     },
     "execution_count": 12,
     "metadata": {},
     "output_type": "execute_result"
    }
   ],
   "source": [
    "assumption_list := F>0, e>0, phi::real, Phi::real, t>0, A>0, Omega::real;"
   ]
  },
  {
   "cell_type": "code",
   "execution_count": 13,
   "id": "ebe59a29",
   "metadata": {},
   "outputs": [
    {
     "data": {
      "text/markdown": [
       "$$\\left(-\\frac{4 \\Omega^{2} F^{2}}{\\left(\\Omega -1\\right)^{2} \\left(\\Omega +1\\right)^{2}}-2 A^{2}+\\frac{1}{2}\\right) \\varepsilon$$"
      ]
     },
     "execution_count": 13,
     "metadata": {},
     "output_type": "execute_result"
    }
   ],
   "source": [
    "rhsR := simplify( Re( convert(series( diff(yA,t)/yA,e,2),polynom) ) ) assuming assumption_list;"
   ]
  },
  {
   "cell_type": "code",
   "execution_count": 14,
   "id": "578a9aff",
   "metadata": {
    "scrolled": true
   },
   "outputs": [
    {
     "data": {
      "text/markdown": [
       "$$\\left(-\\frac{4 \\Omega^{2} F^{2}}{\\left(\\Omega -1\\right)^{2} \\left(\\Omega +1\\right)^{2}}-2 R^{2}+\\frac{1}{2}\\right) \\varepsilon$$"
      ]
     },
     "execution_count": 14,
     "metadata": {},
     "output_type": "execute_result"
    }
   ],
   "source": [
    "rhsR := collect( eval(rhsR,A=R), e, m->combine(m,trig) );"
   ]
  },
  {
   "cell_type": "code",
   "execution_count": 15,
   "id": "1b31ea68",
   "metadata": {},
   "outputs": [
    {
     "data": {
      "text/markdown": [
       "$$\\frac{\\varepsilon}{2}-\\frac{4 \\Omega^{2} F^{2} \\varepsilon}{\\left(\\Omega -1\\right)^{2} \\left(\\Omega +1\\right)^{2}}-2 R^{2} \\varepsilon$$"
      ]
     },
     "execution_count": 15,
     "metadata": {},
     "output_type": "execute_result"
    }
   ],
   "source": [
    "rhsR := collect( rhsR, [e,F,R], distributed, factor ); "
   ]
  },
  {
   "cell_type": "code",
   "execution_count": 16,
   "id": "f855b1ae",
   "metadata": {},
   "outputs": [
    {
     "data": {
      "text/markdown": [
       "$$R \\left(\\frac{\\varepsilon}{2}-\\frac{4 \\Omega^{2} F^{2} \\varepsilon}{\\left(\\Omega -1\\right)^{2} \\left(\\Omega +1\\right)^{2}}-2 R^{2} \\varepsilon \\right)$$"
      ]
     },
     "execution_count": 16,
     "metadata": {},
     "output_type": "execute_result"
    }
   ],
   "source": [
    "slowRderiv := R*convert( rhsR, polynom );"
   ]
  },
  {
   "cell_type": "code",
   "execution_count": 17,
   "id": "b698528d",
   "metadata": {
    "scrolled": true
   },
   "outputs": [
    {
     "data": {
      "text/plain": [
       "proc (expr, var) R(expr)*(1/2*varepsilon-4*Omega^2/(Omega-1)^2/(Omega+1)^2*F^2*varepsilon-2*R(expr)^2*varepsilon)*diff(expr,var) end proc"
      ]
     },
     "execution_count": 17,
     "metadata": {},
     "output_type": "execute_result"
    }
   ],
   "source": [
    "`diff/R` := codegen[makeproc](eval(slowRderiv*'diff'('expr', 'var'), [R = R(expr), phi = theta(expr),t=expr]), parameters = [expr, var]);"
   ]
  },
  {
   "cell_type": "code",
   "execution_count": 18,
   "id": "ba312804",
   "metadata": {
    "scrolled": true
   },
   "outputs": [
    {
     "data": {
      "text/markdown": [
       "$$R \\left(t \\right) \\left(\\frac{\\varepsilon}{2}-\\frac{4 \\Omega^{2} F^{2} \\varepsilon}{\\left(\\Omega -1\\right)^{2} \\left(\\Omega +1\\right)^{2}}-2 R \\left(t \\right)^{2} \\varepsilon \\right)$$"
      ]
     },
     "execution_count": 18,
     "metadata": {},
     "output_type": "execute_result"
    }
   ],
   "source": [
    "diff(R(t),t);"
   ]
  },
  {
   "cell_type": "code",
   "execution_count": 19,
   "id": "ea88eccb",
   "metadata": {
    "scrolled": true
   },
   "outputs": [
    {
     "data": {
      "text/markdown": [
       "$$0$$"
      ]
     },
     "execution_count": 19,
     "metadata": {},
     "output_type": "execute_result"
    }
   ],
   "source": [
    "rhstheta := simplify( Im( convert(series( diff(yA,t)/yA,e,2),polynom) ) ) assuming assumption_list;"
   ]
  },
  {
   "cell_type": "code",
   "execution_count": 20,
   "id": "fdd1d46b",
   "metadata": {
    "scrolled": true
   },
   "outputs": [
    {
     "data": {
      "text/markdown": [
       "$$0$$"
      ]
     },
     "execution_count": 20,
     "metadata": {},
     "output_type": "execute_result"
    }
   ],
   "source": [
    "rhstheta := combine(rhstheta,trig);"
   ]
  },
  {
   "cell_type": "code",
   "execution_count": 21,
   "id": "2989b662",
   "metadata": {},
   "outputs": [
    {
     "data": {
      "text/plain": [
       "proc (expr, var) 0 end proc"
      ]
     },
     "execution_count": 21,
     "metadata": {},
     "output_type": "execute_result"
    }
   ],
   "source": [
    "`diff/theta` := codegen[makeproc](eval(rhstheta*'diff'('expr', 'var'), [R = R(expr), phi = theta(expr), t=expr]), parameters = [expr, var])"
   ]
  },
  {
   "cell_type": "code",
   "execution_count": 22,
   "id": "8b42df8c",
   "metadata": {
    "scrolled": true
   },
   "outputs": [
    {
     "data": {
      "text/markdown": [
       "$$0$$"
      ]
     },
     "execution_count": 22,
     "metadata": {},
     "output_type": "execute_result"
    }
   ],
   "source": [
    "diff(theta(t),t);"
   ]
  },
  {
   "cell_type": "markdown",
   "id": "cf1c9474",
   "metadata": {},
   "source": [
    "Now we re-do the computation (we should have checked the residual up there to see if it was $O(\\e^2)$, but we will do it once we have recomputed)."
   ]
  },
  {
   "cell_type": "code",
   "execution_count": 23,
   "id": "43d64b6e",
   "metadata": {
    "scrolled": true
   },
   "outputs": [
    {
     "data": {
      "text/markdown": [
       "$$2 \\cos \\left(\\theta \\left(t \\right)+t \\right) R \\left(t \\right)-\\frac{2 F \\cos \\left(\\Omega  t +\\Phi \\right)}{\\Omega^{2}-1}$$"
      ]
     },
     "execution_count": 23,
     "metadata": {},
     "output_type": "execute_result"
    }
   ],
   "source": [
    "yr0 := collect( combine( convert( eval( simplersol, [A=R(t), phi=theta(t)]), trig ), trig ), [R(t),F], normal ) assuming assumption_list;"
   ]
  },
  {
   "cell_type": "code",
   "execution_count": 24,
   "id": "c5d7b520",
   "metadata": {},
   "outputs": [],
   "source": [
    "residual := eval( WeaklyNonlinear, y(t)=yr0 ):"
   ]
  },
  {
   "cell_type": "code",
   "execution_count": 25,
   "id": "4a057fb8",
   "metadata": {
    "scrolled": true
   },
   "outputs": [
    {
     "data": {
      "text/markdown": [
       "$$-\\frac{-8 R \\left(t \\right)^{3} \\Omega^{6} \\sin \\left(3 \\theta \\left(t \\right)+3 t \\right)-48 F R \\left(t \\right)^{2} \\sin \\left(\\Omega  t +\\Phi \\right) \\Omega^{5}+24 F R \\left(t \\right)^{2} \\Omega^{5} \\sin \\left(\\Omega  t -2 \\theta \\left(t \\right)+\\Phi -2 t \\right)+24 F R \\left(t \\right)^{2} \\Omega^{5} \\sin \\left(\\Omega  t +2 \\theta \\left(t \\right)+\\Phi +2 t \\right)-24 F^{2} R \\left(t \\right) \\Omega^{4} \\sin \\left(2 \\Omega  t +\\theta \\left(t \\right)+2 \\Phi +t \\right)+24 F^{2} R \\left(t \\right) \\Omega^{4} \\sin \\left(2 \\Omega  t -\\theta \\left(t \\right)+2 \\Phi -t \\right)+24 R \\left(t \\right)^{3} \\Omega^{4} \\sin \\left(3 \\theta \\left(t \\right)+3 t \\right)-24 F^{3} \\sin \\left(\\Omega  t +\\Phi \\right) \\Omega^{3}+8 F^{3} \\Omega^{3} \\sin \\left(3 \\Omega  t +3 \\Phi \\right)+96 F R \\left(t \\right)^{2} \\sin \\left(\\Omega  t +\\Phi \\right) \\Omega^{3}-48 F R \\left(t \\right)^{2} \\Omega^{3} \\sin \\left(\\Omega  t -2 \\theta \\left(t \\right)+\\Phi -2 t \\right)-48 F R \\left(t \\right)^{2} \\Omega^{3} \\sin \\left(\\Omega  t +2 \\theta \\left(t \\right)+\\Phi +2 t \\right)+6 F \\sin \\left(\\Omega  t +\\Phi \\right) \\Omega^{5}+24 F^{2} R \\left(t \\right) \\Omega^{2} \\sin \\left(2 \\Omega  t +\\theta \\left(t \\right)+2 \\Phi +t \\right)-24 F^{2} R \\left(t \\right) \\Omega^{2} \\sin \\left(2 \\Omega  t -\\theta \\left(t \\right)+2 \\Phi -t \\right)-24 R \\left(t \\right)^{3} \\Omega^{2} \\sin \\left(3 \\theta \\left(t \\right)+3 t \\right)-48 F R \\left(t \\right)^{2} \\sin \\left(\\Omega  t +\\Phi \\right) \\Omega +24 F R \\left(t \\right)^{2} \\Omega  \\sin \\left(\\Omega  t -2 \\theta \\left(t \\right)+\\Phi -2 t \\right)+24 F R \\left(t \\right)^{2} \\Omega  \\sin \\left(\\Omega  t +2 \\theta \\left(t \\right)+\\Phi +2 t \\right)-12 F \\sin \\left(\\Omega  t +\\Phi \\right) \\Omega^{3}+8 R \\left(t \\right)^{3} \\sin \\left(3 \\theta \\left(t \\right)+3 t \\right)+6 F \\Omega  \\sin \\left(\\Omega  t +\\Phi \\right)}{3 \\Omega^{6}-9 \\Omega^{4}+9 \\Omega^{2}-3} \\varepsilon +\\mathrm{O}\\left(\\varepsilon^{2}\\right)$$"
      ]
     },
     "execution_count": 25,
     "metadata": {},
     "output_type": "execute_result"
    }
   ],
   "source": [
    "residualSeries := map( combine, series( convert(residual,trig), e, 2 ), trig );"
   ]
  },
  {
   "cell_type": "markdown",
   "id": "8ef0ad2f",
   "metadata": {},
   "source": [
    "To solve the first-order correction, we have to hide the dependence of R and theta on t from dsolve.  Because their derivatives are $O(\\e)$, they are constant for the purpose of perturbative correction."
   ]
  },
  {
   "cell_type": "code",
   "execution_count": 26,
   "id": "1e34f005",
   "metadata": {},
   "outputs": [
    {
     "data": {
      "text/markdown": [
       "$$\\frac{8 \\mathit{RR}^{3} \\sin \\left(3 \\mathit{THETA} +3 t \\right)}{3}+\\left(\\frac{16 \\Omega  F \\,\\mathit{RR}^{2}}{\\left(\\Omega -1\\right) \\left(\\Omega +1\\right)}+\\frac{8 \\Omega^{3} F^{3}}{\\left(\\Omega -1\\right)^{3} \\left(\\Omega +1\\right)^{3}}-\\frac{2 \\Omega  F}{\\left(\\Omega -1\\right) \\left(\\Omega +1\\right)}\\right) \\sin \\left(\\Omega  t +\\Phi \\right)-\\frac{8 \\Omega^{3} F^{3} \\sin \\left(3 \\Omega  t +3 \\Phi \\right)}{3 \\left(\\Omega -1\\right)^{3} \\left(\\Omega +1\\right)^{3}}-\\frac{8 \\Omega  F \\,\\mathit{RR}^{2} \\sin \\left(\\Omega  t +\\Phi -2 \\mathit{THETA} -2 t \\right)}{\\left(\\Omega -1\\right) \\left(\\Omega +1\\right)}-\\frac{8 \\Omega  F \\,\\mathit{RR}^{2} \\sin \\left(\\Omega  t +\\Phi +2 \\mathit{THETA} +2 t \\right)}{\\left(\\Omega -1\\right) \\left(\\Omega +1\\right)}-\\frac{8 \\Omega^{2} F^{2} \\mathit{RR} \\sin \\left(2 \\Omega  t +2 \\Phi -\\mathit{THETA} -t \\right)}{\\left(\\Omega -1\\right)^{2} \\left(\\Omega +1\\right)^{2}}+\\frac{8 \\Omega^{2} F^{2} \\mathit{RR} \\sin \\left(2 \\Omega  t +2 \\Phi +\\mathit{THETA} +t \\right)}{\\left(\\Omega -1\\right)^{2} \\left(\\Omega +1\\right)^{2}}$$"
      ]
     },
     "execution_count": 26,
     "metadata": {},
     "output_type": "execute_result"
    }
   ],
   "source": [
    "rhsc := collect( eval(coeff(residualSeries,e,1),[R(t)=RR,theta(t)=THETA]), [sin,cos], m->collect(m,[RR,F],factor) );"
   ]
  },
  {
   "cell_type": "markdown",
   "id": "a807f882",
   "metadata": {},
   "source": [
    "Maple's \"dsolve\" thinks the answer is too complicated to give to us unless we ask _really nicely_.  So we use our special-purpose solver."
   ]
  },
  {
   "cell_type": "code",
   "execution_count": 27,
   "id": "cee3abd0",
   "metadata": {
    "scrolled": true
   },
   "outputs": [
    {
     "data": {
      "text/markdown": [
       "$$-\\frac{\\mathrm{I} F \\Omega  \\,{\\mathrm e}^{\\mathrm{I} \\left(-\\Omega  t -\\Phi \\right)}}{\\left(\\Omega -1\\right) \\left(\\Omega +1\\right) \\left(\\Omega^{2}-1\\right)}+\\frac{4 \\,\\mathrm{I} \\mathit{RR}^{2} F \\Omega  \\,{\\mathrm e}^{\\mathrm{I} \\left(\\left(\\Omega +2\\right) t +\\Phi +2 \\mathit{THETA} \\right)}}{\\left(\\Omega -1\\right) \\left(\\Omega +1\\right) \\left(\\Omega^{2}+4 \\Omega +3\\right)}+\\frac{4 \\,\\mathrm{I} \\mathit{RR}^{2} F \\Omega  \\,{\\mathrm e}^{\\mathrm{I} \\left(\\left(\\Omega -2\\right) t +\\Phi -2 \\mathit{THETA} \\right)}}{\\left(\\Omega -1\\right) \\left(\\Omega +1\\right) \\left(\\Omega^{2}-4 \\Omega +3\\right)}-\\frac{\\mathrm{I} \\mathit{RR} \\,F^{2} \\Omega  \\,{\\mathrm e}^{\\mathrm{I} \\left(\\left(2 \\Omega +1\\right) t +2 \\Phi +\\mathit{THETA} \\right)}}{\\left(\\Omega -1\\right)^{2} \\left(\\Omega +1\\right)^{3}}+\\frac{4 \\,\\mathrm{I} F^{3} \\Omega^{3} {\\mathrm e}^{\\mathrm{I} \\left(-\\Omega  t -\\Phi \\right)}}{\\left(\\Omega -1\\right)^{3} \\left(\\Omega +1\\right)^{3} \\left(\\Omega^{2}-1\\right)}-\\frac{4 \\,\\mathrm{I} F^{3} \\Omega^{3} {\\mathrm e}^{\\mathrm{I} \\left(\\Omega  t +\\Phi \\right)}}{\\left(\\Omega -1\\right)^{3} \\left(\\Omega +1\\right)^{3} \\left(\\Omega^{2}-1\\right)}-\\frac{4 \\,\\mathrm{I} \\mathit{RR}^{2} F \\Omega  \\,{\\mathrm e}^{\\mathrm{I} \\left(\\left(-\\Omega -2\\right) t -\\Phi -2 \\mathit{THETA} \\right)}}{\\left(\\Omega -1\\right) \\left(\\Omega +1\\right) \\left(\\Omega^{2}+4 \\Omega +3\\right)}-\\frac{4 \\,\\mathrm{I} F^{3} \\Omega^{3} {\\mathrm e}^{\\mathrm{I} \\left(-3 \\Omega  t -3 \\Phi \\right)}}{3 \\left(\\Omega -1\\right)^{3} \\left(\\Omega +1\\right)^{3} \\left(9 \\Omega^{2}-1\\right)}+\\frac{\\mathrm{I} F \\Omega  \\,{\\mathrm e}^{\\mathrm{I} \\left(\\Omega  t +\\Phi \\right)}}{\\left(\\Omega -1\\right) \\left(\\Omega +1\\right) \\left(\\Omega^{2}-1\\right)}+\\frac{\\mathrm{I} \\mathit{RR} \\,F^{2} \\Omega  \\,{\\mathrm e}^{\\mathrm{I} \\left(\\left(-2 \\Omega -1\\right) t -2 \\Phi -\\mathit{THETA} \\right)}}{\\left(\\Omega -1\\right)^{2} \\left(\\Omega +1\\right)^{3}}+\\frac{\\mathrm{I} \\mathit{RR} \\,F^{2} \\Omega  \\,{\\mathrm e}^{\\mathrm{I} \\left(\\left(2 \\Omega -1\\right) t +2 \\Phi -\\mathit{THETA} \\right)}}{\\left(\\Omega -1\\right)^{3} \\left(\\Omega +1\\right)^{2}}+\\frac{8 \\,\\mathrm{I} \\mathit{RR}^{2} F \\Omega  \\,{\\mathrm e}^{\\mathrm{I} \\left(-\\Omega  t -\\Phi \\right)}}{\\left(\\Omega -1\\right) \\left(\\Omega +1\\right) \\left(\\Omega^{2}-1\\right)}+\\frac{\\mathrm{I} \\mathit{RR}^{3} {\\mathrm e}^{\\mathrm{I} \\left(-3 \\mathit{THETA} -3 t \\right)}}{6}-\\frac{\\mathrm{I} \\mathit{RR} \\,F^{2} \\Omega  \\,{\\mathrm e}^{\\mathrm{I} \\left(\\left(-2 \\Omega +1\\right) t -2 \\Phi +\\mathit{THETA} \\right)}}{\\left(\\Omega -1\\right)^{3} \\left(\\Omega +1\\right)^{2}}+\\frac{4 \\,\\mathrm{I} F^{3} \\Omega^{3} {\\mathrm e}^{\\mathrm{I} \\left(3 \\Omega  t +3 \\Phi \\right)}}{3 \\left(\\Omega -1\\right)^{3} \\left(\\Omega +1\\right)^{3} \\left(9 \\Omega^{2}-1\\right)}-\\frac{8 \\,\\mathrm{I} \\mathit{RR}^{2} F \\Omega  \\,{\\mathrm e}^{\\mathrm{I} \\left(\\Omega  t +\\Phi \\right)}}{\\left(\\Omega -1\\right) \\left(\\Omega +1\\right) \\left(\\Omega^{2}-1\\right)}-\\frac{4 \\,\\mathrm{I} \\mathit{RR}^{2} F \\Omega  \\,{\\mathrm e}^{\\mathrm{I} \\left(\\left(-\\Omega +2\\right) t -\\Phi +2 \\mathit{THETA} \\right)}}{\\left(\\Omega -1\\right) \\left(\\Omega +1\\right) \\left(\\Omega^{2}-4 \\Omega +3\\right)}-\\frac{\\mathrm{I} \\mathit{RR}^{3} {\\mathrm e}^{\\mathrm{I} \\left(3 \\mathit{THETA} +3 t \\right)}}{6}$$"
      ]
     },
     "execution_count": 27,
     "metadata": {},
     "output_type": "execute_result"
    }
   ],
   "source": [
    "correction :=SHOlveTerm( -rhsc, t, 1 );"
   ]
  },
  {
   "cell_type": "markdown",
   "id": "39dcff7f",
   "metadata": {},
   "source": [
    "Some combination of simplification commands cleans up the answer to be intelligible."
   ]
  },
  {
   "cell_type": "code",
   "execution_count": 28,
   "id": "51a34b99",
   "metadata": {
    "scrolled": true
   },
   "outputs": [
    {
     "data": {
      "text/markdown": [
       "$$\\frac{\\mathit{RR}^{3} \\sin \\left(3 \\mathit{THETA} +3 t \\right)}{3}+\\left(\\frac{16 \\Omega  F \\,\\mathit{RR}^{2}}{\\left(\\Omega -1\\right)^{2} \\left(\\Omega +1\\right)^{2}}+\\frac{8 \\Omega^{3} F^{3}}{\\left(\\Omega -1\\right)^{4} \\left(\\Omega +1\\right)^{4}}-\\frac{2 \\Omega  F}{\\left(\\Omega -1\\right)^{2} \\left(\\Omega +1\\right)^{2}}\\right) \\sin \\left(\\Omega  t +\\Phi \\right)-\\frac{8 \\Omega^{3} F^{3} \\sin \\left(3 \\Omega  t +3 \\Phi \\right)}{3 \\left(\\Omega -1\\right)^{3} \\left(\\Omega +1\\right)^{3} \\left(3 \\Omega -1\\right) \\left(3 \\Omega +1\\right)}-\\frac{8 \\Omega  F \\,\\mathit{RR}^{2} \\sin \\left(\\Omega  t +\\Phi -2 \\mathit{THETA} -2 t \\right)}{\\left(\\Omega -1\\right)^{2} \\left(\\Omega +1\\right) \\left(\\Omega -3\\right)}-\\frac{8 \\Omega  F \\,\\mathit{RR}^{2} \\sin \\left(\\Omega  t +\\Phi +2 \\mathit{THETA} +2 t \\right)}{\\left(\\Omega -1\\right) \\left(\\Omega +1\\right)^{2} \\left(\\Omega +3\\right)}-\\frac{2 \\mathit{RR} \\,F^{2} \\Omega  \\sin \\left(2 \\Omega  t +2 \\Phi -\\mathit{THETA} -t \\right)}{\\left(\\Omega -1\\right)^{3} \\left(\\Omega +1\\right)^{2}}+\\frac{2 \\mathit{RR} \\,F^{2} \\Omega  \\sin \\left(2 \\Omega  t +2 \\Phi +\\mathit{THETA} +t \\right)}{\\left(\\Omega -1\\right)^{2} \\left(\\Omega +1\\right)^{3}}$$"
      ]
     },
     "execution_count": 28,
     "metadata": {},
     "output_type": "execute_result"
    }
   ],
   "source": [
    "better := collect( combine(convert(correction,trig),trig), [sin,cos], m->collect(m,[RR,F], factor));"
   ]
  },
  {
   "cell_type": "markdown",
   "id": "b78a41a7",
   "metadata": {},
   "source": [
    "Looking carefully at the terms in that correction, we see $3\\Omega \\pm 1$ in the denominator of some terms, so $\\Omega = \\pm 1/3$ will be a superharmonic resonance; we also see $\\Omega \\pm 3$ in the denominator of other terms, so $\\Omega = \\pm 3$ will be a subharmonic resonance."
   ]
  },
  {
   "cell_type": "code",
   "execution_count": 29,
   "id": "9197b50c",
   "metadata": {
    "scrolled": true
   },
   "outputs": [
    {
     "data": {
      "text/markdown": [
       "$$2 \\cos \\left(\\theta \\left(t \\right)+t \\right) R \\left(t \\right)-\\frac{2 F \\cos \\left(\\Omega  t +\\Phi \\right)}{\\Omega^{2}-1}+\\varepsilon  \\left(\\frac{R \\left(t \\right)^{3} \\sin \\left(3 \\theta \\left(t \\right)+3 t \\right)}{3}+\\left(\\frac{16 \\Omega  F R \\left(t \\right)^{2}}{\\left(\\Omega -1\\right)^{2} \\left(\\Omega +1\\right)^{2}}+\\frac{8 \\Omega^{3} F^{3}}{\\left(\\Omega -1\\right)^{4} \\left(\\Omega +1\\right)^{4}}-\\frac{2 \\Omega  F}{\\left(\\Omega -1\\right)^{2} \\left(\\Omega +1\\right)^{2}}\\right) \\sin \\left(\\Omega  t +\\Phi \\right)-\\frac{8 \\Omega^{3} F^{3} \\sin \\left(3 \\Omega  t +3 \\Phi \\right)}{3 \\left(\\Omega -1\\right)^{3} \\left(\\Omega +1\\right)^{3} \\left(3 \\Omega -1\\right) \\left(3 \\Omega +1\\right)}-\\frac{8 \\Omega  F R \\left(t \\right)^{2} \\sin \\left(\\Omega  t -2 \\theta \\left(t \\right)+\\Phi -2 t \\right)}{\\left(\\Omega -1\\right)^{2} \\left(\\Omega +1\\right) \\left(\\Omega -3\\right)}-\\frac{8 \\Omega  F R \\left(t \\right)^{2} \\sin \\left(\\Omega  t +2 \\theta \\left(t \\right)+\\Phi +2 t \\right)}{\\left(\\Omega -1\\right) \\left(\\Omega +1\\right)^{2} \\left(\\Omega +3\\right)}-\\frac{2 R \\left(t \\right) F^{2} \\Omega  \\sin \\left(2 \\Omega  t -\\theta \\left(t \\right)+2 \\Phi -t \\right)}{\\left(\\Omega -1\\right)^{3} \\left(\\Omega +1\\right)^{2}}+\\frac{2 R \\left(t \\right) F^{2} \\Omega  \\sin \\left(2 \\Omega  t +\\theta \\left(t \\right)+2 \\Phi +t \\right)}{\\left(\\Omega -1\\right)^{2} \\left(\\Omega +1\\right)^{3}}\\right)$$"
      ]
     },
     "execution_count": 29,
     "metadata": {},
     "output_type": "execute_result"
    }
   ],
   "source": [
    "yr1 := yr0 + e*eval(better,[RR=R(t),THETA=theta(t)]);"
   ]
  },
  {
   "cell_type": "markdown",
   "id": "ce46c134",
   "metadata": {},
   "source": [
    "The fact that _this_ final residual is $O(\\e^2)$ proves that we have found a good solution."
   ]
  },
  {
   "cell_type": "code",
   "execution_count": 30,
   "id": "4eb53c38",
   "metadata": {},
   "outputs": [
    {
     "data": {
      "text/plain": [
       "kilobytes used=74829, alloc=23835, time=6.01"
      ]
     },
     "metadata": {},
     "output_type": "display_data"
    },
    {
     "data": {
      "text/markdown": [
       "$$\\frac{K_{1}}{2} \\varepsilon^{2}+K_{2} \\varepsilon^{3}$$"
      ]
     },
     "execution_count": 30,
     "metadata": {},
     "output_type": "execute_result"
    }
   ],
   "source": [
    "finalresidual := eval(WeaklyNonlinear,y(t)=yr1):\n",
    "map(LargeExpressions:-Veil[K], map(simplify, series(finalresidual, e, 3)));"
   ]
  },
  {
   "cell_type": "code",
   "execution_count": 31,
   "id": "ec87bcb8",
   "metadata": {},
   "outputs": [
    {
     "data": {
      "text/markdown": [
       "$$R \\left(t \\right) \\left(\\frac{\\varepsilon}{2}-\\frac{4 \\Omega^{2} F^{2} \\varepsilon}{\\left(\\Omega -1\\right)^{2} \\left(\\Omega +1\\right)^{2}}-2 R \\left(t \\right)^{2} \\varepsilon \\right)$$"
      ]
     },
     "execution_count": 31,
     "metadata": {},
     "output_type": "execute_result"
    }
   ],
   "source": [
    "diff(R(t),t);"
   ]
  },
  {
   "cell_type": "code",
   "execution_count": null,
   "id": "636741b1",
   "metadata": {},
   "outputs": [],
   "source": []
  }
 ],
 "metadata": {
  "kernelspec": {
   "display_name": "Maple 2024",
   "language": "maple",
   "name": "maple"
  },
  "language_info": {
   "file_extension": ".mpl",
   "mimetype": "application/vnd.maple.mpl",
   "name": "maple",
   "version": "2024"
  }
 },
 "nbformat": 4,
 "nbformat_minor": 5
}
