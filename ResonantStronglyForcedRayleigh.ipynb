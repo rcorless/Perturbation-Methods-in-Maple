{
 "cells": [
  {
   "cell_type": "markdown",
   "id": "26cb0a3b",
   "metadata": {},
   "source": [
    "# Resonant Strongly Forced Rayleigh Oscillator #\n",
    "\n",
    "Support material for the book __Perturbation Methods using Backward Error__ by Robert M. Corless and Nicolas Fillion, in preparation.\n",
    "\n",
    "Copyright (c) 2024 Robert M. Corless\n",
    "\n",
    "Permission is hereby granted, free of charge, to any person obtaining a copy of this software and associated documentation files (the “Software”), to deal in the Software without restriction, including without limitation the rights to use, copy, modify, merge, publish, distribute, sublicense, and/or sell copies of the Software, and to permit persons to whom the Software is furnished to do so, subject to the following conditions:\n",
    "\n",
    "The above copyright notice and this permission notice shall be included in all copies or substantial portions of the Software.\n",
    "\n",
    "THE SOFTWARE IS PROVIDED “AS IS”, WITHOUT WARRANTY OF ANY KIND, EXPRESS OR IMPLIED, INCLUDING BUT NOT LIMITED TO THE WARRANTIES OF MERCHANTABILITY, FITNESS FOR A PARTICULAR PURPOSE AND NONINFRINGEMENT. IN NO EVENT SHALL THE AUTHORS OR COPYRIGHT HOLDERS BE LIABLE FOR ANY CLAIM, DAMAGES OR OTHER LIABILITY, WHETHER IN AN ACTION OF CONTRACT, TORT OR OTHERWISE, ARISING FROM, OUT OF OR IN CONNECTION WITH THE SOFTWARE OR THE USE OR OTHER DEALINGS IN THE SOFTWARE.\n",
    "\n",
    "$\\newcommand{\\e}{\\varepsilon}$"
   ]
  },
  {
   "cell_type": "markdown",
   "id": "a7fb1aad",
   "metadata": {},
   "source": [
    "This notebook explores the __strongly__ forced Rayleigh oscillator\n",
    "\\begin{equation}\n",
    "\\ddot{y} - \\e \\dot{y}\\left( 1 - \\frac{4}{3}\\dot{y}^2 \\right) + y = 2 F\\cos(\\Omega t + \\Phi)\n",
    "\\end{equation}\n",
    "for $\\Omega \\approx 1$ by first scaling $y(t) = u(t)/\\e^{1/3}$.  In fact we will introduce a new small parameter, $\\delta = \\e^{1/3}$ so $\\e = \\delta^3$ (and then we'll rename $\\delta$ back to $\\e$ again, at least for input so we don't have to change the code; with luck this will be legible anyway).\n",
    "\n",
    "We then compute perturbation expansion up to and including the $O(\\delta^N)$ terms, so it has a residual $O(\\delta^{N+1})$.  \n",
    "\n",
    "Define $N$ in the next cell."
   ]
  },
  {
   "cell_type": "code",
   "execution_count": 1,
   "id": "0f016f31",
   "metadata": {},
   "outputs": [
    {
     "data": {
      "text/plain": [
       "                                    N := 3"
      ]
     },
     "metadata": {},
     "output_type": "display_data"
    },
    {
     "data": {
      "text/markdown": [
       "$$3$$"
      ]
     },
     "execution_count": 1,
     "metadata": {},
     "output_type": "execute_result"
    }
   ],
   "source": [
    "N := 3; # N := 9 takes more than two hours, N := 3 about ten seconds."
   ]
  },
  {
   "cell_type": "markdown",
   "id": "ede730bb",
   "metadata": {},
   "source": [
    "## Weakening the strong force ##"
   ]
  },
  {
   "cell_type": "code",
   "execution_count": 2,
   "id": "19ff9fad",
   "metadata": {
    "scrolled": false
   },
   "outputs": [
    {
     "data": {
      "text/plain": [
       "                                   Phi := 0"
      ]
     },
     "metadata": {},
     "output_type": "display_data"
    },
    {
     "data": {
      "text/markdown": [
       "$$\\frac{d^{2}}{d \\tau^{2}}u \\left(\\tau \\right)+\\delta  \\left(\\frac{d^{2}}{d \\tau^{2}}u \\left(\\tau \\right)\\right) \\sigma +\\frac{\\left(\\frac{d^{2}}{d \\tau^{2}}u \\left(\\tau \\right)\\right) \\delta^{2} \\sigma^{2}}{4}-\\delta^{3} \\left(\\frac{d}{d \\tau}u \\left(\\tau \\right)\\right)+\\frac{4 \\delta  \\left(\\frac{d}{d \\tau}u \\left(\\tau \\right)\\right)^{3}}{3}+2 \\delta^{2} \\left(\\frac{d}{d \\tau}u \\left(\\tau \\right)\\right)^{3} \\sigma +\\delta^{3} \\left(\\frac{d}{d \\tau}u \\left(\\tau \\right)\\right)^{3} \\sigma^{2}-\\frac{\\delta^{4} \\left(\\frac{d}{d \\tau}u \\left(\\tau \\right)\\right) \\sigma}{2}+\\frac{\\delta^{4} \\left(\\frac{d}{d \\tau}u \\left(\\tau \\right)\\right)^{3} \\sigma^{3}}{6}+u \\left(\\tau \\right)-\\delta  F \\,{\\mathrm e}^{\\mathrm{I} \\tau}-\\frac{\\delta  F}{{\\mathrm e}^{\\mathrm{I} \\tau}}$$"
      ]
     },
     "execution_count": 2,
     "metadata": {},
     "output_type": "execute_result"
    }
   ],
   "source": [
    "macro( e=delta ):\n",
    "Phi := 0;\n",
    "Omega := 1 + sigma*e/2: # here epsilon = delta cubed\n",
    "WeaklyNonlineart := diff(y(t), t, t) \n",
    "  - e^3*diff(y(t), t)*(1 - 4/3*diff(y(t), t)^2) + y(t) \n",
    "  - F*exp(I*Omega*t) - F*exp(-I*Omega*t ) :\n",
    "tmp := PDETools:-dchange( t=tau/Omega, WeaklyNonlineart, [tau]):\n",
    "WeaklyNonlinear := expand( e*eval(tmp, y(tau,e,sigma)=u(tau)/e ));"
   ]
  },
  {
   "cell_type": "markdown",
   "id": "958abe08",
   "metadata": {},
   "source": [
    "Notice that now the equation is weakly forced; one expects all our old code will work."
   ]
  },
  {
   "cell_type": "code",
   "execution_count": 3,
   "id": "518eb4f1",
   "metadata": {},
   "outputs": [
    {
     "data": {
      "text/markdown": [
       "$$u \\left(\\tau \\right) = c_{1} \\sin \\left(\\tau \\right)+c_{2} \\cos \\left(\\tau \\right)$$"
      ]
     },
     "execution_count": 3,
     "metadata": {},
     "output_type": "execute_result"
    }
   ],
   "source": [
    "sol := dsolve( eval( WeaklyNonlinear, e=0), u(tau) );"
   ]
  },
  {
   "cell_type": "markdown",
   "id": "e1dae2e0",
   "metadata": {},
   "source": [
    "That solution has sines and cosines.  We will work over the complex exponentials first.  Use the variable zs to keep the solution in."
   ]
  },
  {
   "cell_type": "code",
   "execution_count": 4,
   "id": "c8f36c6e",
   "metadata": {},
   "outputs": [
    {
     "data": {
      "text/plain": [
       "         ys[0] := A exp(phi I) exp(tau I) + A exp(-I phi) exp(-I tau)"
      ]
     },
     "metadata": {},
     "output_type": "display_data"
    },
    {
     "data": {
      "text/markdown": [
       "$$A \\,{\\mathrm e}^{\\phi  \\mathrm{I}} {\\mathrm e}^{\\tau  \\mathrm{I}}+A \\,{\\mathrm e}^{\\mathrm{-I} \\phi} {\\mathrm e}^{\\mathrm{-I} \\tau}$$"
      ]
     },
     "execution_count": 4,
     "metadata": {},
     "output_type": "execute_result"
    }
   ],
   "source": [
    "ys := Array(0 .. N): # Placeholder for secular solution terms\n",
    "rs := Array(0 .. N): # Placeholder for residuals\n",
    "ys[0] :=  A*exp(I*phi)*exp(I*tau) + A*exp(-I*phi)*exp(-I*tau) ;\n",
    "zs := ys[0];"
   ]
  },
  {
   "cell_type": "markdown",
   "id": "0b6aa766",
   "metadata": {},
   "source": [
    "We will continue to work with sines and cosines, but to get the secular equation we will convert to exponentials."
   ]
  },
  {
   "cell_type": "code",
   "execution_count": 5,
   "id": "10e63711",
   "metadata": {},
   "outputs": [],
   "source": [
    "# SHOlveTerm --- solve a simple harmonic oscillator, harmonically forced\n",
    "#\n",
    "# Copyright 2024 Robert M. Corless \n",
    "#\n",
    "# dsolve can be inefficient at solving y'' + omega^2*y = sum of simple terms\n",
    "# (probably getting bogged down in type checking or simplification\n",
    "#  or its own heuristics, or perhaps it's just its generality).\n",
    "# This routine attempts to do this simpler task more efficiently,\n",
    "# by giving up on generality.\n",
    "#\n",
    "# Input: expr  : right-hand side: polynomial in sine/cos/exp only\n",
    "#                with coefficients polynomials in var\n",
    "#        var   : variable (usually t)\n",
    "#        omega : natural frequency\n",
    "#\n",
    "# Processing: map over a sum of terms\n",
    "#             match the terms to poly(var)*exp( I*(freq*var + phase) )\n",
    "#                            or  poly(var)*sin( freq*var + phase )\n",
    "#                            or  poly(var)*cos( freq*var + phase )\n",
    "#\n",
    "#          solve the problem y'' + omega^2*y = sum poly(var)* fn( freq*var+phase )\n",
    "#\n",
    "# Output: a particular solution to y'' + omega^2 = ...\n",
    "#         where the rhs is a sum of polynomials in var times sin/cos/exp.\n",
    "#\n",
    "# Comments: dsolve would solve this, but for large expressions might take\n",
    "# a seemingly unreasonable length of time to do so, and may return \n",
    "# unevaluated integrals (because it thinks the answers are too complicated).\n",
    "# However, this simple routine will not succeed for unexpected inputs.\n",
    "# Take your pick.\n",
    "\n",
    "SHOlveTerm := proc( expr, var, omega )\n",
    "\tlocal A, c, fn, freq, la, m, phase, sol, term, zerp;\n",
    "\tdescription \"Solve y''+ omega^2*y=expr\";\n",
    "    if has( expr, sin ) or has( expr, cos ) then\n",
    "      # convert,exp will make cos(A) --> (exp(I*A)+exp(-I*A))/2, etc\n",
    "      # expand will expand (A*exp(B) + C*exp(D))*(E*exp(F)+G*exp(H))\n",
    "      # to A*E*exp(B)*exp(F) + A*G*exp(B)*exp(H) + ... \n",
    "      # combine,exp will make exp(B)*exp(F)-->exp(B+F)\n",
    "      term := combine( expand( convert(expr,exp ) ), exp );\n",
    "    else\n",
    "      term := expr;\n",
    "    end if; \n",
    "\tif type( term, `+` ) then\n",
    "      # Apply this procedure to each term in a sum  \n",
    "\t  return map( procname, term, var, omega );\n",
    "\telse \n",
    "      # Look for A*exp(I*(freq*var+phase))\n",
    "      term := combine( term, exp );\n",
    "      A := eval(term, exp=1);\n",
    "      fn := normal( term/A );\n",
    "      # Each term *should* be A*exp(B).  Should be.\n",
    "      if normal( expr-A*fn ) <> 0 then\n",
    "        error \"Unexpected term type\", term;\n",
    "      end if;\n",
    "      # Identify frequency and phase\n",
    "      if match( fn=exp(I*(freq*var+phase)), var, 'la' ) then\n",
    "        if eval(freq,la)^2 = omega^2 then\n",
    "          # resonant case\n",
    "          m := degree(A, var) + 1; # A must be polynomial\n",
    "        else\n",
    "          m := degree(A, var);\n",
    "        end if;\n",
    "        P := add( c[k]*var^k, k=0..m );\n",
    "        # y = P(var)*exp(I*(freq*var+phase))\n",
    "        # for P(var) a polynomial to be found.\n",
    "        zerp := eval( omega^2*P + diff(P,var,var) + 2*I*freq*diff(P,var) - freq^2*P - A, la);\n",
    "        sol := solve( {seq( coeff(zerp,var,k), k=0..m)}, {seq(c[k],k=0..m)} );\n",
    "        # triangular system, guaranteed to have a solution\n",
    "        # Throw away the redundant terms c[0]*exp(I*(freq*var+phase))\n",
    "        return eval( eval( eval(P,sol), c[0]=0)*exp(I*(freq*var+phase)), la );\n",
    "      else\n",
    "        error \"Unexpected term type, after match\", term, A, fn;\n",
    "      end if;\n",
    "    end if;\n",
    "end proc:"
   ]
  },
  {
   "cell_type": "code",
   "execution_count": 6,
   "id": "b3e85d2f",
   "metadata": {},
   "outputs": [
    {
     "data": {
      "text/plain": [
       "kilobytes used=6046, alloc=13880, time=0.84"
      ]
     },
     "metadata": {},
     "output_type": "display_data"
    }
   ],
   "source": [
    "loop_start := time():\n",
    "times := Array(1 .. N):\n",
    "for k to N do\n",
    "    residuals[k - 1] := combine(expand(\n",
    "                          coeff(eval(WeaklyNonlinear, u(tau) = zs), e, k)),\n",
    "                          exp);\n",
    "    newans := SHOlveTerm( residuals[k-1], tau, 1 );\n",
    "    ys[k] := -newans;\n",
    "    zs := zs + ys[k]*e^k;\n",
    "    times[k] := time();\n",
    "end do:"
   ]
  },
  {
   "cell_type": "code",
   "execution_count": 7,
   "id": "b66af270",
   "metadata": {},
   "outputs": [
    {
     "data": {
      "text/plain": [
       "kilobytes used=14878, alloc=18488, time=1.53"
      ]
     },
     "metadata": {},
     "output_type": "display_data"
    }
   ],
   "source": [
    "resonant := 0; # Collect all terms of the form P(t)*exp(I*t).\n",
    "ze := expand( combine( expand(zs), exp ) ):\n",
    "trms := [op(ze)];\n",
    "for k to numelems( trms ) do\n",
    "  trm := combine( trms[k], exp );\n",
    "  conpart := eval(trm,exp=1); # trm = A*exp(B) we hope\n",
    "  expart := normal( trm/conpart );\n",
    "  if match( combine(expart,exp)=exp(I*tau + phase), tau, 'la') then\n",
    "    resonant := resonant + conpart*eval(exp(phase),la);\n",
    "  end if;\n",
    "end do:"
   ]
  },
  {
   "cell_type": "code",
   "execution_count": 8,
   "id": "7ef50063",
   "metadata": {
    "scrolled": true
   },
   "outputs": [],
   "source": [
    "yA := resonant/(A*exp(I*phi)):"
   ]
  },
  {
   "cell_type": "code",
   "execution_count": 9,
   "id": "1451cf3e",
   "metadata": {},
   "outputs": [
    {
     "data": {
      "text/markdown": [
       "$$0<R,0<F,0<\\delta,\\phi ::\\mathit{real},0::\\mathit{real},0<\\tau,0<A,\\sigma ::\\mathit{real}$$"
      ]
     },
     "execution_count": 9,
     "metadata": {},
     "output_type": "execute_result"
    }
   ],
   "source": [
    "assumption_list := R>0, F>0, e>0, phi::real, Phi::real, tau>0, A>0, sigma::real;"
   ]
  },
  {
   "cell_type": "code",
   "execution_count": 10,
   "id": "ebe59a29",
   "metadata": {
    "scrolled": true
   },
   "outputs": [],
   "source": [
    "rhsR := simplify( Re( convert(series( diff(yA,tau)/yA,e,N+1),polynom) ) ) \n",
    "        assuming assumption_list:"
   ]
  },
  {
   "cell_type": "markdown",
   "id": "89114355",
   "metadata": {},
   "source": [
    "We know $A=R + O(\\e)$ but we need to know more, now."
   ]
  },
  {
   "cell_type": "code",
   "execution_count": 11,
   "id": "fd978857",
   "metadata": {},
   "outputs": [
    {
     "data": {
      "text/plain": [
       "                residEh[3] := - 1/192 K[1] delta  + K[2] delta"
      ]
     },
     "metadata": {},
     "output_type": "display_data"
    }
   ],
   "source": [
    "yA := collect(yA, e, m -> Re(m) + Im(m)*I) assuming assumption_list;\n",
    "yA := combine(yA, trig);\n",
    "#Now we will need to invert R = A*yA and the best way is by a real equation.  R is real and A > 0 by our choice of phi.\n",
    "rhosq := series(evalc(Re(yA)^2 + Im(yA)^2), e, N + 1);\n",
    "rhosq := map(simplify, rhosq);\n",
    "rhosq := convert(rhosq, polynom);\n",
    "#Our equation to solve for A in terms of R and e is\n",
    "freqn := -A^2*rhosq + R^2;\n",
    "#We will solve this perturbatively for A = g(R,e).  We need the derivative, for our regular perturbation method.\n",
    "eval(diff(freqn, R), e = 0);\n",
    "#So our inverse operator is 1/2R.  Now check that our initial approximation A=R is accurate enough:\n",
    "series(leadterm(eval(freqn, A = R)), e);\n",
    "#So A = R is a solution to Order epsilon\n",
    "#Let's use the array \"Eh\" to represent our terms in the A expansion.\n",
    "Eh := Array(0 .. N);\n",
    "#We have to put the residuals somewhere:\n",
    "residEh := Array(0 .. N);\n",
    "#Our initial approximation:\n",
    "Eh[0] := R;\n",
    "#Our running solution is initially the same as A[0] (I mean, Eh[0]).\n",
    "Ehz := Eh[0];\n",
    "#Regular perturbation solution of the freqn\n",
    "for k to N do\n",
    "    residEh[k - 1] := coeff(map(simplify, series(eval(freqn, A = Ehz), e, k + 2)), e, k);\n",
    "    Eh[k] := residEh[k - 1]*e^k/(2*R);\n",
    "    Ehz := Ehz + Eh[k];\n",
    "end do;\n",
    "#Check the final residual\n",
    "residEh[N] := CodeTools:-Usage(map(LargeExpressions:-Veil[K], \n",
    "  map(simplify, series(eval(freqn, A = Ehz), e, N+2))));\n"
   ]
  },
  {
   "cell_type": "code",
   "execution_count": 12,
   "id": "32c91d18",
   "metadata": {
    "scrolled": true
   },
   "outputs": [],
   "source": [
    "map( simplify, series( eval(freqn, A=Ehz), e, N+2 ) ):"
   ]
  },
  {
   "cell_type": "code",
   "execution_count": 13,
   "id": "578a9aff",
   "metadata": {
    "scrolled": true
   },
   "outputs": [],
   "source": [
    "rhsR := convert( series( eval(rhsR,A=Ehz), e, N+1), polynom ):"
   ]
  },
  {
   "cell_type": "code",
   "execution_count": 14,
   "id": "1b31ea68",
   "metadata": {
    "scrolled": true
   },
   "outputs": [],
   "source": [
    "rhsR := collect( rhsR, [e,F,R], distributed, m->combine(m,trig) ): "
   ]
  },
  {
   "cell_type": "code",
   "execution_count": 15,
   "id": "250d9f2f",
   "metadata": {},
   "outputs": [
    {
     "data": {
      "text/markdown": [
       "$$0$$"
      ]
     },
     "execution_count": 15,
     "metadata": {},
     "output_type": "execute_result"
    }
   ],
   "source": [
    "rhsR := eval( rhsR, tau=0 ): # Remove secularity here\n",
    "coeff(rhsR,e,0);"
   ]
  },
  {
   "cell_type": "code",
   "execution_count": 16,
   "id": "f855b1ae",
   "metadata": {},
   "outputs": [],
   "source": [
    "slowRderiv := R*convert( rhsR, polynom ):"
   ]
  },
  {
   "cell_type": "code",
   "execution_count": 17,
   "id": "b698528d",
   "metadata": {
    "scrolled": true
   },
   "outputs": [
    {
     "data": {
      "text/plain": [
       "proc (expr, var) R(expr)*((-1/2-1/4*cos(2*theta(expr)))*delta^3*F^2-35/8*sin(theta(expr))*delta^3*F*R(expr)^3-7/4*sigma*cos(theta(expr))*delta^3*F*R(expr)-7/32*sigma^2*sin(theta(expr))*delta^3*F/R(expr)-13/2*delta^3*R(expr)^6-1/2*sigma^2*delta^3*R(expr)^2+1/2*delta^3+5/2*cos(theta(expr))*delta^2*F*R(expr)+3/8*sigma*sin(theta(expr))*delta^2*F/R(expr)+sigma*delta^2*R(expr)^2-1/2*sin(theta(expr))/R(expr)*delta*F-2*R(expr)^2*delta)*diff(expr,var) end proc"
      ]
     },
     "execution_count": 17,
     "metadata": {},
     "output_type": "execute_result"
    }
   ],
   "source": [
    "`diff/R` := codegen[makeproc](eval(slowRderiv*'diff'('expr', 'var'), \n",
    "  [R = R(expr), phi = theta(expr),tau=expr]), parameters = [expr, var]);"
   ]
  },
  {
   "cell_type": "code",
   "execution_count": 18,
   "id": "ba312804",
   "metadata": {
    "scrolled": true
   },
   "outputs": [
    {
     "data": {
      "text/markdown": [
       "$$\\sin \\left(\\theta \\left(\\tau \\right)\\right) = -\\frac{4 R \\left(\\tau \\right)^{3}}{F}$$"
      ]
     },
     "execution_count": 18,
     "metadata": {},
     "output_type": "execute_result"
    }
   ],
   "source": [
    "forget(diff);\n",
    "isolate( coeff( diff(R(tau),tau), e, 1 ), sin(theta(tau)) );"
   ]
  },
  {
   "cell_type": "code",
   "execution_count": 19,
   "id": "ea88eccb",
   "metadata": {
    "scrolled": true
   },
   "outputs": [],
   "source": [
    "rhstheta := Im( \n",
    "             convert( \n",
    "               simplify( series( eval( diff(yA,tau)/yA, A=Ehz ),e,N+1))\n",
    "               ,polynom)\n",
    "            ) assuming assumption_list:"
   ]
  },
  {
   "cell_type": "code",
   "execution_count": 20,
   "id": "fdd1d46b",
   "metadata": {
    "scrolled": true
   },
   "outputs": [
    {
     "data": {
      "text/markdown": [
       "$$0$$"
      ]
     },
     "execution_count": 20,
     "metadata": {},
     "output_type": "execute_result"
    }
   ],
   "source": [
    "rhstheta := eval(combine(rhstheta,trig),tau=0): # Remove secularity here \n",
    "coeff(rhstheta,e,0);"
   ]
  },
  {
   "cell_type": "code",
   "execution_count": 21,
   "id": "2989b662",
   "metadata": {},
   "outputs": [
    {
     "data": {
      "text/plain": [
       "proc (expr, var) 1/64*delta*(16*F^2*sin(2*theta(expr))*R(expr)^3*delta^2-32*sigma*R(expr)^3+16*F*sin(theta(expr))*R(expr)^4*delta^2*sigma-14*F*cos(theta(expr))*R(expr)^2*delta^2*sigma^2+24*F*cos(theta(expr))*R(expr)^2*delta*sigma+16*R(expr)^3*delta*sigma^2-32*R(expr)^7*delta^2*sigma-8*R(expr)^3*delta^2*sigma^3-32*F*R(expr)^2*cos(theta(expr))+64*R(expr)^7*delta-88*F*cos(theta(expr))*R(expr)^6*delta^2+32*F*sin(theta(expr))*R(expr)^4*delta)/R(expr)^3*diff(expr,var) end proc"
      ]
     },
     "execution_count": 21,
     "metadata": {},
     "output_type": "execute_result"
    }
   ],
   "source": [
    "`diff/theta` := codegen[makeproc](eval(rhstheta*'diff'('expr', 'var'), \n",
    "  [R = R(expr), phi = theta(expr), tau=expr]), parameters = [expr, var]);"
   ]
  },
  {
   "cell_type": "code",
   "execution_count": 22,
   "id": "8b42df8c",
   "metadata": {
    "scrolled": true
   },
   "outputs": [
    {
     "data": {
      "text/markdown": [
       "$$\\cos \\left(\\theta \\left(\\tau \\right)\\right) = -\\frac{\\sigma  R \\left(\\tau \\right)}{F}$$"
      ]
     },
     "execution_count": 22,
     "metadata": {},
     "output_type": "execute_result"
    }
   ],
   "source": [
    "isolate( coeff(diff(theta(tau),tau),e,1), cos(theta(tau)));"
   ]
  },
  {
   "cell_type": "markdown",
   "id": "cf1c9474",
   "metadata": {},
   "source": [
    "Now we re-do the computation (we should have checked the residual up there to see if it was $O(\\e^2)$, but we will do it once we have recomputed)."
   ]
  },
  {
   "cell_type": "code",
   "execution_count": 23,
   "id": "43d64b6e",
   "metadata": {
    "scrolled": true
   },
   "outputs": [
    {
     "data": {
      "text/plain": [
       "                       rr := Array(0 .. 3, [0, 0, 0, 0])"
      ]
     },
     "metadata": {},
     "output_type": "display_data"
    },
    {
     "data": {
      "text/markdown": [
       "$$2 R \\left(\\tau \\right) \\cos \\left(\\theta \\left(\\tau \\right)+\\tau \\right)$$"
      ]
     },
     "execution_count": 23,
     "metadata": {},
     "output_type": "execute_result"
    }
   ],
   "source": [
    "yr := Array(0..N);\n",
    "rr := Array(0..N);\n",
    "# Start with the right initial approximation\n",
    "yr[0] := collect( combine( convert( eval( ys[0], \n",
    "  [A=R(tau), phi=theta(tau)]), trig ), trig ), [R(tau),F], normal ) \n",
    "  assuming assumption_list;"
   ]
  },
  {
   "cell_type": "markdown",
   "id": "8ef0ad2f",
   "metadata": {},
   "source": [
    "To solve the first-order correction, we have to hide the dependence of R and theta on t from dsolve.  Because their derivatives are $O(\\e)$, they are constant for the purpose of perturbative correction."
   ]
  },
  {
   "cell_type": "code",
   "execution_count": 24,
   "id": "5c65d23c",
   "metadata": {
    "scrolled": true
   },
   "outputs": [
    {
     "data": {
      "text/plain": [
       "kilobytes used=65247, alloc=23608, time=4.92"
      ]
     },
     "metadata": {},
     "output_type": "display_data"
    }
   ],
   "source": [
    "loop_start := time():\n",
    "timesr := Array(1 .. N):\n",
    "zr := yr[0];\n",
    "for k to N do\n",
    "    res := series( eval(WeaklyNonlinear, u(tau) = zr), e, k+1 );\n",
    "    rr[k - 1] := combine(expand(\n",
    "                          coeff( res, e, k)),\n",
    "                          exp);\n",
    "    tmp := eval(rr[k-1], [R(tau)=RR,theta(tau)=THETA]);\n",
    "    newans := SHOlveTerm( tmp, tau, 1 );\n",
    "    newans := eval( newans, [RR=R(tau), THETA=theta(tau)]);\n",
    "    yr[k] := -newans;\n",
    "    zr := zr + yr[k]*e^k;\n",
    "    timesr[k] := time();\n",
    "end do:"
   ]
  },
  {
   "cell_type": "markdown",
   "id": "39dcff7f",
   "metadata": {},
   "source": [
    "Some combination of simplification commands cleans up the answer to be intelligible."
   ]
  },
  {
   "cell_type": "code",
   "execution_count": 25,
   "id": "51a34b99",
   "metadata": {
    "scrolled": true
   },
   "outputs": [],
   "source": [
    "ztrig := collect( combine(convert(zr,trig),trig), \n",
    "  [sin,cos], m->collect(m,[R(tau),F], factor)):"
   ]
  },
  {
   "cell_type": "code",
   "execution_count": 26,
   "id": "71bdf0c8",
   "metadata": {},
   "outputs": [
    {
     "data": {
      "text/plain": [
       "2 R \\left(\\tau \\right) \\cos \\left(\\theta \\left(\\tau \\right)+\\tau \\right)+\\frac{1}{3} R \\left(\\tau \\right)^{3} \\sin \\left(3 \\theta \\left(\\tau \\right)+3 \\tau \\right) \\delta +\\left(-\\frac{F R \\left(\\tau \\right)^{2} \\sin \\left(2 \\theta \\left(\\tau \\right)+3 \\tau \\right)}{8}-\\frac{\\cos \\left(5 \\theta \\left(\\tau \\right)+5 \\tau \\right) R \\left(\\tau \\right)^{5}}{6}+\\frac{3 \\cos \\left(3 \\theta \\left(\\tau \\right)+3 \\tau \\right) R \\left(\\tau \\right)^{5}}{2}\\right) \\delta^{2}+\\left(\\frac{3 F^{2} \\sin \\left(\\theta \\left(\\tau \\right)+3 \\tau \\right) R \\left(\\tau \\right)}{32}+\\frac{7 \\sigma  F R \\left(\\tau \\right)^{2} \\sin \\left(2 \\theta \\left(\\tau \\right)+3 \\tau \\right)}{64}+\\frac{37 R \\left(\\tau \\right)^{7} \\sin \\left(3 \\theta \\left(\\tau \\right)+3 \\tau \\right)}{12}-\\frac{\\sin \\left(7 \\theta \\left(\\tau \\right)+7 \\tau \\right) R \\left(\\tau \\right)^{7}}{9}+\\frac{17 \\sin \\left(5 \\theta \\left(\\tau \\right)+5 \\tau \\right) R \\left(\\tau \\right)^{7}}{12}-\\frac{25 F \\cos \\left(4 \\theta \\left(\\tau \\right)+3 \\tau \\right) R \\left(\\tau \\right)^{4}}{16}+\\frac{5 F \\cos \\left(4 \\theta \\left(\\tau \\right)+5 \\tau \\right) R \\left(\\tau \\right)^{4}}{36}-\\frac{F \\cos \\left(2 \\theta \\left(\\tau \\right)+3 \\tau \\right) R \\left(\\tau \\right)^{4}}{4}\\right) \\delta^{3}"
      ]
     },
     "metadata": {},
     "output_type": "display_data"
    }
   ],
   "source": [
    "latex( series(ztrig,e,N+1) );"
   ]
  },
  {
   "cell_type": "markdown",
   "id": "ce46c134",
   "metadata": {},
   "source": [
    "The fact that _this_ final residual is $O(\\e^{N+1})$ proves that we have found a solution to the correct order."
   ]
  },
  {
   "cell_type": "code",
   "execution_count": 27,
   "id": "4eb53c38",
   "metadata": {
    "scrolled": true
   },
   "outputs": [
    {
     "data": {
      "text/plain": [
       "kilobytes used=97777, alloc=23608, time=6.97"
      ]
     },
     "metadata": {},
     "output_type": "display_data"
    },
    {
     "data": {
      "text/markdown": [
       "$$\\frac{K_{3}}{576} \\delta^{4}+K_{2} \\delta^{5}$$"
      ]
     },
     "execution_count": 27,
     "metadata": {},
     "output_type": "execute_result"
    }
   ],
   "source": [
    "fullresidual := eval(convert( WeaklyNonlinear, trig),u(tau)=ztrig):\n",
    "map(LargeExpressions:-Veil[K], combine( \n",
    "                   map(simplify, series(fullresidual, e, N+2))\n",
    "                                , trig)\n",
    "                   );"
   ]
  },
  {
   "cell_type": "markdown",
   "id": "b3ddabab",
   "metadata": {},
   "source": [
    "We should check that the _full_ residual contains no secular terms:"
   ]
  },
  {
   "cell_type": "code",
   "execution_count": 28,
   "id": "311fa92b",
   "metadata": {},
   "outputs": [],
   "source": [
    "hidefns := eval( fullresidual, [sin=(m->SS),cos=(m->CC), R(tau)=RRR] ):"
   ]
  },
  {
   "cell_type": "code",
   "execution_count": 29,
   "id": "b9902238",
   "metadata": {
    "scrolled": true
   },
   "outputs": [
    {
     "data": {
      "text/plain": [
       "[]"
      ]
     },
     "metadata": {},
     "output_type": "display_data"
    }
   ],
   "source": [
    "lprint( select( m->has(m,tau), [op(hidefns)]) );"
   ]
  },
  {
   "cell_type": "markdown",
   "id": "eff97398",
   "metadata": {},
   "source": [
    "No secular terms present: satisfactory. "
   ]
  },
  {
   "cell_type": "code",
   "execution_count": 30,
   "id": "ae409eac",
   "metadata": {},
   "outputs": [
    {
     "data": {
      "text/markdown": [
       "$$ 0.875, 0.968, 1.281$$"
      ]
     },
     "execution_count": 30,
     "metadata": {},
     "output_type": "execute_result"
    }
   ],
   "source": [
    "seq( times[k], k=1..N );"
   ]
  },
  {
   "cell_type": "code",
   "execution_count": 31,
   "id": "8a4a2977",
   "metadata": {},
   "outputs": [
    {
     "data": {
      "text/markdown": [
       "$$ 4.093, 4.203, 5.062$$"
      ]
     },
     "execution_count": 31,
     "metadata": {},
     "output_type": "execute_result"
    }
   ],
   "source": [
    "seq( timesr[k], k=1..N );"
   ]
  },
  {
   "cell_type": "code",
   "execution_count": 32,
   "id": "64e1daa0",
   "metadata": {},
   "outputs": [
    {
     "data": {
      "text/markdown": [
       "$$2 R \\left(\\tau \\right) \\cos \\left(\\theta \\left(\\tau \\right)+\\tau \\right)+\\frac{1}{3} R \\left(\\tau \\right)^{3} \\sin \\left(3 \\theta \\left(\\tau \\right)+3 \\tau \\right) \\delta +\\left(-\\frac{F R \\left(\\tau \\right)^{2} \\sin \\left(2 \\theta \\left(\\tau \\right)+3 \\tau \\right)}{8}-\\frac{\\cos \\left(5 \\theta \\left(\\tau \\right)+5 \\tau \\right) R \\left(\\tau \\right)^{5}}{6}+\\frac{3 \\cos \\left(3 \\theta \\left(\\tau \\right)+3 \\tau \\right) R \\left(\\tau \\right)^{5}}{2}\\right) \\delta^{2}+\\mathrm{O}\\left(\\delta^{3}\\right)$$"
      ]
     },
     "execution_count": 32,
     "metadata": {},
     "output_type": "execute_result"
    }
   ],
   "source": [
    "series( ztrig, e, 3);"
   ]
  },
  {
   "cell_type": "code",
   "execution_count": 33,
   "id": "4952be58",
   "metadata": {},
   "outputs": [
    {
     "data": {
      "text/markdown": [
       "$$-\\frac{\\sin \\left(\\theta \\left(\\tau \\right)\\right) F}{2}-2 R \\left(\\tau \\right)^{3}$$"
      ]
     },
     "execution_count": 33,
     "metadata": {},
     "output_type": "execute_result"
    }
   ],
   "source": [
    "combine( expand( coeff(diff(R(tau),tau),e,1) ), trig);"
   ]
  },
  {
   "cell_type": "code",
   "execution_count": 34,
   "id": "e23e911e",
   "metadata": {},
   "outputs": [
    {
     "data": {
      "text/markdown": [
       "$$-\\frac{\\cos \\left(\\theta \\left(\\tau \\right)\\right) F +\\sigma  R \\left(\\tau \\right)}{2 R \\left(\\tau \\right)}$$"
      ]
     },
     "execution_count": 34,
     "metadata": {},
     "output_type": "execute_result"
    }
   ],
   "source": [
    "combine( expand( coeff(diff(theta(tau),tau),e,1) ), trig);"
   ]
  },
  {
   "cell_type": "code",
   "execution_count": 35,
   "id": "02430314",
   "metadata": {},
   "outputs": [
    {
     "data": {
      "text/markdown": [
       "$$64 R^{6}+R^{2} \\sigma^{2}-4 F^{2}$$"
      ]
     },
     "execution_count": 35,
     "metadata": {},
     "output_type": "execute_result"
    }
   ],
   "source": [
    "steadyR := numer( (4*R^3/F)^2 + (sigma*R/2/F)^2-1 );"
   ]
  },
  {
   "cell_type": "code",
   "execution_count": 36,
   "id": "90b303f5",
   "metadata": {
    "scrolled": false
   },
   "outputs": [
    {
     "data": {
      "text/plain": [
       "                                          R"
      ]
     },
     "metadata": {},
     "output_type": "display_data"
    },
    {
     "data": {
      "text/markdown": [
       "$$\\sigma^{2} = \\frac{-64 R^{6}+4 F^{2}}{R^{2}}$$"
      ]
     },
     "execution_count": 36,
     "metadata": {},
     "output_type": "execute_result"
    }
   ],
   "source": [
    "isolate( 64*R^6 + sigma^2*R^2- 4*F^2, sigma^2); # Parametric sol better"
   ]
  },
  {
   "cell_type": "code",
   "execution_count": 37,
   "id": "a6f947cc",
   "metadata": {},
   "outputs": [
    {
     "data": {
      "text/markdown": [
       "$$\\rho^{6}+\\frac{1}{4} \\rho^{2} s^{2}-4$$"
      ]
     },
     "execution_count": 37,
     "metadata": {},
     "output_type": "execute_result"
    }
   ],
   "source": [
    "expand( eval( steadyR/F^2, [R=rho*F^(1/3)/2, sigma=s*F^(2/3)]) );"
   ]
  },
  {
   "cell_type": "markdown",
   "id": "f5bedccc",
   "metadata": {},
   "source": [
    "A separate computation shows that the trace of the Jacobian is $-8R^2$, always nonpositive, and the determinant is $12R^4+\\sigma^2/4$, always nonnegative.  So _all_ of these response curves are stable.\n",
    "\n",
    "Just for completeness, here are the details of that computation."
   ]
  },
  {
   "cell_type": "code",
   "execution_count": 38,
   "id": "32152154",
   "metadata": {},
   "outputs": [
    {
     "data": {
      "text/markdown": [
       "$$\\left[\\begin{array}{c}\n",
       "-\\frac{\\sin \\left(\\theta \\right) F}{2}-2 R^{3} \n",
       "\\\\\n",
       " -\\frac{\\sigma}{2}-\\frac{F \\cos \\left(\\theta \\right)}{2 R} \n",
       "\\end{array}\\right]$$"
      ]
     },
     "execution_count": 38,
     "metadata": {},
     "output_type": "execute_result"
    }
   ],
   "source": [
    "FF := eval( Vector(2,2,[ expand(coeff(diff(R(tau),tau),e,1)), \n",
    "                        expand(coeff(diff(theta(tau),tau),e,1))]),\n",
    "            [R(tau)=R,theta(tau)=theta, Phi=0] );"
   ]
  },
  {
   "cell_type": "code",
   "execution_count": 39,
   "id": "403503ab",
   "metadata": {},
   "outputs": [
    {
     "data": {
      "text/markdown": [
       "$$\\left[\\begin{array}{cc}\n",
       "-6 R^{2} & -\\frac{F \\cos \\left(\\theta \\right)}{2} \n",
       "\\\\\n",
       " \\frac{F \\cos \\left(\\theta \\right)}{2 R^{2}} & \\frac{F \\sin \\left(\\theta \\right)}{2 R} \n",
       "\\end{array}\\right]$$"
      ]
     },
     "execution_count": 39,
     "metadata": {},
     "output_type": "execute_result"
    }
   ],
   "source": [
    "J := VectorCalculus:-Jacobian( FF, [R,theta]);"
   ]
  },
  {
   "cell_type": "code",
   "execution_count": 40,
   "id": "2c95aa3d",
   "metadata": {},
   "outputs": [
    {
     "data": {
      "text/markdown": [
       "$$\\sin \\left(\\theta \\right) = -\\frac{4 R^{3}}{F}$$"
      ]
     },
     "execution_count": 40,
     "metadata": {},
     "output_type": "execute_result"
    }
   ],
   "source": [
    "esin := isolate(FF[1], sin(theta));"
   ]
  },
  {
   "cell_type": "code",
   "execution_count": 41,
   "id": "cd4e22b7",
   "metadata": {},
   "outputs": [
    {
     "data": {
      "text/markdown": [
       "$$\\cos \\left(\\theta \\right) = -\\frac{\\sigma  R}{F}$$"
      ]
     },
     "execution_count": 41,
     "metadata": {},
     "output_type": "execute_result"
    }
   ],
   "source": [
    "ecos := isolate(FF[2], cos(theta));"
   ]
  },
  {
   "cell_type": "markdown",
   "id": "b53258af",
   "metadata": {},
   "source": [
    "We evaluate the Jacobian matrix at the steady state:"
   ]
  },
  {
   "cell_type": "code",
   "execution_count": 42,
   "id": "a77a1c44",
   "metadata": {},
   "outputs": [
    {
     "data": {
      "text/markdown": [
       "$$\\left[\\begin{array}{cc}\n",
       "-6 R^{2} & \\frac{R \\sigma}{2} \n",
       "\\\\\n",
       " -\\frac{\\sigma}{2 R} & -2 R^{2} \n",
       "\\end{array}\\right]$$"
      ]
     },
     "execution_count": 42,
     "metadata": {},
     "output_type": "execute_result"
    }
   ],
   "source": [
    "J := eval( J, [esin,ecos]);"
   ]
  },
  {
   "cell_type": "code",
   "execution_count": 43,
   "id": "13c59ad5",
   "metadata": {},
   "outputs": [
    {
     "data": {
      "text/markdown": [
       "$$-8 R^{2}$$"
      ]
     },
     "execution_count": 43,
     "metadata": {},
     "output_type": "execute_result"
    }
   ],
   "source": [
    "tr := LinearAlgebra:-Trace(J);"
   ]
  },
  {
   "cell_type": "code",
   "execution_count": 44,
   "id": "d5c690dc",
   "metadata": {},
   "outputs": [
    {
     "data": {
      "text/markdown": [
       "$$12 R^{4}+\\frac{\\sigma^{2}}{4}$$"
      ]
     },
     "execution_count": 44,
     "metadata": {},
     "output_type": "execute_result"
    }
   ],
   "source": [
    "dt := LinearAlgebra:-Determinant(J);"
   ]
  },
  {
   "cell_type": "markdown",
   "id": "a0e976a0",
   "metadata": {},
   "source": [
    "Since the trace is always negative (unless $R=0$) and the determinant is always positive (unless both $R$ and $\\sigma$ are zero) the steady states (if they exist) are stable."
   ]
  },
  {
   "cell_type": "code",
   "execution_count": 45,
   "id": "ec88d7d5",
   "metadata": {},
   "outputs": [
    {
     "data": {
      "text/markdown": [
       "$$\\frac{s^{2} \\left(F^{\\alpha}\\right)^{2} \\rho^{2} \\left(F^{\\beta}\\right)^{2}}{F^{2}}+\\frac{16 \\rho^{6} \\left(F^{\\beta}\\right)^{6}}{F^{2}}-1$$"
      ]
     },
     "execution_count": 45,
     "metadata": {},
     "output_type": "execute_result"
    }
   ],
   "source": [
    "eval( rhs( esin^2 + ecos^2 - 1), [sigma=s*F^alpha, R=rho*F^beta] );"
   ]
  },
  {
   "cell_type": "code",
   "execution_count": 46,
   "id": "daf9efc0",
   "metadata": {},
   "outputs": [
    {
     "data": {
      "text/markdown": [
       "$$\\left\\{\\alpha = {\\frac{2}{3}}, \\beta = {\\frac{1}{3}}\\right\\}$$"
      ]
     },
     "execution_count": 46,
     "metadata": {},
     "output_type": "execute_result"
    }
   ],
   "source": [
    "solve( {2*alpha+2*beta=2, 6*beta=2});"
   ]
  },
  {
   "cell_type": "code",
   "execution_count": 47,
   "id": "e950147d",
   "metadata": {
    "scrolled": true
   },
   "outputs": [
    {
     "data": {
      "text/markdown": [
       "$$\\frac{1}{4} \\rho^{2} s^{2}+\\frac{1}{4} \\rho^{6}-1$$"
      ]
     },
     "execution_count": 47,
     "metadata": {},
     "output_type": "execute_result"
    }
   ],
   "source": [
    "nondim := eval( rhs( esin^2 + ecos^2 - 1), [sigma=s*F^(2/3), R=rho*F^(1/3)/2] );"
   ]
  },
  {
   "cell_type": "code",
   "execution_count": 48,
   "id": "20dbd8c5",
   "metadata": {
    "scrolled": true
   },
   "outputs": [
    {
     "data": {
      "text/plain": [
       "16 R^{6}+R^{2} \\sigma^{2}-F^{2}"
      ]
     },
     "metadata": {},
     "output_type": "display_data"
    }
   ],
   "source": [
    "latex( numer(rhs( esin^2 + ecos^2 - 1)));"
   ]
  },
  {
   "cell_type": "code",
   "execution_count": 49,
   "id": "2456f777",
   "metadata": {},
   "outputs": [
    {
     "data": {
      "text/plain": [
       "\\rho^{6}+\\rho^{2} s^{2}-4"
      ]
     },
     "metadata": {},
     "output_type": "display_data"
    }
   ],
   "source": [
    "latex( numer(nondim) );"
   ]
  },
  {
   "cell_type": "code",
   "execution_count": 50,
   "id": "c2fde1ba",
   "metadata": {},
   "outputs": [
    {
     "data": {
      "text/markdown": [
       "$$2^{\\frac{1}{3}},\\sqrt{-\\frac{2^{\\frac{2}{3}}}{2}+\\frac{\\mathrm{I} \\sqrt{3} 2^{\\frac{2}{3}}}{2}},\\sqrt{-\\frac{2^{\\frac{2}{3}}}{2}-\\frac{\\mathrm{I} \\sqrt{3} 2^{\\frac{2}{3}}}{2}},-2^{\\frac{1}{3}},-\\sqrt{-\\frac{2^{\\frac{2}{3}}}{2}+\\frac{\\mathrm{I} \\sqrt{3} 2^{\\frac{2}{3}}}{2}},-\\sqrt{-\\frac{2^{\\frac{2}{3}}}{2}-\\frac{\\mathrm{I} \\sqrt{3} 2^{\\frac{2}{3}}}{2}}$$"
      ]
     },
     "execution_count": 50,
     "metadata": {},
     "output_type": "execute_result"
    }
   ],
   "source": [
    "solve( eval(nondim,s=0), rho );"
   ]
  },
  {
   "cell_type": "code",
   "execution_count": 51,
   "id": "32b750d0",
   "metadata": {
    "scrolled": true
   },
   "outputs": [
    {
     "data": {
      "text/markdown": [
       "$$s^{2} = \\frac{-\\rho^{6}+4}{\\rho^{2}}$$"
      ]
     },
     "execution_count": 51,
     "metadata": {},
     "output_type": "execute_result"
    }
   ],
   "source": [
    "isolate(nondim, s^2);"
   ]
  },
  {
   "cell_type": "code",
   "execution_count": 52,
   "id": "5ffb9b27",
   "metadata": {},
   "outputs": [
    {
     "data": {
      "image/png": "[encoded data removed]"
     },
     "execution_count": 52,
     "metadata": {},
     "output_type": "execute_result"
    }
   ],
   "source": [
    "plot( [2^(2/3)*sin(p)/cos(p)^(1/3), 2^(1/3)*cos(p)^(1/3), p=-Pi/2..Pi/2],\n",
    "view=[-4..4, 0..1.5],labels=[sigma/F^(2/3), 2*R/F^(1/3)], \n",
    "gridlines, thickness=4, labeldirections=[horizontal,vertical]);"
   ]
  },
  {
   "cell_type": "code",
   "execution_count": 53,
   "id": "40d08081",
   "metadata": {
    "scrolled": true
   },
   "outputs": [
    {
     "data": {
      "text/plain": [
       "                        /"
      ]
     },
     "metadata": {},
     "output_type": "display_data"
    },
    {
     "data": {
      "text/markdown": [
       "$$R \\left(\\tau \\right) \\left(-\\frac{\\sin \\left(\\theta \\left(\\tau \\right)\\right) F}{2 R \\left(\\tau \\right)}-2 R \\left(\\tau \\right)^{2}\\right) \\delta +R \\left(\\tau \\right) \\left(\\frac{5 \\cos \\left(\\theta \\left(\\tau \\right)\\right) F R \\left(\\tau \\right)}{2}+\\frac{3 \\sigma  \\sin \\left(\\theta \\left(\\tau \\right)\\right) F}{8 R \\left(\\tau \\right)}+\\sigma  R \\left(\\tau \\right)^{2}\\right) \\delta^{2}+\\mathrm{O}\\left(\\delta^{3}\\right)$$"
      ]
     },
     "execution_count": 53,
     "metadata": {},
     "output_type": "execute_result"
    }
   ],
   "source": [
    "FF1 := series( diff(R(tau),tau),e,3); # Eventually nonlinear in sin, cos"
   ]
  },
  {
   "cell_type": "markdown",
   "id": "28d47538",
   "metadata": {},
   "source": [
    "I thought we could simply solve these equations for sin and cos, and we can, but we have to do it perturbatively.  This takes more work, but it's not that bad.  I did it to $O(\\delta^9)$ in a separate worksheet."
   ]
  },
  {
   "cell_type": "code",
   "execution_count": 54,
   "id": "1ee766b5",
   "metadata": {},
   "outputs": [
    {
     "data": {
      "text/markdown": [
       "$$\\frac{-32 \\sigma  R \\left(\\tau \\right)^{3}-32 F R \\left(\\tau \\right)^{2} \\cos \\left(\\theta \\left(\\tau \\right)\\right)}{64 R \\left(\\tau \\right)^{3}} \\delta +\\frac{1}{64} \\frac{24 F \\cos \\left(\\theta \\left(\\tau \\right)\\right) R \\left(\\tau \\right)^{2} \\sigma +16 R \\left(\\tau \\right)^{3} \\sigma^{2}+64 R \\left(\\tau \\right)^{7}+32 F \\sin \\left(\\theta \\left(\\tau \\right)\\right) R \\left(\\tau \\right)^{4}}{R \\left(\\tau \\right)^{3}} \\delta^{2}+\\mathrm{O}\\left(\\delta^{3}\\right)$$"
      ]
     },
     "execution_count": 54,
     "metadata": {},
     "output_type": "execute_result"
    }
   ],
   "source": [
    "FF2 := series( diff(theta(tau),tau),e,3);"
   ]
  },
  {
   "cell_type": "code",
   "execution_count": 55,
   "id": "d1e46949",
   "metadata": {},
   "outputs": [
    {
     "data": {
      "text/markdown": [
       "$$\\left[\\left[\\sin \\left(\\theta \\right) = -\\frac{16 R^{3} \\left(10 R^{4} \\delta^{2}+\\delta^{2} \\sigma^{2}-4\\right)}{F \\left(80 R^{4} \\delta^{2}-9 \\delta^{2} \\sigma^{2}+24 \\sigma  \\delta -16\\right)}, \\cos \\left(\\theta \\right) = -\\frac{2 R \\left(4 R^{4} \\delta^{2} \\sigma -16 R^{4} \\delta -3 \\delta^{2} \\sigma^{3}+10 \\delta  \\,\\sigma^{2}-8 \\sigma \\right)}{F \\left(80 R^{4} \\delta^{2}-9 \\delta^{2} \\sigma^{2}+24 \\sigma  \\delta -16\\right)}\\right]\\right]$$"
      ]
     },
     "execution_count": 55,
     "metadata": {},
     "output_type": "execute_result"
    }
   ],
   "source": [
    "sincos := solve( eval( [convert(FF1,polynom), convert(FF2,polynom)],\n",
    "    [R(tau)=R,theta(tau)=theta,Phi=0]), [sin(theta),cos(theta)] );"
   ]
  },
  {
   "cell_type": "code",
   "execution_count": 56,
   "id": "df51585f",
   "metadata": {},
   "outputs": [
    {
     "data": {
      "text/markdown": [
       "$$-\\frac{4 R^{3}}{F}-6 \\frac{R^{3} \\sigma}{F} \\delta +\\mathrm{O}\\left(\\delta^{2}\\right)$$"
      ]
     },
     "execution_count": 56,
     "metadata": {},
     "output_type": "execute_result"
    }
   ],
   "source": [
    "sine1 := series( eval( sin(theta), sincos[1]), e, 2 );"
   ]
  },
  {
   "cell_type": "code",
   "execution_count": 57,
   "id": "adee8be2",
   "metadata": {},
   "outputs": [
    {
     "data": {
      "text/markdown": [
       "$$-\\frac{\\sigma  R}{F}+\\left(\\frac{R \\left(-16 R^{4}+10 \\sigma^{2}\\right)}{8 F}-\\frac{3 \\sigma^{2} R}{2 F}\\right) \\delta +\\mathrm{O}\\left(\\delta^{2}\\right)$$"
      ]
     },
     "execution_count": 57,
     "metadata": {},
     "output_type": "execute_result"
    }
   ],
   "source": [
    "cose1 := series( eval( cos(theta), sincos[1]), e, 2 );"
   ]
  },
  {
   "cell_type": "code",
   "execution_count": 58,
   "id": "599c868e",
   "metadata": {},
   "outputs": [
    {
     "data": {
      "text/markdown": [
       "$$\\frac{\\sigma^{2} R^{2}}{F^{2}}+\\frac{16 R^{6}}{F^{2}}-1+\\left(-\\frac{2 \\sigma  R \\left(\\frac{R \\left(-16 R^{4}+10 \\sigma^{2}\\right)}{8 F}-\\frac{3 \\sigma^{2} R}{2 F}\\right)}{F}+\\frac{48 R^{6} \\sigma}{F^{2}}\\right) \\delta +\\mathrm{O}\\left(\\delta^{2}\\right)$$"
      ]
     },
     "execution_count": 58,
     "metadata": {},
     "output_type": "execute_result"
    }
   ],
   "source": [
    "steady1 := series( sine1^2 + cose1^2 - 1, e, 2);"
   ]
  },
  {
   "cell_type": "code",
   "execution_count": 59,
   "id": "e0f35434",
   "metadata": {
    "scrolled": true
   },
   "outputs": [
    {
     "data": {
      "text/markdown": [
       "$$\\frac{\\sigma^{2} R^{2}}{F^{2}}+\\frac{16 R^{6}}{F^{2}}-1+\\frac{1}{2} \\frac{\\sigma  \\,R^{2} \\left(104 R^{4}+\\sigma^{2}\\right)}{F^{2}} \\delta +\\mathrm{O}\\left(\\delta^{2}\\right)$$"
      ]
     },
     "execution_count": 59,
     "metadata": {},
     "output_type": "execute_result"
    }
   ],
   "source": [
    "map( simplify, steady1 );"
   ]
  },
  {
   "cell_type": "code",
   "execution_count": 60,
   "id": "8ed21a69",
   "metadata": {},
   "outputs": [
    {
     "data": {
      "text/markdown": [
       "$$\\frac{\\sigma^{2} R^{2}}{F^{2}}+\\frac{16 R^{6}}{F^{2}}-1+\\frac{\\sigma  \\,R^{2} \\left(104 R^{4}+\\sigma^{2}\\right) \\delta}{2 F^{2}}$$"
      ]
     },
     "execution_count": 60,
     "metadata": {},
     "output_type": "execute_result"
    }
   ],
   "source": [
    "nice := convert( map(simplify,steady1), polynom)"
   ]
  },
  {
   "cell_type": "code",
   "execution_count": 61,
   "id": "f4677ae1",
   "metadata": {},
   "outputs": [
    {
     "data": {
      "text/markdown": [
       "$$-1+\\frac{\\delta  \\left(13 \\rho^{6} s +2 \\rho^{2} s^{3}\\right) F^{\\frac{2}{3}}}{16}+\\frac{\\rho^{6}}{4}+\\frac{\\rho^{2} s^{2}}{4}$$"
      ]
     },
     "execution_count": 61,
     "metadata": {},
     "output_type": "execute_result"
    }
   ],
   "source": [
    "simplify( eval( nice, [sigma=s*F^(2/3), R=rho*F^(1/3)/2]) );"
   ]
  },
  {
   "cell_type": "code",
   "execution_count": 62,
   "id": "069b9c5d",
   "metadata": {},
   "outputs": [],
   "source": [
    "FFF := map( expand, Vector(2, eval( [convert(FF1,polynom)/e, \n",
    "                        convert(FF2,polynom)/e],\n",
    "    [R(tau)=R,theta(tau)=theta,Phi=0]) ) ):"
   ]
  },
  {
   "cell_type": "code",
   "execution_count": 63,
   "id": "f7409c7a",
   "metadata": {},
   "outputs": [
    {
     "data": {
      "text/markdown": [
       "$$\\left[\\begin{array}{c}\n",
       "\\mathrm{O}\\left(\\delta^{2}\\right) \n",
       "\\\\\n",
       " \\mathrm{O}\\left(\\delta^{2}\\right) \n",
       "\\end{array}\\right]$$"
      ]
     },
     "execution_count": 63,
     "metadata": {},
     "output_type": "execute_result"
    }
   ],
   "source": [
    "ressteady := map( expand, map(series,\n",
    "  eval(FFF, [sin(theta)=sine1, cos(theta)=cose1]),\n",
    "                 e, N+1 ) );"
   ]
  },
  {
   "cell_type": "code",
   "execution_count": 64,
   "id": "9ce0350d",
   "metadata": {},
   "outputs": [],
   "source": [
    "J2 := VectorCalculus:-Jacobian( FFF, [R, theta]):"
   ]
  },
  {
   "cell_type": "code",
   "execution_count": 65,
   "id": "a62fbb7b",
   "metadata": {},
   "outputs": [],
   "source": [
    "J2 := eval( J2, [sin(theta)=sine1, cos(theta)=cose1]):"
   ]
  },
  {
   "cell_type": "code",
   "execution_count": 66,
   "id": "e76c1393",
   "metadata": {},
   "outputs": [],
   "source": [
    "J2s := map(series, J2, e, N+1):"
   ]
  },
  {
   "cell_type": "code",
   "execution_count": 67,
   "id": "62266403",
   "metadata": {},
   "outputs": [],
   "source": [
    "Je := map(m->collect(m,e,expand), map(convert, J2s, polynom) ):"
   ]
  },
  {
   "cell_type": "code",
   "execution_count": 68,
   "id": "6c9b6721",
   "metadata": {},
   "outputs": [
    {
     "data": {
      "text/markdown": [
       "$$-8 R^{2}-4 \\sigma  \\,R^{2} \\delta +\\left(-10 R^{6}-\\frac{5}{4} R^{2} \\sigma^{2}\\right) \\delta^{2}$$"
      ]
     },
     "execution_count": 68,
     "metadata": {},
     "output_type": "execute_result"
    }
   ],
   "source": [
    "tr := series( eval( LinearAlgebra:-Trace( Je ), [sin(theta)=sine1, cos(theta)=cose1] ), e, N+1 );"
   ]
  },
  {
   "cell_type": "code",
   "execution_count": 69,
   "id": "292fc74a",
   "metadata": {
    "scrolled": true
   },
   "outputs": [
    {
     "data": {
      "text/markdown": [
       "$$12 R^{4}+\\frac{\\sigma^{2}}{4}+\\left(21 R^{4} \\sigma -\\frac{1}{4} \\sigma^{3}\\right) \\delta +\\left(9 R^{8}+4 R^{4} \\sigma^{2}+\\frac{1}{16} \\sigma^{4}\\right) \\delta^{2}+\\left(20 R^{8} \\sigma +\\frac{5}{2} R^{4} \\sigma^{3}\\right) \\delta^{3}$$"
      ]
     },
     "execution_count": 69,
     "metadata": {},
     "output_type": "execute_result"
    }
   ],
   "source": [
    "dt := series( eval( LinearAlgebra:-Determinant( Je ), [sin(theta)=sine1, cos(theta)=cose1] ), e, N+1 );"
   ]
  },
  {
   "cell_type": "markdown",
   "id": "fb427294",
   "metadata": {},
   "source": [
    "For large enough $\\sigma$, it is possible that the determinant could be negative or the trace could be positive (for $\\sigma < -2/\\delta)$.  But it would have to be $O(1/\\delta)$, which voids the expansion in the first place.  So we conclude that, at higher orders, the steady state is again stable, and only $O(\\delta)$ different to the steady states plotted above."
   ]
  },
  {
   "cell_type": "code",
   "execution_count": 70,
   "id": "93eff6f6",
   "metadata": {},
   "outputs": [
    {
     "data": {
      "text/markdown": [
       "$$\\frac{R^{2} \\left(16 R^{4}+\\sigma^{2}\\right)}{F^{2}}+\\frac{1}{2} \\frac{\\sigma  \\,R^{2} \\left(104 R^{4}+\\sigma^{2}\\right)}{F^{2}} \\delta +\\mathrm{O}\\left(\\delta^{2}\\right)$$"
      ]
     },
     "execution_count": 70,
     "metadata": {},
     "output_type": "execute_result"
    }
   ],
   "source": [
    "steadyR := map( simplify, series( sine1^2 + cose1^2, e, 2) );"
   ]
  },
  {
   "cell_type": "code",
   "execution_count": 71,
   "id": "d7375beb",
   "metadata": {},
   "outputs": [
    {
     "data": {
      "text/markdown": [
       "$$\\frac{\\rho^{2} \\left(\\rho^{4} F^{\\frac{4}{3}}+s^{2} F^{2}\\right)}{4 F^{\\frac{4}{3}}}+\\frac{1}{8} \\frac{s \\,\\rho^{2} \\left(\\frac{13 \\rho^{4} F^{\\frac{4}{3}}}{2}+s^{2} F^{2}\\right)}{F^{\\frac{1}{3}}} \\delta +\\mathrm{O}\\left(\\delta^{2}\\right)$$"
      ]
     },
     "execution_count": 71,
     "metadata": {},
     "output_type": "execute_result"
    }
   ],
   "source": [
    "maybe := eval(steadyR, [R=rho/2*F^(1/3), sigma=s*F]);"
   ]
  },
  {
   "cell_type": "code",
   "execution_count": 72,
   "id": "e22749e0",
   "metadata": {},
   "outputs": [
    {
     "data": {
      "text/markdown": [
       "$$\\frac{\\rho^{2} \\left(\\rho^{4} F^{\\frac{4}{3}}+s^{2} F^{2}\\right)}{4 F^{\\frac{4}{3}}}+\\frac{s \\,\\rho^{2} \\left(\\frac{13 \\rho^{4} F^{\\frac{4}{3}}}{2}+s^{2} F^{2}\\right) \\delta}{8 F^{\\frac{1}{3}}}$$"
      ]
     },
     "execution_count": 72,
     "metadata": {},
     "output_type": "execute_result"
    }
   ],
   "source": [
    "maybe := convert(maybe,polynom);"
   ]
  },
  {
   "cell_type": "code",
   "execution_count": 73,
   "id": "fdcd3cae",
   "metadata": {},
   "outputs": [
    {
     "data": {
      "text/markdown": [
       "$$\\frac{s \\left(13 \\rho^{4} F^{\\frac{4}{3}}+2 s^{2} F^{2}\\right) \\delta}{16 F^{\\frac{1}{3}}}+\\frac{\\rho^{4} F^{\\frac{4}{3}}+s^{2} F^{2}}{4 F^{\\frac{4}{3}}}$$"
      ]
     },
     "execution_count": 73,
     "metadata": {},
     "output_type": "execute_result"
    }
   ],
   "source": [
    "collect( maybe/rho^2, delta, factor);"
   ]
  },
  {
   "cell_type": "code",
   "execution_count": 74,
   "id": "cb5495df",
   "metadata": {},
   "outputs": [
    {
     "data": {
      "text/markdown": [
       "$$ 2.230833333$$"
      ]
     },
     "execution_count": 74,
     "metadata": {},
     "output_type": "execute_result"
    }
   ],
   "source": [
    "8031./3600"
   ]
  },
  {
   "cell_type": "code",
   "execution_count": 75,
   "id": "14d0c1aa",
   "metadata": {},
   "outputs": [
    {
     "data": {
      "text/plain": [
       "3+3 \\delta +3 \\delta^{2}+8 \\delta^{3}"
      ]
     },
     "metadata": {},
     "output_type": "display_data"
    }
   ],
   "source": [
    "latex( series( collect(ztrig,e,m->nops(m)), e, N+1 ));"
   ]
  },
  {
   "cell_type": "code",
   "execution_count": 76,
   "id": "3b579d62",
   "metadata": {
    "scrolled": true
   },
   "outputs": [
    {
     "data": {
      "text/markdown": [
       "$$\\frac{3 K_{4}}{32}+\\frac{7 K_{5}}{64}+\\frac{37 K_{6}}{12}-\\frac{K_{7}}{9}+\\frac{17 K_{8}}{12}-\\frac{25 K_{9}}{16}+\\frac{5 K_{10}}{36}-\\frac{K_{11}}{4}$$"
      ]
     },
     "execution_count": 76,
     "metadata": {},
     "output_type": "execute_result"
    }
   ],
   "source": [
    "highview := map(LargeExpressions:-Veil[K], combine( expand(coeff(ztrig,delta,N)),trig), [R(tau)=R] )   ;"
   ]
  },
  {
   "cell_type": "code",
   "execution_count": 77,
   "id": "0fe4eae8",
   "metadata": {
    "scrolled": true
   },
   "outputs": [
    {
     "data": {
      "text/markdown": [
       "$$7$$"
      ]
     },
     "execution_count": 77,
     "metadata": {},
     "output_type": "execute_result"
    }
   ],
   "source": [
    "max( map( length, ( PolynomialTools:-CoefficientList( highview, indets(highview) ) ) ) );"
   ]
  },
  {
   "cell_type": "code",
   "execution_count": 78,
   "id": "083b5280",
   "metadata": {},
   "outputs": [
    {
     "data": {
      "text/plain": [
       "                                delta10 := 0.1"
      ]
     },
     "metadata": {},
     "output_type": "display_data"
    },
    {
     "data": {
      "text/markdown": [
       "$$0$$"
      ]
     },
     "execution_count": 78,
     "metadata": {},
     "output_type": "execute_result"
    }
   ],
   "source": [
    "F10 := 10;\n",
    "delta10 := 0.1; #0.20625; # .15 is slightly too big; 0.1 gives residual 0.05; this gives 2!\n",
    "sigma10 := 0;"
   ]
  },
  {
   "cell_type": "code",
   "execution_count": 79,
   "id": "c51d319c",
   "metadata": {},
   "outputs": [],
   "source": [
    "zsample := eval(ztrig, [F=F10, delta=delta10, sigma=sigma10]):"
   ]
  },
  {
   "cell_type": "code",
   "execution_count": 80,
   "id": "fd5b3527",
   "metadata": {},
   "outputs": [],
   "source": [
    "des := {diff(RR(tau),tau)=\n",
    " eval(diff(R(tau),tau), [R(tau)=RR(tau), theta(tau)=THETA(tau)]),\n",
    " diff(THETA(tau),tau) = eval( diff(theta(tau),tau), \n",
    " [R(tau)=RR(tau), theta(tau)=THETA(tau)])}:"
   ]
  },
  {
   "cell_type": "code",
   "execution_count": 81,
   "id": "6c977eff",
   "metadata": {},
   "outputs": [],
   "source": [
    "desample := eval( des,[F=F10, delta=delta10,sigma=sigma10] ):"
   ]
  },
  {
   "cell_type": "code",
   "execution_count": 82,
   "id": "4ef99fd5",
   "metadata": {},
   "outputs": [],
   "source": [
    "sol := dsolve( desample union {RR(0)=0.1, THETA(0)=0.0}, {RR(tau),THETA(tau)}, numeric):"
   ]
  },
  {
   "cell_type": "code",
   "execution_count": 83,
   "id": "4f9b5b0d",
   "metadata": {},
   "outputs": [
    {
     "data": {
      "image/png": "[encoded data removed]"
     },
     "execution_count": 83,
     "metadata": {},
     "output_type": "execute_result"
    }
   ],
   "source": [
    "plots[odeplot]( sol, [tau,THETA(tau)], tau=0..10);"
   ]
  },
  {
   "cell_type": "code",
   "execution_count": 84,
   "id": "c767ac4d",
   "metadata": {},
   "outputs": [
    {
     "data": {
      "text/markdown": [
       "$$ 0.0001$$"
      ]
     },
     "execution_count": 84,
     "metadata": {},
     "output_type": "execute_result"
    }
   ],
   "source": [
    "evalf(delta10^(N+1));"
   ]
  },
  {
   "cell_type": "code",
   "execution_count": 85,
   "id": "6b530478",
   "metadata": {},
   "outputs": [
    {
     "data": {
      "text/markdown": [
       "$$[R \\left(\\tau \\right) =  1.38310428707153465, \\theta \\left(\\tau \\right) = - 1.64016986416441646]$$"
      ]
     },
     "execution_count": 85,
     "metadata": {},
     "output_type": "execute_result"
    }
   ],
   "source": [
    "t10 := eval( sol(10.0), [RR=R,THETA=theta] )[2..3];"
   ]
  },
  {
   "cell_type": "code",
   "execution_count": 86,
   "id": "c142a081",
   "metadata": {},
   "outputs": [],
   "source": [
    "zs := eval(ztrig, [op(t10), F=F10, delta=delta10, sigma=sigma10]):"
   ]
  },
  {
   "cell_type": "code",
   "execution_count": 87,
   "id": "e364cd6d",
   "metadata": {},
   "outputs": [],
   "source": [
    "fr := eval( eval(WeaklyNonlinear, u(tau)=ztrig),  \n",
    "  [op(t10), F=F10, delta=delta10, sigma=sigma10] ):"
   ]
  },
  {
   "cell_type": "code",
   "execution_count": 88,
   "id": "41dea6fb",
   "metadata": {},
   "outputs": [
    {
     "data": {
      "image/png": "[encoded data removed]"
     },
     "execution_count": 88,
     "metadata": {},
     "output_type": "execute_result"
    }
   ],
   "source": [
    "plot( fr, tau=0..20); # This residual is O(1) and thus too big."
   ]
  },
  {
   "cell_type": "code",
   "execution_count": 89,
   "id": "3af4b9b4",
   "metadata": {},
   "outputs": [
    {
     "data": {
      "text/plain": [
       "kilobytes used=114881, alloc=23608, time=9.19"
      ]
     },
     "metadata": {},
     "output_type": "display_data"
    }
   ],
   "source": [
    "datapts := [\n",
    "seq(\n",
    "eval( [zs/delta10, diff(zs,tau)/delta10], tau=k ), \n",
    "k=0..1000)]:"
   ]
  },
  {
   "cell_type": "code",
   "execution_count": 90,
   "id": "a43552c1",
   "metadata": {},
   "outputs": [
    {
     "data": {
      "text/markdown": [
       "$$[- 1.28828140784163714,  25.7549825757673609]$$"
      ]
     },
     "execution_count": 90,
     "metadata": {},
     "output_type": "execute_result"
    }
   ],
   "source": [
    "datapts[1];"
   ]
  },
  {
   "cell_type": "code",
   "execution_count": 91,
   "id": "9dc0abf7",
   "metadata": {},
   "outputs": [
    {
     "data": {
      "text/plain": [
       "        AXESLABELS(\"\", \"\", FONT(\"Arial\", 16)))"
      ]
     },
     "metadata": {},
     "output_type": "display_data"
    },
    {
     "data": {
      "image/png": "[encoded data removed]"
     },
     "execution_count": 91,
     "metadata": {},
     "output_type": "execute_result"
    }
   ],
   "source": [
    "pertplot := plots[pointplot]( datapts, symbol=point); # Visibly departs"
   ]
  },
  {
   "cell_type": "code",
   "execution_count": 92,
   "id": "905af27f",
   "metadata": {},
   "outputs": [
    {
     "data": {
      "text/markdown": [
       "$$\\frac{d^{2}}{d t^{2}}y \\left(t \\right)- 0.001 \\left(\\frac{d}{d t}y \\left(t \\right)\\right) \\left(1-\\frac{4 \\left(\\frac{d}{d t}y \\left(t \\right)\\right)^{2}}{3}\\right)+y \\left(t \\right)-20 \\cos \\left( 1.0 t \\right)$$"
      ]
     },
     "execution_count": 92,
     "metadata": {},
     "output_type": "execute_result"
    }
   ],
   "source": [
    "wample := evalc( eval( WeaklyNonlineart, [F=F10,delta=delta10,sigma=sigma10] ) );"
   ]
  },
  {
   "cell_type": "code",
   "execution_count": 93,
   "id": "7cf3f39f",
   "metadata": {},
   "outputs": [],
   "source": [
    "tsol := dsolve( {wample, y(0)=0.1, D(y)(0)=0.0}, y(t), numeric,maxfun=10^7 ):"
   ]
  },
  {
   "cell_type": "code",
   "execution_count": 94,
   "id": "1ccf3645",
   "metadata": {},
   "outputs": [
    {
     "data": {
      "image/png": "[encoded data removed]"
     },
     "execution_count": 94,
     "metadata": {},
     "output_type": "execute_result"
    }
   ],
   "source": [
    "numplot := plots[odeplot]( tsol, [y(t),diff(y(t),t)], t=0..1000, style=point);"
   ]
  },
  {
   "cell_type": "code",
   "execution_count": 95,
   "id": "89b75afb",
   "metadata": {},
   "outputs": [
    {
     "data": {
      "image/png": "[encoded data removed]"
     },
     "execution_count": 95,
     "metadata": {},
     "output_type": "execute_result"
    }
   ],
   "source": [
    "plots[display]( pertplot, numplot ); # The two solutions compared"
   ]
  },
  {
   "cell_type": "code",
   "execution_count": null,
   "id": "fbcaaa60",
   "metadata": {},
   "outputs": [],
   "source": []
  }
 ],
 "metadata": {
  "kernelspec": {
   "display_name": "Maple 2024",
   "language": "maple",
   "name": "maple"
  },
  "language_info": {
   "file_extension": ".mpl",
   "mimetype": "application/vnd.maple.mpl",
   "name": "maple",
   "version": "2024"
  }
 },
 "nbformat": 4,
 "nbformat_minor": 5
}
