{
 "cells": [
  {
   "cell_type": "markdown",
   "id": "cb6b0c00",
   "metadata": {},
   "source": [
    "# Antiphon, Arb, and Archimedes #\n",
    "\n",
    "Antiphon, possibly together with Bryson of Heraclea, proposed an argument for computing $\\pi$ (or, possibly, defining it) by means of the _areas_ of inscribed and circumscribed polygons.  They seem to have also introduced the idea of doubling the number of sides of the $n$-gons to improve their estimates.  [Archimedes of Syracuse](https://en.wikipedia.org/wiki/Archimedes) famously took the argument concretely and actually computed the areas of polygons of $96 = 3\\cdot 2^5$ sides, rounding his answers _down_ for the inscribed figure and rounding his answers _up_ for the circumscribed figure.  This is the first documented use of what we now know as _interval arithmetic_.  It also seems to us to be the first use of _backward error_: we want to compute the area or perimeter of a circle, and instead we compute the exact area or perimeter of a nearby curve! \n",
    "\n",
    "This is actually a hard historical argument to be confident in.  It seems likely that the Egyptians and Babylonians were very well-versed in approximate computation, so perhaps they had earlier used what we would now call perturbation arguments.  However, we are not aware of any examples of such.\n",
    "\n",
    "\n",
    "As an aside, at this point in time, it was well appreciated that if the area of a unit circle was $\\pi$, then the perimeter was $\\tau = 2\\pi$.  Hence the formulas for perimeter and area were supposed to be conversible. But the idea that the _area_ of the inscribed $n$-gon is less than the _area_ of the circle is obvious: one has cut pieces of the circle off to make the inscribed polygon. Similarly, the _area_ of the circumscribed polygon is obviously larger than the area of the circle, because you can cover the circle completely with it.  The arguments for length are somewhat more subject to doubt, and in particular it's not immediately clear that the perimeter of the inscribed polygon is less than the perimeter of the circumscribed polygon. So, we think about area here.\n",
    "\n",
    "Let $a_n$ be the _area_ of a regular $n$-gon _inscribed_ in the unit circle.  Similarly, let $A_n$ be the area of a regular $n$-gon _circumscribed_ about the unit circle.\n",
    "\n",
    "We derived the following formulae, which you might find entertaining to rederive for yourselves.\n",
    "\\begin{align}\n",
    "A_{2n} &= \\frac{2A_n}{1+\\sqrt{1+\\left(\\frac{A_n}{n}\\right)^2}} \\\\\n",
    "a_{2n} &= \\frac{A_n}{\\sqrt{1+\\left(\\frac{A_n}{n}\\right)^2}}\n",
    "\\end{align}"
   ]
  },
  {
   "cell_type": "markdown",
   "id": "39f34854",
   "metadata": {},
   "source": [
    "We have that the inscribed and circumscribed triangles give\n",
    "\\begin{align}\n",
    "A_3 &= 3\\sqrt{3}\\\\\n",
    "a_3 &= \\frac{3\\sqrt{3}}{4} .\n",
    "\\end{align}"
   ]
  },
  {
   "cell_type": "markdown",
   "id": "6175a8e0",
   "metadata": {},
   "source": [
    "Copyright (c) 2024 Robert M. Corless\n",
    "\n",
    "Permission is hereby granted, free of charge, to any person obtaining a copy of this software and associated documentation files (the “Software”), to deal in the Software without restriction, including without limitation the rights to use, copy, modify, merge, publish, distribute, sublicense, and/or sell copies of the Software, and to permit persons to whom the Software is furnished to do so, subject to the following conditions:\n",
    "\n",
    "The above copyright notice and this permission notice shall be included in all copies or substantial portions of the Software.\n",
    "\n",
    "THE SOFTWARE IS PROVIDED “AS IS”, WITHOUT WARRANTY OF ANY KIND, EXPRESS OR IMPLIED, INCLUDING BUT NOT LIMITED TO THE WARRANTIES OF MERCHANTABILITY, FITNESS FOR A PARTICULAR PURPOSE AND NONINFRINGEMENT. IN NO EVENT SHALL THE AUTHORS OR COPYRIGHT HOLDERS BE LIABLE FOR ANY CLAIM, DAMAGES OR OTHER LIABILITY, WHETHER IN AN ACTION OF CONTRACT, TORT OR OTHERWISE, ARISING FROM, OUT OF OR IN CONNECTION WITH THE SOFTWARE OR THE USE OR OTHER DEALINGS IN THE SOFTWARE."
   ]
  },
  {
   "cell_type": "code",
   "execution_count": 1,
   "id": "f341b302",
   "metadata": {},
   "outputs": [
    {
     "data": {
      "text/plain": [
       "kilobytes used=1872, alloc=5424, time=0.41"
      ]
     },
     "metadata": {},
     "output_type": "display_data"
    }
   ],
   "source": [
    "A := table():\n",
    "a := table():\n",
    "A[3] := 3*sqrt(3):\n",
    "a[3] := 3*sqrt(3)/4:\n",
    "for k to 5 do\n",
    "  n := 3*2^(k-1);\n",
    "  A[2*n] := 2*A[n]/(1+sqrt(1+(A[n]/n)^2));\n",
    "  a[2*n] := A[n]/sqrt(1+(A[n]/n)^2);\n",
    "end do:"
   ]
  },
  {
   "cell_type": "code",
   "execution_count": 2,
   "id": "93c0bf2b",
   "metadata": {},
   "outputs": [
    {
     "data": {
      "text/markdown": [
       "| | |\n",
       "|:-:|:-:|\n",
       "|48*3^(1/2)/(1+2/3*3^(1/2))/(1+1/3*(9+3/(1+2/3*3^(1/2))^2)^(1/2))/(1+1/3*(9+3/(1+2/3*3^(1/2))^2/(1+1/3*(9+3/(1+2/3*3^(1/2))^2)^(1/2))^2)^(1/2))/(9+3/(1+2/3*3^(1/2))^2/(1+1/3*(9+3/(1+2/3*3^(1/2))^2)^(1/2))^2/(1+1/3*(9+3/(1+2/3*3^(1/2))^2/(1+1/3*(9+3/(1+2/3*3^(1/2))^2)^(1/2))^2)^(1/2))^2)^(1/2)|32*3^(1/2)/(1+2/3*3^(1/2))/(1+1/3*(9+3/(1+2/3*3^(1/2))^2)^(1/2))/(1+1/3*(9+3/(1+2/3*3^(1/2))^2/(1+1/3*(9+3/(1+2/3*3^(1/2))^2)^(1/2))^2)^(1/2))/(1+1/3*(9+3/(1+2/3*3^(1/2))^2/(1+1/3*(9+3/(1+2/3*3^(1/2))^2)^(1/2))^2/(1+1/3*(9+3/(1+2/3*3^(1/2))^2/(1+1/3*(9+3/(1+2/3*3^(1/2))^2)^(1/2))^2)^(1/2))^2)^(1/2))|\n"
      ]
     },
     "execution_count": 2,
     "metadata": {},
     "output_type": "execute_result"
    }
   ],
   "source": [
    "Digits := 15:\n",
    "bounds := [a[2*n],A[2*n]];"
   ]
  },
  {
   "cell_type": "code",
   "execution_count": 3,
   "id": "0fdc296e",
   "metadata": {
    "scrolled": true
   },
   "outputs": [
    {
     "data": {
      "text/markdown": [
       "| | |\n",
       "|:-:|:-:|\n",
       "|3.1393|3.1428|\n"
      ]
     },
     "execution_count": 3,
     "metadata": {},
     "output_type": "execute_result"
    }
   ],
   "source": [
    "bf := evalf[5](bounds);"
   ]
  },
  {
   "cell_type": "markdown",
   "id": "ac430df4",
   "metadata": {},
   "source": [
    "Those numbers do not take account of rounding errors.  Rounding errors are actually negligible here because the number of sides is so low.  Nonetheless if one wants a computer-aided proof that the true area is between the bounds, then we have to do as Archimedes did and round down for the lower limit and up for the upper limit. \n",
    "\n",
    "There is now a way to do this in native Maple, based on the [wonderful program Arb by Fredrik Johansson](https://fredrikj.net/arb/).  This beats the old [interval arithmetic package by Amanda Connell and myself](https://interval.louisiana.edu/reliable-computing-journal/1993/interval-computations-1993-2-pp-120-134.pdf), by more than a country mile.  In particular, that 1993 work reports a computer taking more than an hour to reproduce the computation that we do below in a flash.\n",
    "\n",
    "In Maple, you just make each atomic element something called a \"RealBox\" and then most of Maple's operators (In Maple 2024, not sqrt, unfortunately, so we have to use $x^{1/2}$; this may get fixed in later versions) just work and automatically track the rounding errors."
   ]
  },
  {
   "cell_type": "code",
   "execution_count": 4,
   "id": "080aa27d",
   "metadata": {},
   "outputs": [
    {
     "data": {
      "text/plain": [
       "                               Sqrt := x -> x"
      ]
     },
     "metadata": {},
     "output_type": "display_data"
    }
   ],
   "source": [
    "A := table():\n",
    "a := table():\n",
    "Sqrt := x -> x^(1/2); # sqrt does things Arb doesn't like\n",
    "A[3] := RealBox( 3*sqrt(3) ):\n",
    "a[3] := RealBox( 3*sqrt(3)/4 ):\n",
    "for k to 5 do\n",
    "  n := 3*2^(k-1);\n",
    "  A[2*n] := 2*A[n]/(1+Sqrt(1+(A[n]/n)^2));\n",
    "  a[2*n] := A[n]/Sqrt(1+(A[n]/n)^2);\n",
    "end do:"
   ]
  },
  {
   "cell_type": "code",
   "execution_count": 5,
   "id": "df242508",
   "metadata": {
    "scrolled": true
   },
   "outputs": [
    {
     "data": {
      "text/markdown": [
       "| | |\n",
       "|:-:|:-:|\n",
       "|RealBox(3.13935020304687,8.18589518416821e-014)|RealBox(3.14271459964536,7.76126804917689e-014)|\n"
      ]
     },
     "execution_count": 5,
     "metadata": {},
     "output_type": "execute_result"
    }
   ],
   "source": [
    "bounds := [a[2*n],A[2*n]];"
   ]
  },
  {
   "cell_type": "code",
   "execution_count": 6,
   "id": "48f176a3",
   "metadata": {},
   "outputs": [
    {
     "data": {
      "text/plain": [
       "3.13935020304679, 3.14271459964544"
      ]
     },
     "execution_count": 6,
     "metadata": {},
     "output_type": "execute_result"
    }
   ],
   "source": [
    "Center(a[2*n])-Radius(a[2*n]), Center(A[2*n])+Radius(A[2*n])"
   ]
  },
  {
   "cell_type": "markdown",
   "id": "6862b2ea",
   "metadata": {},
   "source": [
    "Like Archimedes, we have rounded down for the lower limit, and rounded up for the upper.  Now we can let this iteration run for a lot longer, and use polygons with millions of sides.\n",
    "\n",
    "By experiment, we find that at 15 Digits we can't use more than 23 doublings, giving us more than $800$ million sides; more than that and the rounding errors dominate.  If we chose to use higher settings of Digits, we could be more accurate."
   ]
  },
  {
   "cell_type": "code",
   "execution_count": 7,
   "id": "d4716e12",
   "metadata": {},
   "outputs": [
    {
     "data": {
      "text/plain": [
       "                               Sqrt := x -> x"
      ]
     },
     "metadata": {},
     "output_type": "display_data"
    }
   ],
   "source": [
    "A := table():\n",
    "a := table():\n",
    "Sqrt := x -> x^(1/2); # sqrt does things Arb doesn't like\n",
    "A[3] := RealBox( 3*sqrt(3) ):\n",
    "a[3] := RealBox( 3*sqrt(3)/4 ):\n",
    "for k to 23 do\n",
    "  n := 3*2^(k-1);\n",
    "  A[2*n] := 2*A[n]/(1+Sqrt(1+(A[n]/n)^2));\n",
    "  a[2*n] := A[n]/Sqrt(1+(A[n]/n)^2);\n",
    "end do:"
   ]
  },
  {
   "cell_type": "code",
   "execution_count": 8,
   "id": "938ae3a4",
   "metadata": {},
   "outputs": [
    {
     "data": {
      "text/plain": [
       "3.14159265358946, 3.14159265359013"
      ]
     },
     "execution_count": 8,
     "metadata": {},
     "output_type": "execute_result"
    }
   ],
   "source": [
    "(lower,upper) := ( Center(a[2*n])-Radius(a[2*n]), Center(A[2*n])+Radius(A[2*n]) );"
   ]
  },
  {
   "cell_type": "code",
   "execution_count": 9,
   "id": "f47f426d",
   "metadata": {},
   "outputs": [
    {
     "data": {
      "text/plain": [
       "6.71906974503145e-013"
      ]
     },
     "execution_count": 9,
     "metadata": {},
     "output_type": "execute_result"
    }
   ],
   "source": [
    "upper-lower;"
   ]
  },
  {
   "cell_type": "code",
   "execution_count": 10,
   "id": "45d32f8a",
   "metadata": {},
   "outputs": [
    {
     "data": {
      "text/plain": [
       "25165824"
      ]
     },
     "execution_count": 10,
     "metadata": {},
     "output_type": "execute_result"
    }
   ],
   "source": [
    "2*n;"
   ]
  },
  {
   "cell_type": "markdown",
   "id": "a4e7fae7",
   "metadata": {},
   "source": [
    "[Ludolph van Ceulen](https://en.wikipedia.org/wiki/Ludolph_van_Ceulen) (1540-1610) computed $\\pi$ essentially this way to $35$ decimal digits; a prodigious feat of computation, albeit somewhat pointlessly because there were already better methods available, though not widely known at the time.  Still, it's fun to retrace his footsteps."
   ]
  },
  {
   "cell_type": "code",
   "execution_count": 11,
   "id": "d880e93a",
   "metadata": {},
   "outputs": [
    {
     "data": {
      "text/plain": [
       "                                 Digits := 100"
      ]
     },
     "metadata": {},
     "output_type": "display_data"
    },
    {
     "data": {
      "text/plain": [
       ".2591836663304908011030848367521194487990489084926997811939180386e-35"
      ]
     },
     "execution_count": 11,
     "metadata": {},
     "output_type": "execute_result"
    }
   ],
   "source": [
    "Digits := 100;\n",
    "A := table():\n",
    "a := table():\n",
    "Sqrt := x -> x^(1/2): # sqrt does things Arb doesn't like\n",
    "A[3] := RealBox( 3*sqrt(3) ):\n",
    "a[3] := RealBox( 3*sqrt(3)/4 ):\n",
    "for k to 60 do\n",
    "  n := 3*2^(k-1);\n",
    "  A[2*n] := 2*A[n]/(1+Sqrt(1+(A[n]/n)^2));\n",
    "  a[2*n] := A[n]/Sqrt(1+(A[n]/n)^2);\n",
    "end do:\n",
    "(lower,upper) := ( Center(a[2*n])-Radius(a[2*n]), Center(A[2*n])+Radius(A[2*n]) ):\n",
    "upper-lower;"
   ]
  },
  {
   "cell_type": "code",
   "execution_count": 12,
   "id": "584bdaf0",
   "metadata": {},
   "outputs": [
    {
     "data": {
      "text/plain": [
       "3458764513820540928"
      ]
     },
     "execution_count": 12,
     "metadata": {},
     "output_type": "execute_result"
    }
   ],
   "source": [
    "2*n;"
   ]
  },
  {
   "cell_type": "markdown",
   "id": "de8f998e",
   "metadata": {},
   "source": [
    "Putting $59$ in the loop doesn't quite give us $35$ digits.  The difference between the upper and lower limits would then be $0.1036 \\cdot 10^{-34}$ which just misses (unless we take the average of the upper and lower value).  But $60$ gives less than $0.3\\cdot 10^{-35}$, which means we have $35$ digits guaranteed to be correct.  The number of sides is absurd, though: $3.46\\cdot 10^{18}$, so each polygonal side would be smaller than a proton's width!"
   ]
  },
  {
   "cell_type": "markdown",
   "id": "083814c0",
   "metadata": {},
   "source": [
    "If $\\theta_n = 2\\pi/n$ then $a_n = \\frac{n}{2}\\sin\\theta_n$ and $A_n = n\\tan(\\theta_n/2)$."
   ]
  },
  {
   "cell_type": "code",
   "execution_count": 13,
   "id": "d5597dd3",
   "metadata": {},
   "outputs": [
    {
     "data": {
      "text/plain": [
       "Pi-2/3*Pi^3/n^2+2/15*Pi^5/n^4+O(1/n^6)"
      ]
     },
     "execution_count": 13,
     "metadata": {},
     "output_type": "execute_result"
    }
   ],
   "source": [
    "n := 'n':\n",
    "asympt( n*sin(2*Pi/n)/2, n );"
   ]
  },
  {
   "cell_type": "code",
   "execution_count": 14,
   "id": "8311d8e5",
   "metadata": {},
   "outputs": [
    {
     "data": {
      "text/plain": [
       "kilobytes used=5605, alloc=10801, time=0.87"
      ]
     },
     "metadata": {},
     "output_type": "display_data"
    },
    {
     "data": {
      "text/plain": [
       "Pi+1/3*Pi^3/n^2+2/15*Pi^5/n^4+O(1/n^6)"
      ]
     },
     "execution_count": 14,
     "metadata": {},
     "output_type": "execute_result"
    }
   ],
   "source": [
    "asympt( n*tan(Pi/n), n );"
   ]
  },
  {
   "cell_type": "markdown",
   "id": "7936f529",
   "metadata": {},
   "source": [
    "From this analysis we see that $(a_n+2A_n)/3 = \\pi + O(1/n^4)$ eliminates the first term of the error (and leaves a slight overestimate of $\\pi$). So by being more clever (for instance, using Richardson extrapolation) we could have found as accurate value of $\\pi$ as Ludolph did but using many fewer sides.\n",
    "\n"
   ]
  },
  {
   "cell_type": "code",
   "execution_count": 15,
   "id": "f04474ad",
   "metadata": {},
   "outputs": [
    {
     "data": {
      "text/latex": [
       "$$[\\mathit{centre} \\pm \\mathit{radius}]$$"
      ]
     },
     "execution_count": 15,
     "metadata": {},
     "output_type": "execute_result"
    }
   ],
   "source": [
    "hey := (a[3*2^60]+2*A[3*2^60])/3;"
   ]
  },
  {
   "cell_type": "code",
   "execution_count": 16,
   "id": "59c5654f",
   "metadata": {},
   "outputs": [
    {
     "data": {
      "text/plain": [
       "3.14159265358979323846264338327950288419716939937510582097494459230781640657131353126375688673780387352022"
      ]
     },
     "execution_count": 16,
     "metadata": {},
     "output_type": "execute_result"
    }
   ],
   "source": [
    "Center(hey);"
   ]
  },
  {
   "cell_type": "code",
   "execution_count": 17,
   "id": "bd0a727c",
   "metadata": {},
   "outputs": [
    {
     "data": {
      "text/plain": [
       ".5296936e-97"
      ]
     },
     "execution_count": 17,
     "metadata": {},
     "output_type": "execute_result"
    }
   ],
   "source": [
    "Radius(hey);"
   ]
  },
  {
   "cell_type": "code",
   "execution_count": 18,
   "id": "a2b0024a",
   "metadata": {},
   "outputs": [
    {
     "data": {
      "text/plain": [
       ".285104532635722061395686806e-72"
      ]
     },
     "execution_count": 18,
     "metadata": {},
     "output_type": "execute_result"
    }
   ],
   "source": [
    "Center(hey)-evalf(Pi);"
   ]
  },
  {
   "cell_type": "code",
   "execution_count": 20,
   "id": "83245b44",
   "metadata": {},
   "outputs": [
    {
     "data": {
      "text/plain": [
       "2/23409"
      ]
     },
     "execution_count": 20,
     "metadata": {},
     "output_type": "execute_result"
    }
   ],
   "source": [
    "3 - (265/153)^2;"
   ]
  },
  {
   "cell_type": "code",
   "execution_count": 22,
   "id": "23251f93",
   "metadata": {},
   "outputs": [
    {
     "data": {
      "text/plain": [
       "1/608400"
      ]
     },
     "execution_count": 22,
     "metadata": {},
     "output_type": "execute_result"
    }
   ],
   "source": [
    "(1351/780)^2 - 3;"
   ]
  },
  {
   "cell_type": "code",
   "execution_count": null,
   "id": "97bc8bd0",
   "metadata": {},
   "outputs": [],
   "source": []
  }
 ],
 "metadata": {
  "kernelspec": {
   "display_name": "Maple 2024",
   "language": "maple",
   "name": "maple"
  },
  "language_info": {
   "file_extension": ".mpl",
   "mimetype": "application/vnd.maple.mpl",
   "name": "maple",
   "version": "2024"
  }
 },
 "nbformat": 4,
 "nbformat_minor": 5
}
