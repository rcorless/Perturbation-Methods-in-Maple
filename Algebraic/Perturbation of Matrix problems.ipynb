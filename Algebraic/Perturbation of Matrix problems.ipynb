{
 "cells": [
  {
   "cell_type": "markdown",
   "id": "13cbd3bc",
   "metadata": {},
   "source": [
    "# Perturbation of Matrix Problems #\n",
    "\n",
    "## Support Materials for the book _Perturbation methods using backward error_ by Corless and Fillion ##\n",
    "\n",
    "### to be published by SIAM ###"
   ]
  },
  {
   "cell_type": "markdown",
   "id": "22c28641",
   "metadata": {},
   "source": [
    "Copyright (c) 2024 Robert M. Corless\n",
    "\n",
    "Permission is hereby granted, free of charge, to any person obtaining a copy of this software and associated documentation files (the “Software”), to deal in the Software without restriction, including without limitation the rights to use, copy, modify, merge, publish, distribute, sublicense, and/or sell copies of the Software, and to permit persons to whom the Software is furnished to do so, subject to the following conditions:\n",
    "\n",
    "The above copyright notice and this permission notice shall be included in all copies or substantial portions of the Software.\n",
    "\n",
    "THE SOFTWARE IS PROVIDED “AS IS”, WITHOUT WARRANTY OF ANY KIND, EXPRESS OR IMPLIED, INCLUDING BUT NOT LIMITED TO THE WARRANTIES OF MERCHANTABILITY, FITNESS FOR A PARTICULAR PURPOSE AND NONINFRINGEMENT. IN NO EVENT SHALL THE AUTHORS OR COPYRIGHT HOLDERS BE LIABLE FOR ANY CLAIM, DAMAGES OR OTHER LIABILITY, WHETHER IN AN ACTION OF CONTRACT, TORT OR OTHERWISE, ARISING FROM, OUT OF OR IN CONNECTION WITH THE SOFTWARE OR THE USE OR OTHER DEALINGS IN THE SOFTWARE."
   ]
  },
  {
   "cell_type": "code",
   "execution_count": 1,
   "id": "b9e86ec0",
   "metadata": {},
   "outputs": [
    {
     "data": {
      "text/plain": [
       "kilobytes used=1806, alloc=5424, time=0.27"
      ]
     },
     "metadata": {},
     "output_type": "display_data"
    },
    {
     "data": {
      "text/latex": [
       "$$\\left[\\begin{array}{cc}\n",
       "1 & \\varepsilon  \n",
       "\\\\\n",
       " \\varepsilon  & 1 \n",
       "\\end{array}\\right]$$"
      ]
     },
     "execution_count": 1,
     "metadata": {},
     "output_type": "execute_result"
    }
   ],
   "source": [
    "with(LinearAlgebra):\n",
    "macro( ep=varepsilon ):\n",
    "A := Matrix( 2, 2, [[1,ep],[ep,1]]);"
   ]
  },
  {
   "cell_type": "code",
   "execution_count": 2,
   "id": "ee2c2a1a",
   "metadata": {},
   "outputs": [
    {
     "data": {
      "text/latex": [
       "$$\\left[\\begin{array}{cc}\n",
       "-\\frac{1}{\\varepsilon^{2}-1} & \\frac{\\varepsilon}{\\varepsilon^{2}-1} \n",
       "\\\\\n",
       " \\frac{\\varepsilon}{\\varepsilon^{2}-1} & -\\frac{1}{\\varepsilon^{2}-1} \n",
       "\\end{array}\\right]$$"
      ]
     },
     "execution_count": 2,
     "metadata": {},
     "output_type": "execute_result"
    }
   ],
   "source": [
    "Ai := A^(-1);"
   ]
  },
  {
   "cell_type": "code",
   "execution_count": 3,
   "id": "410fa03f",
   "metadata": {},
   "outputs": [
    {
     "data": {
      "text/latex": [
       "$$\\left[\\begin{array}{cc}\n",
       "\\frac{1}{4} & -\\frac{1}{4} \n",
       "\\\\\n",
       " -\\frac{1}{4} & \\frac{1}{4} \n",
       "\\end{array}\\right]$$"
      ]
     },
     "execution_count": 3,
     "metadata": {},
     "output_type": "execute_result"
    }
   ],
   "source": [
    "MatrixInverse(eval(A,ep=-1),method=pseudo);"
   ]
  },
  {
   "cell_type": "code",
   "execution_count": 4,
   "id": "ffd23f3f",
   "metadata": {},
   "outputs": [
    {
     "data": {
      "text/latex": [
       "$$\\left[\\begin{array}{cc}\n",
       "1+\\varepsilon^{2}+\\varepsilon^{4}+\\mathrm{O}\\left(\\varepsilon^{6}\\right) & -\\varepsilon -\\varepsilon^{3}+\\mathrm{O}\\left(\\varepsilon^{5}\\right) \n",
       "\\\\\n",
       " -\\varepsilon -\\varepsilon^{3}+\\mathrm{O}\\left(\\varepsilon^{5}\\right) & 1+\\varepsilon^{2}+\\varepsilon^{4}+\\mathrm{O}\\left(\\varepsilon^{6}\\right) \n",
       "\\end{array}\\right]$$"
      ]
     },
     "execution_count": 4,
     "metadata": {},
     "output_type": "execute_result"
    }
   ],
   "source": [
    "Ak := map( series, Ai, ep, 5 );"
   ]
  },
  {
   "cell_type": "code",
   "execution_count": 5,
   "id": "99daf282",
   "metadata": {},
   "outputs": [
    {
     "data": {
      "text/latex": [
       "$$\\left[\\begin{array}{cc}\n",
       "1 & 0 \n",
       "\\\\\n",
       " 0 & 1 \n",
       "\\end{array}\\right],\\left[\\begin{array}{cc}\n",
       "0 & -1 \n",
       "\\\\\n",
       " -1 & 0 \n",
       "\\end{array}\\right],\\left[\\begin{array}{cc}\n",
       "1 & 0 \n",
       "\\\\\n",
       " 0 & 1 \n",
       "\\end{array}\\right],\\left[\\begin{array}{cc}\n",
       "0 & -1 \n",
       "\\\\\n",
       " -1 & 0 \n",
       "\\end{array}\\right],\\left[\\begin{array}{cc}\n",
       "1 & 0 \n",
       "\\\\\n",
       " 0 & 1 \n",
       "\\end{array}\\right]$$"
      ]
     },
     "execution_count": 5,
     "metadata": {},
     "output_type": "execute_result"
    }
   ],
   "source": [
    "seq( coeff(Ak,ep,j), j=0..4 );"
   ]
  },
  {
   "cell_type": "code",
   "execution_count": 6,
   "id": "b8ef4547",
   "metadata": {},
   "outputs": [
    {
     "data": {
      "text/latex": [
       "$$\\left[\\begin{array}{c}\n",
       "1-\\varepsilon  \n",
       "\\\\\n",
       " 1+\\varepsilon  \n",
       "\\end{array}\\right],\\left[\\begin{array}{cc}\n",
       "-1 & 1 \n",
       "\\\\\n",
       " 1 & 1 \n",
       "\\end{array}\\right]$$"
      ]
     },
     "execution_count": 6,
     "metadata": {},
     "output_type": "execute_result"
    }
   ],
   "source": [
    "(E,V) := Eigenvectors( A, output=['values', 'vectors']);"
   ]
  },
  {
   "cell_type": "code",
   "execution_count": 7,
   "id": "bebf6dd0",
   "metadata": {},
   "outputs": [
    {
     "data": {
      "text/latex": [
       "$$\\left[\\begin{array}{cc}\n",
       "1 & \\varepsilon  \n",
       "\\\\\n",
       " \\varepsilon  & 1 \n",
       "\\end{array}\\right]$$"
      ]
     },
     "execution_count": 7,
     "metadata": {},
     "output_type": "execute_result"
    }
   ],
   "source": [
    "B := Copy(A);"
   ]
  },
  {
   "cell_type": "code",
   "execution_count": 8,
   "id": "d549ed59",
   "metadata": {},
   "outputs": [
    {
     "data": {
      "text/markdown": [
       "$$1+\\varepsilon$$"
      ]
     },
     "execution_count": 8,
     "metadata": {},
     "output_type": "execute_result"
    }
   ],
   "source": [
    "B[1,2] := 1+ep;"
   ]
  },
  {
   "cell_type": "code",
   "execution_count": 9,
   "id": "537bb2f4",
   "metadata": {},
   "outputs": [
    {
     "data": {
      "text/latex": [
       "$$\\left[\\begin{array}{c}\n",
       "1+\\sqrt{\\varepsilon^{2}+\\varepsilon} \n",
       "\\\\\n",
       " 1-\\sqrt{\\varepsilon^{2}+\\varepsilon} \n",
       "\\end{array}\\right],\\left[\\begin{array}{cc}\n",
       "\\frac{1+\\varepsilon}{\\sqrt{\\varepsilon^{2}+\\varepsilon}} & -\\frac{1+\\varepsilon}{\\sqrt{\\varepsilon^{2}+\\varepsilon}} \n",
       "\\\\\n",
       " 1 & 1 \n",
       "\\end{array}\\right]$$"
      ]
     },
     "execution_count": 9,
     "metadata": {},
     "output_type": "execute_result"
    }
   ],
   "source": [
    "(E2,V2) := Eigenvectors(B, output=['values','vectors']);"
   ]
  },
  {
   "cell_type": "code",
   "execution_count": 10,
   "id": "884ff26f",
   "metadata": {},
   "outputs": [
    {
     "data": {
      "text/latex": [
       "$$\\left[\\begin{array}{cc}\n",
       "\\frac{1}{\\sqrt{\\varepsilon}}+\\frac{\\sqrt{\\varepsilon}}{2}-\\frac{\\varepsilon^{\\frac{3}{2}}}{8}+\\frac{\\varepsilon^{\\frac{5}{2}}}{16}+O\\left(\\varepsilon^{\\frac{7}{2}}\\right) & -\\frac{1}{\\sqrt{\\varepsilon}}-\\frac{\\sqrt{\\varepsilon}}{2}+\\frac{\\varepsilon^{\\frac{3}{2}}}{8}-\\frac{\\varepsilon^{\\frac{5}{2}}}{16}+O\\left(\\varepsilon^{\\frac{7}{2}}\\right) \n",
       "\\\\\n",
       " 1 & 1 \n",
       "\\end{array}\\right]$$"
      ]
     },
     "execution_count": 10,
     "metadata": {},
     "output_type": "execute_result"
    }
   ],
   "source": [
    "map( series, V2, ep, 3 );"
   ]
  },
  {
   "cell_type": "code",
   "execution_count": 11,
   "id": "91b153fa",
   "metadata": {},
   "outputs": [
    {
     "data": {
      "text/latex": [
       "$$\\left[\\begin{array}{ccccc}\n",
       "1 & 0 & 0 & 0 & 0 \n",
       "\\\\\n",
       " \\frac{1}{c} & 1 & 0 & 0 & 0 \n",
       "\\\\\n",
       " 0 & \\frac{1}{c} & 1 & 0 & 0 \n",
       "\\\\\n",
       " 0 & 0 & \\frac{1}{c} & 1 & 0 \n",
       "\\\\\n",
       " 0 & 0 & 0 & \\frac{1}{c} & 1 \n",
       "\\end{array}\\right]$$"
      ]
     },
     "execution_count": 11,
     "metadata": {},
     "output_type": "execute_result"
    }
   ],
   "source": [
    "L := Matrix(5,5,(i,j)->`if`(i=j,1,`if`(i-1=j,1/c,0)));"
   ]
  },
  {
   "cell_type": "code",
   "execution_count": 12,
   "id": "442c40e0",
   "metadata": {},
   "outputs": [
    {
     "data": {
      "text/latex": [
       "$$\\left[\\begin{array}{ccccc}\n",
       "c  & 0 & 0 & 0 & 0 \n",
       "\\\\\n",
       " 0 & c  & 0 & 0 & 0 \n",
       "\\\\\n",
       " 0 & 0 & c  & 0 & 0 \n",
       "\\\\\n",
       " 0 & 0 & 0 & c  & 0 \n",
       "\\\\\n",
       " 0 & 0 & 0 & 0 & c  \n",
       "\\end{array}\\right]$$"
      ]
     },
     "execution_count": 12,
     "metadata": {},
     "output_type": "execute_result"
    }
   ],
   "source": [
    "DD := Matrix(5,5,(i,j)->`if`(i=j,c,0));"
   ]
  },
  {
   "cell_type": "code",
   "execution_count": 13,
   "id": "feab6cd7",
   "metadata": {},
   "outputs": [
    {
     "data": {
      "text/latex": [
       "$$\\left[\\begin{array}{ccccc}\n",
       "c  & 1 & 0 & 0 & 0 \n",
       "\\\\\n",
       " 1 & \\frac{1}{c}+c  & 1 & 0 & 0 \n",
       "\\\\\n",
       " 0 & 1 & \\frac{1}{c}+c  & 1 & 0 \n",
       "\\\\\n",
       " 0 & 0 & 1 & \\frac{1}{c}+c  & 1 \n",
       "\\\\\n",
       " 0 & 0 & 0 & 1 & \\frac{1}{c}+c  \n",
       "\\end{array}\\right]$$"
      ]
     },
     "execution_count": 13,
     "metadata": {},
     "output_type": "execute_result"
    }
   ],
   "source": [
    "A := L.DD.Transpose(L);"
   ]
  },
  {
   "cell_type": "code",
   "execution_count": 14,
   "id": "790bfcb7",
   "metadata": {},
   "outputs": [
    {
     "data": {
      "text/markdown": [
       "$$ 3.73205080756888$$"
      ]
     },
     "execution_count": 14,
     "metadata": {},
     "output_type": "execute_result"
    }
   ],
   "source": [
    "evalf(2+sqrt(3));"
   ]
  },
  {
   "cell_type": "code",
   "execution_count": 15,
   "id": "7768acbf",
   "metadata": {},
   "outputs": [
    {
     "data": {
      "text/latex": [
       "$$\\left[\\begin{array}{ccccc}\n",
       "4 & 1 & 0 & 0 & 0 \n",
       "\\\\\n",
       " 1 & 4 & 1 & 0 & 0 \n",
       "\\\\\n",
       " 0 & 1 & 4 & 1 & 0 \n",
       "\\\\\n",
       " 0 & 0 & 1 & 4 & 1 \n",
       "\\\\\n",
       " 0 & 0 & 0 & 1 & 4 \n",
       "\\end{array}\\right]$$"
      ]
     },
     "execution_count": 15,
     "metadata": {},
     "output_type": "execute_result"
    }
   ],
   "source": [
    "A := Matrix(5,5,(i,j)->`if`(i=j,4,`if`(abs(i-j)=1,1,0)));"
   ]
  },
  {
   "cell_type": "code",
   "execution_count": 16,
   "id": "3f2af1e8",
   "metadata": {},
   "outputs": [
    {
     "data": {
      "text/plain": [
       "                                 Digits := 15"
      ]
     },
     "metadata": {},
     "output_type": "display_data"
    },
    {
     "data": {
      "text/markdown": [
       "$$ 3.73205080756888$$"
      ]
     },
     "execution_count": 16,
     "metadata": {},
     "output_type": "execute_result"
    }
   ],
   "source": [
    "Digits := 15;\n",
    "c := 2+sqrt(3.0);"
   ]
  },
  {
   "cell_type": "code",
   "execution_count": 17,
   "id": "3d75f279",
   "metadata": {},
   "outputs": [
    {
     "data": {
      "text/latex": [
       "$$\\left[\\begin{array}{ccccc}\n",
       "1 & 0 & 0 & 0 & 0 \n",
       "\\\\\n",
       "  0.267949192431123 & 1 & 0 & 0 & 0 \n",
       "\\\\\n",
       " 0 &  0.267949192431123 & 1 & 0 & 0 \n",
       "\\\\\n",
       " 0 & 0 &  0.267949192431123 & 1 & 0 \n",
       "\\\\\n",
       " 0 & 0 & 0 &  0.267949192431123 & 1 \n",
       "\\end{array}\\right]$$"
      ]
     },
     "execution_count": 17,
     "metadata": {},
     "output_type": "execute_result"
    }
   ],
   "source": [
    "map(eval,L);"
   ]
  },
  {
   "cell_type": "code",
   "execution_count": 18,
   "id": "1b1f989f",
   "metadata": {},
   "outputs": [
    {
     "data": {
      "text/plain": [
       "                                [-0.365384615384615]"
      ]
     },
     "metadata": {},
     "output_type": "display_data"
    },
    {
     "data": {
      "text/latex": [
       "$$\\left[\\begin{array}{c}\n",
       "- 6.23945339839338\\times 10^{-14} \n",
       "\\\\\n",
       "  1.11022302462516\\times 10^{-16} \n",
       "\\\\\n",
       "  2.22044604925031\\times 10^{-16} \n",
       "\\\\\n",
       "  0.0 \n",
       "\\\\\n",
       "  0.0 \n",
       "\\end{array}\\right]$$"
      ]
     },
     "execution_count": 18,
     "metadata": {},
     "output_type": "execute_result"
    }
   ],
   "source": [
    "U := DD.Transpose(L);\n",
    "b := Vector(5,i->(-1)^i);\n",
    "y0 := LinearSolve(L,b);\n",
    "x0 := LinearSolve(U,y0);\n",
    "r0 := b - A.x0; # keep for later\n",
    "x := x0;\n",
    "for k to 11 do\n",
    "  r := b - A.x;\n",
    "  y0 := LinearSolve(L,r);\n",
    "  x0 := LinearSolve(U,y0);\n",
    "  x := x + x0;\n",
    "end do;\n",
    "r := b - A.x;"
   ]
  },
  {
   "cell_type": "code",
   "execution_count": 19,
   "id": "d83ce4bb",
   "metadata": {},
   "outputs": [
    {
     "data": {
      "text/latex": [
       "$$\\left[\\begin{array}{c}\n",
       " 0.105477438577648 \n",
       "\\\\\n",
       "  3.77475828372553\\times 10^{-15} \n",
       "\\\\\n",
       " - 3.55271367880050\\times 10^{-15} \n",
       "\\\\\n",
       "  4.21884749357559\\times 10^{-15} \n",
       "\\\\\n",
       " - 5.10702591327572\\times 10^{-15} \n",
       "\\end{array}\\right]$$"
      ]
     },
     "execution_count": 19,
     "metadata": {},
     "output_type": "execute_result"
    }
   ],
   "source": [
    "r0;"
   ]
  },
  {
   "cell_type": "code",
   "execution_count": 20,
   "id": "32ce26bf",
   "metadata": {},
   "outputs": [
    {
     "data": {
      "text/plain": [
       "                               [0    0    0    0    4]"
      ]
     },
     "metadata": {},
     "output_type": "display_data"
    },
    {
     "data": {
      "text/latex": [
       "$$\\left[\\begin{array}{ccccc}\n",
       "4 & 2 & 0 & 0 & 0 \n",
       "\\\\\n",
       " 0 & 4 & 2 & 0 & 0 \n",
       "\\\\\n",
       " 0 & 0 & 4 & 2 & 0 \n",
       "\\\\\n",
       " 0 & 0 & 0 & 4 & 2 \n",
       "\\\\\n",
       " 0 & 0 & 0 & 0 & 4 \n",
       "\\end{array}\\right]$$"
      ]
     },
     "execution_count": 20,
     "metadata": {},
     "output_type": "execute_result"
    }
   ],
   "source": [
    "L := Matrix(5,5,(i,j)->`if`(i=j,1,`if`(i-1=j,1/2,0)));\n",
    "DD := Matrix(5,5,(i,j)->`if`(i=j,4,0));\n",
    "U := DD.Transpose(L);"
   ]
  },
  {
   "cell_type": "code",
   "execution_count": 21,
   "id": "64b531eb",
   "metadata": {},
   "outputs": [
    {
     "data": {
      "text/latex": [
       "$$\\left[\\begin{array}{ccccc}\n",
       "4 & 2+\\varepsilon  & \\varepsilon  & \\varepsilon  & \\varepsilon  \n",
       "\\\\\n",
       " 2 & 5 & 2+2 \\varepsilon  & 2 \\varepsilon  & 2 \\varepsilon  \n",
       "\\\\\n",
       " 0 & 2+\\varepsilon  & 5 & 2+3 \\varepsilon  & 3 \\varepsilon  \n",
       "\\\\\n",
       " 0 & 0 & 2+\\varepsilon  & 5 & 2+4 \\varepsilon  \n",
       "\\\\\n",
       " 0 & \\varepsilon  & 2 \\varepsilon  & 2+\\varepsilon  & 5 \n",
       "\\end{array}\\right]$$"
      ]
     },
     "execution_count": 21,
     "metadata": {},
     "output_type": "execute_result"
    }
   ],
   "source": [
    "A := L.U + ep*Matrix(5,5,(i,j)-> i mod j );"
   ]
  },
  {
   "cell_type": "code",
   "execution_count": 22,
   "id": "7ef0fa83",
   "metadata": {},
   "outputs": [
    {
     "data": {
      "text/plain": [
       "           8589934592            ]"
      ]
     },
     "metadata": {},
     "output_type": "display_data"
    },
    {
     "data": {
      "text/latex": [
       "$$\\left[\\begin{array}{c}\n",
       "-\\frac{40970248163 \\varepsilon^{4}}{68719476736} \n",
       "\\\\\n",
       " \\frac{27696090011 \\varepsilon^{4}}{17179869184} \n",
       "\\\\\n",
       " -\\frac{346105665165 \\varepsilon^{4}}{68719476736} \n",
       "\\\\\n",
       " \\frac{147720837161 \\varepsilon^{4}}{34359738368} \n",
       "\\\\\n",
       " \\frac{58469240359 \\varepsilon^{4}}{68719476736} \n",
       "\\end{array}\\right]$$"
      ]
     },
     "execution_count": 22,
     "metadata": {},
     "output_type": "execute_result"
    }
   ],
   "source": [
    "b := Vector(5,i->(-1)^i);\n",
    "y0 := LinearSolve(L,b);\n",
    "x0 := LinearSolve(U,y0);\n",
    "r0 := b - A.x0; # keep for later\n",
    "x := x0;\n",
    "for k to 3 do\n",
    "  r := map(expand,b - A.x);\n",
    "  y0 := map(expand,LinearSolve(L,r));\n",
    "  x0 := map(expand,LinearSolve(U,y0));\n",
    "  x := x + x0;\n",
    "end do;\n",
    "r := map(expand,b - A.x);"
   ]
  },
  {
   "cell_type": "code",
   "execution_count": 23,
   "id": "8fc10820",
   "metadata": {},
   "outputs": [
    {
     "data": {
      "text/latex": [
       "$$\\left[\\begin{array}{c}\n",
       "-\\frac{651}{1024}-\\frac{251889}{524288} \\varepsilon -\\frac{172455875}{268435456} \\varepsilon^{2}-\\frac{108217059353}{137438953472} \\varepsilon^{3} \n",
       "\\\\\n",
       " \\frac{395}{512}+\\frac{225009}{262144} \\varepsilon +\\frac{140364995}{134217728} \\varepsilon^{2}+\\frac{96362428185}{68719476736} \\varepsilon^{3} \n",
       "\\\\\n",
       " -\\frac{203}{256}-\\frac{144049}{131072} \\varepsilon -\\frac{106830851}{67108864} \\varepsilon^{2}-\\frac{69319962841}{34359738368} \\varepsilon^{3} \n",
       "\\\\\n",
       " \\frac{91}{128}+\\frac{76257}{65536} \\varepsilon +\\frac{47865491}{33554432} \\varepsilon^{2}+\\frac{30612045705}{17179869184} \\varepsilon^{3} \n",
       "\\\\\n",
       " -\\frac{31}{64}-\\frac{14573}{32768} \\varepsilon -\\frac{8982263}{16777216} \\varepsilon^{2}-\\frac{4900054645}{8589934592} \\varepsilon^{3} \n",
       "\\end{array}\\right]$$"
      ]
     },
     "execution_count": 23,
     "metadata": {},
     "output_type": "execute_result"
    }
   ],
   "source": [
    "x;"
   ]
  },
  {
   "cell_type": "code",
   "execution_count": 24,
   "id": "8d48908f",
   "metadata": {},
   "outputs": [
    {
     "data": {
      "text/latex": [
       "$$\\left[\\begin{array}{c}\n",
       "- 0.63574- 0.48044 \\varepsilon - 0.64245 \\varepsilon^{2}- 0.78738 \\varepsilon^{3} \n",
       "\\\\\n",
       "  0.77148+ 0.85834 \\varepsilon + 1.0458 \\varepsilon^{2}+ 1.4023 \\varepsilon^{3} \n",
       "\\\\\n",
       " - 0.79297- 1.0990 \\varepsilon - 1.5919 \\varepsilon^{2}- 2.0175 \\varepsilon^{3} \n",
       "\\\\\n",
       "  0.71094+ 1.1636 \\varepsilon + 1.4265 \\varepsilon^{2}+ 1.7819 \\varepsilon^{3} \n",
       "\\\\\n",
       " - 0.48438- 0.44473 \\varepsilon - 0.53538 \\varepsilon^{2}- 0.57044 \\varepsilon^{3} \n",
       "\\end{array}\\right]$$"
      ]
     },
     "execution_count": 24,
     "metadata": {},
     "output_type": "execute_result"
    }
   ],
   "source": [
    "evalf[5](x);"
   ]
  },
  {
   "cell_type": "code",
   "execution_count": 25,
   "id": "035f49c0",
   "metadata": {},
   "outputs": [
    {
     "data": {
      "text/markdown": [
       "$$9$$"
      ]
     },
     "execution_count": 25,
     "metadata": {},
     "output_type": "execute_result"
    }
   ],
   "source": [
    "Norm(eval(A,ep=0),infinity);"
   ]
  },
  {
   "cell_type": "code",
   "execution_count": 26,
   "id": "1ef8136e",
   "metadata": {},
   "outputs": [
    {
     "data": {
      "text/markdown": [
       "$${\\frac{203}{256}}$$"
      ]
     },
     "execution_count": 26,
     "metadata": {},
     "output_type": "execute_result"
    }
   ],
   "source": [
    "Norm(eval(A,ep=0)^(-1), infinity );"
   ]
  },
  {
   "cell_type": "code",
   "execution_count": 27,
   "id": "fa011b69",
   "metadata": {},
   "outputs": [
    {
     "data": {
      "text/plain": [
       "kilobytes used=14019, alloc=14384, time=1.36"
      ]
     },
     "metadata": {},
     "output_type": "display_data"
    },
    {
     "data": {
      "text/latex": [
       "$$\\left[\\begin{array}{ccccc}\n",
       "\\frac{34 \\varepsilon^{4}-179 \\varepsilon^{3}+79 \\varepsilon^{2}+420 \\varepsilon -341}{156 \\varepsilon^{4}-598 \\varepsilon^{3}+84 \\varepsilon^{2}+1510 \\varepsilon -1024} & \\frac{10 \\varepsilon^{4}+59 \\varepsilon^{3}-116 \\varepsilon^{2}-85 \\varepsilon +170}{156 \\varepsilon^{4}-598 \\varepsilon^{3}+84 \\varepsilon^{2}+1510 \\varepsilon -1024} & -\\frac{10 \\varepsilon^{4}-39 \\varepsilon^{3}+5 \\varepsilon^{2}-13 \\varepsilon +84}{2 \\left(78 \\varepsilon^{4}-299 \\varepsilon^{3}+42 \\varepsilon^{2}+755 \\varepsilon -512\\right)} & -\\frac{6 \\varepsilon^{4}-19 \\varepsilon^{3}+20 \\varepsilon^{2}-49 \\varepsilon -40}{2 \\left(78 \\varepsilon^{4}-299 \\varepsilon^{3}+42 \\varepsilon^{2}+755 \\varepsilon -512\\right)} & -\\frac{24 \\varepsilon^{4}-42 \\varepsilon^{3}+89 \\varepsilon^{2}+\\varepsilon +16}{2 \\left(78 \\varepsilon^{4}-299 \\varepsilon^{3}+42 \\varepsilon^{2}+755 \\varepsilon -512\\right)} \n",
       "\\\\\n",
       " \\frac{27 \\varepsilon^{3}-25 \\varepsilon^{2}-70 \\varepsilon +85}{78 \\varepsilon^{4}-299 \\varepsilon^{3}+42 \\varepsilon^{2}+755 \\varepsilon -512} & -\\frac{2 \\left(27 \\varepsilon^{3}-25 \\varepsilon^{2}-70 \\varepsilon +85\\right)}{78 \\varepsilon^{4}-299 \\varepsilon^{3}+42 \\varepsilon^{2}+755 \\varepsilon -512} & \\frac{15 \\varepsilon^{3}-67 \\varepsilon^{2}+5 \\varepsilon +84}{78 \\varepsilon^{4}-299 \\varepsilon^{3}+42 \\varepsilon^{2}+755 \\varepsilon -512} & \\frac{9 \\varepsilon^{3}-18 \\varepsilon^{2}-21 \\varepsilon -40}{78 \\varepsilon^{4}-299 \\varepsilon^{3}+42 \\varepsilon^{2}+755 \\varepsilon -512} & \\frac{36 \\varepsilon^{3}-21 \\varepsilon^{2}+41 \\varepsilon +16}{78 \\varepsilon^{4}-299 \\varepsilon^{3}+42 \\varepsilon^{2}+755 \\varepsilon -512} \n",
       "\\\\\n",
       " -\\frac{8 \\varepsilon^{3}-19 \\varepsilon^{2}+5 \\varepsilon +42}{78 \\varepsilon^{4}-299 \\varepsilon^{3}+42 \\varepsilon^{2}+755 \\varepsilon -512} & \\frac{16 \\varepsilon^{3}-38 \\varepsilon^{2}+10 \\varepsilon +84}{78 \\varepsilon^{4}-299 \\varepsilon^{3}+42 \\varepsilon^{2}+755 \\varepsilon -512} & -\\frac{16 \\varepsilon^{3}-31 \\varepsilon^{2}-101 \\varepsilon +168}{78 \\varepsilon^{4}-299 \\varepsilon^{3}+42 \\varepsilon^{2}+755 \\varepsilon -512} & \\frac{6 \\varepsilon^{3}-42 \\varepsilon^{2}+44 \\varepsilon +80}{78 \\varepsilon^{4}-299 \\varepsilon^{3}+42 \\varepsilon^{2}+755 \\varepsilon -512} & \\frac{24 \\varepsilon^{3}-82 \\varepsilon^{2}-6 \\varepsilon -32}{78 \\varepsilon^{4}-299 \\varepsilon^{3}+42 \\varepsilon^{2}+755 \\varepsilon -512} \n",
       "\\\\\n",
       " -\\frac{11 \\varepsilon^{3}+\\varepsilon^{2}-22 \\varepsilon -20}{78 \\varepsilon^{4}-299 \\varepsilon^{3}+42 \\varepsilon^{2}+755 \\varepsilon -512} & \\frac{22 \\varepsilon^{3}+2 \\varepsilon^{2}-44 \\varepsilon -40}{78 \\varepsilon^{4}-299 \\varepsilon^{3}+42 \\varepsilon^{2}+755 \\varepsilon -512} & \\frac{17 \\varepsilon^{3}-49 \\varepsilon^{2}+6 \\varepsilon +80}{78 \\varepsilon^{4}-299 \\varepsilon^{3}+42 \\varepsilon^{2}+755 \\varepsilon -512} & -\\frac{21 \\varepsilon^{3}-54 \\varepsilon^{2}-75 \\varepsilon +160}{78 \\varepsilon^{4}-299 \\varepsilon^{3}+42 \\varepsilon^{2}+755 \\varepsilon -512} & -\\frac{2 \\left(3 \\varepsilon^{3}+36 \\varepsilon^{2}-31 \\varepsilon -32\\right)}{78 \\varepsilon^{4}-299 \\varepsilon^{3}+42 \\varepsilon^{2}+755 \\varepsilon -512} \n",
       "\\\\\n",
       " \\frac{2 \\varepsilon^{3}+12 \\varepsilon^{2}-13 \\varepsilon -8}{78 \\varepsilon^{4}-299 \\varepsilon^{3}+42 \\varepsilon^{2}+755 \\varepsilon -512} & -\\frac{2 \\left(2 \\varepsilon^{3}+12 \\varepsilon^{2}-13 \\varepsilon -8\\right)}{78 \\varepsilon^{4}-299 \\varepsilon^{3}+42 \\varepsilon^{2}+755 \\varepsilon -512} & \\frac{4 \\varepsilon^{3}-23 \\varepsilon^{2}+32 \\varepsilon -32}{78 \\varepsilon^{4}-299 \\varepsilon^{3}+42 \\varepsilon^{2}+755 \\varepsilon -512} & \\frac{18 \\varepsilon^{3}-50 \\varepsilon^{2}-22 \\varepsilon +64}{78 \\varepsilon^{4}-299 \\varepsilon^{3}+42 \\varepsilon^{2}+755 \\varepsilon -512} & -\\frac{6 \\varepsilon^{3}-19 \\varepsilon^{2}-123 \\varepsilon +128}{78 \\varepsilon^{4}-299 \\varepsilon^{3}+42 \\varepsilon^{2}+755 \\varepsilon -512} \n",
       "\\end{array}\\right]$$"
      ]
     },
     "execution_count": 27,
     "metadata": {},
     "output_type": "execute_result"
    }
   ],
   "source": [
    "Ai := A^(-1);"
   ]
  },
  {
   "cell_type": "code",
   "execution_count": 28,
   "id": "f26c4b3f",
   "metadata": {},
   "outputs": [
    {
     "data": {
      "text/plain": [
       "kilobytes used=23796, alloc=18480, time=2.30"
      ]
     },
     "metadata": {},
     "output_type": "display_data"
    },
    {
     "data": {
      "image/png": "[encoded data removed]"
     },
     "execution_count": 28,
     "metadata": {},
     "output_type": "execute_result"
    }
   ],
   "source": [
    "plot( Norm(A,infinity)*Norm(Ai,infinity), ep=-1..1 );"
   ]
  },
  {
   "cell_type": "markdown",
   "id": "0791fdf8",
   "metadata": {},
   "source": [
    "Let's find a value of $\\varepsilon$ for which the matrix is singular."
   ]
  },
  {
   "cell_type": "code",
   "execution_count": 29,
   "id": "e8611193",
   "metadata": {
    "scrolled": true
   },
   "outputs": [
    {
     "data": {
      "text/markdown": [
       "$$-156 \\varepsilon^{4}+598 \\varepsilon^{3}-84 \\varepsilon^{2}-1510 \\varepsilon +1024$$"
      ]
     },
     "execution_count": 29,
     "metadata": {},
     "output_type": "execute_result"
    }
   ],
   "source": [
    "p := Determinant(A);"
   ]
  },
  {
   "cell_type": "code",
   "execution_count": 30,
   "id": "711b0044",
   "metadata": {},
   "outputs": [
    {
     "data": {
      "text/markdown": [
       "| | |\n",
       "|:-:|:-:|\n",
       "|-797/512|-199/128|\n",
       "|29720202599257838957/36893488147419103232|59440405198515677915/73786976294838206464|\n",
       "|551/256|69/32|\n",
       "|311/128|623/256|\n"
      ]
     },
     "execution_count": 30,
     "metadata": {},
     "output_type": "execute_result"
    }
   ],
   "source": [
    "ah := realroot(p,2^(-1));"
   ]
  },
  {
   "cell_type": "code",
   "execution_count": 31,
   "id": "5f75bd45",
   "metadata": {},
   "outputs": [
    {
     "data": {
      "text/markdown": [
       "| | |\n",
       "|:-:|:-:|\n",
       "|-1.5566|-1.5547|\n",
       "|.80557|.80557|\n",
       "|2.1523|2.1562|\n",
       "|2.4297|2.4336|\n"
      ]
     },
     "execution_count": 31,
     "metadata": {},
     "output_type": "execute_result"
    }
   ],
   "source": [
    "evalf[5](ah);"
   ]
  },
  {
   "cell_type": "markdown",
   "id": "3795e999",
   "metadata": {},
   "source": [
    "Thus the matrix will be nonsingular only for a restricted range of $\\varepsilon$.  For small values, it will be fine."
   ]
  },
  {
   "cell_type": "code",
   "execution_count": null,
   "id": "ec1095d3",
   "metadata": {},
   "outputs": [],
   "source": []
  }
 ],
 "metadata": {
  "kernelspec": {
   "display_name": "Maple 2024",
   "language": "maple",
   "name": "maple"
  },
  "language_info": {
   "file_extension": ".mpl",
   "mimetype": "application/vnd.maple.mpl",
   "name": "maple",
   "version": "2024"
  }
 },
 "nbformat": 4,
 "nbformat_minor": 5
}
